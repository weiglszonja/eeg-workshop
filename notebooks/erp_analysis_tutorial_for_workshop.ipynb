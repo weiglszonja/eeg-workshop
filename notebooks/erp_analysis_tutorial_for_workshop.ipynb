{
 "cells": [
  {
   "cell_type": "markdown",
   "id": "fffdf7ff",
   "metadata": {},
   "source": [
    "# ERP analysis tutorial\n",
    "\n"
   ]
  },
  {
   "cell_type": "code",
   "execution_count": null,
   "id": "d7b97af2",
   "metadata": {},
   "outputs": [],
   "source": [
    "import os\n",
    "\n",
    "import numpy as np\n",
    "import pandas as pd\n",
    "\n",
    "from mne import read_evokeds\n",
    "from mne import grand_average\n",
    "from mne.viz import plot_compare_evokeds\n",
    "\n",
    "from meeg_tools.time_frequency import get_erp_peak_measures, get_erp_measures_from_cross_condition_data\n",
    "\n",
    "from matplotlib import pyplot as plt\n",
    "\n",
    "pd.set_option('display.max_columns', None)\n",
    "pd.set_option('display.max_rows', None)\n",
    "\n",
    "%matplotlib qt"
   ]
  },
  {
   "cell_type": "markdown",
   "id": "c864cfc6",
   "metadata": {},
   "source": [
    "## Read the data"
   ]
  },
  {
   "cell_type": "code",
   "execution_count": null,
   "id": "9d974ef0",
   "metadata": {},
   "outputs": [],
   "source": [
    "# Change this path below to the path where the pipeline saved the .fif.gz  ERP files!\n",
    "erp_data_path = 'C:/Users/User/Documents/TRIPLET/TRIPLET'\n",
    "\n",
    "# List the files\n",
    "erp_H_file_names = sorted([f for f in os.listdir(erp_data_path) if 'day1_h' in f.lower()])\n",
    "erp_L_file_names = sorted([f for f in os.listdir(erp_data_path) if 'day1_l' in f.lower()])\n",
    "\n",
    "# All ERP files \n",
    "erp_file_names = sorted([f for f in os.listdir(erp_data_path) if 'day1' in f.lower()])\n",
    "\n",
    "\n",
    "# Read the data\n",
    "erp_H = [read_evokeds(os.path.join(erp_data_path, f), verbose=0)[0] for f in erp_H_file_names]\n",
    "erp_L = [read_evokeds(os.path.join(erp_data_path, f), verbose=0)[0] for f in erp_L_file_names]\n",
    "\n",
    "\n",
    "erp_all_conditions = [read_evokeds(os.path.join(erp_data_path, f), verbose=0)[0] for f in erp_file_names]"
   ]
  },
  {
   "cell_type": "code",
   "execution_count": null,
   "id": "6010b756",
   "metadata": {},
   "outputs": [],
   "source": [
    "# Check the number of files for each condition\n",
    "len(erp_H), len(erp_L)"
   ]
  },
  {
   "cell_type": "markdown",
   "id": "1c90973e",
   "metadata": {},
   "source": [
    "## Compare ERP between the predictable and unpredictable stimuli"
   ]
  },
  {
   "cell_type": "code",
   "execution_count": null,
   "id": "49289ae3",
   "metadata": {},
   "outputs": [],
   "source": [
    "# Inspect grand average power per condition (H, L)\n",
    "erp_H_grand_average = grand_average(erp_H)\n",
    "erp_L_grand_average = grand_average(erp_L)\n",
    "\n",
    "# Ignore subset of channels (['Fp1', 'Fp2', 'AF7', 'AF3', 'AFz', 'AF8', 'AF4'])\n",
    "ch_names =  [ch for ch in erp_H_grand_average.info['ch_names'] if ch not in ['Fp1', 'Fp2', \n",
    "                                                                               'AF7', 'AF3',\n",
    "                                                                               'AFz', 'AF8', 'AF4']]\n",
    "\n",
    "erp_H_grand_average = erp_H_grand_average.pick_channels(ch_names)#.apply_baseline((-0.25, 0.0),)\n",
    "erp_L_grand_average = erp_L_grand_average.pick_channels(ch_names)#.apply_baseline((-0.25, 0.0),)"
   ]
  },
  {
   "cell_type": "code",
   "execution_count": null,
   "id": "ed56bff2",
   "metadata": {},
   "outputs": [],
   "source": [
    "# Inspect scalp topographies with the plot_topomap method\n",
    "\n",
    "# Here we display topomaps from -200 ms, to 750 ms with 50 ms step size.\n",
    "times = np.arange(-0.2, 0.8, 0.05) # from -200 ms to 750 ms with 50 ms step size\n",
    "# You can use fewer times with explicitly defining the time points in a list:\n",
    "#times = [0.1, 0.2, 0.5]\n",
    "erp_H_grand_average.plot_topomap(nrows=2, ncols=10, times=times, average=None)"
   ]
  },
  {
   "cell_type": "code",
   "execution_count": null,
   "id": "6692a54f",
   "metadata": {},
   "outputs": [],
   "source": [
    "erp_L_grand_average.plot_topomap(nrows=2, ncols=10, times=times, average=None)"
   ]
  },
  {
   "cell_type": "code",
   "execution_count": null,
   "id": "5ea12b1a",
   "metadata": {},
   "outputs": [],
   "source": [
    "# This will plot ERPs for each channel, click on a channel to expand the plot\n",
    "erp_H_grand_average.copy().plot_topo(title='Grand Average ERP')"
   ]
  },
  {
   "cell_type": "code",
   "execution_count": null,
   "id": "0ff119bd",
   "metadata": {},
   "outputs": [],
   "source": [
    "# This will plot ERPs for each channel, click on a channel to expand the plot\n",
    "erp_L_grand_average.copy().plot_topo(title='Grand Average ERP')"
   ]
  },
  {
   "cell_type": "code",
   "execution_count": null,
   "id": "3f7154fa",
   "metadata": {},
   "outputs": [],
   "source": [
    "# Plot with selected channels\n",
    "picks = ['F7', 'F5', 'F1', 'F4', 'F8', 'F2']\n",
    "\n",
    "tmin = -0.25 # plot data from 250 ms prior to stimulus onset\n",
    "tmax = 0.75  # plot data to 750 ms after to stimulus onset\n",
    "baseline = (-0.25, 0.0) # apply baseline from 250 ms prior to stimulus onset to 0.0\n",
    "\n",
    "# To remove baseline uncomment this line below\n",
    "#baseline = (None, None)\n",
    "\n",
    "\n",
    "evokeds = dict(triplet_H=erp_H_grand_average.copy().crop(tmin=tmin, tmax=tmax).apply_baseline(baseline),\n",
    "               triplet_L=erp_L_grand_average.copy().crop(tmin=tmin, tmax=tmax).apply_baseline(baseline))\n",
    "\n",
    "plot_compare_evokeds(evokeds,\n",
    "                     combine='mean', # 'median'\n",
    "                     picks=picks)\n",
    "\n",
    "# with all channels\n",
    "plot_compare_evokeds(evokeds,\n",
    "                     combine='mean') # 'median'"
   ]
  },
  {
   "cell_type": "code",
   "execution_count": null,
   "id": "bfddbef4",
   "metadata": {},
   "outputs": [],
   "source": []
  },
  {
   "cell_type": "code",
   "execution_count": null,
   "id": "ed800727",
   "metadata": {},
   "outputs": [],
   "source": [
    "# combined grand average (all subjects and all conditions)\n",
    "\n",
    "erp_all_conditions_average = grand_average(erp_all_conditions)\n",
    "\n",
    "erp_all_conditions_average = erp_all_conditions_average.copy().apply_baseline((-0.25, 0.0),)\n",
    "\n",
    "plot_compare_evokeds(evokeds=erp_all_conditions_average,\n",
    "                     picks=picks,\n",
    "                    combine='mean') # 'median'"
   ]
  },
  {
   "cell_type": "markdown",
   "id": "ea061505",
   "metadata": {},
   "source": [
    "## Peak latency and amplitude\n",
    "\n",
    "\n",
    "mode='pos': finds the peak with a positive voltage (ignores negative voltages)\n",
    "\n",
    "mode='neg': finds the peak with a negative voltage (ignores positive voltages)\n",
    "\n",
    "mode='abs': finds the peak with the largest absolute voltage regardless of sign (positive or negative)"
   ]
  },
  {
   "cell_type": "code",
   "execution_count": null,
   "id": "7e8a33ea",
   "metadata": {
    "scrolled": true
   },
   "outputs": [],
   "source": [
    "cross_condition_measures = get_erp_peak_measures(erp=erp_all_conditions_average,\n",
    "                                                 tmin=0.12,\n",
    "                                                 tmax=0.22,\n",
    "                                                 mode='neg', picks=[\"P7\", \"P9\", \"P5\"])\n",
    "\n",
    "cross_condition_measures"
   ]
  },
  {
   "cell_type": "code",
   "execution_count": null,
   "id": "99bd6feb",
   "metadata": {},
   "outputs": [],
   "source": [
    "\n",
    "#erp_all_conditions_pick = [erp.copy().pick_channels(['P7']) for erp in erp_all_conditions]\n"
   ]
  },
  {
   "cell_type": "code",
   "execution_count": null,
   "id": "db7b8adb",
   "metadata": {},
   "outputs": [],
   "source": [
    "peak_measures = get_erp_measures_from_cross_condition_data(erp_arrays=erp_all_conditions,\n",
    "                                                           cross_condition_data=cross_condition_measures,\n",
    "                                                           interval_in_seconds=0.2)"
   ]
  },
  {
   "cell_type": "code",
   "execution_count": null,
   "id": "34a98f3e",
   "metadata": {
    "scrolled": true
   },
   "outputs": [],
   "source": [
    "# This is a convenient way to exctract triplet information from the \"fid\" column values\n",
    "# E.g. 10_S_Day1_H  with this command we extract -> 10, S, Day1, H \n",
    "# E.g. 10_S_Day1_1_H modify from 3 to 4 to extract epochs information as well\n",
    "# peak_measures.loc[:, 'epoch'] = peak_measures['fid'].str.split('_', 4, expand=True)[3]\n",
    "# peak_measures.loc[:, 'triplet'] = peak_measures['fid'].str.split('_', 4, expand=True)[4]\n",
    "\n",
    "#print(peak_measures['fid'].str.split('_', 3, expand=True))\n",
    "\n",
    "peak_measures.loc[:, 'triplet'] = peak_measures['fid'].str.split('_', 3, expand=True)[3]\n"
   ]
  },
  {
   "cell_type": "code",
   "execution_count": null,
   "id": "ef1958a5",
   "metadata": {},
   "outputs": [],
   "source": [
    "peak_measures"
   ]
  },
  {
   "cell_type": "code",
   "execution_count": null,
   "id": "f0997165",
   "metadata": {
    "scrolled": false
   },
   "outputs": [],
   "source": [
    "peak_measures.groupby(['ch_name', 'triplet'])['mean_amplitude'].describe()"
   ]
  },
  {
   "cell_type": "code",
   "execution_count": null,
   "id": "9f03ca50",
   "metadata": {
    "scrolled": false
   },
   "outputs": [],
   "source": [
    "peak_measures.to_csv(os.path.join(erp_data_path, 'peak_measures.csv'), index=False)"
   ]
  },
  {
   "cell_type": "code",
   "execution_count": null,
   "id": "b2d2d469",
   "metadata": {},
   "outputs": [],
   "source": []
  },
  {
   "cell_type": "code",
   "execution_count": null,
   "id": "019fd2f4",
   "metadata": {},
   "outputs": [],
   "source": []
  }
 ],
 "metadata": {
  "kernelspec": {
   "display_name": "Python 3 (ipykernel)",
   "language": "python",
   "name": "python3"
  },
  "language_info": {
   "codemirror_mode": {
    "name": "ipython",
    "version": 3
   },
   "file_extension": ".py",
   "mimetype": "text/x-python",
   "name": "python",
   "nbconvert_exporter": "python",
   "pygments_lexer": "ipython3",
   "version": "3.8.13"
  }
 },
 "nbformat": 4,
 "nbformat_minor": 5
}
