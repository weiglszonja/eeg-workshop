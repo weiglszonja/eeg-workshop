{
 "cells": [
  {
   "cell_type": "markdown",
   "id": "fffdf7ff",
   "metadata": {},
   "source": [
    "# Time-frequency analysis tutorial\n",
    "\n",
    "\n",
    "In this tutorial you'll learn how to explore the spectral content of the preprocessed epochs.\n",
    "\n",
    "The analysis pipeline computed time-frequency representations (TFRs) from our Epochs. \n",
    "We’ll read these files with MNE and look at the power. "
   ]
  },
  {
   "cell_type": "code",
   "execution_count": 8,
   "id": "d7b97af2",
   "metadata": {},
   "outputs": [],
   "source": [
    "import os\n",
    "\n",
    "from mne.time_frequency import read_tfrs\n",
    "from mne import grand_average\n",
    "import numpy as np\n",
    "\n",
    "from matplotlib import pyplot as plt\n",
    "\n",
    "%matplotlib qt"
   ]
  },
  {
   "cell_type": "markdown",
   "id": "c864cfc6",
   "metadata": {},
   "source": [
    "## Read the data"
   ]
  },
  {
   "cell_type": "code",
   "execution_count": 9,
   "id": "9d974ef0",
   "metadata": {},
   "outputs": [
    {
     "name": "stdout",
     "output_type": "stream",
     "text": [
      "Reading /Users/weian/Downloads/Raw_data/preprocessed/power/power_asrt_longer/TRIPLET/10_S_Day1_H_power-tfr.h5 ...\n",
      "Reading /Users/weian/Downloads/Raw_data/preprocessed/power/power_asrt_longer/TRIPLET/11_S_Day1_H_power-tfr.h5 ...\n",
      "Reading /Users/weian/Downloads/Raw_data/preprocessed/power/power_asrt_longer/TRIPLET/13_S_Day1_H_power-tfr.h5 ...\n",
      "Reading /Users/weian/Downloads/Raw_data/preprocessed/power/power_asrt_longer/TRIPLET/14_S_Day1_H_power-tfr.h5 ...\n",
      "Reading /Users/weian/Downloads/Raw_data/preprocessed/power/power_asrt_longer/TRIPLET/15_L_Day1_H_power-tfr.h5 ...\n",
      "Reading /Users/weian/Downloads/Raw_data/preprocessed/power/power_asrt_longer/TRIPLET/16_L_Day1_H_power-tfr.h5 ...\n",
      "Reading /Users/weian/Downloads/Raw_data/preprocessed/power/power_asrt_longer/TRIPLET/17_E_Day1_H_power-tfr.h5 ...\n",
      "Reading /Users/weian/Downloads/Raw_data/preprocessed/power/power_asrt_longer/TRIPLET/1_S_Day1_H_power-tfr.h5 ...\n",
      "Reading /Users/weian/Downloads/Raw_data/preprocessed/power/power_asrt_longer/TRIPLET/2_S_Day1_H_power-tfr.h5 ...\n",
      "Reading /Users/weian/Downloads/Raw_data/preprocessed/power/power_asrt_longer/TRIPLET/3_L_Day1_H_power-tfr.h5 ...\n",
      "Reading /Users/weian/Downloads/Raw_data/preprocessed/power/power_asrt_longer/TRIPLET/4_L_Day1_H_power-tfr.h5 ...\n",
      "Reading /Users/weian/Downloads/Raw_data/preprocessed/power/power_asrt_longer/TRIPLET/10_S_Day1_L_power-tfr.h5 ...\n",
      "Reading /Users/weian/Downloads/Raw_data/preprocessed/power/power_asrt_longer/TRIPLET/11_S_Day1_L_power-tfr.h5 ...\n",
      "Reading /Users/weian/Downloads/Raw_data/preprocessed/power/power_asrt_longer/TRIPLET/13_S_Day1_L_power-tfr.h5 ...\n",
      "Reading /Users/weian/Downloads/Raw_data/preprocessed/power/power_asrt_longer/TRIPLET/14_S_Day1_L_power-tfr.h5 ...\n",
      "Reading /Users/weian/Downloads/Raw_data/preprocessed/power/power_asrt_longer/TRIPLET/15_L_Day1_L_power-tfr.h5 ...\n",
      "Reading /Users/weian/Downloads/Raw_data/preprocessed/power/power_asrt_longer/TRIPLET/16_L_Day1_L_power-tfr.h5 ...\n",
      "Reading /Users/weian/Downloads/Raw_data/preprocessed/power/power_asrt_longer/TRIPLET/17_E_Day1_L_power-tfr.h5 ...\n",
      "Reading /Users/weian/Downloads/Raw_data/preprocessed/power/power_asrt_longer/TRIPLET/1_S_Day1_L_power-tfr.h5 ...\n",
      "Reading /Users/weian/Downloads/Raw_data/preprocessed/power/power_asrt_longer/TRIPLET/2_S_Day1_L_power-tfr.h5 ...\n",
      "Reading /Users/weian/Downloads/Raw_data/preprocessed/power/power_asrt_longer/TRIPLET/3_L_Day1_L_power-tfr.h5 ...\n",
      "Reading /Users/weian/Downloads/Raw_data/preprocessed/power/power_asrt_longer/TRIPLET/4_L_Day1_L_power-tfr.h5 ...\n"
     ]
    }
   ],
   "source": [
    "# Change this path below to the path where the pipeline saved the .h5 files!\n",
    "power_data_path = '/Users/weian/Downloads/Raw_data/preprocessed/power/power_asrt_longer/TRIPLET'\n",
    "\n",
    "# List the files\n",
    "power_H_file_names = sorted([f for f in os.listdir(power_data_path) if 'Day1_H' in f])\n",
    "power_L_file_names = sorted([f for f in os.listdir(power_data_path) if 'Day1_L' in f])\n",
    "\n",
    "# Read the data\n",
    "power_H = [read_tfrs(os.path.join(power_data_path, f))[0] for f in power_H_file_names]\n",
    "power_L = [read_tfrs(os.path.join(power_data_path, f))[0] for f in power_L_file_names]"
   ]
  },
  {
   "cell_type": "markdown",
   "id": "1c90973e",
   "metadata": {},
   "source": [
    "## Compare power between the predictable and unpredictable stimuli"
   ]
  },
  {
   "cell_type": "code",
   "execution_count": 11,
   "id": "49289ae3",
   "metadata": {},
   "outputs": [
    {
     "name": "stdout",
     "output_type": "stream",
     "text": [
      "Identifying common channels ...\n",
      "Identifying common channels ...\n"
     ]
    }
   ],
   "source": [
    "# Inspect grand average power\n",
    "power_H_grand_average = grand_average(power_H)\n",
    "power_L_grand_average = grand_average(power_L)\n",
    "\n",
    "# Ignore subset of channels\n",
    "ch_names =  [ch for ch in power_H_grand_average.info['ch_names'] if ch not in ['Fp1', 'Fp2', \n",
    "                                                                               'AF7', 'AF3',\n",
    "                                                                               'AFz', 'AF8', 'AF4']]\n",
    "\n",
    "power_H_grand_average = power_H_grand_average.pick_channels(ch_names).copy().crop(tmin=0.0)#.apply_baseline((-0.25, 0.0),)\n",
    "power_L_grand_average = power_L_grand_average.pick_channels(ch_names).copy().crop(tmin=0.0)#.apply_baseline((-0.25, 0.0),)"
   ]
  },
  {
   "cell_type": "markdown",
   "id": "b7c90d5e",
   "metadata": {},
   "source": [
    "## Time-frequency plots"
   ]
  },
  {
   "cell_type": "code",
   "execution_count": 12,
   "id": "2c8f6a8b",
   "metadata": {},
   "outputs": [],
   "source": [
    "# Matplotlib-based plots\n",
    "\n",
    "# find where L power was lower than H\n",
    "mask = np.mean(power_L_grand_average.data, axis=0) < np.mean(power_H_grand_average.data, axis=0)\n",
    "\n",
    "times = 1e3 * power_H_grand_average.times  # change unit to ms\n",
    "\n",
    "freqs = power_H_grand_average.freqs\n",
    "\n",
    "fig, ax = plt.subplots(figsize=(16, 5), nrows=1, ncols=2, sharex='col', sharey='col')\n",
    "\n",
    "\n",
    "\n",
    "ax[0].imshow(np.mean(power_L_grand_average.data * 1e6, axis=0),\n",
    "           extent=[times[0], times[-1], freqs[0], freqs[-1]],\n",
    "           aspect='auto', origin='lower', cmap='gray_r')\n",
    "\n",
    "# Create new stats image with only significant clusters\n",
    "# mask_plot = np.nan * np.ones_like(power_L_grand_average.data.mean(axis=0))\n",
    "# mask_plot[mask] = power_L_grand_average.data.mean(axis=0)[mask]\n",
    "\n",
    "# ax[0].imshow(mask_plot,\n",
    "#            extent=[times[0], times[-1], freqs[0], freqs[-1]],\n",
    "#            aspect='auto', origin='lower', cmap='viridis')\n",
    "\n",
    "\n",
    "im = ax[1].imshow(np.mean(power_H_grand_average.data * 1e6, axis=0),\n",
    "           extent=[times[0], times[-1], freqs[0], freqs[-1]],\n",
    "           aspect='auto', origin='lower', cmap='gray_r')\n",
    "\n",
    "\n",
    "ax[1].set_ylabel('')\n",
    "ax[0].set_ylabel('Frequency [Hz]')\n",
    "ax[0].set_xlabel('Time [ms]')\n",
    "ax[0].set_title('L')\n",
    "ax[1].set_title('H')\n",
    "ax[1].set_xlabel('Time [ms]')\n",
    "\n",
    "position=fig.add_axes([0.93,0.1,0.02,0.8])\n",
    "fig.colorbar(im, cax=position)\n",
    "\n",
    "fig.show()\n",
    "\n"
   ]
  },
  {
   "cell_type": "code",
   "execution_count": 13,
   "id": "fc99ba10",
   "metadata": {},
   "outputs": [
    {
     "name": "stdout",
     "output_type": "stream",
     "text": [
      "No baseline correction applied\n",
      "No baseline correction applied\n"
     ]
    }
   ],
   "source": [
    "# Built-in MNE plots\n",
    "\n",
    "fig, ax = plt.subplots(figsize=(16, 5), nrows=1, ncols=2, sharex='col', sharey='col')\n",
    "\n",
    "power_H_grand_average.copy().pick_channels(ch_names).plot(combine='mean',\n",
    "                                                          axes=ax[0],\n",
    "                                                          show=False,\n",
    "                                                          colorbar=False)\n",
    "\n",
    "# hide 1/f: use baseline (-0.25, 0.0) with mode \"ratio\" and use dB=True\n",
    "power_L_grand_average.copy().pick_channels(ch_names).plot(combine='mean',\n",
    "                                                          axes=ax[1],\n",
    "                                                          show=False,\n",
    "                                                          colorbar=False)\n",
    "\n",
    "ax[1].set_ylabel('')\n",
    "ax[0].set_title('L')\n",
    "ax[1].set_title('H')\n",
    "\n",
    "\n",
    "#position=fig.add_axes([0.93,0.1,0.02,0.8])\n",
    "#fig.colorbar(im, cax=position)\n",
    "\n",
    "fig.show()\n",
    "\n"
   ]
  },
  {
   "cell_type": "code",
   "execution_count": 17,
   "id": "1a41853e",
   "metadata": {},
   "outputs": [],
   "source": [
    "#power_H_grand_average.copy().plot_topo(title='Average power')"
   ]
  },
  {
   "cell_type": "code",
   "execution_count": 15,
   "id": "ee95a336",
   "metadata": {},
   "outputs": [],
   "source": [
    "# We will take the difference in power between the two conditions\n",
    "\n",
    "difference_between_L_and_H = (power_L_grand_average.data * 1e6) - (power_H_grand_average.data * 1e6)"
   ]
  },
  {
   "cell_type": "code",
   "execution_count": 16,
   "id": "02c2db1e",
   "metadata": {},
   "outputs": [],
   "source": [
    "fig, ax = plt.subplots(figsize=(20, 4), nrows=1, ncols=3, sharex='col', sharey='col')\n",
    "\n",
    "ax[0].imshow(np.mean(power_L_grand_average.data * 1e6, axis=0),\n",
    "           extent=[times[0], times[-1], freqs[0], freqs[-1]],\n",
    "           aspect='auto', origin='lower', cmap='viridis')\n",
    "\n",
    "ax[1].imshow(np.mean(power_H_grand_average.data * 1e6, axis=0),\n",
    "           extent=[times[0], times[-1], freqs[0], freqs[-1]],\n",
    "           aspect='auto', origin='lower', cmap='viridis')\n",
    "\n",
    "\n",
    "im = ax[2].imshow(np.mean(difference_between_L_and_H, axis=0),\n",
    "           extent=[times[0], times[-1], freqs[0], freqs[-1]],\n",
    "           aspect='auto', origin='lower', cmap='gray')\n",
    "\n",
    "\n",
    "\n",
    "ax[1].set_ylabel('')\n",
    "ax[0].set_ylabel('Frequency [Hz]')\n",
    "ax[0].set_xlabel('Time [ms]')\n",
    "ax[0].set_title('L')\n",
    "ax[1].set_title('H')\n",
    "ax[2].set_title('L - H')\n",
    "ax[1].set_xlabel('Time [ms]')\n",
    "ax[2].set_xlabel('Time [ms]')\n",
    "\n",
    "position=fig.add_axes([0.93,0.1,0.015,0.8])\n",
    "fig.colorbar(im, cax=position)\n",
    "\n",
    "fig.show()"
   ]
  },
  {
   "cell_type": "code",
   "execution_count": 29,
   "id": "abde16c7",
   "metadata": {},
   "outputs": [],
   "source": []
  },
  {
   "cell_type": "code",
   "execution_count": null,
   "id": "b2d2d469",
   "metadata": {},
   "outputs": [],
   "source": []
  },
  {
   "cell_type": "code",
   "execution_count": null,
   "id": "019fd2f4",
   "metadata": {},
   "outputs": [],
   "source": []
  }
 ],
 "metadata": {
  "kernelspec": {
   "display_name": "Python 3 (ipykernel)",
   "language": "python",
   "name": "python3"
  },
  "language_info": {
   "codemirror_mode": {
    "name": "ipython",
    "version": 3
   },
   "file_extension": ".py",
   "mimetype": "text/x-python",
   "name": "python",
   "nbconvert_exporter": "python",
   "pygments_lexer": "ipython3",
   "version": "3.7.12"
  }
 },
 "nbformat": 4,
 "nbformat_minor": 5
}
