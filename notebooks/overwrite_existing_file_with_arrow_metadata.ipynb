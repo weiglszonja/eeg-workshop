{
 "cells": [
  {
   "cell_type": "code",
   "execution_count": 1,
   "id": "b05d4d91",
   "metadata": {},
   "outputs": [],
   "source": [
    "import numpy as np\n",
    "from mne.io import read_raw\n",
    "from mne import read_epochs\n",
    "\n",
    "from meeg_tools.utils.epochs import create_epochs_from_events, create_metadata\n"
   ]
  },
  {
   "cell_type": "code",
   "execution_count": 2,
   "id": "bcb101a2",
   "metadata": {},
   "outputs": [],
   "source": [
    "events_ids = np.concatenate([np.arange(10, 53, 1),\n",
    "                             np.arange(10, 53, 1) + 100,\n",
    "                             [211, 212, 213, 214, 215, 216]])"
   ]
  },
  {
   "cell_type": "code",
   "execution_count": 3,
   "id": "288de11c",
   "metadata": {},
   "outputs": [
    {
     "name": "stdout",
     "output_type": "stream",
     "text": [
      "Extracting parameters from /Users/weian/Desktop/EEG/1_S_Day1.vhdr...\n",
      "Setting channel info structure...\n",
      "Used Annotations descriptions: ['New Segment/', 'Stimulus/S  4', 'Stimulus/S  5', 'Stimulus/S 10', 'Stimulus/S 11', 'Stimulus/S 12', 'Stimulus/S 14', 'Stimulus/S 15', 'Stimulus/S 16', 'Stimulus/S 17', 'Stimulus/S 18', 'Stimulus/S 19', 'Stimulus/S 20', 'Stimulus/S 21', 'Stimulus/S 22', 'Stimulus/S 24', 'Stimulus/S 25', 'Stimulus/S 26', 'Stimulus/S 27', 'Stimulus/S 28', 'Stimulus/S 29', 'Stimulus/S 30', 'Stimulus/S 31', 'Stimulus/S 32', 'Stimulus/S 34', 'Stimulus/S 35', 'Stimulus/S 36', 'Stimulus/S 37', 'Stimulus/S 38', 'Stimulus/S 39', 'Stimulus/S 40', 'Stimulus/S 41', 'Stimulus/S 42', 'Stimulus/S 43', 'Stimulus/S 44', 'Stimulus/S 45', 'Stimulus/S 46', 'Stimulus/S 47', 'Stimulus/S 48', 'Stimulus/S 49', 'Stimulus/S 51', 'Stimulus/S 52', 'Stimulus/S 61', 'Stimulus/S 62', 'Stimulus/S 63', 'Stimulus/S 64', 'Stimulus/S 65', 'Stimulus/S 66', 'Stimulus/S 67', 'Stimulus/S 68', 'Stimulus/S 69', 'Stimulus/S 70', 'Stimulus/S 71', 'Stimulus/S 72', 'Stimulus/S 75', 'Stimulus/S 76', 'Stimulus/S 77', 'Stimulus/S 78', 'Stimulus/S 80', 'Stimulus/S 81', 'Stimulus/S 83', 'Stimulus/S 84', 'Stimulus/S 85', 'Stimulus/S 87', 'Stimulus/S 88', 'Stimulus/S 89', 'Stimulus/S 91', 'Stimulus/S 92', 'Stimulus/S 93', 'Stimulus/S 94', 'Stimulus/S 95', 'Stimulus/S 96', 'Stimulus/S 97', 'Stimulus/S 98', 'Stimulus/S 99', 'Stimulus/S100', 'Stimulus/S103', 'Stimulus/S104', 'Stimulus/S106', 'Stimulus/S160', 'Stimulus/S161', 'Stimulus/S162', 'Stimulus/S163', 'Stimulus/S164', 'Stimulus/S165', 'Stimulus/S200', 'Stimulus/S201', 'Stimulus/S202', 'Stimulus/S203', 'Stimulus/S205', 'Stimulus/S210', 'Stimulus/S211', 'Stimulus/S212', 'Stimulus/S213', 'Stimulus/S214', 'Stimulus/S215', 'Stimulus/S255']\n",
      "Creating epochs from selected events ...\n",
      "Not setting metadata\n",
      "Not setting metadata\n",
      "6904 matching events found\n",
      "No baseline correction applied\n",
      "0 projection items activated\n",
      "Found these indices for these epoch boundary events: \n",
      "211\t1349\n",
      "212\t2727\n",
      "213\t4102\n",
      "214\t5506\n",
      "215\t6903\n",
      "Adding metadata with 11 columns\n"
     ]
    }
   ],
   "source": [
    "subject_file_name = \"1_S_Day1\"\n",
    "epoch_file_path = f\"/Users/weian/Desktop/{subject_file_name}_ICA_autoreject_ransac-epo.fif\"\n",
    "\n",
    "raw = read_raw(f\"/Users/weian/Desktop/EEG/{subject_file_name}.vhdr\")\n",
    "\n",
    "# You might need to concatenate the raw file once you get to a subject data file\n",
    "# that was measured in two pieces\n",
    "# note that we choose a folder and NOT a file name as before\n",
    "#raws_folder_path = '/Users/weian/Downloads/EEG-4/'\n",
    "# with the suffix argument we specify what kind of files to look for\n",
    "#raw = concat_raws_with_suffix(path_to_raw_files=raws_folder_path, suffix='.vhdr')\n",
    "\n",
    "\n",
    "original_epochs = create_epochs_from_events(raw=raw, event_ids=events_ids)\n",
    "metadata = create_metadata(original_epochs)\n",
    "original_epochs.metadata = metadata\n",
    "\n",
    "assert \"arrow\" in metadata.columns\n"
   ]
  },
  {
   "cell_type": "code",
   "execution_count": 4,
   "id": "f4012a49",
   "metadata": {},
   "outputs": [
    {
     "name": "stdout",
     "output_type": "stream",
     "text": [
      "Reading /Users/weian/Desktop/1_S_Day1_ICA_autoreject_ransac-epo.fif ...\n",
      "    Found the data of interest:\n",
      "        t =    -700.00 ...     750.00 ms\n",
      "        0 CTF compensation matrices available\n",
      "Adding metadata with 9 columns\n",
      "Replacing existing metadata with 9 columns\n",
      "1338 matching events found\n",
      "No baseline correction applied\n",
      "0 projection items activated\n"
     ]
    }
   ],
   "source": [
    "preprocessed_epochs = read_epochs(epoch_file_path)\n",
    "\n",
    "assert np.array_equal(preprocessed_epochs.events, original_epochs.events[\n",
    "    np.isin(original_epochs.events[..., 0], preprocessed_epochs.events[..., 0])])\n",
    "\n",
    "arrow = metadata.loc[metadata[\"time_in_samples\"].isin(\n",
    "    preprocessed_epochs.metadata[\"time_in_samples\"]), \"arrow\"]\n",
    "preprocessed_epochs.metadata.loc[metadata[\"time_in_samples\"].isin(\n",
    "    preprocessed_epochs.metadata[\"time_in_samples\"]), \"arrow\"] = arrow\n"
   ]
  },
  {
   "cell_type": "code",
   "execution_count": 5,
   "id": "d95f22ad",
   "metadata": {},
   "outputs": [
    {
     "data": {
      "text/html": [
       "<div>\n",
       "<style scoped>\n",
       "    .dataframe tbody tr th:only-of-type {\n",
       "        vertical-align: middle;\n",
       "    }\n",
       "\n",
       "    .dataframe tbody tr th {\n",
       "        vertical-align: top;\n",
       "    }\n",
       "\n",
       "    .dataframe thead th {\n",
       "        text-align: right;\n",
       "    }\n",
       "</style>\n",
       "<table border=\"1\" class=\"dataframe\">\n",
       "  <thead>\n",
       "    <tr style=\"text-align: right;\">\n",
       "      <th></th>\n",
       "      <th>time_in_samples</th>\n",
       "      <th>stim</th>\n",
       "      <th>id</th>\n",
       "      <th>epoch</th>\n",
       "      <th>triplet</th>\n",
       "      <th>triplet_type</th>\n",
       "      <th>answer</th>\n",
       "      <th>sequence</th>\n",
       "      <th>arrow</th>\n",
       "    </tr>\n",
       "  </thead>\n",
       "  <tbody>\n",
       "    <tr>\n",
       "      <th>24</th>\n",
       "      <td>547125</td>\n",
       "      <td>0</td>\n",
       "      <td>10</td>\n",
       "      <td>1.0</td>\n",
       "      <td>H</td>\n",
       "      <td>HR</td>\n",
       "      <td>correct</td>\n",
       "      <td>A</td>\n",
       "      <td>down</td>\n",
       "    </tr>\n",
       "    <tr>\n",
       "      <th>27</th>\n",
       "      <td>547893</td>\n",
       "      <td>0</td>\n",
       "      <td>11</td>\n",
       "      <td>1.0</td>\n",
       "      <td>H</td>\n",
       "      <td>P</td>\n",
       "      <td>correct</td>\n",
       "      <td>A</td>\n",
       "      <td>right</td>\n",
       "    </tr>\n",
       "    <tr>\n",
       "      <th>30</th>\n",
       "      <td>548669</td>\n",
       "      <td>0</td>\n",
       "      <td>16</td>\n",
       "      <td>1.0</td>\n",
       "      <td>L</td>\n",
       "      <td>LR</td>\n",
       "      <td>correct</td>\n",
       "      <td>A</td>\n",
       "      <td>right</td>\n",
       "    </tr>\n",
       "    <tr>\n",
       "      <th>33</th>\n",
       "      <td>549436</td>\n",
       "      <td>0</td>\n",
       "      <td>11</td>\n",
       "      <td>1.0</td>\n",
       "      <td>H</td>\n",
       "      <td>P</td>\n",
       "      <td>correct</td>\n",
       "      <td>A</td>\n",
       "      <td>left</td>\n",
       "    </tr>\n",
       "    <tr>\n",
       "      <th>36</th>\n",
       "      <td>550204</td>\n",
       "      <td>0</td>\n",
       "      <td>12</td>\n",
       "      <td>1.0</td>\n",
       "      <td>L</td>\n",
       "      <td>LR</td>\n",
       "      <td>correct</td>\n",
       "      <td>A</td>\n",
       "      <td>down</td>\n",
       "    </tr>\n",
       "    <tr>\n",
       "      <th>...</th>\n",
       "      <td>...</td>\n",
       "      <td>...</td>\n",
       "      <td>...</td>\n",
       "      <td>...</td>\n",
       "      <td>...</td>\n",
       "      <td>...</td>\n",
       "      <td>...</td>\n",
       "      <td>...</td>\n",
       "      <td>...</td>\n",
       "    </tr>\n",
       "    <tr>\n",
       "      <th>6871</th>\n",
       "      <td>2976695</td>\n",
       "      <td>0</td>\n",
       "      <td>11</td>\n",
       "      <td>5.0</td>\n",
       "      <td>H</td>\n",
       "      <td>P</td>\n",
       "      <td>correct</td>\n",
       "      <td>A</td>\n",
       "      <td>down</td>\n",
       "    </tr>\n",
       "    <tr>\n",
       "      <th>6877</th>\n",
       "      <td>2978213</td>\n",
       "      <td>0</td>\n",
       "      <td>15</td>\n",
       "      <td>5.0</td>\n",
       "      <td>H</td>\n",
       "      <td>P</td>\n",
       "      <td>correct</td>\n",
       "      <td>A</td>\n",
       "      <td>up</td>\n",
       "    </tr>\n",
       "    <tr>\n",
       "      <th>6885</th>\n",
       "      <td>2979765</td>\n",
       "      <td>0</td>\n",
       "      <td>11</td>\n",
       "      <td>5.0</td>\n",
       "      <td>H</td>\n",
       "      <td>P</td>\n",
       "      <td>correct</td>\n",
       "      <td>A</td>\n",
       "      <td>right</td>\n",
       "    </tr>\n",
       "    <tr>\n",
       "      <th>6888</th>\n",
       "      <td>2980524</td>\n",
       "      <td>0</td>\n",
       "      <td>14</td>\n",
       "      <td>5.0</td>\n",
       "      <td>H</td>\n",
       "      <td>HR</td>\n",
       "      <td>correct</td>\n",
       "      <td>A</td>\n",
       "      <td>up</td>\n",
       "    </tr>\n",
       "    <tr>\n",
       "      <th>6899</th>\n",
       "      <td>2982818</td>\n",
       "      <td>0</td>\n",
       "      <td>11</td>\n",
       "      <td>5.0</td>\n",
       "      <td>H</td>\n",
       "      <td>P</td>\n",
       "      <td>correct</td>\n",
       "      <td>A</td>\n",
       "      <td>down</td>\n",
       "    </tr>\n",
       "  </tbody>\n",
       "</table>\n",
       "<p>1338 rows × 9 columns</p>\n",
       "</div>"
      ],
      "text/plain": [
       "      time_in_samples  stim  id  epoch triplet triplet_type   answer sequence  \\\n",
       "24             547125     0  10    1.0       H           HR  correct        A   \n",
       "27             547893     0  11    1.0       H            P  correct        A   \n",
       "30             548669     0  16    1.0       L           LR  correct        A   \n",
       "33             549436     0  11    1.0       H            P  correct        A   \n",
       "36             550204     0  12    1.0       L           LR  correct        A   \n",
       "...               ...   ...  ..    ...     ...          ...      ...      ...   \n",
       "6871          2976695     0  11    5.0       H            P  correct        A   \n",
       "6877          2978213     0  15    5.0       H            P  correct        A   \n",
       "6885          2979765     0  11    5.0       H            P  correct        A   \n",
       "6888          2980524     0  14    5.0       H           HR  correct        A   \n",
       "6899          2982818     0  11    5.0       H            P  correct        A   \n",
       "\n",
       "      arrow  \n",
       "24     down  \n",
       "27    right  \n",
       "30    right  \n",
       "33     left  \n",
       "36     down  \n",
       "...     ...  \n",
       "6871   down  \n",
       "6877     up  \n",
       "6885  right  \n",
       "6888     up  \n",
       "6899   down  \n",
       "\n",
       "[1338 rows x 9 columns]"
      ]
     },
     "execution_count": 5,
     "metadata": {},
     "output_type": "execute_result"
    }
   ],
   "source": [
    "preprocessed_epochs.metadata"
   ]
  },
  {
   "cell_type": "code",
   "execution_count": 6,
   "id": "81e0c27d",
   "metadata": {},
   "outputs": [],
   "source": [
    "# Double check that epoch_file_path is correct, because you will be overwriting files\n",
    "# at this step!!!!!"
   ]
  },
  {
   "cell_type": "code",
   "execution_count": 8,
   "id": "314b4ced",
   "metadata": {},
   "outputs": [
    {
     "data": {
      "text/plain": [
       "'/Users/weian/Desktop/1_S_Day1_ICA_autoreject_ransac-epo.fif'"
      ]
     },
     "execution_count": 8,
     "metadata": {},
     "output_type": "execute_result"
    }
   ],
   "source": [
    "epoch_file_path"
   ]
  },
  {
   "cell_type": "code",
   "execution_count": 7,
   "id": "8b919b92",
   "metadata": {},
   "outputs": [
    {
     "name": "stdout",
     "output_type": "stream",
     "text": [
      "Overwriting file...\n",
      "Overwriting existing file.\n"
     ]
    }
   ],
   "source": [
    "print(\"Overwriting file...\")\n",
    "preprocessed_epochs.save(epoch_file_path, overwrite=True)"
   ]
  }
 ],
 "metadata": {
  "kernelspec": {
   "display_name": "Python 3 (ipykernel)",
   "language": "python",
   "name": "python3"
  },
  "language_info": {
   "codemirror_mode": {
    "name": "ipython",
    "version": 3
   },
   "file_extension": ".py",
   "mimetype": "text/x-python",
   "name": "python",
   "nbconvert_exporter": "python",
   "pygments_lexer": "ipython3",
   "version": "3.7.12"
  }
 },
 "nbformat": 4,
 "nbformat_minor": 5
}
