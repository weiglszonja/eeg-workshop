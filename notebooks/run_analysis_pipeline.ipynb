{
 "cells": [
  {
   "cell_type": "markdown",
   "id": "6e7de36c",
   "metadata": {},
   "source": [
    "# Analysis Pipeline\n",
    "\n",
    "<img src=\"../static/analysis_pipeline_diagram.svg\">"
   ]
  },
  {
   "cell_type": "code",
   "execution_count": 2,
   "id": "d76baac5",
   "metadata": {},
   "outputs": [
    {
     "name": "stderr",
     "output_type": "stream",
     "text": [
      "/Users/weian/.conda/envs/eeg-workshop/lib/python3.7/site-packages/outdated/utils.py:18: OutdatedPackageWarning: The package yasa is out of date. Your version is 0.5.1, the latest is 0.6.0.\n",
      "Set the environment variable OUTDATED_IGNORE=1 to disable these warnings.\n",
      "  **kwargs\n"
     ]
    }
   ],
   "source": [
    "import os\n",
    "\n",
    "import pandas as pd\n",
    "\n",
    "from meeg_tools import analysis_pipeline"
   ]
  },
  {
   "cell_type": "markdown",
   "id": "b5613b31",
   "metadata": {},
   "source": [
    "# Set up parameters\n",
    "\n",
    "There are two important things to consider when you are running analysis_pipeline.\n",
    "\n",
    "## What are the parameters of the analysis?\n",
    "\n",
    "These parameters are specified in a configuration file.\n",
    "\n",
    "\n",
    "## Where are the preprocessed files located?\n",
    "\n",
    "The analysis is run on preprocessed epochs, it is required that all the files that you want to analyze have to be in the same folder. \n"
   ]
  },
  {
   "cell_type": "markdown",
   "id": "d1bc1544",
   "metadata": {},
   "source": [
    "### What is inside the configuration file? (power_config.yml)\n",
    "\n",
    "```yml\n",
    "analysis:\n",
    "  conditions: # What is the aim of the analysis?\n",
    "  - triplet # I want to compare power between H and L stimuli \n",
    "  - epoch # I also want to compare them depending on which epoch they belong to\n",
    "  mode: power # I want to analyse power\n",
    "  overwrite: true # I want to overwrite existing files (recompute everything)\n",
    "  picks: eeg # I will analyse EEG channels\n",
    "power: # These parameters are specific to power analysis\n",
    "  is_evoked: true # I want to compute evoked power -- first take the average over epochs, and then estimate power\n",
    "  # Recommended article to understand the difference between evoked or induced power:\n",
    "  # https://www.fil.ion.ucl.ac.uk/~karl/Mechanisms%20of%20evoked%20and%20induced%20responses.pdf \n",
    "  morlet: # I will use Morlet decomposition\n",
    "    decim: 1 # I will use every data point to estimate power\n",
    "    fmax: 45 # 45 Hz is the highest frequency that I will analyse\n",
    "    fmin: 4 # 4 Hz is the lowest frequency\n",
    "    step: 30 # I will use 30 frequencies (4 to 45 Hz in 30 steps, logarithmic scale)\n",
    "  postfix: tfr.h5 # Files will be written with this file extension (not to be modified)\n",
    "    \n",
    "```\n",
    "\n",
    "\n",
    "### What are the conditions that I can use?\n",
    "\n",
    "Metadata columns can be used as conditions (e.g. triplet, epoch, triplet_type, sequence).\n",
    "Combining conditions mean more files, because we select epochs based on multiple conditions (e.g. epoch, triplet). For instance, if there are 5 periods(epoch=5blocks of ASRT collapsed) and we compare H and L stimuli, that means we will calculate power and save 5 * 2 = 10 files. \n",
    "\n",
    "#### 1. Compare between triplet (H and L)\n",
    "\n",
    "```yml\n",
    "...\n",
    "  conditions: # What is the aim of the analysis?\n",
    "  - triplet # I want to compare power between H and L stimuli\n",
    "...\n",
    "```\n",
    "\n",
    "#### 2. Compare between triplet FOR each epoch\n",
    "```yml\n",
    "...\n",
    "  conditions: # What is the aim of the analysis?\n",
    "  - triplet # I want to compare power between H and L stimuli\n",
    "  - epoch # I also want to compare them depending on which epoch they belong to\n",
    "...\n",
    "```\n",
    "\n",
    "#### 3. Compare between triplet type\n",
    "```yml\n",
    "...\n",
    "  conditions: # What is the aim of the analysis?\n",
    "  - triplet_type # I want to compare power between HR, LR, and P\n",
    "...\n",
    "```\n",
    "\n",
    "#### 4. Compare between triplet type FOR each epoch \n",
    "```yml\n",
    "...\n",
    "  conditions: # What is the aim of the analysis?\n",
    "  - triplet_type # I want to compare power between H and L stimuli\n",
    "  - epoch # I also want to compare them depending on which epoch they belong to\n",
    "...\n",
    "```\n",
    "#### 5. Compare between triplet and sequence\n",
    "```yml\n",
    "...\n",
    "  conditions: # What is the aim of the analysis?\n",
    "  - triplet # I want to compare power between H and L stimuli\n",
    "  - sequence # I also want to compare them depending on which sequence they belong to\n",
    "...\n",
    "```\n",
    "\n"
   ]
  },
  {
   "cell_type": "code",
   "execution_count": 3,
   "id": "645362d0",
   "metadata": {},
   "outputs": [],
   "source": [
    "# File path to configuration file\n",
    "analysis_pipeline.CONFIGURATION_FILE_PATH = '../power_config.yml' ## '../erp_config.yml'"
   ]
  },
  {
   "cell_type": "code",
   "execution_count": 4,
   "id": "12a494ec",
   "metadata": {},
   "outputs": [],
   "source": [
    "# Check the path to config.yml is correct (executing this cell should not return AssertionError)\n",
    "assert os.path.isfile(analysis_pipeline.CONFIGURATION_FILE_PATH)"
   ]
  },
  {
   "cell_type": "code",
   "execution_count": 5,
   "id": "2a60c7fc",
   "metadata": {},
   "outputs": [
    {
     "name": "stdout",
     "output_type": "stream",
     "text": [
      "analysis:\n",
      "  conditions:\n",
      "  - triplet\n",
      "  mode: power\n",
      "  overwrite: true\n",
      "  picks: eeg\n",
      "power:\n",
      "  is_evoked: true\n",
      "  morlet:\n",
      "    decim: 1\n",
      "    fmax: 45\n",
      "    fmin: 4\n",
      "    step: 30\n",
      "  postfix: tfr.h5\n",
      "\n"
     ]
    }
   ],
   "source": [
    "# Check the contents of the configuration file\n",
    "import yaml\n",
    "print(yaml.dump(analysis_pipeline.read_config(analysis_pipeline.CONFIGURATION_FILE_PATH), default_flow_style=False))"
   ]
  },
  {
   "cell_type": "markdown",
   "id": "3c63b8f7",
   "metadata": {},
   "source": [
    "## Where are my files?\n",
    "\n",
    "You should change the global variable `EPOCHS_FILE_PATH` to the folder where your preprocessed files are located.\n",
    "\n",
    "```python\n",
    "analysis_pipeline.EPOCHS_FILE_PATH = '/path/to/my/preprocessed/epochs'\n",
    "```\n"
   ]
  },
  {
   "cell_type": "code",
   "execution_count": 8,
   "id": "ddfd8686",
   "metadata": {},
   "outputs": [],
   "source": [
    "# The folder where the preprocessed files are located\n",
    "analysis_pipeline.EPOCHS_FILE_PATH = '/Users/weian/Downloads/Raw_data/preprocessed/epochs_asrt_longer/'"
   ]
  },
  {
   "cell_type": "code",
   "execution_count": null,
   "id": "473abfc5",
   "metadata": {},
   "outputs": [],
   "source": [
    "# file path to configuration file\n",
    "analysis_pipeline.EPOCHS_FILE_POSTFIX"
   ]
  },
  {
   "cell_type": "markdown",
   "id": "8287501c",
   "metadata": {},
   "source": [
    "## Run the pipeline"
   ]
  },
  {
   "cell_type": "code",
   "execution_count": 9,
   "id": "74e6af27",
   "metadata": {
    "scrolled": false
   },
   "outputs": [
    {
     "name": "stdout",
     "output_type": "stream",
     "text": [
      "\n",
      "Reading configuration from ../power_config.yml file ...\n",
      "\n",
      "analysis:\n",
      "  conditions:\n",
      "  - triplet\n",
      "  mode: power\n",
      "  overwrite: true\n",
      "  picks: eeg\n",
      "power:\n",
      "  is_evoked: true\n",
      "  morlet:\n",
      "    decim: 1\n",
      "    fmax: 45\n",
      "    fmin: 4\n",
      "    step: 30\n",
      "  postfix: tfr.h5\n",
      "\n",
      "\n",
      "Running EEG/MEG power analysis pipeline for eeg channels\n",
      "\n",
      "Source directory is \"/Users/weian/Downloads/Raw_data/preprocessed/epochs_asrt_longer\"\n",
      "Output files are created at \"/Users/weian/Downloads/Raw_data/preprocessed/power/power_asrt_longer/TRIPLET\"\n",
      "Current run computes power for each triplet found in epochs metadata.\n"
     ]
    },
    {
     "name": "stderr",
     "output_type": "stream",
     "text": [
      "Processing 10_S_Day1_ICA_autoreject_ransac-epo.fif:   0%|                                                                                            | 0/15 [00:00<?, ?it/s]"
     ]
    },
    {
     "name": "stdout",
     "output_type": "stream",
     "text": [
      "Saving power at /Users/weian/Downloads/Raw_data/preprocessed/power/power_asrt_longer/TRIPLET/10_S_Day1_H_power-tfr.h5 ...\n"
     ]
    },
    {
     "name": "stderr",
     "output_type": "stream",
     "text": [
      "[Parallel(n_jobs=8)]: Using backend LokyBackend with 8 concurrent workers.\n",
      "[Parallel(n_jobs=8)]: Done  12 tasks      | elapsed:    0.0s\n",
      "[Parallel(n_jobs=8)]: Done  64 out of  64 | elapsed:    0.1s finished\n"
     ]
    },
    {
     "name": "stdout",
     "output_type": "stream",
     "text": [
      "[FINISHED]\n",
      "Saving power at /Users/weian/Downloads/Raw_data/preprocessed/power/power_asrt_longer/TRIPLET/10_S_Day1_L_power-tfr.h5 ...\n"
     ]
    },
    {
     "name": "stderr",
     "output_type": "stream",
     "text": [
      "[Parallel(n_jobs=8)]: Using backend LokyBackend with 8 concurrent workers.\n",
      "[Parallel(n_jobs=8)]: Done  12 tasks      | elapsed:    0.0s\n",
      "[Parallel(n_jobs=8)]: Done  64 out of  64 | elapsed:    0.1s finished\n"
     ]
    },
    {
     "name": "stdout",
     "output_type": "stream",
     "text": [
      "[FINISHED]\n"
     ]
    },
    {
     "name": "stderr",
     "output_type": "stream",
     "text": [
      "Processing 11_S_Day1_ICA_autoreject_ransac-epo.fif:   7%|█████▌                                                                              | 1/15 [00:09<02:12,  9.44s/it]"
     ]
    },
    {
     "name": "stdout",
     "output_type": "stream",
     "text": [
      "Saving power at /Users/weian/Downloads/Raw_data/preprocessed/power/power_asrt_longer/TRIPLET/11_S_Day1_H_power-tfr.h5 ...\n"
     ]
    },
    {
     "name": "stderr",
     "output_type": "stream",
     "text": [
      "[Parallel(n_jobs=8)]: Using backend LokyBackend with 8 concurrent workers.\n",
      "[Parallel(n_jobs=8)]: Done  12 tasks      | elapsed:    0.0s\n",
      "[Parallel(n_jobs=8)]: Done  64 out of  64 | elapsed:    0.1s finished\n"
     ]
    },
    {
     "name": "stdout",
     "output_type": "stream",
     "text": [
      "[FINISHED]\n",
      "Saving power at /Users/weian/Downloads/Raw_data/preprocessed/power/power_asrt_longer/TRIPLET/11_S_Day1_L_power-tfr.h5 ...\n"
     ]
    },
    {
     "name": "stderr",
     "output_type": "stream",
     "text": [
      "[Parallel(n_jobs=8)]: Using backend LokyBackend with 8 concurrent workers.\n",
      "[Parallel(n_jobs=8)]: Done  12 tasks      | elapsed:    0.0s\n",
      "[Parallel(n_jobs=8)]: Done  64 out of  64 | elapsed:    0.1s finished\n"
     ]
    },
    {
     "name": "stdout",
     "output_type": "stream",
     "text": [
      "[FINISHED]\n"
     ]
    },
    {
     "name": "stderr",
     "output_type": "stream",
     "text": [
      "Processing 13_S_Day1_ICA_autoreject_ransac-epo.fif:  13%|███████████▏                                                                        | 2/15 [00:16<01:41,  7.81s/it]"
     ]
    },
    {
     "name": "stdout",
     "output_type": "stream",
     "text": [
      "Saving power at /Users/weian/Downloads/Raw_data/preprocessed/power/power_asrt_longer/TRIPLET/13_S_Day1_H_power-tfr.h5 ...\n"
     ]
    },
    {
     "name": "stderr",
     "output_type": "stream",
     "text": [
      "[Parallel(n_jobs=8)]: Using backend LokyBackend with 8 concurrent workers.\n",
      "[Parallel(n_jobs=8)]: Done  12 tasks      | elapsed:    0.0s\n",
      "[Parallel(n_jobs=8)]: Done  64 out of  64 | elapsed:    0.1s finished\n"
     ]
    },
    {
     "name": "stdout",
     "output_type": "stream",
     "text": [
      "[FINISHED]\n",
      "Saving power at /Users/weian/Downloads/Raw_data/preprocessed/power/power_asrt_longer/TRIPLET/13_S_Day1_L_power-tfr.h5 ...\n"
     ]
    },
    {
     "name": "stderr",
     "output_type": "stream",
     "text": [
      "[Parallel(n_jobs=8)]: Using backend LokyBackend with 8 concurrent workers.\n",
      "[Parallel(n_jobs=8)]: Done  12 tasks      | elapsed:    0.0s\n",
      "[Parallel(n_jobs=8)]: Done  64 out of  64 | elapsed:    0.1s finished\n"
     ]
    },
    {
     "name": "stdout",
     "output_type": "stream",
     "text": [
      "[FINISHED]\n"
     ]
    },
    {
     "name": "stderr",
     "output_type": "stream",
     "text": [
      "Processing 14_S_Day1_ICA_autoreject_ransac-epo.fif:  20%|████████████████▊                                                                   | 3/15 [00:23<01:28,  7.41s/it]"
     ]
    },
    {
     "name": "stdout",
     "output_type": "stream",
     "text": [
      "Saving power at /Users/weian/Downloads/Raw_data/preprocessed/power/power_asrt_longer/TRIPLET/14_S_Day1_H_power-tfr.h5 ...\n"
     ]
    },
    {
     "name": "stderr",
     "output_type": "stream",
     "text": [
      "[Parallel(n_jobs=8)]: Using backend LokyBackend with 8 concurrent workers.\n",
      "[Parallel(n_jobs=8)]: Done  12 tasks      | elapsed:    0.0s\n",
      "[Parallel(n_jobs=8)]: Done  64 out of  64 | elapsed:    0.1s finished\n"
     ]
    },
    {
     "name": "stdout",
     "output_type": "stream",
     "text": [
      "[FINISHED]\n",
      "Saving power at /Users/weian/Downloads/Raw_data/preprocessed/power/power_asrt_longer/TRIPLET/14_S_Day1_L_power-tfr.h5 ...\n"
     ]
    },
    {
     "name": "stderr",
     "output_type": "stream",
     "text": [
      "[Parallel(n_jobs=8)]: Using backend LokyBackend with 8 concurrent workers.\n",
      "[Parallel(n_jobs=8)]: Done  12 tasks      | elapsed:    0.0s\n",
      "[Parallel(n_jobs=8)]: Done  64 out of  64 | elapsed:    0.1s finished\n"
     ]
    },
    {
     "name": "stdout",
     "output_type": "stream",
     "text": [
      "[FINISHED]\n"
     ]
    },
    {
     "name": "stderr",
     "output_type": "stream",
     "text": [
      "Processing 15_L_Day1_ICA_autoreject_ransac-epo.fif:  27%|██████████████████████▍                                                             | 4/15 [00:30<01:19,  7.24s/it]"
     ]
    },
    {
     "name": "stdout",
     "output_type": "stream",
     "text": [
      "Saving power at /Users/weian/Downloads/Raw_data/preprocessed/power/power_asrt_longer/TRIPLET/15_L_Day1_H_power-tfr.h5 ...\n"
     ]
    },
    {
     "name": "stderr",
     "output_type": "stream",
     "text": [
      "[Parallel(n_jobs=8)]: Using backend LokyBackend with 8 concurrent workers.\n",
      "[Parallel(n_jobs=8)]: Done  12 tasks      | elapsed:    0.1s\n",
      "[Parallel(n_jobs=8)]: Done  64 out of  64 | elapsed:    0.2s finished\n"
     ]
    },
    {
     "name": "stdout",
     "output_type": "stream",
     "text": [
      "[FINISHED]\n",
      "Saving power at /Users/weian/Downloads/Raw_data/preprocessed/power/power_asrt_longer/TRIPLET/15_L_Day1_L_power-tfr.h5 ...\n"
     ]
    },
    {
     "name": "stderr",
     "output_type": "stream",
     "text": [
      "[Parallel(n_jobs=8)]: Using backend LokyBackend with 8 concurrent workers.\n",
      "[Parallel(n_jobs=8)]: Done  12 tasks      | elapsed:    0.0s\n",
      "[Parallel(n_jobs=8)]: Done  64 out of  64 | elapsed:    0.1s finished\n"
     ]
    },
    {
     "name": "stdout",
     "output_type": "stream",
     "text": [
      "[FINISHED]\n"
     ]
    },
    {
     "name": "stderr",
     "output_type": "stream",
     "text": [
      "Processing 16_L_Day1_ICA_autoreject_ransac-epo.fif:  33%|████████████████████████████                                                        | 5/15 [00:39<01:18,  7.89s/it]"
     ]
    },
    {
     "name": "stdout",
     "output_type": "stream",
     "text": [
      "Saving power at /Users/weian/Downloads/Raw_data/preprocessed/power/power_asrt_longer/TRIPLET/16_L_Day1_H_power-tfr.h5 ...\n"
     ]
    },
    {
     "name": "stderr",
     "output_type": "stream",
     "text": [
      "[Parallel(n_jobs=8)]: Using backend LokyBackend with 8 concurrent workers.\n",
      "[Parallel(n_jobs=8)]: Done  12 tasks      | elapsed:    0.0s\n",
      "[Parallel(n_jobs=8)]: Done  64 out of  64 | elapsed:    0.1s finished\n"
     ]
    },
    {
     "name": "stdout",
     "output_type": "stream",
     "text": [
      "[FINISHED]\n",
      "Saving power at /Users/weian/Downloads/Raw_data/preprocessed/power/power_asrt_longer/TRIPLET/16_L_Day1_L_power-tfr.h5 ...\n"
     ]
    },
    {
     "name": "stderr",
     "output_type": "stream",
     "text": [
      "[Parallel(n_jobs=8)]: Using backend LokyBackend with 8 concurrent workers.\n",
      "[Parallel(n_jobs=8)]: Done  12 tasks      | elapsed:    0.0s\n",
      "[Parallel(n_jobs=8)]: Done  64 out of  64 | elapsed:    0.1s finished\n"
     ]
    },
    {
     "name": "stdout",
     "output_type": "stream",
     "text": [
      "[FINISHED]\n"
     ]
    },
    {
     "name": "stderr",
     "output_type": "stream",
     "text": [
      "Processing 17_E_Day1_ICA_autoreject_ransac-epo.fif:  40%|█████████████████████████████████▌                                                  | 6/15 [00:48<01:16,  8.51s/it]"
     ]
    },
    {
     "name": "stdout",
     "output_type": "stream",
     "text": [
      "Saving power at /Users/weian/Downloads/Raw_data/preprocessed/power/power_asrt_longer/TRIPLET/17_E_Day1_H_power-tfr.h5 ...\n"
     ]
    },
    {
     "name": "stderr",
     "output_type": "stream",
     "text": [
      "[Parallel(n_jobs=8)]: Using backend LokyBackend with 8 concurrent workers.\n",
      "[Parallel(n_jobs=8)]: Done  12 tasks      | elapsed:    0.0s\n",
      "[Parallel(n_jobs=8)]: Done  64 out of  64 | elapsed:    0.1s finished\n"
     ]
    },
    {
     "name": "stdout",
     "output_type": "stream",
     "text": [
      "[FINISHED]\n",
      "Saving power at /Users/weian/Downloads/Raw_data/preprocessed/power/power_asrt_longer/TRIPLET/17_E_Day1_L_power-tfr.h5 ...\n"
     ]
    },
    {
     "name": "stderr",
     "output_type": "stream",
     "text": [
      "[Parallel(n_jobs=8)]: Using backend LokyBackend with 8 concurrent workers.\n",
      "[Parallel(n_jobs=8)]: Done  12 tasks      | elapsed:    0.0s\n",
      "[Parallel(n_jobs=8)]: Done  64 out of  64 | elapsed:    0.1s finished\n"
     ]
    },
    {
     "name": "stdout",
     "output_type": "stream",
     "text": [
      "[FINISHED]\n"
     ]
    },
    {
     "name": "stderr",
     "output_type": "stream",
     "text": [
      "Processing 1_S_Day1_ICA_autoreject_ransac-epo.fif:  47%|███████████████████████████████████████▋                                             | 7/15 [00:57<01:08,  8.52s/it]"
     ]
    },
    {
     "name": "stdout",
     "output_type": "stream",
     "text": [
      "Saving power at /Users/weian/Downloads/Raw_data/preprocessed/power/power_asrt_longer/TRIPLET/1_S_Day1_H_power-tfr.h5 ...\n"
     ]
    },
    {
     "name": "stderr",
     "output_type": "stream",
     "text": [
      "[Parallel(n_jobs=8)]: Using backend LokyBackend with 8 concurrent workers.\n",
      "[Parallel(n_jobs=8)]: Done  12 tasks      | elapsed:    0.0s\n",
      "[Parallel(n_jobs=8)]: Done  64 out of  64 | elapsed:    0.1s finished\n"
     ]
    },
    {
     "name": "stdout",
     "output_type": "stream",
     "text": [
      "[FINISHED]\n",
      "Saving power at /Users/weian/Downloads/Raw_data/preprocessed/power/power_asrt_longer/TRIPLET/1_S_Day1_L_power-tfr.h5 ...\n"
     ]
    },
    {
     "name": "stderr",
     "output_type": "stream",
     "text": [
      "[Parallel(n_jobs=8)]: Using backend LokyBackend with 8 concurrent workers.\n",
      "[Parallel(n_jobs=8)]: Done  12 tasks      | elapsed:    0.0s\n",
      "[Parallel(n_jobs=8)]: Done  64 out of  64 | elapsed:    0.1s finished\n"
     ]
    },
    {
     "name": "stdout",
     "output_type": "stream",
     "text": [
      "[FINISHED]\n"
     ]
    },
    {
     "name": "stderr",
     "output_type": "stream",
     "text": [
      "Processing 2_S_Day1_ICA_autoreject_ransac-epo.fif:  53%|█████████████████████████████████████████████▎                                       | 8/15 [01:06<01:00,  8.59s/it]"
     ]
    },
    {
     "name": "stdout",
     "output_type": "stream",
     "text": [
      "Saving power at /Users/weian/Downloads/Raw_data/preprocessed/power/power_asrt_longer/TRIPLET/2_S_Day1_H_power-tfr.h5 ...\n"
     ]
    },
    {
     "name": "stderr",
     "output_type": "stream",
     "text": [
      "[Parallel(n_jobs=8)]: Using backend LokyBackend with 8 concurrent workers.\n",
      "[Parallel(n_jobs=8)]: Done  12 tasks      | elapsed:    0.0s\n",
      "[Parallel(n_jobs=8)]: Done  64 out of  64 | elapsed:    0.1s finished\n"
     ]
    },
    {
     "name": "stdout",
     "output_type": "stream",
     "text": [
      "[FINISHED]\n",
      "Saving power at /Users/weian/Downloads/Raw_data/preprocessed/power/power_asrt_longer/TRIPLET/2_S_Day1_L_power-tfr.h5 ...\n"
     ]
    },
    {
     "name": "stderr",
     "output_type": "stream",
     "text": [
      "[Parallel(n_jobs=8)]: Using backend LokyBackend with 8 concurrent workers.\n",
      "[Parallel(n_jobs=8)]: Done  12 tasks      | elapsed:    0.0s\n",
      "[Parallel(n_jobs=8)]: Done  64 out of  64 | elapsed:    0.1s finished\n"
     ]
    },
    {
     "name": "stdout",
     "output_type": "stream",
     "text": [
      "[FINISHED]\n"
     ]
    },
    {
     "name": "stderr",
     "output_type": "stream",
     "text": [
      "Processing 3_L_Day1_ICA_autoreject_ransac-epo.fif:  60%|███████████████████████████████████████████████████                                  | 9/15 [01:14<00:50,  8.45s/it]"
     ]
    },
    {
     "name": "stdout",
     "output_type": "stream",
     "text": [
      "Saving power at /Users/weian/Downloads/Raw_data/preprocessed/power/power_asrt_longer/TRIPLET/3_L_Day1_H_power-tfr.h5 ...\n"
     ]
    },
    {
     "name": "stderr",
     "output_type": "stream",
     "text": [
      "[Parallel(n_jobs=8)]: Using backend LokyBackend with 8 concurrent workers.\n",
      "[Parallel(n_jobs=8)]: Done  12 tasks      | elapsed:    0.0s\n",
      "[Parallel(n_jobs=8)]: Done  64 out of  64 | elapsed:    0.1s finished\n"
     ]
    },
    {
     "name": "stdout",
     "output_type": "stream",
     "text": [
      "[FINISHED]\n",
      "Saving power at /Users/weian/Downloads/Raw_data/preprocessed/power/power_asrt_longer/TRIPLET/3_L_Day1_L_power-tfr.h5 ...\n"
     ]
    },
    {
     "name": "stderr",
     "output_type": "stream",
     "text": [
      "[Parallel(n_jobs=8)]: Using backend LokyBackend with 8 concurrent workers.\n",
      "[Parallel(n_jobs=8)]: Done  12 tasks      | elapsed:    0.0s\n",
      "[Parallel(n_jobs=8)]: Done  64 out of  64 | elapsed:    0.1s finished\n"
     ]
    },
    {
     "name": "stdout",
     "output_type": "stream",
     "text": [
      "[FINISHED]\n"
     ]
    },
    {
     "name": "stderr",
     "output_type": "stream",
     "text": [
      "Processing 4_L_Day1_ICA_autoreject_ransac-epo.fif:  67%|████████████████████████████████████████████████████████                            | 10/15 [01:23<00:43,  8.79s/it]"
     ]
    },
    {
     "name": "stdout",
     "output_type": "stream",
     "text": [
      "Saving power at /Users/weian/Downloads/Raw_data/preprocessed/power/power_asrt_longer/TRIPLET/4_L_Day1_H_power-tfr.h5 ...\n"
     ]
    },
    {
     "name": "stderr",
     "output_type": "stream",
     "text": [
      "[Parallel(n_jobs=8)]: Using backend LokyBackend with 8 concurrent workers.\n",
      "[Parallel(n_jobs=8)]: Done  12 tasks      | elapsed:    0.0s\n",
      "[Parallel(n_jobs=8)]: Done  64 out of  64 | elapsed:    0.1s finished\n"
     ]
    },
    {
     "name": "stdout",
     "output_type": "stream",
     "text": [
      "[FINISHED]\n",
      "Saving power at /Users/weian/Downloads/Raw_data/preprocessed/power/power_asrt_longer/TRIPLET/4_L_Day1_L_power-tfr.h5 ...\n"
     ]
    },
    {
     "name": "stderr",
     "output_type": "stream",
     "text": [
      "[Parallel(n_jobs=8)]: Using backend LokyBackend with 8 concurrent workers.\n",
      "[Parallel(n_jobs=8)]: Done  12 tasks      | elapsed:    0.0s\n",
      "[Parallel(n_jobs=8)]: Done  64 out of  64 | elapsed:    0.1s finished\n"
     ]
    },
    {
     "name": "stdout",
     "output_type": "stream",
     "text": [
      "[FINISHED]\n"
     ]
    },
    {
     "name": "stderr",
     "output_type": "stream",
     "text": [
      "Processing 5_S_Day1_ICA_autoreject_ransac-epo.fif:  73%|█████████████████████████████████████████████████████████████▌                      | 11/15 [01:29<00:32,  8.00s/it]"
     ]
    },
    {
     "name": "stdout",
     "output_type": "stream",
     "text": [
      "Saving power at /Users/weian/Downloads/Raw_data/preprocessed/power/power_asrt_longer/TRIPLET/5_S_Day1_H_power-tfr.h5 ...\n"
     ]
    },
    {
     "name": "stderr",
     "output_type": "stream",
     "text": [
      "[Parallel(n_jobs=8)]: Using backend LokyBackend with 8 concurrent workers.\n",
      "[Parallel(n_jobs=8)]: Done  12 tasks      | elapsed:    0.0s\n",
      "[Parallel(n_jobs=8)]: Done  64 out of  64 | elapsed:    0.1s finished\n"
     ]
    },
    {
     "name": "stdout",
     "output_type": "stream",
     "text": [
      "[FINISHED]\n",
      "Saving power at /Users/weian/Downloads/Raw_data/preprocessed/power/power_asrt_longer/TRIPLET/5_S_Day1_L_power-tfr.h5 ...\n"
     ]
    },
    {
     "name": "stderr",
     "output_type": "stream",
     "text": [
      "[Parallel(n_jobs=8)]: Using backend LokyBackend with 8 concurrent workers.\n",
      "[Parallel(n_jobs=8)]: Done  12 tasks      | elapsed:    0.0s\n",
      "[Parallel(n_jobs=8)]: Done  64 out of  64 | elapsed:    0.1s finished\n"
     ]
    },
    {
     "name": "stdout",
     "output_type": "stream",
     "text": [
      "[FINISHED]\n"
     ]
    },
    {
     "name": "stderr",
     "output_type": "stream",
     "text": [
      "Processing 6_S_Day1_ICA_autoreject_ransac-epo.fif:  80%|███████████████████████████████████████████████████████████████████▏                | 12/15 [01:37<00:23,  7.99s/it]"
     ]
    },
    {
     "name": "stdout",
     "output_type": "stream",
     "text": [
      "Saving power at /Users/weian/Downloads/Raw_data/preprocessed/power/power_asrt_longer/TRIPLET/6_S_Day1_H_power-tfr.h5 ...\n"
     ]
    },
    {
     "name": "stderr",
     "output_type": "stream",
     "text": [
      "[Parallel(n_jobs=8)]: Using backend LokyBackend with 8 concurrent workers.\n",
      "[Parallel(n_jobs=8)]: Done  12 tasks      | elapsed:    0.0s\n",
      "[Parallel(n_jobs=8)]: Done  64 out of  64 | elapsed:    0.1s finished\n"
     ]
    },
    {
     "name": "stdout",
     "output_type": "stream",
     "text": [
      "[FINISHED]\n",
      "Saving power at /Users/weian/Downloads/Raw_data/preprocessed/power/power_asrt_longer/TRIPLET/6_S_Day1_L_power-tfr.h5 ...\n"
     ]
    },
    {
     "name": "stderr",
     "output_type": "stream",
     "text": [
      "[Parallel(n_jobs=8)]: Using backend LokyBackend with 8 concurrent workers.\n",
      "[Parallel(n_jobs=8)]: Done  12 tasks      | elapsed:    0.0s\n",
      "[Parallel(n_jobs=8)]: Done  64 out of  64 | elapsed:    0.1s finished\n"
     ]
    },
    {
     "name": "stdout",
     "output_type": "stream",
     "text": [
      "[FINISHED]\n"
     ]
    },
    {
     "name": "stderr",
     "output_type": "stream",
     "text": [
      "Processing 7_L_Day1_ICA_autoreject_ransac-epo.fif:  87%|████████████████████████████████████████████████████████████████████████▊           | 13/15 [01:45<00:15,  7.81s/it]"
     ]
    },
    {
     "name": "stdout",
     "output_type": "stream",
     "text": [
      "Saving power at /Users/weian/Downloads/Raw_data/preprocessed/power/power_asrt_longer/TRIPLET/7_L_Day1_H_power-tfr.h5 ...\n"
     ]
    },
    {
     "name": "stderr",
     "output_type": "stream",
     "text": [
      "[Parallel(n_jobs=8)]: Using backend LokyBackend with 8 concurrent workers.\n",
      "[Parallel(n_jobs=8)]: Done  12 tasks      | elapsed:    0.0s\n",
      "[Parallel(n_jobs=8)]: Done  64 out of  64 | elapsed:    0.1s finished\n"
     ]
    },
    {
     "name": "stdout",
     "output_type": "stream",
     "text": [
      "[FINISHED]\n",
      "Saving power at /Users/weian/Downloads/Raw_data/preprocessed/power/power_asrt_longer/TRIPLET/7_L_Day1_L_power-tfr.h5 ...\n"
     ]
    },
    {
     "name": "stderr",
     "output_type": "stream",
     "text": [
      "[Parallel(n_jobs=8)]: Using backend LokyBackend with 8 concurrent workers.\n",
      "[Parallel(n_jobs=8)]: Done  12 tasks      | elapsed:    0.0s\n",
      "[Parallel(n_jobs=8)]: Done  64 out of  64 | elapsed:    0.1s finished\n"
     ]
    },
    {
     "name": "stdout",
     "output_type": "stream",
     "text": [
      "[FINISHED]\n"
     ]
    },
    {
     "name": "stderr",
     "output_type": "stream",
     "text": [
      "Processing 8_L_Day1_ICA_autoreject_ransac-epo.fif:  93%|██████████████████████████████████████████████████████████████████████████████▍     | 14/15 [01:54<00:08,  8.30s/it]"
     ]
    },
    {
     "name": "stdout",
     "output_type": "stream",
     "text": [
      "Saving power at /Users/weian/Downloads/Raw_data/preprocessed/power/power_asrt_longer/TRIPLET/8_L_Day1_H_power-tfr.h5 ...\n"
     ]
    },
    {
     "name": "stderr",
     "output_type": "stream",
     "text": [
      "[Parallel(n_jobs=8)]: Using backend LokyBackend with 8 concurrent workers.\n",
      "[Parallel(n_jobs=8)]: Done  12 tasks      | elapsed:    0.0s\n",
      "[Parallel(n_jobs=8)]: Done  64 out of  64 | elapsed:    0.1s finished\n"
     ]
    },
    {
     "name": "stdout",
     "output_type": "stream",
     "text": [
      "[FINISHED]\n",
      "Saving power at /Users/weian/Downloads/Raw_data/preprocessed/power/power_asrt_longer/TRIPLET/8_L_Day1_L_power-tfr.h5 ...\n"
     ]
    },
    {
     "name": "stderr",
     "output_type": "stream",
     "text": [
      "[Parallel(n_jobs=8)]: Using backend LokyBackend with 8 concurrent workers.\n",
      "[Parallel(n_jobs=8)]: Done  12 tasks      | elapsed:    0.0s\n",
      "[Parallel(n_jobs=8)]: Done  64 out of  64 | elapsed:    0.1s finished\n"
     ]
    },
    {
     "name": "stdout",
     "output_type": "stream",
     "text": [
      "[FINISHED]\n"
     ]
    },
    {
     "name": "stderr",
     "output_type": "stream",
     "text": [
      "Processing 8_L_Day1_ICA_autoreject_ransac-epo.fif: 100%|████████████████████████████████████████████████████████████████████████████████████| 15/15 [02:04<00:00,  8.29s/it]"
     ]
    },
    {
     "name": "stdout",
     "output_type": "stream",
     "text": [
      "Metadata file can be found at:\n",
      "/Users/weian/Downloads/Raw_data/preprocessed/power/power_asrt_longer/TRIPLET/power_metadata.csv\n",
      "\n",
      "[PIPELINE FINISHED]\n"
     ]
    },
    {
     "name": "stderr",
     "output_type": "stream",
     "text": [
      "\n"
     ]
    }
   ],
   "source": [
    "analysis_pipeline.run()"
   ]
  },
  {
   "cell_type": "code",
   "execution_count": 10,
   "id": "b73c85df",
   "metadata": {},
   "outputs": [],
   "source": [
    "metadata_path = \"/Users/weian/Downloads/Raw_data/preprocessed/power/power_asrt_longer/TRIPLET/power_metadata.csv\"\n",
    "\n",
    "metadata = pd.read_csv(metadata_path)"
   ]
  },
  {
   "cell_type": "code",
   "execution_count": 11,
   "id": "3ab25968",
   "metadata": {},
   "outputs": [
    {
     "data": {
      "text/html": [
       "<div>\n",
       "<style scoped>\n",
       "    .dataframe tbody tr th:only-of-type {\n",
       "        vertical-align: middle;\n",
       "    }\n",
       "\n",
       "    .dataframe tbody tr th {\n",
       "        vertical-align: top;\n",
       "    }\n",
       "\n",
       "    .dataframe thead th {\n",
       "        text-align: right;\n",
       "    }\n",
       "</style>\n",
       "<table border=\"1\" class=\"dataframe\">\n",
       "  <thead>\n",
       "    <tr style=\"text-align: right;\">\n",
       "      <th></th>\n",
       "      <th>fid</th>\n",
       "      <th>n_epochs</th>\n",
       "      <th>triplet</th>\n",
       "      <th>is_evoked</th>\n",
       "      <th>morlet</th>\n",
       "      <th>postfix</th>\n",
       "    </tr>\n",
       "  </thead>\n",
       "  <tbody>\n",
       "    <tr>\n",
       "      <th>0</th>\n",
       "      <td>10_S_Day1</td>\n",
       "      <td>1062</td>\n",
       "      <td>H</td>\n",
       "      <td>1.0</td>\n",
       "      <td>{'fmin': 4, 'fmax': 45, 'step': 30, 'decim': 1}</td>\n",
       "      <td>tfr.h5</td>\n",
       "    </tr>\n",
       "    <tr>\n",
       "      <th>1</th>\n",
       "      <td>10_S_Day1</td>\n",
       "      <td>432</td>\n",
       "      <td>L</td>\n",
       "      <td>1.0</td>\n",
       "      <td>{'fmin': 4, 'fmax': 45, 'step': 30, 'decim': 1}</td>\n",
       "      <td>tfr.h5</td>\n",
       "    </tr>\n",
       "    <tr>\n",
       "      <th>2</th>\n",
       "      <td>11_S_Day1</td>\n",
       "      <td>796</td>\n",
       "      <td>H</td>\n",
       "      <td>1.0</td>\n",
       "      <td>{'fmin': 4, 'fmax': 45, 'step': 30, 'decim': 1}</td>\n",
       "      <td>tfr.h5</td>\n",
       "    </tr>\n",
       "    <tr>\n",
       "      <th>3</th>\n",
       "      <td>11_S_Day1</td>\n",
       "      <td>296</td>\n",
       "      <td>L</td>\n",
       "      <td>1.0</td>\n",
       "      <td>{'fmin': 4, 'fmax': 45, 'step': 30, 'decim': 1}</td>\n",
       "      <td>tfr.h5</td>\n",
       "    </tr>\n",
       "    <tr>\n",
       "      <th>4</th>\n",
       "      <td>13_S_Day1</td>\n",
       "      <td>798</td>\n",
       "      <td>H</td>\n",
       "      <td>1.0</td>\n",
       "      <td>{'fmin': 4, 'fmax': 45, 'step': 30, 'decim': 1}</td>\n",
       "      <td>tfr.h5</td>\n",
       "    </tr>\n",
       "    <tr>\n",
       "      <th>5</th>\n",
       "      <td>13_S_Day1</td>\n",
       "      <td>329</td>\n",
       "      <td>L</td>\n",
       "      <td>1.0</td>\n",
       "      <td>{'fmin': 4, 'fmax': 45, 'step': 30, 'decim': 1}</td>\n",
       "      <td>tfr.h5</td>\n",
       "    </tr>\n",
       "    <tr>\n",
       "      <th>6</th>\n",
       "      <td>14_S_Day1</td>\n",
       "      <td>816</td>\n",
       "      <td>H</td>\n",
       "      <td>1.0</td>\n",
       "      <td>{'fmin': 4, 'fmax': 45, 'step': 30, 'decim': 1}</td>\n",
       "      <td>tfr.h5</td>\n",
       "    </tr>\n",
       "    <tr>\n",
       "      <th>7</th>\n",
       "      <td>14_S_Day1</td>\n",
       "      <td>325</td>\n",
       "      <td>L</td>\n",
       "      <td>1.0</td>\n",
       "      <td>{'fmin': 4, 'fmax': 45, 'step': 30, 'decim': 1}</td>\n",
       "      <td>tfr.h5</td>\n",
       "    </tr>\n",
       "    <tr>\n",
       "      <th>8</th>\n",
       "      <td>15_L_Day1</td>\n",
       "      <td>991</td>\n",
       "      <td>H</td>\n",
       "      <td>1.0</td>\n",
       "      <td>{'fmin': 4, 'fmax': 45, 'step': 30, 'decim': 1}</td>\n",
       "      <td>tfr.h5</td>\n",
       "    </tr>\n",
       "    <tr>\n",
       "      <th>9</th>\n",
       "      <td>15_L_Day1</td>\n",
       "      <td>385</td>\n",
       "      <td>L</td>\n",
       "      <td>1.0</td>\n",
       "      <td>{'fmin': 4, 'fmax': 45, 'step': 30, 'decim': 1}</td>\n",
       "      <td>tfr.h5</td>\n",
       "    </tr>\n",
       "    <tr>\n",
       "      <th>10</th>\n",
       "      <td>16_L_Day1</td>\n",
       "      <td>1078</td>\n",
       "      <td>H</td>\n",
       "      <td>1.0</td>\n",
       "      <td>{'fmin': 4, 'fmax': 45, 'step': 30, 'decim': 1}</td>\n",
       "      <td>tfr.h5</td>\n",
       "    </tr>\n",
       "    <tr>\n",
       "      <th>11</th>\n",
       "      <td>16_L_Day1</td>\n",
       "      <td>424</td>\n",
       "      <td>L</td>\n",
       "      <td>1.0</td>\n",
       "      <td>{'fmin': 4, 'fmax': 45, 'step': 30, 'decim': 1}</td>\n",
       "      <td>tfr.h5</td>\n",
       "    </tr>\n",
       "    <tr>\n",
       "      <th>12</th>\n",
       "      <td>17_E_Day1</td>\n",
       "      <td>954</td>\n",
       "      <td>H</td>\n",
       "      <td>1.0</td>\n",
       "      <td>{'fmin': 4, 'fmax': 45, 'step': 30, 'decim': 1}</td>\n",
       "      <td>tfr.h5</td>\n",
       "    </tr>\n",
       "    <tr>\n",
       "      <th>13</th>\n",
       "      <td>17_E_Day1</td>\n",
       "      <td>370</td>\n",
       "      <td>L</td>\n",
       "      <td>1.0</td>\n",
       "      <td>{'fmin': 4, 'fmax': 45, 'step': 30, 'decim': 1}</td>\n",
       "      <td>tfr.h5</td>\n",
       "    </tr>\n",
       "    <tr>\n",
       "      <th>14</th>\n",
       "      <td>1_S_Day1</td>\n",
       "      <td>956</td>\n",
       "      <td>H</td>\n",
       "      <td>1.0</td>\n",
       "      <td>{'fmin': 4, 'fmax': 45, 'step': 30, 'decim': 1}</td>\n",
       "      <td>tfr.h5</td>\n",
       "    </tr>\n",
       "    <tr>\n",
       "      <th>15</th>\n",
       "      <td>1_S_Day1</td>\n",
       "      <td>382</td>\n",
       "      <td>L</td>\n",
       "      <td>1.0</td>\n",
       "      <td>{'fmin': 4, 'fmax': 45, 'step': 30, 'decim': 1}</td>\n",
       "      <td>tfr.h5</td>\n",
       "    </tr>\n",
       "    <tr>\n",
       "      <th>16</th>\n",
       "      <td>2_S_Day1</td>\n",
       "      <td>904</td>\n",
       "      <td>H</td>\n",
       "      <td>1.0</td>\n",
       "      <td>{'fmin': 4, 'fmax': 45, 'step': 30, 'decim': 1}</td>\n",
       "      <td>tfr.h5</td>\n",
       "    </tr>\n",
       "    <tr>\n",
       "      <th>17</th>\n",
       "      <td>2_S_Day1</td>\n",
       "      <td>384</td>\n",
       "      <td>L</td>\n",
       "      <td>1.0</td>\n",
       "      <td>{'fmin': 4, 'fmax': 45, 'step': 30, 'decim': 1}</td>\n",
       "      <td>tfr.h5</td>\n",
       "    </tr>\n",
       "    <tr>\n",
       "      <th>18</th>\n",
       "      <td>3_L_Day1</td>\n",
       "      <td>1061</td>\n",
       "      <td>H</td>\n",
       "      <td>1.0</td>\n",
       "      <td>{'fmin': 4, 'fmax': 45, 'step': 30, 'decim': 1}</td>\n",
       "      <td>tfr.h5</td>\n",
       "    </tr>\n",
       "    <tr>\n",
       "      <th>19</th>\n",
       "      <td>3_L_Day1</td>\n",
       "      <td>431</td>\n",
       "      <td>L</td>\n",
       "      <td>1.0</td>\n",
       "      <td>{'fmin': 4, 'fmax': 45, 'step': 30, 'decim': 1}</td>\n",
       "      <td>tfr.h5</td>\n",
       "    </tr>\n",
       "    <tr>\n",
       "      <th>20</th>\n",
       "      <td>4_L_Day1</td>\n",
       "      <td>763</td>\n",
       "      <td>H</td>\n",
       "      <td>1.0</td>\n",
       "      <td>{'fmin': 4, 'fmax': 45, 'step': 30, 'decim': 1}</td>\n",
       "      <td>tfr.h5</td>\n",
       "    </tr>\n",
       "    <tr>\n",
       "      <th>21</th>\n",
       "      <td>4_L_Day1</td>\n",
       "      <td>285</td>\n",
       "      <td>L</td>\n",
       "      <td>1.0</td>\n",
       "      <td>{'fmin': 4, 'fmax': 45, 'step': 30, 'decim': 1}</td>\n",
       "      <td>tfr.h5</td>\n",
       "    </tr>\n",
       "    <tr>\n",
       "      <th>22</th>\n",
       "      <td>5_S_Day1</td>\n",
       "      <td>851</td>\n",
       "      <td>H</td>\n",
       "      <td>1.0</td>\n",
       "      <td>{'fmin': 4, 'fmax': 45, 'step': 30, 'decim': 1}</td>\n",
       "      <td>tfr.h5</td>\n",
       "    </tr>\n",
       "    <tr>\n",
       "      <th>23</th>\n",
       "      <td>5_S_Day1</td>\n",
       "      <td>356</td>\n",
       "      <td>L</td>\n",
       "      <td>1.0</td>\n",
       "      <td>{'fmin': 4, 'fmax': 45, 'step': 30, 'decim': 1}</td>\n",
       "      <td>tfr.h5</td>\n",
       "    </tr>\n",
       "    <tr>\n",
       "      <th>24</th>\n",
       "      <td>6_S_Day1</td>\n",
       "      <td>839</td>\n",
       "      <td>H</td>\n",
       "      <td>1.0</td>\n",
       "      <td>{'fmin': 4, 'fmax': 45, 'step': 30, 'decim': 1}</td>\n",
       "      <td>tfr.h5</td>\n",
       "    </tr>\n",
       "    <tr>\n",
       "      <th>25</th>\n",
       "      <td>6_S_Day1</td>\n",
       "      <td>329</td>\n",
       "      <td>L</td>\n",
       "      <td>1.0</td>\n",
       "      <td>{'fmin': 4, 'fmax': 45, 'step': 30, 'decim': 1}</td>\n",
       "      <td>tfr.h5</td>\n",
       "    </tr>\n",
       "    <tr>\n",
       "      <th>26</th>\n",
       "      <td>7_L_Day1</td>\n",
       "      <td>1015</td>\n",
       "      <td>H</td>\n",
       "      <td>1.0</td>\n",
       "      <td>{'fmin': 4, 'fmax': 45, 'step': 30, 'decim': 1}</td>\n",
       "      <td>tfr.h5</td>\n",
       "    </tr>\n",
       "    <tr>\n",
       "      <th>27</th>\n",
       "      <td>7_L_Day1</td>\n",
       "      <td>414</td>\n",
       "      <td>L</td>\n",
       "      <td>1.0</td>\n",
       "      <td>{'fmin': 4, 'fmax': 45, 'step': 30, 'decim': 1}</td>\n",
       "      <td>tfr.h5</td>\n",
       "    </tr>\n",
       "    <tr>\n",
       "      <th>28</th>\n",
       "      <td>8_L_Day1</td>\n",
       "      <td>1079</td>\n",
       "      <td>H</td>\n",
       "      <td>1.0</td>\n",
       "      <td>{'fmin': 4, 'fmax': 45, 'step': 30, 'decim': 1}</td>\n",
       "      <td>tfr.h5</td>\n",
       "    </tr>\n",
       "    <tr>\n",
       "      <th>29</th>\n",
       "      <td>8_L_Day1</td>\n",
       "      <td>435</td>\n",
       "      <td>L</td>\n",
       "      <td>1.0</td>\n",
       "      <td>{'fmin': 4, 'fmax': 45, 'step': 30, 'decim': 1}</td>\n",
       "      <td>tfr.h5</td>\n",
       "    </tr>\n",
       "  </tbody>\n",
       "</table>\n",
       "</div>"
      ],
      "text/plain": [
       "          fid  n_epochs triplet  is_evoked  \\\n",
       "0   10_S_Day1      1062       H        1.0   \n",
       "1   10_S_Day1       432       L        1.0   \n",
       "2   11_S_Day1       796       H        1.0   \n",
       "3   11_S_Day1       296       L        1.0   \n",
       "4   13_S_Day1       798       H        1.0   \n",
       "5   13_S_Day1       329       L        1.0   \n",
       "6   14_S_Day1       816       H        1.0   \n",
       "7   14_S_Day1       325       L        1.0   \n",
       "8   15_L_Day1       991       H        1.0   \n",
       "9   15_L_Day1       385       L        1.0   \n",
       "10  16_L_Day1      1078       H        1.0   \n",
       "11  16_L_Day1       424       L        1.0   \n",
       "12  17_E_Day1       954       H        1.0   \n",
       "13  17_E_Day1       370       L        1.0   \n",
       "14   1_S_Day1       956       H        1.0   \n",
       "15   1_S_Day1       382       L        1.0   \n",
       "16   2_S_Day1       904       H        1.0   \n",
       "17   2_S_Day1       384       L        1.0   \n",
       "18   3_L_Day1      1061       H        1.0   \n",
       "19   3_L_Day1       431       L        1.0   \n",
       "20   4_L_Day1       763       H        1.0   \n",
       "21   4_L_Day1       285       L        1.0   \n",
       "22   5_S_Day1       851       H        1.0   \n",
       "23   5_S_Day1       356       L        1.0   \n",
       "24   6_S_Day1       839       H        1.0   \n",
       "25   6_S_Day1       329       L        1.0   \n",
       "26   7_L_Day1      1015       H        1.0   \n",
       "27   7_L_Day1       414       L        1.0   \n",
       "28   8_L_Day1      1079       H        1.0   \n",
       "29   8_L_Day1       435       L        1.0   \n",
       "\n",
       "                                             morlet postfix  \n",
       "0   {'fmin': 4, 'fmax': 45, 'step': 30, 'decim': 1}  tfr.h5  \n",
       "1   {'fmin': 4, 'fmax': 45, 'step': 30, 'decim': 1}  tfr.h5  \n",
       "2   {'fmin': 4, 'fmax': 45, 'step': 30, 'decim': 1}  tfr.h5  \n",
       "3   {'fmin': 4, 'fmax': 45, 'step': 30, 'decim': 1}  tfr.h5  \n",
       "4   {'fmin': 4, 'fmax': 45, 'step': 30, 'decim': 1}  tfr.h5  \n",
       "5   {'fmin': 4, 'fmax': 45, 'step': 30, 'decim': 1}  tfr.h5  \n",
       "6   {'fmin': 4, 'fmax': 45, 'step': 30, 'decim': 1}  tfr.h5  \n",
       "7   {'fmin': 4, 'fmax': 45, 'step': 30, 'decim': 1}  tfr.h5  \n",
       "8   {'fmin': 4, 'fmax': 45, 'step': 30, 'decim': 1}  tfr.h5  \n",
       "9   {'fmin': 4, 'fmax': 45, 'step': 30, 'decim': 1}  tfr.h5  \n",
       "10  {'fmin': 4, 'fmax': 45, 'step': 30, 'decim': 1}  tfr.h5  \n",
       "11  {'fmin': 4, 'fmax': 45, 'step': 30, 'decim': 1}  tfr.h5  \n",
       "12  {'fmin': 4, 'fmax': 45, 'step': 30, 'decim': 1}  tfr.h5  \n",
       "13  {'fmin': 4, 'fmax': 45, 'step': 30, 'decim': 1}  tfr.h5  \n",
       "14  {'fmin': 4, 'fmax': 45, 'step': 30, 'decim': 1}  tfr.h5  \n",
       "15  {'fmin': 4, 'fmax': 45, 'step': 30, 'decim': 1}  tfr.h5  \n",
       "16  {'fmin': 4, 'fmax': 45, 'step': 30, 'decim': 1}  tfr.h5  \n",
       "17  {'fmin': 4, 'fmax': 45, 'step': 30, 'decim': 1}  tfr.h5  \n",
       "18  {'fmin': 4, 'fmax': 45, 'step': 30, 'decim': 1}  tfr.h5  \n",
       "19  {'fmin': 4, 'fmax': 45, 'step': 30, 'decim': 1}  tfr.h5  \n",
       "20  {'fmin': 4, 'fmax': 45, 'step': 30, 'decim': 1}  tfr.h5  \n",
       "21  {'fmin': 4, 'fmax': 45, 'step': 30, 'decim': 1}  tfr.h5  \n",
       "22  {'fmin': 4, 'fmax': 45, 'step': 30, 'decim': 1}  tfr.h5  \n",
       "23  {'fmin': 4, 'fmax': 45, 'step': 30, 'decim': 1}  tfr.h5  \n",
       "24  {'fmin': 4, 'fmax': 45, 'step': 30, 'decim': 1}  tfr.h5  \n",
       "25  {'fmin': 4, 'fmax': 45, 'step': 30, 'decim': 1}  tfr.h5  \n",
       "26  {'fmin': 4, 'fmax': 45, 'step': 30, 'decim': 1}  tfr.h5  \n",
       "27  {'fmin': 4, 'fmax': 45, 'step': 30, 'decim': 1}  tfr.h5  \n",
       "28  {'fmin': 4, 'fmax': 45, 'step': 30, 'decim': 1}  tfr.h5  \n",
       "29  {'fmin': 4, 'fmax': 45, 'step': 30, 'decim': 1}  tfr.h5  "
      ]
     },
     "execution_count": 11,
     "metadata": {},
     "output_type": "execute_result"
    }
   ],
   "source": [
    "metadata"
   ]
  },
  {
   "cell_type": "code",
   "execution_count": 12,
   "id": "46858091",
   "metadata": {},
   "outputs": [
    {
     "data": {
      "text/html": [
       "<div>\n",
       "<style scoped>\n",
       "    .dataframe tbody tr th:only-of-type {\n",
       "        vertical-align: middle;\n",
       "    }\n",
       "\n",
       "    .dataframe tbody tr th {\n",
       "        vertical-align: top;\n",
       "    }\n",
       "\n",
       "    .dataframe thead tr th {\n",
       "        text-align: left;\n",
       "    }\n",
       "\n",
       "    .dataframe thead tr:last-of-type th {\n",
       "        text-align: right;\n",
       "    }\n",
       "</style>\n",
       "<table border=\"1\" class=\"dataframe\">\n",
       "  <thead>\n",
       "    <tr>\n",
       "      <th></th>\n",
       "      <th colspan=\"8\" halign=\"left\">n_epochs</th>\n",
       "    </tr>\n",
       "    <tr>\n",
       "      <th></th>\n",
       "      <th>count</th>\n",
       "      <th>mean</th>\n",
       "      <th>std</th>\n",
       "      <th>min</th>\n",
       "      <th>25%</th>\n",
       "      <th>50%</th>\n",
       "      <th>75%</th>\n",
       "      <th>max</th>\n",
       "    </tr>\n",
       "    <tr>\n",
       "      <th>triplet</th>\n",
       "      <th></th>\n",
       "      <th></th>\n",
       "      <th></th>\n",
       "      <th></th>\n",
       "      <th></th>\n",
       "      <th></th>\n",
       "      <th></th>\n",
       "      <th></th>\n",
       "    </tr>\n",
       "  </thead>\n",
       "  <tbody>\n",
       "    <tr>\n",
       "      <th>H</th>\n",
       "      <td>15.0</td>\n",
       "      <td>930.866667</td>\n",
       "      <td>114.123909</td>\n",
       "      <td>763.0</td>\n",
       "      <td>827.5</td>\n",
       "      <td>954.0</td>\n",
       "      <td>1038.0</td>\n",
       "      <td>1079.0</td>\n",
       "    </tr>\n",
       "    <tr>\n",
       "      <th>L</th>\n",
       "      <td>15.0</td>\n",
       "      <td>371.800000</td>\n",
       "      <td>50.315008</td>\n",
       "      <td>285.0</td>\n",
       "      <td>329.0</td>\n",
       "      <td>382.0</td>\n",
       "      <td>419.0</td>\n",
       "      <td>435.0</td>\n",
       "    </tr>\n",
       "  </tbody>\n",
       "</table>\n",
       "</div>"
      ],
      "text/plain": [
       "        n_epochs                                                             \n",
       "           count        mean         std    min    25%    50%     75%     max\n",
       "triplet                                                                      \n",
       "H           15.0  930.866667  114.123909  763.0  827.5  954.0  1038.0  1079.0\n",
       "L           15.0  371.800000   50.315008  285.0  329.0  382.0   419.0   435.0"
      ]
     },
     "execution_count": 12,
     "metadata": {},
     "output_type": "execute_result"
    }
   ],
   "source": [
    "metadata.groupby(['triplet'])[['n_epochs']].describe()"
   ]
  },
  {
   "cell_type": "code",
   "execution_count": null,
   "id": "0bca74cd",
   "metadata": {},
   "outputs": [],
   "source": []
  }
 ],
 "metadata": {
  "kernelspec": {
   "display_name": "Python 3 (ipykernel)",
   "language": "python",
   "name": "python3"
  },
  "language_info": {
   "codemirror_mode": {
    "name": "ipython",
    "version": 3
   },
   "file_extension": ".py",
   "mimetype": "text/x-python",
   "name": "python",
   "nbconvert_exporter": "python",
   "pygments_lexer": "ipython3",
   "version": "3.7.12"
  }
 },
 "nbformat": 4,
 "nbformat_minor": 5
}
