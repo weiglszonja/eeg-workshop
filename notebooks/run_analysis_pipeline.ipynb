{
 "cells": [
  {
   "cell_type": "markdown",
   "id": "6e7de36c",
   "metadata": {},
   "source": [
    "# Analysis Pipeline\n",
    "\n",
    "<img src=\"../static/analysis_pipeline_diagram.svg\">"
   ]
  },
  {
   "cell_type": "code",
   "execution_count": 1,
   "id": "d76baac5",
   "metadata": {},
   "outputs": [],
   "source": [
    "import os\n",
    "\n",
    "import pandas as pd\n",
    "\n",
    "from meeg_tools import analysis_pipeline"
   ]
  },
  {
   "cell_type": "markdown",
   "id": "b5613b31",
   "metadata": {},
   "source": [
    "# Set up parameters\n",
    "\n",
    "There are two important things to consider when you are running analysis_pipeline.\n",
    "\n",
    "## What are the parameters of the analysis?\n",
    "\n",
    "These parameters are specified in a configuration file.\n",
    "\n",
    "\n",
    "## Where are the preprocessed files located?\n",
    "\n",
    "The analysis is run on preprocessed epochs, it is required that all the files that you want to analyze have to be in the same folder. \n"
   ]
  },
  {
   "cell_type": "markdown",
   "id": "d1bc1544",
   "metadata": {},
   "source": [
    "### What is inside the configuration file? (power_config.yml)\n",
    "\n",
    "```yml\n",
    "analysis:\n",
    "  conditions: # What is the aim of the analysis?\n",
    "  - triplet # I want to compare power between H and L stimuli \n",
    "  - epoch # I also want to compare them depending on which epoch they belong to\n",
    "  mode: power # I want to analyse power\n",
    "  overwrite: true # I want to overwrite existing files (recompute everything)\n",
    "  picks: eeg # I will analyse EEG channels\n",
    "power: # These parameters are specific to power analysis\n",
    "  is_evoked: true # I want to compute evoked power -- first take the average over epochs, and then estimate power\n",
    "  # Recommended article to understand the difference between evoked or induced power:\n",
    "  # https://www.fil.ion.ucl.ac.uk/~karl/Mechanisms%20of%20evoked%20and%20induced%20responses.pdf \n",
    "  morlet: # I will use Morlet decomposition\n",
    "    decim: 1 # I will use every data point to estimate power\n",
    "    fmax: 45 # 45 Hz is the highest frequency that I will analyse\n",
    "    fmin: 4 # 4 Hz is the lowest frequency\n",
    "    step: 30 # I will use 30 frequencies (4 to 45 Hz in 30 steps, logarithmic scale)\n",
    "  postfix: tfr.h5 # Files will be written with this file extension (not to be modified)\n",
    "    \n",
    "```\n",
    "\n",
    "\n",
    "### What are the conditions that I can use?\n",
    "\n",
    "Metadata columns can be used as conditions (e.g. triplet, epoch, triplet_type, sequence).\n",
    "Combining conditions mean more files, because we select epochs based on multiple conditions (e.g. epoch, triplet). For instance, if there are 5 periods(epoch=5blocks of ASRT collapsed) and we compare H and L stimuli, that means we will calculate power and save 5 * 2 = 10 files. \n",
    "\n",
    "\n",
    "\n",
    "#### 1. Compare between triplet (H and L)\n",
    "\n",
    "```yml\n",
    "...\n",
    "  conditions: # What is the aim of the analysis?\n",
    "  - triplet # I want to compare power between H and L stimuli\n",
    "...\n",
    "```\n",
    "#### 2. Compare between stimuli\n",
    "```yml\n",
    "...\n",
    "  conditions: # What is the aim of the analysis?\n",
    "  - stimuli # I want to compare power between Pattern (P) and Random (R) stimuli\n",
    "...\n",
    "```\n",
    "#### 3. Compare between triplet FOR each epoch\n",
    "```yml\n",
    "...\n",
    "  conditions: # What is the aim of the analysis?\n",
    "  - triplet # I want to compare power between H and L stimuli\n",
    "  - epoch # I also want to compare them depending on which epoch they belong to\n",
    "...\n",
    "```\n",
    "\n",
    "#### 4. Compare between triplet type\n",
    "```yml\n",
    "...\n",
    "  conditions: # What is the aim of the analysis?\n",
    "  - triplet_type # I want to compare power between HR, LR, and P\n",
    "...\n",
    "```\n",
    "\n",
    "#### 5. Compare between triplet type FOR each epoch \n",
    "```yml\n",
    "...\n",
    "  conditions: # What is the aim of the analysis?\n",
    "  - triplet_type #  I want to compare power between HR, LR, and P\n",
    "  - epoch # I also want to compare them depending on which epoch they belong to\n",
    "...\n",
    "```\n",
    "#### 6. Compare between triplet and sequence\n",
    "```yml\n",
    "...\n",
    "  conditions: # What is the aim of the analysis?\n",
    "  - triplet # I want to compare power between H and L stimuli\n",
    "  - sequence # I also want to compare them depending on which sequence (A or B) they belong to\n",
    "...\n",
    "```\n",
    "#### 7. Rewiring\n",
    "```yml\n",
    "...\n",
    "  conditions: # What is the aim of the analysis?\n",
    "  - rewiring # H-L, L-H, H-H, L-L\n",
    "...\n",
    "```\n"
   ]
  },
  {
   "cell_type": "code",
   "execution_count": 2,
   "id": "645362d0",
   "metadata": {},
   "outputs": [],
   "source": [
    "# File path to configuration file\n",
    "analysis_pipeline.CONFIGURATION_FILE_PATH = '../power_config.yml' ## '../erp_config.yml'"
   ]
  },
  {
   "cell_type": "code",
   "execution_count": 3,
   "id": "12a494ec",
   "metadata": {},
   "outputs": [],
   "source": [
    "# Check the path to config.yml is correct (executing this cell should not return AssertionError)\n",
    "assert os.path.isfile(analysis_pipeline.CONFIGURATION_FILE_PATH)"
   ]
  },
  {
   "cell_type": "code",
   "execution_count": 4,
   "id": "2a60c7fc",
   "metadata": {},
   "outputs": [
    {
     "name": "stdout",
     "output_type": "stream",
     "text": [
      "analysis:\n",
      "  conditions:\n",
      "  - stimuli\n",
      "  - epoch\n",
      "  mode: power\n",
      "  overwrite: true\n",
      "  picks: eeg\n",
      "power:\n",
      "  is_evoked: true\n",
      "  morlet:\n",
      "    decim: 1\n",
      "    fmax: 45\n",
      "    fmin: 4\n",
      "    step: 30\n",
      "  postfix: tfr.h5\n",
      "\n"
     ]
    }
   ],
   "source": [
    "# Check the contents of the configuration file\n",
    "import yaml\n",
    "print(yaml.dump(analysis_pipeline.read_config(analysis_pipeline.CONFIGURATION_FILE_PATH), default_flow_style=False))"
   ]
  },
  {
   "cell_type": "markdown",
   "id": "3c63b8f7",
   "metadata": {},
   "source": [
    "## Where are my files?\n",
    "\n",
    "You should change the global variable `EPOCHS_FILE_PATH` to the folder where your preprocessed files are located.\n",
    "\n",
    "```python\n",
    "analysis_pipeline.EPOCHS_FILE_PATH = '/path/to/my/preprocessed/epochs'\n",
    "```\n"
   ]
  },
  {
   "cell_type": "code",
   "execution_count": 5,
   "id": "ddfd8686",
   "metadata": {},
   "outputs": [],
   "source": [
    "# The folder where the preprocessed files are located\n",
    "analysis_pipeline.EPOCHS_FILE_PATH = 'C:/Users/User/Documents/epochs_asrt'"
   ]
  },
  {
   "cell_type": "code",
   "execution_count": 6,
   "id": "473abfc5",
   "metadata": {},
   "outputs": [
    {
     "data": {
      "text/plain": [
       "'autoreject_ransac-epo.fif.gz'"
      ]
     },
     "execution_count": 6,
     "metadata": {},
     "output_type": "execute_result"
    }
   ],
   "source": [
    "# file path to configuration file\n",
    "analysis_pipeline.EPOCHS_FILE_POSTFIX"
   ]
  },
  {
   "cell_type": "markdown",
   "id": "8287501c",
   "metadata": {},
   "source": [
    "## Run the pipeline"
   ]
  },
  {
   "cell_type": "code",
   "execution_count": null,
   "id": "74e6af27",
   "metadata": {
    "scrolled": true
   },
   "outputs": [
    {
     "name": "stdout",
     "output_type": "stream",
     "text": [
      "\n",
      "Reading configuration from ../power_config.yml file ...\n",
      "\n",
      "analysis:\n",
      "  conditions:\n",
      "  - stimuli\n",
      "  - epoch\n",
      "  mode: power\n",
      "  overwrite: true\n",
      "  picks: eeg\n",
      "power:\n",
      "  is_evoked: true\n",
      "  morlet:\n",
      "    decim: 1\n",
      "    fmax: 45\n",
      "    fmin: 4\n",
      "    step: 30\n",
      "  postfix: tfr.h5\n",
      "\n",
      "\n",
      "Running EEG/MEG power analysis pipeline for eeg channels\n",
      "\n",
      "Source directory is \"C:\\Users\\User\\Documents\\epochs_asrt\"\n",
      "Output files are created at \"C:\\Users\\User\\Documents\\power\\power_asrt\\STIMULI-EPOCH\"\n",
      "Current run computes power for each stimuli, epoch found in epochs metadata.\n"
     ]
    },
    {
     "name": "stderr",
     "output_type": "stream",
     "text": [
      "Processing 100_R_Day1_ICA_autoreject_ransac-epo.fif:   0%|                                                                                  | 0/180 [00:00<?, ?it/s]"
     ]
    },
    {
     "name": "stdout",
     "output_type": "stream",
     "text": [
      "Loading data for 1161 events and 726 original time points ...\n",
      "Replacing existing metadata with 10 columns\n",
      "Replacing existing metadata with 10 columns\n"
     ]
    },
    {
     "name": "stderr",
     "output_type": "stream",
     "text": [
      "C:\\Users\\User\\anaconda3\\envs\\eeg-workshop\\lib\\site-packages\\meeg_tools\\analysis_pipeline.py:136: FutureWarning: The frame.append method is deprecated and will be removed from pandas in a future version. Use pandas.concat instead.\n",
      "  metadata = metadata.append(data,\n",
      "[Parallel(n_jobs=12)]: Using backend LokyBackend with 12 concurrent workers.\n"
     ]
    },
    {
     "name": "stdout",
     "output_type": "stream",
     "text": [
      "Saving power at C:\\Users\\User\\Documents\\power\\power_asrt\\STIMULI-EPOCH\\100_R_Day1_P_1_power-tfr.h5 ...\n"
     ]
    },
    {
     "name": "stderr",
     "output_type": "stream",
     "text": [
      "[Parallel(n_jobs=12)]: Done   6 tasks      | elapsed:    3.0s\n",
      "[Parallel(n_jobs=12)]: Done  64 out of  64 | elapsed:    3.1s finished\n"
     ]
    },
    {
     "name": "stdout",
     "output_type": "stream",
     "text": [
      "[FINISHED]\n",
      "Saving power at C:\\Users\\User\\Documents\\power\\power_asrt\\STIMULI-EPOCH\\100_R_Day1_P_2_power-tfr.h5 ...\n"
     ]
    },
    {
     "name": "stderr",
     "output_type": "stream",
     "text": [
      "C:\\Users\\User\\anaconda3\\envs\\eeg-workshop\\lib\\site-packages\\meeg_tools\\analysis_pipeline.py:136: FutureWarning: The frame.append method is deprecated and will be removed from pandas in a future version. Use pandas.concat instead.\n",
      "  metadata = metadata.append(data,\n",
      "[Parallel(n_jobs=12)]: Using backend LokyBackend with 12 concurrent workers.\n",
      "[Parallel(n_jobs=12)]: Done   6 tasks      | elapsed:    0.0s\n",
      "[Parallel(n_jobs=12)]: Done  64 out of  64 | elapsed:    0.0s finished\n"
     ]
    },
    {
     "name": "stdout",
     "output_type": "stream",
     "text": [
      "[FINISHED]\n",
      "Saving power at C:\\Users\\User\\Documents\\power\\power_asrt\\STIMULI-EPOCH\\100_R_Day1_P_3_power-tfr.h5 ...\n"
     ]
    },
    {
     "name": "stderr",
     "output_type": "stream",
     "text": [
      "C:\\Users\\User\\anaconda3\\envs\\eeg-workshop\\lib\\site-packages\\meeg_tools\\analysis_pipeline.py:136: FutureWarning: The frame.append method is deprecated and will be removed from pandas in a future version. Use pandas.concat instead.\n",
      "  metadata = metadata.append(data,\n",
      "[Parallel(n_jobs=12)]: Using backend LokyBackend with 12 concurrent workers.\n",
      "[Parallel(n_jobs=12)]: Done   6 tasks      | elapsed:    0.0s\n",
      "[Parallel(n_jobs=12)]: Done  64 out of  64 | elapsed:    0.0s finished\n"
     ]
    },
    {
     "name": "stdout",
     "output_type": "stream",
     "text": [
      "[FINISHED]\n",
      "Saving power at C:\\Users\\User\\Documents\\power\\power_asrt\\STIMULI-EPOCH\\100_R_Day1_P_4_power-tfr.h5 ...\n"
     ]
    },
    {
     "name": "stderr",
     "output_type": "stream",
     "text": [
      "C:\\Users\\User\\anaconda3\\envs\\eeg-workshop\\lib\\site-packages\\meeg_tools\\analysis_pipeline.py:136: FutureWarning: The frame.append method is deprecated and will be removed from pandas in a future version. Use pandas.concat instead.\n",
      "  metadata = metadata.append(data,\n",
      "[Parallel(n_jobs=12)]: Using backend LokyBackend with 12 concurrent workers.\n",
      "[Parallel(n_jobs=12)]: Done   6 tasks      | elapsed:    0.0s\n",
      "[Parallel(n_jobs=12)]: Done  64 out of  64 | elapsed:    0.0s finished\n"
     ]
    },
    {
     "name": "stdout",
     "output_type": "stream",
     "text": [
      "[FINISHED]\n",
      "Saving power at C:\\Users\\User\\Documents\\power\\power_asrt\\STIMULI-EPOCH\\100_R_Day1_P_5_power-tfr.h5 ...\n"
     ]
    },
    {
     "name": "stderr",
     "output_type": "stream",
     "text": [
      "C:\\Users\\User\\anaconda3\\envs\\eeg-workshop\\lib\\site-packages\\meeg_tools\\analysis_pipeline.py:136: FutureWarning: The frame.append method is deprecated and will be removed from pandas in a future version. Use pandas.concat instead.\n",
      "  metadata = metadata.append(data,\n",
      "[Parallel(n_jobs=12)]: Using backend LokyBackend with 12 concurrent workers.\n",
      "[Parallel(n_jobs=12)]: Done   6 tasks      | elapsed:    0.0s\n",
      "[Parallel(n_jobs=12)]: Done  64 out of  64 | elapsed:    0.0s finished\n"
     ]
    },
    {
     "name": "stdout",
     "output_type": "stream",
     "text": [
      "[FINISHED]\n",
      "Saving power at C:\\Users\\User\\Documents\\power\\power_asrt\\STIMULI-EPOCH\\100_R_Day1_R_1_power-tfr.h5 ...\n"
     ]
    },
    {
     "name": "stderr",
     "output_type": "stream",
     "text": [
      "C:\\Users\\User\\anaconda3\\envs\\eeg-workshop\\lib\\site-packages\\meeg_tools\\analysis_pipeline.py:136: FutureWarning: The frame.append method is deprecated and will be removed from pandas in a future version. Use pandas.concat instead.\n",
      "  metadata = metadata.append(data,\n",
      "[Parallel(n_jobs=12)]: Using backend LokyBackend with 12 concurrent workers.\n",
      "[Parallel(n_jobs=12)]: Done   6 tasks      | elapsed:    0.0s\n",
      "[Parallel(n_jobs=12)]: Done  64 out of  64 | elapsed:    0.0s finished\n"
     ]
    },
    {
     "name": "stdout",
     "output_type": "stream",
     "text": [
      "[FINISHED]\n",
      "Saving power at C:\\Users\\User\\Documents\\power\\power_asrt\\STIMULI-EPOCH\\100_R_Day1_R_2_power-tfr.h5 ...\n"
     ]
    },
    {
     "name": "stderr",
     "output_type": "stream",
     "text": [
      "C:\\Users\\User\\anaconda3\\envs\\eeg-workshop\\lib\\site-packages\\meeg_tools\\analysis_pipeline.py:136: FutureWarning: The frame.append method is deprecated and will be removed from pandas in a future version. Use pandas.concat instead.\n",
      "  metadata = metadata.append(data,\n",
      "[Parallel(n_jobs=12)]: Using backend LokyBackend with 12 concurrent workers.\n",
      "[Parallel(n_jobs=12)]: Done   6 tasks      | elapsed:    0.0s\n",
      "[Parallel(n_jobs=12)]: Done  64 out of  64 | elapsed:    0.1s finished\n"
     ]
    },
    {
     "name": "stdout",
     "output_type": "stream",
     "text": [
      "[FINISHED]\n",
      "Saving power at C:\\Users\\User\\Documents\\power\\power_asrt\\STIMULI-EPOCH\\100_R_Day1_R_3_power-tfr.h5 ...\n"
     ]
    },
    {
     "name": "stderr",
     "output_type": "stream",
     "text": [
      "C:\\Users\\User\\anaconda3\\envs\\eeg-workshop\\lib\\site-packages\\meeg_tools\\analysis_pipeline.py:136: FutureWarning: The frame.append method is deprecated and will be removed from pandas in a future version. Use pandas.concat instead.\n",
      "  metadata = metadata.append(data,\n",
      "[Parallel(n_jobs=12)]: Using backend LokyBackend with 12 concurrent workers.\n",
      "[Parallel(n_jobs=12)]: Done   6 tasks      | elapsed:    0.0s\n",
      "[Parallel(n_jobs=12)]: Done  64 out of  64 | elapsed:    0.0s finished\n"
     ]
    },
    {
     "name": "stdout",
     "output_type": "stream",
     "text": [
      "[FINISHED]\n",
      "Saving power at C:\\Users\\User\\Documents\\power\\power_asrt\\STIMULI-EPOCH\\100_R_Day1_R_4_power-tfr.h5 ...\n"
     ]
    },
    {
     "name": "stderr",
     "output_type": "stream",
     "text": [
      "C:\\Users\\User\\anaconda3\\envs\\eeg-workshop\\lib\\site-packages\\meeg_tools\\analysis_pipeline.py:136: FutureWarning: The frame.append method is deprecated and will be removed from pandas in a future version. Use pandas.concat instead.\n",
      "  metadata = metadata.append(data,\n",
      "[Parallel(n_jobs=12)]: Using backend LokyBackend with 12 concurrent workers.\n",
      "[Parallel(n_jobs=12)]: Done   6 tasks      | elapsed:    0.0s\n",
      "[Parallel(n_jobs=12)]: Done  64 out of  64 | elapsed:    0.0s finished\n"
     ]
    },
    {
     "name": "stdout",
     "output_type": "stream",
     "text": [
      "[FINISHED]\n",
      "Saving power at C:\\Users\\User\\Documents\\power\\power_asrt\\STIMULI-EPOCH\\100_R_Day1_R_5_power-tfr.h5 ...\n"
     ]
    },
    {
     "name": "stderr",
     "output_type": "stream",
     "text": [
      "C:\\Users\\User\\anaconda3\\envs\\eeg-workshop\\lib\\site-packages\\meeg_tools\\analysis_pipeline.py:136: FutureWarning: The frame.append method is deprecated and will be removed from pandas in a future version. Use pandas.concat instead.\n",
      "  metadata = metadata.append(data,\n",
      "[Parallel(n_jobs=12)]: Using backend LokyBackend with 12 concurrent workers.\n",
      "[Parallel(n_jobs=12)]: Done   6 tasks      | elapsed:    0.0s\n",
      "[Parallel(n_jobs=12)]: Done  64 out of  64 | elapsed:    0.0s finished\n"
     ]
    },
    {
     "name": "stdout",
     "output_type": "stream",
     "text": [
      "[FINISHED]\n"
     ]
    },
    {
     "name": "stderr",
     "output_type": "stream",
     "text": [
      "Processing 101_R_Day1_ICA_autoreject_ransac-epo.fif:   1%|▍                                                                         | 1/180 [00:17<53:07, 17.81s/it]"
     ]
    },
    {
     "name": "stdout",
     "output_type": "stream",
     "text": [
      "Loading data for 1192 events and 726 original time points ...\n",
      "Replacing existing metadata with 10 columns\n",
      "Replacing existing metadata with 10 columns\n",
      "Saving power at C:\\Users\\User\\Documents\\power\\power_asrt\\STIMULI-EPOCH\\101_R_Day1_P_1_power-tfr.h5 ...\n"
     ]
    },
    {
     "name": "stderr",
     "output_type": "stream",
     "text": [
      "C:\\Users\\User\\anaconda3\\envs\\eeg-workshop\\lib\\site-packages\\meeg_tools\\analysis_pipeline.py:136: FutureWarning: The frame.append method is deprecated and will be removed from pandas in a future version. Use pandas.concat instead.\n",
      "  metadata = metadata.append(data,\n",
      "[Parallel(n_jobs=12)]: Using backend LokyBackend with 12 concurrent workers.\n",
      "[Parallel(n_jobs=12)]: Done   6 tasks      | elapsed:    0.0s\n",
      "[Parallel(n_jobs=12)]: Done  64 out of  64 | elapsed:    0.1s finished\n"
     ]
    },
    {
     "name": "stdout",
     "output_type": "stream",
     "text": [
      "[FINISHED]\n",
      "Saving power at C:\\Users\\User\\Documents\\power\\power_asrt\\STIMULI-EPOCH\\101_R_Day1_P_2_power-tfr.h5 ...\n"
     ]
    },
    {
     "name": "stderr",
     "output_type": "stream",
     "text": [
      "C:\\Users\\User\\anaconda3\\envs\\eeg-workshop\\lib\\site-packages\\meeg_tools\\analysis_pipeline.py:136: FutureWarning: The frame.append method is deprecated and will be removed from pandas in a future version. Use pandas.concat instead.\n",
      "  metadata = metadata.append(data,\n",
      "[Parallel(n_jobs=12)]: Using backend LokyBackend with 12 concurrent workers.\n",
      "[Parallel(n_jobs=12)]: Done   6 tasks      | elapsed:    0.0s\n",
      "[Parallel(n_jobs=12)]: Done  64 out of  64 | elapsed:    0.0s finished\n"
     ]
    },
    {
     "name": "stdout",
     "output_type": "stream",
     "text": [
      "[FINISHED]\n",
      "Saving power at C:\\Users\\User\\Documents\\power\\power_asrt\\STIMULI-EPOCH\\101_R_Day1_P_3_power-tfr.h5 ...\n"
     ]
    },
    {
     "name": "stderr",
     "output_type": "stream",
     "text": [
      "C:\\Users\\User\\anaconda3\\envs\\eeg-workshop\\lib\\site-packages\\meeg_tools\\analysis_pipeline.py:136: FutureWarning: The frame.append method is deprecated and will be removed from pandas in a future version. Use pandas.concat instead.\n",
      "  metadata = metadata.append(data,\n",
      "[Parallel(n_jobs=12)]: Using backend LokyBackend with 12 concurrent workers.\n",
      "[Parallel(n_jobs=12)]: Done   6 tasks      | elapsed:    0.0s\n",
      "[Parallel(n_jobs=12)]: Done  64 out of  64 | elapsed:    0.0s finished\n"
     ]
    },
    {
     "name": "stdout",
     "output_type": "stream",
     "text": [
      "[FINISHED]\n",
      "Saving power at C:\\Users\\User\\Documents\\power\\power_asrt\\STIMULI-EPOCH\\101_R_Day1_P_4_power-tfr.h5 ...\n"
     ]
    },
    {
     "name": "stderr",
     "output_type": "stream",
     "text": [
      "C:\\Users\\User\\anaconda3\\envs\\eeg-workshop\\lib\\site-packages\\meeg_tools\\analysis_pipeline.py:136: FutureWarning: The frame.append method is deprecated and will be removed from pandas in a future version. Use pandas.concat instead.\n",
      "  metadata = metadata.append(data,\n",
      "[Parallel(n_jobs=12)]: Using backend LokyBackend with 12 concurrent workers.\n",
      "[Parallel(n_jobs=12)]: Done   6 tasks      | elapsed:    0.0s\n",
      "[Parallel(n_jobs=12)]: Done  64 out of  64 | elapsed:    0.0s finished\n"
     ]
    },
    {
     "name": "stdout",
     "output_type": "stream",
     "text": [
      "[FINISHED]\n",
      "Saving power at C:\\Users\\User\\Documents\\power\\power_asrt\\STIMULI-EPOCH\\101_R_Day1_P_5_power-tfr.h5 ...\n"
     ]
    },
    {
     "name": "stderr",
     "output_type": "stream",
     "text": [
      "C:\\Users\\User\\anaconda3\\envs\\eeg-workshop\\lib\\site-packages\\meeg_tools\\analysis_pipeline.py:136: FutureWarning: The frame.append method is deprecated and will be removed from pandas in a future version. Use pandas.concat instead.\n",
      "  metadata = metadata.append(data,\n",
      "[Parallel(n_jobs=12)]: Using backend LokyBackend with 12 concurrent workers.\n",
      "[Parallel(n_jobs=12)]: Done   6 tasks      | elapsed:    0.0s\n",
      "[Parallel(n_jobs=12)]: Done  64 out of  64 | elapsed:    0.0s finished\n"
     ]
    },
    {
     "name": "stdout",
     "output_type": "stream",
     "text": [
      "[FINISHED]\n",
      "Saving power at C:\\Users\\User\\Documents\\power\\power_asrt\\STIMULI-EPOCH\\101_R_Day1_R_1_power-tfr.h5 ...\n"
     ]
    },
    {
     "name": "stderr",
     "output_type": "stream",
     "text": [
      "C:\\Users\\User\\anaconda3\\envs\\eeg-workshop\\lib\\site-packages\\meeg_tools\\analysis_pipeline.py:136: FutureWarning: The frame.append method is deprecated and will be removed from pandas in a future version. Use pandas.concat instead.\n",
      "  metadata = metadata.append(data,\n",
      "[Parallel(n_jobs=12)]: Using backend LokyBackend with 12 concurrent workers.\n",
      "[Parallel(n_jobs=12)]: Done   6 tasks      | elapsed:    0.0s\n",
      "[Parallel(n_jobs=12)]: Done  64 out of  64 | elapsed:    0.0s finished\n"
     ]
    },
    {
     "name": "stdout",
     "output_type": "stream",
     "text": [
      "[FINISHED]\n",
      "Saving power at C:\\Users\\User\\Documents\\power\\power_asrt\\STIMULI-EPOCH\\101_R_Day1_R_2_power-tfr.h5 ...\n"
     ]
    },
    {
     "name": "stderr",
     "output_type": "stream",
     "text": [
      "C:\\Users\\User\\anaconda3\\envs\\eeg-workshop\\lib\\site-packages\\meeg_tools\\analysis_pipeline.py:136: FutureWarning: The frame.append method is deprecated and will be removed from pandas in a future version. Use pandas.concat instead.\n",
      "  metadata = metadata.append(data,\n",
      "[Parallel(n_jobs=12)]: Using backend LokyBackend with 12 concurrent workers.\n",
      "[Parallel(n_jobs=12)]: Done   6 tasks      | elapsed:    0.0s\n",
      "[Parallel(n_jobs=12)]: Done  64 out of  64 | elapsed:    0.0s finished\n"
     ]
    },
    {
     "name": "stdout",
     "output_type": "stream",
     "text": [
      "[FINISHED]\n",
      "Saving power at C:\\Users\\User\\Documents\\power\\power_asrt\\STIMULI-EPOCH\\101_R_Day1_R_3_power-tfr.h5 ...\n"
     ]
    },
    {
     "name": "stderr",
     "output_type": "stream",
     "text": [
      "C:\\Users\\User\\anaconda3\\envs\\eeg-workshop\\lib\\site-packages\\meeg_tools\\analysis_pipeline.py:136: FutureWarning: The frame.append method is deprecated and will be removed from pandas in a future version. Use pandas.concat instead.\n",
      "  metadata = metadata.append(data,\n",
      "[Parallel(n_jobs=12)]: Using backend LokyBackend with 12 concurrent workers.\n",
      "[Parallel(n_jobs=12)]: Done   6 tasks      | elapsed:    0.0s\n",
      "[Parallel(n_jobs=12)]: Done  64 out of  64 | elapsed:    0.1s finished\n"
     ]
    },
    {
     "name": "stdout",
     "output_type": "stream",
     "text": [
      "[FINISHED]\n",
      "Saving power at C:\\Users\\User\\Documents\\power\\power_asrt\\STIMULI-EPOCH\\101_R_Day1_R_4_power-tfr.h5 ...\n"
     ]
    },
    {
     "name": "stderr",
     "output_type": "stream",
     "text": [
      "C:\\Users\\User\\anaconda3\\envs\\eeg-workshop\\lib\\site-packages\\meeg_tools\\analysis_pipeline.py:136: FutureWarning: The frame.append method is deprecated and will be removed from pandas in a future version. Use pandas.concat instead.\n",
      "  metadata = metadata.append(data,\n",
      "[Parallel(n_jobs=12)]: Using backend LokyBackend with 12 concurrent workers.\n",
      "[Parallel(n_jobs=12)]: Done   6 tasks      | elapsed:    0.0s\n",
      "[Parallel(n_jobs=12)]: Done  64 out of  64 | elapsed:    0.0s finished\n"
     ]
    },
    {
     "name": "stdout",
     "output_type": "stream",
     "text": [
      "[FINISHED]\n",
      "Saving power at C:\\Users\\User\\Documents\\power\\power_asrt\\STIMULI-EPOCH\\101_R_Day1_R_5_power-tfr.h5 ...\n"
     ]
    },
    {
     "name": "stderr",
     "output_type": "stream",
     "text": [
      "C:\\Users\\User\\anaconda3\\envs\\eeg-workshop\\lib\\site-packages\\meeg_tools\\analysis_pipeline.py:136: FutureWarning: The frame.append method is deprecated and will be removed from pandas in a future version. Use pandas.concat instead.\n",
      "  metadata = metadata.append(data,\n",
      "[Parallel(n_jobs=12)]: Using backend LokyBackend with 12 concurrent workers.\n",
      "[Parallel(n_jobs=12)]: Done   6 tasks      | elapsed:    0.0s\n",
      "[Parallel(n_jobs=12)]: Done  64 out of  64 | elapsed:    0.0s finished\n"
     ]
    },
    {
     "name": "stdout",
     "output_type": "stream",
     "text": [
      "[FINISHED]\n"
     ]
    },
    {
     "name": "stderr",
     "output_type": "stream",
     "text": [
      "Processing 102_R_Day1_ICA_autoreject_ransac-epo.fif:   1%|▊                                                                         | 2/180 [00:31<46:10, 15.56s/it]"
     ]
    },
    {
     "name": "stdout",
     "output_type": "stream",
     "text": [
      "Loading data for 1631 events and 726 original time points ...\n",
      "Replacing existing metadata with 10 columns\n",
      "Replacing existing metadata with 10 columns\n",
      "Saving power at C:\\Users\\User\\Documents\\power\\power_asrt\\STIMULI-EPOCH\\102_R_Day1_P_1_power-tfr.h5 ...\n"
     ]
    },
    {
     "name": "stderr",
     "output_type": "stream",
     "text": [
      "C:\\Users\\User\\anaconda3\\envs\\eeg-workshop\\lib\\site-packages\\meeg_tools\\analysis_pipeline.py:136: FutureWarning: The frame.append method is deprecated and will be removed from pandas in a future version. Use pandas.concat instead.\n",
      "  metadata = metadata.append(data,\n",
      "[Parallel(n_jobs=12)]: Using backend LokyBackend with 12 concurrent workers.\n",
      "[Parallel(n_jobs=12)]: Done   6 tasks      | elapsed:    0.0s\n",
      "[Parallel(n_jobs=12)]: Done  64 out of  64 | elapsed:    0.0s finished\n"
     ]
    },
    {
     "name": "stdout",
     "output_type": "stream",
     "text": [
      "[FINISHED]\n",
      "Saving power at C:\\Users\\User\\Documents\\power\\power_asrt\\STIMULI-EPOCH\\102_R_Day1_P_2_power-tfr.h5 ...\n"
     ]
    },
    {
     "name": "stderr",
     "output_type": "stream",
     "text": [
      "C:\\Users\\User\\anaconda3\\envs\\eeg-workshop\\lib\\site-packages\\meeg_tools\\analysis_pipeline.py:136: FutureWarning: The frame.append method is deprecated and will be removed from pandas in a future version. Use pandas.concat instead.\n",
      "  metadata = metadata.append(data,\n",
      "[Parallel(n_jobs=12)]: Using backend LokyBackend with 12 concurrent workers.\n",
      "[Parallel(n_jobs=12)]: Done   6 tasks      | elapsed:    0.0s\n",
      "[Parallel(n_jobs=12)]: Done  64 out of  64 | elapsed:    0.0s finished\n"
     ]
    },
    {
     "name": "stdout",
     "output_type": "stream",
     "text": [
      "[FINISHED]\n",
      "Saving power at C:\\Users\\User\\Documents\\power\\power_asrt\\STIMULI-EPOCH\\102_R_Day1_P_3_power-tfr.h5 ...\n"
     ]
    },
    {
     "name": "stderr",
     "output_type": "stream",
     "text": [
      "C:\\Users\\User\\anaconda3\\envs\\eeg-workshop\\lib\\site-packages\\meeg_tools\\analysis_pipeline.py:136: FutureWarning: The frame.append method is deprecated and will be removed from pandas in a future version. Use pandas.concat instead.\n",
      "  metadata = metadata.append(data,\n",
      "[Parallel(n_jobs=12)]: Using backend LokyBackend with 12 concurrent workers.\n",
      "[Parallel(n_jobs=12)]: Done   6 tasks      | elapsed:    0.0s\n",
      "[Parallel(n_jobs=12)]: Done  64 out of  64 | elapsed:    0.0s finished\n"
     ]
    },
    {
     "name": "stdout",
     "output_type": "stream",
     "text": [
      "[FINISHED]\n",
      "Saving power at C:\\Users\\User\\Documents\\power\\power_asrt\\STIMULI-EPOCH\\102_R_Day1_P_4_power-tfr.h5 ...\n"
     ]
    },
    {
     "name": "stderr",
     "output_type": "stream",
     "text": [
      "C:\\Users\\User\\anaconda3\\envs\\eeg-workshop\\lib\\site-packages\\meeg_tools\\analysis_pipeline.py:136: FutureWarning: The frame.append method is deprecated and will be removed from pandas in a future version. Use pandas.concat instead.\n",
      "  metadata = metadata.append(data,\n",
      "[Parallel(n_jobs=12)]: Using backend LokyBackend with 12 concurrent workers.\n",
      "[Parallel(n_jobs=12)]: Done   6 tasks      | elapsed:    0.0s\n",
      "[Parallel(n_jobs=12)]: Done  64 out of  64 | elapsed:    0.0s finished\n"
     ]
    },
    {
     "name": "stdout",
     "output_type": "stream",
     "text": [
      "[FINISHED]\n",
      "Saving power at C:\\Users\\User\\Documents\\power\\power_asrt\\STIMULI-EPOCH\\102_R_Day1_P_5_power-tfr.h5 ...\n"
     ]
    },
    {
     "name": "stderr",
     "output_type": "stream",
     "text": [
      "C:\\Users\\User\\anaconda3\\envs\\eeg-workshop\\lib\\site-packages\\meeg_tools\\analysis_pipeline.py:136: FutureWarning: The frame.append method is deprecated and will be removed from pandas in a future version. Use pandas.concat instead.\n",
      "  metadata = metadata.append(data,\n",
      "[Parallel(n_jobs=12)]: Using backend LokyBackend with 12 concurrent workers.\n",
      "[Parallel(n_jobs=12)]: Done   6 tasks      | elapsed:    0.0s\n",
      "[Parallel(n_jobs=12)]: Done  64 out of  64 | elapsed:    0.0s finished\n"
     ]
    },
    {
     "name": "stdout",
     "output_type": "stream",
     "text": [
      "[FINISHED]\n",
      "Saving power at C:\\Users\\User\\Documents\\power\\power_asrt\\STIMULI-EPOCH\\102_R_Day1_R_1_power-tfr.h5 ...\n"
     ]
    },
    {
     "name": "stderr",
     "output_type": "stream",
     "text": [
      "C:\\Users\\User\\anaconda3\\envs\\eeg-workshop\\lib\\site-packages\\meeg_tools\\analysis_pipeline.py:136: FutureWarning: The frame.append method is deprecated and will be removed from pandas in a future version. Use pandas.concat instead.\n",
      "  metadata = metadata.append(data,\n",
      "[Parallel(n_jobs=12)]: Using backend LokyBackend with 12 concurrent workers.\n",
      "[Parallel(n_jobs=12)]: Done   6 tasks      | elapsed:    0.0s\n",
      "[Parallel(n_jobs=12)]: Done  64 out of  64 | elapsed:    0.0s finished\n"
     ]
    },
    {
     "name": "stdout",
     "output_type": "stream",
     "text": [
      "[FINISHED]\n",
      "Saving power at C:\\Users\\User\\Documents\\power\\power_asrt\\STIMULI-EPOCH\\102_R_Day1_R_2_power-tfr.h5 ...\n"
     ]
    },
    {
     "name": "stderr",
     "output_type": "stream",
     "text": [
      "C:\\Users\\User\\anaconda3\\envs\\eeg-workshop\\lib\\site-packages\\meeg_tools\\analysis_pipeline.py:136: FutureWarning: The frame.append method is deprecated and will be removed from pandas in a future version. Use pandas.concat instead.\n",
      "  metadata = metadata.append(data,\n",
      "[Parallel(n_jobs=12)]: Using backend LokyBackend with 12 concurrent workers.\n",
      "[Parallel(n_jobs=12)]: Done   6 tasks      | elapsed:    0.0s\n",
      "[Parallel(n_jobs=12)]: Done  64 out of  64 | elapsed:    0.0s finished\n"
     ]
    },
    {
     "name": "stdout",
     "output_type": "stream",
     "text": [
      "[FINISHED]\n",
      "Saving power at C:\\Users\\User\\Documents\\power\\power_asrt\\STIMULI-EPOCH\\102_R_Day1_R_3_power-tfr.h5 ...\n"
     ]
    },
    {
     "name": "stderr",
     "output_type": "stream",
     "text": [
      "C:\\Users\\User\\anaconda3\\envs\\eeg-workshop\\lib\\site-packages\\meeg_tools\\analysis_pipeline.py:136: FutureWarning: The frame.append method is deprecated and will be removed from pandas in a future version. Use pandas.concat instead.\n",
      "  metadata = metadata.append(data,\n",
      "[Parallel(n_jobs=12)]: Using backend LokyBackend with 12 concurrent workers.\n",
      "[Parallel(n_jobs=12)]: Done   6 tasks      | elapsed:    0.0s\n",
      "[Parallel(n_jobs=12)]: Done  64 out of  64 | elapsed:    0.0s finished\n"
     ]
    },
    {
     "name": "stdout",
     "output_type": "stream",
     "text": [
      "[FINISHED]\n",
      "Saving power at C:\\Users\\User\\Documents\\power\\power_asrt\\STIMULI-EPOCH\\102_R_Day1_R_4_power-tfr.h5 ...\n"
     ]
    },
    {
     "name": "stderr",
     "output_type": "stream",
     "text": [
      "C:\\Users\\User\\anaconda3\\envs\\eeg-workshop\\lib\\site-packages\\meeg_tools\\analysis_pipeline.py:136: FutureWarning: The frame.append method is deprecated and will be removed from pandas in a future version. Use pandas.concat instead.\n",
      "  metadata = metadata.append(data,\n",
      "[Parallel(n_jobs=12)]: Using backend LokyBackend with 12 concurrent workers.\n",
      "[Parallel(n_jobs=12)]: Done   6 tasks      | elapsed:    0.0s\n",
      "[Parallel(n_jobs=12)]: Done  64 out of  64 | elapsed:    0.0s finished\n"
     ]
    },
    {
     "name": "stdout",
     "output_type": "stream",
     "text": [
      "[FINISHED]\n",
      "Saving power at C:\\Users\\User\\Documents\\power\\power_asrt\\STIMULI-EPOCH\\102_R_Day1_R_5_power-tfr.h5 ...\n"
     ]
    },
    {
     "name": "stderr",
     "output_type": "stream",
     "text": [
      "C:\\Users\\User\\anaconda3\\envs\\eeg-workshop\\lib\\site-packages\\meeg_tools\\analysis_pipeline.py:136: FutureWarning: The frame.append method is deprecated and will be removed from pandas in a future version. Use pandas.concat instead.\n",
      "  metadata = metadata.append(data,\n",
      "[Parallel(n_jobs=12)]: Using backend LokyBackend with 12 concurrent workers.\n",
      "[Parallel(n_jobs=12)]: Done   6 tasks      | elapsed:    0.0s\n",
      "[Parallel(n_jobs=12)]: Done  64 out of  64 | elapsed:    0.0s finished\n"
     ]
    },
    {
     "name": "stdout",
     "output_type": "stream",
     "text": [
      "[FINISHED]\n"
     ]
    },
    {
     "name": "stderr",
     "output_type": "stream",
     "text": [
      "Processing 103_R_Day1_ICA_autoreject_ransac-epo.fif:   2%|█▏                                                                        | 3/180 [00:48<47:42, 16.17s/it]"
     ]
    },
    {
     "name": "stdout",
     "output_type": "stream",
     "text": [
      "Loading data for 1563 events and 726 original time points ...\n",
      "Replacing existing metadata with 10 columns\n",
      "Replacing existing metadata with 10 columns\n",
      "Saving power at C:\\Users\\User\\Documents\\power\\power_asrt\\STIMULI-EPOCH\\103_R_Day1_P_1_power-tfr.h5 ...\n"
     ]
    },
    {
     "name": "stderr",
     "output_type": "stream",
     "text": [
      "C:\\Users\\User\\anaconda3\\envs\\eeg-workshop\\lib\\site-packages\\meeg_tools\\analysis_pipeline.py:136: FutureWarning: The frame.append method is deprecated and will be removed from pandas in a future version. Use pandas.concat instead.\n",
      "  metadata = metadata.append(data,\n",
      "[Parallel(n_jobs=12)]: Using backend LokyBackend with 12 concurrent workers.\n",
      "[Parallel(n_jobs=12)]: Done   6 tasks      | elapsed:    0.0s\n",
      "[Parallel(n_jobs=12)]: Done  64 out of  64 | elapsed:    0.0s finished\n"
     ]
    },
    {
     "name": "stdout",
     "output_type": "stream",
     "text": [
      "[FINISHED]\n",
      "Saving power at C:\\Users\\User\\Documents\\power\\power_asrt\\STIMULI-EPOCH\\103_R_Day1_P_2_power-tfr.h5 ...\n"
     ]
    },
    {
     "name": "stderr",
     "output_type": "stream",
     "text": [
      "C:\\Users\\User\\anaconda3\\envs\\eeg-workshop\\lib\\site-packages\\meeg_tools\\analysis_pipeline.py:136: FutureWarning: The frame.append method is deprecated and will be removed from pandas in a future version. Use pandas.concat instead.\n",
      "  metadata = metadata.append(data,\n",
      "[Parallel(n_jobs=12)]: Using backend LokyBackend with 12 concurrent workers.\n",
      "[Parallel(n_jobs=12)]: Done   6 tasks      | elapsed:    0.0s\n",
      "[Parallel(n_jobs=12)]: Done  64 out of  64 | elapsed:    0.0s finished\n"
     ]
    },
    {
     "name": "stdout",
     "output_type": "stream",
     "text": [
      "[FINISHED]\n",
      "Saving power at C:\\Users\\User\\Documents\\power\\power_asrt\\STIMULI-EPOCH\\103_R_Day1_P_3_power-tfr.h5 ...\n"
     ]
    },
    {
     "name": "stderr",
     "output_type": "stream",
     "text": [
      "C:\\Users\\User\\anaconda3\\envs\\eeg-workshop\\lib\\site-packages\\meeg_tools\\analysis_pipeline.py:136: FutureWarning: The frame.append method is deprecated and will be removed from pandas in a future version. Use pandas.concat instead.\n",
      "  metadata = metadata.append(data,\n",
      "[Parallel(n_jobs=12)]: Using backend LokyBackend with 12 concurrent workers.\n",
      "[Parallel(n_jobs=12)]: Done   6 tasks      | elapsed:    0.0s\n",
      "[Parallel(n_jobs=12)]: Done  64 out of  64 | elapsed:    0.0s finished\n"
     ]
    },
    {
     "name": "stdout",
     "output_type": "stream",
     "text": [
      "[FINISHED]\n",
      "Saving power at C:\\Users\\User\\Documents\\power\\power_asrt\\STIMULI-EPOCH\\103_R_Day1_P_4_power-tfr.h5 ...\n"
     ]
    },
    {
     "name": "stderr",
     "output_type": "stream",
     "text": [
      "C:\\Users\\User\\anaconda3\\envs\\eeg-workshop\\lib\\site-packages\\meeg_tools\\analysis_pipeline.py:136: FutureWarning: The frame.append method is deprecated and will be removed from pandas in a future version. Use pandas.concat instead.\n",
      "  metadata = metadata.append(data,\n",
      "[Parallel(n_jobs=12)]: Using backend LokyBackend with 12 concurrent workers.\n",
      "[Parallel(n_jobs=12)]: Done   6 tasks      | elapsed:    0.0s\n",
      "[Parallel(n_jobs=12)]: Done  64 out of  64 | elapsed:    0.0s finished\n"
     ]
    },
    {
     "name": "stdout",
     "output_type": "stream",
     "text": [
      "[FINISHED]\n",
      "Saving power at C:\\Users\\User\\Documents\\power\\power_asrt\\STIMULI-EPOCH\\103_R_Day1_P_5_power-tfr.h5 ...\n"
     ]
    },
    {
     "name": "stderr",
     "output_type": "stream",
     "text": [
      "C:\\Users\\User\\anaconda3\\envs\\eeg-workshop\\lib\\site-packages\\meeg_tools\\analysis_pipeline.py:136: FutureWarning: The frame.append method is deprecated and will be removed from pandas in a future version. Use pandas.concat instead.\n",
      "  metadata = metadata.append(data,\n",
      "[Parallel(n_jobs=12)]: Using backend LokyBackend with 12 concurrent workers.\n",
      "[Parallel(n_jobs=12)]: Done   6 tasks      | elapsed:    0.0s\n",
      "[Parallel(n_jobs=12)]: Done  64 out of  64 | elapsed:    0.0s finished\n"
     ]
    },
    {
     "name": "stdout",
     "output_type": "stream",
     "text": [
      "[FINISHED]\n",
      "Saving power at C:\\Users\\User\\Documents\\power\\power_asrt\\STIMULI-EPOCH\\103_R_Day1_R_1_power-tfr.h5 ...\n"
     ]
    },
    {
     "name": "stderr",
     "output_type": "stream",
     "text": [
      "C:\\Users\\User\\anaconda3\\envs\\eeg-workshop\\lib\\site-packages\\meeg_tools\\analysis_pipeline.py:136: FutureWarning: The frame.append method is deprecated and will be removed from pandas in a future version. Use pandas.concat instead.\n",
      "  metadata = metadata.append(data,\n",
      "[Parallel(n_jobs=12)]: Using backend LokyBackend with 12 concurrent workers.\n",
      "[Parallel(n_jobs=12)]: Done   6 tasks      | elapsed:    0.0s\n",
      "[Parallel(n_jobs=12)]: Done  64 out of  64 | elapsed:    0.0s finished\n"
     ]
    },
    {
     "name": "stdout",
     "output_type": "stream",
     "text": [
      "[FINISHED]\n",
      "Saving power at C:\\Users\\User\\Documents\\power\\power_asrt\\STIMULI-EPOCH\\103_R_Day1_R_2_power-tfr.h5 ...\n"
     ]
    },
    {
     "name": "stderr",
     "output_type": "stream",
     "text": [
      "C:\\Users\\User\\anaconda3\\envs\\eeg-workshop\\lib\\site-packages\\meeg_tools\\analysis_pipeline.py:136: FutureWarning: The frame.append method is deprecated and will be removed from pandas in a future version. Use pandas.concat instead.\n",
      "  metadata = metadata.append(data,\n",
      "[Parallel(n_jobs=12)]: Using backend LokyBackend with 12 concurrent workers.\n",
      "[Parallel(n_jobs=12)]: Done   6 tasks      | elapsed:    0.0s\n",
      "[Parallel(n_jobs=12)]: Done  64 out of  64 | elapsed:    0.0s finished\n"
     ]
    },
    {
     "name": "stdout",
     "output_type": "stream",
     "text": [
      "[FINISHED]\n",
      "Saving power at C:\\Users\\User\\Documents\\power\\power_asrt\\STIMULI-EPOCH\\103_R_Day1_R_3_power-tfr.h5 ...\n"
     ]
    },
    {
     "name": "stderr",
     "output_type": "stream",
     "text": [
      "C:\\Users\\User\\anaconda3\\envs\\eeg-workshop\\lib\\site-packages\\meeg_tools\\analysis_pipeline.py:136: FutureWarning: The frame.append method is deprecated and will be removed from pandas in a future version. Use pandas.concat instead.\n",
      "  metadata = metadata.append(data,\n",
      "[Parallel(n_jobs=12)]: Using backend LokyBackend with 12 concurrent workers.\n",
      "[Parallel(n_jobs=12)]: Done   6 tasks      | elapsed:    0.0s\n",
      "[Parallel(n_jobs=12)]: Done  64 out of  64 | elapsed:    0.0s finished\n"
     ]
    },
    {
     "name": "stdout",
     "output_type": "stream",
     "text": [
      "[FINISHED]\n",
      "Saving power at C:\\Users\\User\\Documents\\power\\power_asrt\\STIMULI-EPOCH\\103_R_Day1_R_4_power-tfr.h5 ...\n"
     ]
    },
    {
     "name": "stderr",
     "output_type": "stream",
     "text": [
      "C:\\Users\\User\\anaconda3\\envs\\eeg-workshop\\lib\\site-packages\\meeg_tools\\analysis_pipeline.py:136: FutureWarning: The frame.append method is deprecated and will be removed from pandas in a future version. Use pandas.concat instead.\n",
      "  metadata = metadata.append(data,\n",
      "[Parallel(n_jobs=12)]: Using backend LokyBackend with 12 concurrent workers.\n",
      "[Parallel(n_jobs=12)]: Done   6 tasks      | elapsed:    0.0s\n",
      "[Parallel(n_jobs=12)]: Done  64 out of  64 | elapsed:    0.0s finished\n"
     ]
    },
    {
     "name": "stdout",
     "output_type": "stream",
     "text": [
      "[FINISHED]\n",
      "Saving power at C:\\Users\\User\\Documents\\power\\power_asrt\\STIMULI-EPOCH\\103_R_Day1_R_5_power-tfr.h5 ...\n"
     ]
    },
    {
     "name": "stderr",
     "output_type": "stream",
     "text": [
      "C:\\Users\\User\\anaconda3\\envs\\eeg-workshop\\lib\\site-packages\\meeg_tools\\analysis_pipeline.py:136: FutureWarning: The frame.append method is deprecated and will be removed from pandas in a future version. Use pandas.concat instead.\n",
      "  metadata = metadata.append(data,\n",
      "[Parallel(n_jobs=12)]: Using backend LokyBackend with 12 concurrent workers.\n",
      "[Parallel(n_jobs=12)]: Done   6 tasks      | elapsed:    0.0s\n",
      "[Parallel(n_jobs=12)]: Done  64 out of  64 | elapsed:    0.0s finished\n"
     ]
    },
    {
     "name": "stdout",
     "output_type": "stream",
     "text": [
      "[FINISHED]\n"
     ]
    },
    {
     "name": "stderr",
     "output_type": "stream",
     "text": [
      "Processing 104_R_Day1_ICA_autoreject_ransac-epo.fif:   2%|█▋                                                                        | 4/180 [01:06<48:59, 16.70s/it]"
     ]
    },
    {
     "name": "stdout",
     "output_type": "stream",
     "text": [
      "Loading data for 1166 events and 726 original time points ...\n",
      "Replacing existing metadata with 10 columns\n",
      "Replacing existing metadata with 10 columns\n",
      "Saving power at C:\\Users\\User\\Documents\\power\\power_asrt\\STIMULI-EPOCH\\104_R_Day1_P_1_power-tfr.h5 ...\n"
     ]
    },
    {
     "name": "stderr",
     "output_type": "stream",
     "text": [
      "C:\\Users\\User\\anaconda3\\envs\\eeg-workshop\\lib\\site-packages\\meeg_tools\\analysis_pipeline.py:136: FutureWarning: The frame.append method is deprecated and will be removed from pandas in a future version. Use pandas.concat instead.\n",
      "  metadata = metadata.append(data,\n",
      "[Parallel(n_jobs=12)]: Using backend LokyBackend with 12 concurrent workers.\n",
      "[Parallel(n_jobs=12)]: Done   6 tasks      | elapsed:    0.0s\n",
      "[Parallel(n_jobs=12)]: Done  64 out of  64 | elapsed:    0.0s finished\n"
     ]
    },
    {
     "name": "stdout",
     "output_type": "stream",
     "text": [
      "[FINISHED]\n",
      "Saving power at C:\\Users\\User\\Documents\\power\\power_asrt\\STIMULI-EPOCH\\104_R_Day1_P_2_power-tfr.h5 ...\n"
     ]
    },
    {
     "name": "stderr",
     "output_type": "stream",
     "text": [
      "C:\\Users\\User\\anaconda3\\envs\\eeg-workshop\\lib\\site-packages\\meeg_tools\\analysis_pipeline.py:136: FutureWarning: The frame.append method is deprecated and will be removed from pandas in a future version. Use pandas.concat instead.\n",
      "  metadata = metadata.append(data,\n",
      "[Parallel(n_jobs=12)]: Using backend LokyBackend with 12 concurrent workers.\n",
      "[Parallel(n_jobs=12)]: Done   6 tasks      | elapsed:    0.0s\n",
      "[Parallel(n_jobs=12)]: Done  64 out of  64 | elapsed:    0.1s finished\n"
     ]
    },
    {
     "name": "stdout",
     "output_type": "stream",
     "text": [
      "[FINISHED]\n",
      "Saving power at C:\\Users\\User\\Documents\\power\\power_asrt\\STIMULI-EPOCH\\104_R_Day1_P_3_power-tfr.h5 ...\n"
     ]
    },
    {
     "name": "stderr",
     "output_type": "stream",
     "text": [
      "C:\\Users\\User\\anaconda3\\envs\\eeg-workshop\\lib\\site-packages\\meeg_tools\\analysis_pipeline.py:136: FutureWarning: The frame.append method is deprecated and will be removed from pandas in a future version. Use pandas.concat instead.\n",
      "  metadata = metadata.append(data,\n",
      "[Parallel(n_jobs=12)]: Using backend LokyBackend with 12 concurrent workers.\n",
      "[Parallel(n_jobs=12)]: Done   6 tasks      | elapsed:    0.0s\n",
      "[Parallel(n_jobs=12)]: Done  64 out of  64 | elapsed:    0.0s finished\n"
     ]
    },
    {
     "name": "stdout",
     "output_type": "stream",
     "text": [
      "[FINISHED]\n",
      "Saving power at C:\\Users\\User\\Documents\\power\\power_asrt\\STIMULI-EPOCH\\104_R_Day1_P_4_power-tfr.h5 ...\n"
     ]
    },
    {
     "name": "stderr",
     "output_type": "stream",
     "text": [
      "C:\\Users\\User\\anaconda3\\envs\\eeg-workshop\\lib\\site-packages\\meeg_tools\\analysis_pipeline.py:136: FutureWarning: The frame.append method is deprecated and will be removed from pandas in a future version. Use pandas.concat instead.\n",
      "  metadata = metadata.append(data,\n",
      "[Parallel(n_jobs=12)]: Using backend LokyBackend with 12 concurrent workers.\n",
      "[Parallel(n_jobs=12)]: Done   6 tasks      | elapsed:    0.0s\n",
      "[Parallel(n_jobs=12)]: Done  64 out of  64 | elapsed:    0.0s finished\n"
     ]
    },
    {
     "name": "stdout",
     "output_type": "stream",
     "text": [
      "[FINISHED]\n",
      "Saving power at C:\\Users\\User\\Documents\\power\\power_asrt\\STIMULI-EPOCH\\104_R_Day1_P_5_power-tfr.h5 ...\n"
     ]
    },
    {
     "name": "stderr",
     "output_type": "stream",
     "text": [
      "C:\\Users\\User\\anaconda3\\envs\\eeg-workshop\\lib\\site-packages\\meeg_tools\\analysis_pipeline.py:136: FutureWarning: The frame.append method is deprecated and will be removed from pandas in a future version. Use pandas.concat instead.\n",
      "  metadata = metadata.append(data,\n",
      "[Parallel(n_jobs=12)]: Using backend LokyBackend with 12 concurrent workers.\n",
      "[Parallel(n_jobs=12)]: Done   6 tasks      | elapsed:    0.0s\n",
      "[Parallel(n_jobs=12)]: Done  64 out of  64 | elapsed:    0.1s finished\n"
     ]
    },
    {
     "name": "stdout",
     "output_type": "stream",
     "text": [
      "[FINISHED]\n",
      "Saving power at C:\\Users\\User\\Documents\\power\\power_asrt\\STIMULI-EPOCH\\104_R_Day1_R_1_power-tfr.h5 ...\n"
     ]
    },
    {
     "name": "stderr",
     "output_type": "stream",
     "text": [
      "C:\\Users\\User\\anaconda3\\envs\\eeg-workshop\\lib\\site-packages\\meeg_tools\\analysis_pipeline.py:136: FutureWarning: The frame.append method is deprecated and will be removed from pandas in a future version. Use pandas.concat instead.\n",
      "  metadata = metadata.append(data,\n",
      "[Parallel(n_jobs=12)]: Using backend LokyBackend with 12 concurrent workers.\n",
      "[Parallel(n_jobs=12)]: Done   6 tasks      | elapsed:    0.0s\n",
      "[Parallel(n_jobs=12)]: Done  64 out of  64 | elapsed:    0.0s finished\n"
     ]
    },
    {
     "name": "stdout",
     "output_type": "stream",
     "text": [
      "[FINISHED]\n",
      "Saving power at C:\\Users\\User\\Documents\\power\\power_asrt\\STIMULI-EPOCH\\104_R_Day1_R_2_power-tfr.h5 ...\n"
     ]
    },
    {
     "name": "stderr",
     "output_type": "stream",
     "text": [
      "C:\\Users\\User\\anaconda3\\envs\\eeg-workshop\\lib\\site-packages\\meeg_tools\\analysis_pipeline.py:136: FutureWarning: The frame.append method is deprecated and will be removed from pandas in a future version. Use pandas.concat instead.\n",
      "  metadata = metadata.append(data,\n",
      "[Parallel(n_jobs=12)]: Using backend LokyBackend with 12 concurrent workers.\n",
      "[Parallel(n_jobs=12)]: Done   6 tasks      | elapsed:    0.0s\n",
      "[Parallel(n_jobs=12)]: Done  64 out of  64 | elapsed:    0.0s finished\n"
     ]
    },
    {
     "name": "stdout",
     "output_type": "stream",
     "text": [
      "[FINISHED]\n",
      "Saving power at C:\\Users\\User\\Documents\\power\\power_asrt\\STIMULI-EPOCH\\104_R_Day1_R_3_power-tfr.h5 ...\n"
     ]
    },
    {
     "name": "stderr",
     "output_type": "stream",
     "text": [
      "C:\\Users\\User\\anaconda3\\envs\\eeg-workshop\\lib\\site-packages\\meeg_tools\\analysis_pipeline.py:136: FutureWarning: The frame.append method is deprecated and will be removed from pandas in a future version. Use pandas.concat instead.\n",
      "  metadata = metadata.append(data,\n",
      "[Parallel(n_jobs=12)]: Using backend LokyBackend with 12 concurrent workers.\n",
      "[Parallel(n_jobs=12)]: Done   6 tasks      | elapsed:    0.0s\n",
      "[Parallel(n_jobs=12)]: Done  64 out of  64 | elapsed:    0.0s finished\n"
     ]
    },
    {
     "name": "stdout",
     "output_type": "stream",
     "text": [
      "[FINISHED]\n",
      "Saving power at C:\\Users\\User\\Documents\\power\\power_asrt\\STIMULI-EPOCH\\104_R_Day1_R_4_power-tfr.h5 ...\n"
     ]
    },
    {
     "name": "stderr",
     "output_type": "stream",
     "text": [
      "C:\\Users\\User\\anaconda3\\envs\\eeg-workshop\\lib\\site-packages\\meeg_tools\\analysis_pipeline.py:136: FutureWarning: The frame.append method is deprecated and will be removed from pandas in a future version. Use pandas.concat instead.\n",
      "  metadata = metadata.append(data,\n",
      "[Parallel(n_jobs=12)]: Using backend LokyBackend with 12 concurrent workers.\n",
      "[Parallel(n_jobs=12)]: Done   6 tasks      | elapsed:    0.0s\n",
      "[Parallel(n_jobs=12)]: Done  64 out of  64 | elapsed:    0.0s finished\n"
     ]
    },
    {
     "name": "stdout",
     "output_type": "stream",
     "text": [
      "[FINISHED]\n",
      "Saving power at C:\\Users\\User\\Documents\\power\\power_asrt\\STIMULI-EPOCH\\104_R_Day1_R_5_power-tfr.h5 ...\n"
     ]
    },
    {
     "name": "stderr",
     "output_type": "stream",
     "text": [
      "C:\\Users\\User\\anaconda3\\envs\\eeg-workshop\\lib\\site-packages\\meeg_tools\\analysis_pipeline.py:136: FutureWarning: The frame.append method is deprecated and will be removed from pandas in a future version. Use pandas.concat instead.\n",
      "  metadata = metadata.append(data,\n",
      "[Parallel(n_jobs=12)]: Using backend LokyBackend with 12 concurrent workers.\n",
      "[Parallel(n_jobs=12)]: Done   6 tasks      | elapsed:    0.0s\n",
      "[Parallel(n_jobs=12)]: Done  64 out of  64 | elapsed:    0.0s finished\n"
     ]
    },
    {
     "name": "stdout",
     "output_type": "stream",
     "text": [
      "[FINISHED]\n"
     ]
    },
    {
     "name": "stderr",
     "output_type": "stream",
     "text": [
      "Processing 105_R_Day1_ICA_autoreject_ransac-epo.fif:   3%|██                                                                        | 5/180 [01:20<45:41, 15.66s/it]"
     ]
    },
    {
     "name": "stdout",
     "output_type": "stream",
     "text": [
      "Loading data for 1170 events and 726 original time points ...\n",
      "Replacing existing metadata with 10 columns\n",
      "Replacing existing metadata with 10 columns\n",
      "Saving power at C:\\Users\\User\\Documents\\power\\power_asrt\\STIMULI-EPOCH\\105_R_Day1_P_1_power-tfr.h5 ...\n"
     ]
    },
    {
     "name": "stderr",
     "output_type": "stream",
     "text": [
      "C:\\Users\\User\\anaconda3\\envs\\eeg-workshop\\lib\\site-packages\\meeg_tools\\analysis_pipeline.py:136: FutureWarning: The frame.append method is deprecated and will be removed from pandas in a future version. Use pandas.concat instead.\n",
      "  metadata = metadata.append(data,\n",
      "[Parallel(n_jobs=12)]: Using backend LokyBackend with 12 concurrent workers.\n",
      "[Parallel(n_jobs=12)]: Done   6 tasks      | elapsed:    0.0s\n",
      "[Parallel(n_jobs=12)]: Done  64 out of  64 | elapsed:    0.0s finished\n"
     ]
    },
    {
     "name": "stdout",
     "output_type": "stream",
     "text": [
      "[FINISHED]\n",
      "Saving power at C:\\Users\\User\\Documents\\power\\power_asrt\\STIMULI-EPOCH\\105_R_Day1_P_2_power-tfr.h5 ...\n"
     ]
    },
    {
     "name": "stderr",
     "output_type": "stream",
     "text": [
      "C:\\Users\\User\\anaconda3\\envs\\eeg-workshop\\lib\\site-packages\\meeg_tools\\analysis_pipeline.py:136: FutureWarning: The frame.append method is deprecated and will be removed from pandas in a future version. Use pandas.concat instead.\n",
      "  metadata = metadata.append(data,\n",
      "[Parallel(n_jobs=12)]: Using backend LokyBackend with 12 concurrent workers.\n",
      "[Parallel(n_jobs=12)]: Done   6 tasks      | elapsed:    0.0s\n",
      "[Parallel(n_jobs=12)]: Done  64 out of  64 | elapsed:    0.0s finished\n"
     ]
    },
    {
     "name": "stdout",
     "output_type": "stream",
     "text": [
      "[FINISHED]\n",
      "Saving power at C:\\Users\\User\\Documents\\power\\power_asrt\\STIMULI-EPOCH\\105_R_Day1_P_3_power-tfr.h5 ...\n"
     ]
    },
    {
     "name": "stderr",
     "output_type": "stream",
     "text": [
      "C:\\Users\\User\\anaconda3\\envs\\eeg-workshop\\lib\\site-packages\\meeg_tools\\analysis_pipeline.py:136: FutureWarning: The frame.append method is deprecated and will be removed from pandas in a future version. Use pandas.concat instead.\n",
      "  metadata = metadata.append(data,\n",
      "[Parallel(n_jobs=12)]: Using backend LokyBackend with 12 concurrent workers.\n",
      "[Parallel(n_jobs=12)]: Done   6 tasks      | elapsed:    0.0s\n",
      "[Parallel(n_jobs=12)]: Done  64 out of  64 | elapsed:    0.0s finished\n"
     ]
    },
    {
     "name": "stdout",
     "output_type": "stream",
     "text": [
      "[FINISHED]\n"
     ]
    },
    {
     "name": "stderr",
     "output_type": "stream",
     "text": [
      "C:\\Users\\User\\anaconda3\\envs\\eeg-workshop\\lib\\site-packages\\meeg_tools\\analysis_pipeline.py:136: FutureWarning: The frame.append method is deprecated and will be removed from pandas in a future version. Use pandas.concat instead.\n",
      "  metadata = metadata.append(data,\n",
      "[Parallel(n_jobs=12)]: Using backend LokyBackend with 12 concurrent workers.\n",
      "[Parallel(n_jobs=12)]: Done   6 tasks      | elapsed:    0.0s\n",
      "[Parallel(n_jobs=12)]: Done  64 out of  64 | elapsed:    0.1s finished\n"
     ]
    },
    {
     "name": "stdout",
     "output_type": "stream",
     "text": [
      "Saving power at C:\\Users\\User\\Documents\\power\\power_asrt\\STIMULI-EPOCH\\105_R_Day1_P_4_power-tfr.h5 ...\n",
      "[FINISHED]\n",
      "Saving power at C:\\Users\\User\\Documents\\power\\power_asrt\\STIMULI-EPOCH\\105_R_Day1_P_5_power-tfr.h5 ...\n"
     ]
    },
    {
     "name": "stderr",
     "output_type": "stream",
     "text": [
      "C:\\Users\\User\\anaconda3\\envs\\eeg-workshop\\lib\\site-packages\\meeg_tools\\analysis_pipeline.py:136: FutureWarning: The frame.append method is deprecated and will be removed from pandas in a future version. Use pandas.concat instead.\n",
      "  metadata = metadata.append(data,\n",
      "[Parallel(n_jobs=12)]: Using backend LokyBackend with 12 concurrent workers.\n",
      "[Parallel(n_jobs=12)]: Done   6 tasks      | elapsed:    0.0s\n",
      "[Parallel(n_jobs=12)]: Done  64 out of  64 | elapsed:    0.0s finished\n"
     ]
    },
    {
     "name": "stdout",
     "output_type": "stream",
     "text": [
      "[FINISHED]\n",
      "Saving power at C:\\Users\\User\\Documents\\power\\power_asrt\\STIMULI-EPOCH\\105_R_Day1_R_1_power-tfr.h5 ...\n"
     ]
    },
    {
     "name": "stderr",
     "output_type": "stream",
     "text": [
      "C:\\Users\\User\\anaconda3\\envs\\eeg-workshop\\lib\\site-packages\\meeg_tools\\analysis_pipeline.py:136: FutureWarning: The frame.append method is deprecated and will be removed from pandas in a future version. Use pandas.concat instead.\n",
      "  metadata = metadata.append(data,\n",
      "[Parallel(n_jobs=12)]: Using backend LokyBackend with 12 concurrent workers.\n",
      "[Parallel(n_jobs=12)]: Done   6 tasks      | elapsed:    0.0s\n",
      "[Parallel(n_jobs=12)]: Done  64 out of  64 | elapsed:    0.0s finished\n"
     ]
    },
    {
     "name": "stdout",
     "output_type": "stream",
     "text": [
      "[FINISHED]\n",
      "Saving power at C:\\Users\\User\\Documents\\power\\power_asrt\\STIMULI-EPOCH\\105_R_Day1_R_2_power-tfr.h5 ...\n"
     ]
    },
    {
     "name": "stderr",
     "output_type": "stream",
     "text": [
      "C:\\Users\\User\\anaconda3\\envs\\eeg-workshop\\lib\\site-packages\\meeg_tools\\analysis_pipeline.py:136: FutureWarning: The frame.append method is deprecated and will be removed from pandas in a future version. Use pandas.concat instead.\n",
      "  metadata = metadata.append(data,\n",
      "[Parallel(n_jobs=12)]: Using backend LokyBackend with 12 concurrent workers.\n",
      "[Parallel(n_jobs=12)]: Done   6 tasks      | elapsed:    0.0s\n",
      "[Parallel(n_jobs=12)]: Done  64 out of  64 | elapsed:    0.0s finished\n"
     ]
    },
    {
     "name": "stdout",
     "output_type": "stream",
     "text": [
      "[FINISHED]\n",
      "Saving power at C:\\Users\\User\\Documents\\power\\power_asrt\\STIMULI-EPOCH\\105_R_Day1_R_3_power-tfr.h5 ...\n"
     ]
    },
    {
     "name": "stderr",
     "output_type": "stream",
     "text": [
      "C:\\Users\\User\\anaconda3\\envs\\eeg-workshop\\lib\\site-packages\\meeg_tools\\analysis_pipeline.py:136: FutureWarning: The frame.append method is deprecated and will be removed from pandas in a future version. Use pandas.concat instead.\n",
      "  metadata = metadata.append(data,\n",
      "[Parallel(n_jobs=12)]: Using backend LokyBackend with 12 concurrent workers.\n",
      "[Parallel(n_jobs=12)]: Done   6 tasks      | elapsed:    0.0s\n",
      "[Parallel(n_jobs=12)]: Done  64 out of  64 | elapsed:    0.0s finished\n"
     ]
    },
    {
     "name": "stdout",
     "output_type": "stream",
     "text": [
      "[FINISHED]\n",
      "Saving power at C:\\Users\\User\\Documents\\power\\power_asrt\\STIMULI-EPOCH\\105_R_Day1_R_4_power-tfr.h5 ...\n"
     ]
    },
    {
     "name": "stderr",
     "output_type": "stream",
     "text": [
      "C:\\Users\\User\\anaconda3\\envs\\eeg-workshop\\lib\\site-packages\\meeg_tools\\analysis_pipeline.py:136: FutureWarning: The frame.append method is deprecated and will be removed from pandas in a future version. Use pandas.concat instead.\n",
      "  metadata = metadata.append(data,\n",
      "[Parallel(n_jobs=12)]: Using backend LokyBackend with 12 concurrent workers.\n",
      "[Parallel(n_jobs=12)]: Done   6 tasks      | elapsed:    0.0s\n",
      "[Parallel(n_jobs=12)]: Done  64 out of  64 | elapsed:    0.0s finished\n"
     ]
    },
    {
     "name": "stdout",
     "output_type": "stream",
     "text": [
      "[FINISHED]\n",
      "Saving power at C:\\Users\\User\\Documents\\power\\power_asrt\\STIMULI-EPOCH\\105_R_Day1_R_5_power-tfr.h5 ...\n"
     ]
    },
    {
     "name": "stderr",
     "output_type": "stream",
     "text": [
      "C:\\Users\\User\\anaconda3\\envs\\eeg-workshop\\lib\\site-packages\\meeg_tools\\analysis_pipeline.py:136: FutureWarning: The frame.append method is deprecated and will be removed from pandas in a future version. Use pandas.concat instead.\n",
      "  metadata = metadata.append(data,\n",
      "[Parallel(n_jobs=12)]: Using backend LokyBackend with 12 concurrent workers.\n",
      "[Parallel(n_jobs=12)]: Done   6 tasks      | elapsed:    0.0s\n",
      "[Parallel(n_jobs=12)]: Done  64 out of  64 | elapsed:    0.0s finished\n"
     ]
    },
    {
     "name": "stdout",
     "output_type": "stream",
     "text": [
      "[FINISHED]\n"
     ]
    },
    {
     "name": "stderr",
     "output_type": "stream",
     "text": [
      "Processing 106_R_Day1_ICA_autoreject_ransac-epo.fif:   3%|██▍                                                                       | 6/180 [01:34<43:46, 15.10s/it]"
     ]
    },
    {
     "name": "stdout",
     "output_type": "stream",
     "text": [
      "Loading data for 1343 events and 726 original time points ...\n",
      "Replacing existing metadata with 10 columns\n",
      "Replacing existing metadata with 10 columns\n",
      "Saving power at C:\\Users\\User\\Documents\\power\\power_asrt\\STIMULI-EPOCH\\106_R_Day1_P_1_power-tfr.h5 ...\n"
     ]
    },
    {
     "name": "stderr",
     "output_type": "stream",
     "text": [
      "C:\\Users\\User\\anaconda3\\envs\\eeg-workshop\\lib\\site-packages\\meeg_tools\\analysis_pipeline.py:136: FutureWarning: The frame.append method is deprecated and will be removed from pandas in a future version. Use pandas.concat instead.\n",
      "  metadata = metadata.append(data,\n",
      "[Parallel(n_jobs=12)]: Using backend LokyBackend with 12 concurrent workers.\n",
      "[Parallel(n_jobs=12)]: Done   6 tasks      | elapsed:    0.0s\n",
      "[Parallel(n_jobs=12)]: Done  64 out of  64 | elapsed:    0.0s finished\n"
     ]
    },
    {
     "name": "stdout",
     "output_type": "stream",
     "text": [
      "[FINISHED]\n",
      "Saving power at C:\\Users\\User\\Documents\\power\\power_asrt\\STIMULI-EPOCH\\106_R_Day1_P_2_power-tfr.h5 ...\n"
     ]
    },
    {
     "name": "stderr",
     "output_type": "stream",
     "text": [
      "C:\\Users\\User\\anaconda3\\envs\\eeg-workshop\\lib\\site-packages\\meeg_tools\\analysis_pipeline.py:136: FutureWarning: The frame.append method is deprecated and will be removed from pandas in a future version. Use pandas.concat instead.\n",
      "  metadata = metadata.append(data,\n",
      "[Parallel(n_jobs=12)]: Using backend LokyBackend with 12 concurrent workers.\n",
      "[Parallel(n_jobs=12)]: Done   6 tasks      | elapsed:    0.0s\n",
      "[Parallel(n_jobs=12)]: Done  64 out of  64 | elapsed:    0.0s finished\n"
     ]
    },
    {
     "name": "stdout",
     "output_type": "stream",
     "text": [
      "[FINISHED]\n",
      "Saving power at C:\\Users\\User\\Documents\\power\\power_asrt\\STIMULI-EPOCH\\106_R_Day1_P_3_power-tfr.h5 ...\n"
     ]
    },
    {
     "name": "stderr",
     "output_type": "stream",
     "text": [
      "C:\\Users\\User\\anaconda3\\envs\\eeg-workshop\\lib\\site-packages\\meeg_tools\\analysis_pipeline.py:136: FutureWarning: The frame.append method is deprecated and will be removed from pandas in a future version. Use pandas.concat instead.\n",
      "  metadata = metadata.append(data,\n",
      "[Parallel(n_jobs=12)]: Using backend LokyBackend with 12 concurrent workers.\n",
      "[Parallel(n_jobs=12)]: Done   6 tasks      | elapsed:    0.0s\n",
      "[Parallel(n_jobs=12)]: Done  64 out of  64 | elapsed:    0.0s finished\n"
     ]
    },
    {
     "name": "stdout",
     "output_type": "stream",
     "text": [
      "[FINISHED]\n",
      "Saving power at C:\\Users\\User\\Documents\\power\\power_asrt\\STIMULI-EPOCH\\106_R_Day1_P_4_power-tfr.h5 ...\n"
     ]
    },
    {
     "name": "stderr",
     "output_type": "stream",
     "text": [
      "C:\\Users\\User\\anaconda3\\envs\\eeg-workshop\\lib\\site-packages\\meeg_tools\\analysis_pipeline.py:136: FutureWarning: The frame.append method is deprecated and will be removed from pandas in a future version. Use pandas.concat instead.\n",
      "  metadata = metadata.append(data,\n",
      "[Parallel(n_jobs=12)]: Using backend LokyBackend with 12 concurrent workers.\n",
      "[Parallel(n_jobs=12)]: Done   6 tasks      | elapsed:    0.0s\n",
      "[Parallel(n_jobs=12)]: Done  64 out of  64 | elapsed:    0.0s finished\n"
     ]
    },
    {
     "name": "stdout",
     "output_type": "stream",
     "text": [
      "[FINISHED]\n",
      "Saving power at C:\\Users\\User\\Documents\\power\\power_asrt\\STIMULI-EPOCH\\106_R_Day1_P_5_power-tfr.h5 ...\n"
     ]
    },
    {
     "name": "stderr",
     "output_type": "stream",
     "text": [
      "C:\\Users\\User\\anaconda3\\envs\\eeg-workshop\\lib\\site-packages\\meeg_tools\\analysis_pipeline.py:136: FutureWarning: The frame.append method is deprecated and will be removed from pandas in a future version. Use pandas.concat instead.\n",
      "  metadata = metadata.append(data,\n",
      "[Parallel(n_jobs=12)]: Using backend LokyBackend with 12 concurrent workers.\n",
      "[Parallel(n_jobs=12)]: Done   6 tasks      | elapsed:    0.0s\n",
      "[Parallel(n_jobs=12)]: Done  64 out of  64 | elapsed:    0.0s finished\n"
     ]
    },
    {
     "name": "stdout",
     "output_type": "stream",
     "text": [
      "[FINISHED]\n",
      "Saving power at C:\\Users\\User\\Documents\\power\\power_asrt\\STIMULI-EPOCH\\106_R_Day1_R_1_power-tfr.h5 ...\n"
     ]
    },
    {
     "name": "stderr",
     "output_type": "stream",
     "text": [
      "C:\\Users\\User\\anaconda3\\envs\\eeg-workshop\\lib\\site-packages\\meeg_tools\\analysis_pipeline.py:136: FutureWarning: The frame.append method is deprecated and will be removed from pandas in a future version. Use pandas.concat instead.\n",
      "  metadata = metadata.append(data,\n",
      "[Parallel(n_jobs=12)]: Using backend LokyBackend with 12 concurrent workers.\n",
      "[Parallel(n_jobs=12)]: Done   6 tasks      | elapsed:    0.0s\n",
      "[Parallel(n_jobs=12)]: Done  64 out of  64 | elapsed:    0.0s finished\n"
     ]
    },
    {
     "name": "stdout",
     "output_type": "stream",
     "text": [
      "[FINISHED]\n",
      "Saving power at C:\\Users\\User\\Documents\\power\\power_asrt\\STIMULI-EPOCH\\106_R_Day1_R_2_power-tfr.h5 ...\n"
     ]
    },
    {
     "name": "stderr",
     "output_type": "stream",
     "text": [
      "C:\\Users\\User\\anaconda3\\envs\\eeg-workshop\\lib\\site-packages\\meeg_tools\\analysis_pipeline.py:136: FutureWarning: The frame.append method is deprecated and will be removed from pandas in a future version. Use pandas.concat instead.\n",
      "  metadata = metadata.append(data,\n",
      "[Parallel(n_jobs=12)]: Using backend LokyBackend with 12 concurrent workers.\n",
      "[Parallel(n_jobs=12)]: Done   6 tasks      | elapsed:    0.0s\n",
      "[Parallel(n_jobs=12)]: Done  64 out of  64 | elapsed:    0.0s finished\n"
     ]
    },
    {
     "name": "stdout",
     "output_type": "stream",
     "text": [
      "[FINISHED]\n",
      "Saving power at C:\\Users\\User\\Documents\\power\\power_asrt\\STIMULI-EPOCH\\106_R_Day1_R_3_power-tfr.h5 ...\n"
     ]
    },
    {
     "name": "stderr",
     "output_type": "stream",
     "text": [
      "C:\\Users\\User\\anaconda3\\envs\\eeg-workshop\\lib\\site-packages\\meeg_tools\\analysis_pipeline.py:136: FutureWarning: The frame.append method is deprecated and will be removed from pandas in a future version. Use pandas.concat instead.\n",
      "  metadata = metadata.append(data,\n",
      "[Parallel(n_jobs=12)]: Using backend LokyBackend with 12 concurrent workers.\n",
      "[Parallel(n_jobs=12)]: Done   6 tasks      | elapsed:    0.0s\n",
      "[Parallel(n_jobs=12)]: Done  64 out of  64 | elapsed:    0.0s finished\n"
     ]
    },
    {
     "name": "stdout",
     "output_type": "stream",
     "text": [
      "[FINISHED]\n",
      "Saving power at C:\\Users\\User\\Documents\\power\\power_asrt\\STIMULI-EPOCH\\106_R_Day1_R_4_power-tfr.h5 ...\n"
     ]
    },
    {
     "name": "stderr",
     "output_type": "stream",
     "text": [
      "C:\\Users\\User\\anaconda3\\envs\\eeg-workshop\\lib\\site-packages\\meeg_tools\\analysis_pipeline.py:136: FutureWarning: The frame.append method is deprecated and will be removed from pandas in a future version. Use pandas.concat instead.\n",
      "  metadata = metadata.append(data,\n",
      "[Parallel(n_jobs=12)]: Using backend LokyBackend with 12 concurrent workers.\n",
      "[Parallel(n_jobs=12)]: Done   6 tasks      | elapsed:    0.0s\n",
      "[Parallel(n_jobs=12)]: Done  64 out of  64 | elapsed:    0.0s finished\n"
     ]
    },
    {
     "name": "stdout",
     "output_type": "stream",
     "text": [
      "[FINISHED]\n",
      "Saving power at C:\\Users\\User\\Documents\\power\\power_asrt\\STIMULI-EPOCH\\106_R_Day1_R_5_power-tfr.h5 ...\n"
     ]
    },
    {
     "name": "stderr",
     "output_type": "stream",
     "text": [
      "C:\\Users\\User\\anaconda3\\envs\\eeg-workshop\\lib\\site-packages\\meeg_tools\\analysis_pipeline.py:136: FutureWarning: The frame.append method is deprecated and will be removed from pandas in a future version. Use pandas.concat instead.\n",
      "  metadata = metadata.append(data,\n",
      "[Parallel(n_jobs=12)]: Using backend LokyBackend with 12 concurrent workers.\n",
      "[Parallel(n_jobs=12)]: Done   6 tasks      | elapsed:    0.0s\n",
      "[Parallel(n_jobs=12)]: Done  64 out of  64 | elapsed:    0.0s finished\n"
     ]
    },
    {
     "name": "stdout",
     "output_type": "stream",
     "text": [
      "[FINISHED]\n"
     ]
    },
    {
     "name": "stderr",
     "output_type": "stream",
     "text": [
      "Processing 107_L_Day1_ICA_autoreject_ransac-epo.fif:   4%|██▉                                                                       | 7/180 [01:49<43:42, 15.16s/it]"
     ]
    },
    {
     "name": "stdout",
     "output_type": "stream",
     "text": [
      "Loading data for 1416 events and 726 original time points ...\n",
      "Replacing existing metadata with 10 columns\n",
      "Replacing existing metadata with 10 columns\n",
      "Saving power at C:\\Users\\User\\Documents\\power\\power_asrt\\STIMULI-EPOCH\\107_L_Day1_P_1_power-tfr.h5 ...\n"
     ]
    },
    {
     "name": "stderr",
     "output_type": "stream",
     "text": [
      "C:\\Users\\User\\anaconda3\\envs\\eeg-workshop\\lib\\site-packages\\meeg_tools\\analysis_pipeline.py:136: FutureWarning: The frame.append method is deprecated and will be removed from pandas in a future version. Use pandas.concat instead.\n",
      "  metadata = metadata.append(data,\n",
      "[Parallel(n_jobs=12)]: Using backend LokyBackend with 12 concurrent workers.\n",
      "[Parallel(n_jobs=12)]: Done   6 tasks      | elapsed:    0.0s\n",
      "[Parallel(n_jobs=12)]: Done  64 out of  64 | elapsed:    0.0s finished\n"
     ]
    },
    {
     "name": "stdout",
     "output_type": "stream",
     "text": [
      "[FINISHED]\n",
      "Saving power at C:\\Users\\User\\Documents\\power\\power_asrt\\STIMULI-EPOCH\\107_L_Day1_P_2_power-tfr.h5 ...\n"
     ]
    },
    {
     "name": "stderr",
     "output_type": "stream",
     "text": [
      "C:\\Users\\User\\anaconda3\\envs\\eeg-workshop\\lib\\site-packages\\meeg_tools\\analysis_pipeline.py:136: FutureWarning: The frame.append method is deprecated and will be removed from pandas in a future version. Use pandas.concat instead.\n",
      "  metadata = metadata.append(data,\n",
      "[Parallel(n_jobs=12)]: Using backend LokyBackend with 12 concurrent workers.\n",
      "[Parallel(n_jobs=12)]: Done   6 tasks      | elapsed:    0.0s\n",
      "[Parallel(n_jobs=12)]: Done  64 out of  64 | elapsed:    0.0s finished\n"
     ]
    },
    {
     "name": "stdout",
     "output_type": "stream",
     "text": [
      "[FINISHED]\n",
      "Saving power at C:\\Users\\User\\Documents\\power\\power_asrt\\STIMULI-EPOCH\\107_L_Day1_P_3_power-tfr.h5 ...\n"
     ]
    },
    {
     "name": "stderr",
     "output_type": "stream",
     "text": [
      "C:\\Users\\User\\anaconda3\\envs\\eeg-workshop\\lib\\site-packages\\meeg_tools\\analysis_pipeline.py:136: FutureWarning: The frame.append method is deprecated and will be removed from pandas in a future version. Use pandas.concat instead.\n",
      "  metadata = metadata.append(data,\n",
      "[Parallel(n_jobs=12)]: Using backend LokyBackend with 12 concurrent workers.\n",
      "[Parallel(n_jobs=12)]: Done   6 tasks      | elapsed:    0.0s\n",
      "[Parallel(n_jobs=12)]: Done  64 out of  64 | elapsed:    0.0s finished\n"
     ]
    },
    {
     "name": "stdout",
     "output_type": "stream",
     "text": [
      "[FINISHED]\n",
      "Saving power at C:\\Users\\User\\Documents\\power\\power_asrt\\STIMULI-EPOCH\\107_L_Day1_P_4_power-tfr.h5 ...\n"
     ]
    },
    {
     "name": "stderr",
     "output_type": "stream",
     "text": [
      "C:\\Users\\User\\anaconda3\\envs\\eeg-workshop\\lib\\site-packages\\meeg_tools\\analysis_pipeline.py:136: FutureWarning: The frame.append method is deprecated and will be removed from pandas in a future version. Use pandas.concat instead.\n",
      "  metadata = metadata.append(data,\n",
      "[Parallel(n_jobs=12)]: Using backend LokyBackend with 12 concurrent workers.\n",
      "[Parallel(n_jobs=12)]: Done   6 tasks      | elapsed:    0.0s\n",
      "[Parallel(n_jobs=12)]: Done  64 out of  64 | elapsed:    0.0s finished\n"
     ]
    },
    {
     "name": "stdout",
     "output_type": "stream",
     "text": [
      "[FINISHED]\n",
      "Saving power at C:\\Users\\User\\Documents\\power\\power_asrt\\STIMULI-EPOCH\\107_L_Day1_P_5_power-tfr.h5 ...\n"
     ]
    },
    {
     "name": "stderr",
     "output_type": "stream",
     "text": [
      "C:\\Users\\User\\anaconda3\\envs\\eeg-workshop\\lib\\site-packages\\meeg_tools\\analysis_pipeline.py:136: FutureWarning: The frame.append method is deprecated and will be removed from pandas in a future version. Use pandas.concat instead.\n",
      "  metadata = metadata.append(data,\n",
      "[Parallel(n_jobs=12)]: Using backend LokyBackend with 12 concurrent workers.\n",
      "[Parallel(n_jobs=12)]: Done   6 tasks      | elapsed:    0.0s\n",
      "[Parallel(n_jobs=12)]: Done  64 out of  64 | elapsed:    0.0s finished\n"
     ]
    },
    {
     "name": "stdout",
     "output_type": "stream",
     "text": [
      "[FINISHED]\n",
      "Saving power at C:\\Users\\User\\Documents\\power\\power_asrt\\STIMULI-EPOCH\\107_L_Day1_R_1_power-tfr.h5 ...\n"
     ]
    },
    {
     "name": "stderr",
     "output_type": "stream",
     "text": [
      "C:\\Users\\User\\anaconda3\\envs\\eeg-workshop\\lib\\site-packages\\meeg_tools\\analysis_pipeline.py:136: FutureWarning: The frame.append method is deprecated and will be removed from pandas in a future version. Use pandas.concat instead.\n",
      "  metadata = metadata.append(data,\n",
      "[Parallel(n_jobs=12)]: Using backend LokyBackend with 12 concurrent workers.\n",
      "[Parallel(n_jobs=12)]: Done   6 tasks      | elapsed:    0.0s\n",
      "[Parallel(n_jobs=12)]: Done  64 out of  64 | elapsed:    0.0s finished\n"
     ]
    },
    {
     "name": "stdout",
     "output_type": "stream",
     "text": [
      "[FINISHED]\n",
      "Saving power at C:\\Users\\User\\Documents\\power\\power_asrt\\STIMULI-EPOCH\\107_L_Day1_R_2_power-tfr.h5 ...\n"
     ]
    },
    {
     "name": "stderr",
     "output_type": "stream",
     "text": [
      "C:\\Users\\User\\anaconda3\\envs\\eeg-workshop\\lib\\site-packages\\meeg_tools\\analysis_pipeline.py:136: FutureWarning: The frame.append method is deprecated and will be removed from pandas in a future version. Use pandas.concat instead.\n",
      "  metadata = metadata.append(data,\n",
      "[Parallel(n_jobs=12)]: Using backend LokyBackend with 12 concurrent workers.\n",
      "[Parallel(n_jobs=12)]: Done   6 tasks      | elapsed:    0.0s\n",
      "[Parallel(n_jobs=12)]: Done  64 out of  64 | elapsed:    0.0s finished\n"
     ]
    },
    {
     "name": "stdout",
     "output_type": "stream",
     "text": [
      "[FINISHED]\n",
      "Saving power at C:\\Users\\User\\Documents\\power\\power_asrt\\STIMULI-EPOCH\\107_L_Day1_R_3_power-tfr.h5 ...\n"
     ]
    },
    {
     "name": "stderr",
     "output_type": "stream",
     "text": [
      "C:\\Users\\User\\anaconda3\\envs\\eeg-workshop\\lib\\site-packages\\meeg_tools\\analysis_pipeline.py:136: FutureWarning: The frame.append method is deprecated and will be removed from pandas in a future version. Use pandas.concat instead.\n",
      "  metadata = metadata.append(data,\n",
      "[Parallel(n_jobs=12)]: Using backend LokyBackend with 12 concurrent workers.\n",
      "[Parallel(n_jobs=12)]: Done   6 tasks      | elapsed:    0.0s\n",
      "[Parallel(n_jobs=12)]: Done  64 out of  64 | elapsed:    0.0s finished\n"
     ]
    },
    {
     "name": "stdout",
     "output_type": "stream",
     "text": [
      "[FINISHED]\n",
      "Saving power at C:\\Users\\User\\Documents\\power\\power_asrt\\STIMULI-EPOCH\\107_L_Day1_R_4_power-tfr.h5 ...\n"
     ]
    },
    {
     "name": "stderr",
     "output_type": "stream",
     "text": [
      "C:\\Users\\User\\anaconda3\\envs\\eeg-workshop\\lib\\site-packages\\meeg_tools\\analysis_pipeline.py:136: FutureWarning: The frame.append method is deprecated and will be removed from pandas in a future version. Use pandas.concat instead.\n",
      "  metadata = metadata.append(data,\n",
      "[Parallel(n_jobs=12)]: Using backend LokyBackend with 12 concurrent workers.\n",
      "[Parallel(n_jobs=12)]: Done   6 tasks      | elapsed:    0.0s\n",
      "[Parallel(n_jobs=12)]: Done  64 out of  64 | elapsed:    0.0s finished\n"
     ]
    },
    {
     "name": "stdout",
     "output_type": "stream",
     "text": [
      "[FINISHED]\n",
      "Saving power at C:\\Users\\User\\Documents\\power\\power_asrt\\STIMULI-EPOCH\\107_L_Day1_R_5_power-tfr.h5 ...\n"
     ]
    },
    {
     "name": "stderr",
     "output_type": "stream",
     "text": [
      "C:\\Users\\User\\anaconda3\\envs\\eeg-workshop\\lib\\site-packages\\meeg_tools\\analysis_pipeline.py:136: FutureWarning: The frame.append method is deprecated and will be removed from pandas in a future version. Use pandas.concat instead.\n",
      "  metadata = metadata.append(data,\n",
      "[Parallel(n_jobs=12)]: Using backend LokyBackend with 12 concurrent workers.\n",
      "[Parallel(n_jobs=12)]: Done   6 tasks      | elapsed:    0.0s\n",
      "[Parallel(n_jobs=12)]: Done  64 out of  64 | elapsed:    0.0s finished\n"
     ]
    },
    {
     "name": "stdout",
     "output_type": "stream",
     "text": [
      "[FINISHED]\n"
     ]
    },
    {
     "name": "stderr",
     "output_type": "stream",
     "text": [
      "Processing 108_L_Day1_ICA_autoreject_ransac-epo.fif:   4%|███▎                                                                      | 8/180 [02:06<44:53, 15.66s/it]"
     ]
    },
    {
     "name": "stdout",
     "output_type": "stream",
     "text": [
      "Loading data for 1415 events and 726 original time points ...\n",
      "Replacing existing metadata with 10 columns\n",
      "Replacing existing metadata with 10 columns\n",
      "Saving power at C:\\Users\\User\\Documents\\power\\power_asrt\\STIMULI-EPOCH\\108_L_Day1_P_1_power-tfr.h5 ...\n"
     ]
    },
    {
     "name": "stderr",
     "output_type": "stream",
     "text": [
      "C:\\Users\\User\\anaconda3\\envs\\eeg-workshop\\lib\\site-packages\\meeg_tools\\analysis_pipeline.py:136: FutureWarning: The frame.append method is deprecated and will be removed from pandas in a future version. Use pandas.concat instead.\n",
      "  metadata = metadata.append(data,\n",
      "[Parallel(n_jobs=12)]: Using backend LokyBackend with 12 concurrent workers.\n",
      "[Parallel(n_jobs=12)]: Done   6 tasks      | elapsed:    0.0s\n",
      "[Parallel(n_jobs=12)]: Done  64 out of  64 | elapsed:    0.0s finished\n"
     ]
    },
    {
     "name": "stdout",
     "output_type": "stream",
     "text": [
      "[FINISHED]\n",
      "Saving power at C:\\Users\\User\\Documents\\power\\power_asrt\\STIMULI-EPOCH\\108_L_Day1_P_2_power-tfr.h5 ...\n"
     ]
    },
    {
     "name": "stderr",
     "output_type": "stream",
     "text": [
      "C:\\Users\\User\\anaconda3\\envs\\eeg-workshop\\lib\\site-packages\\meeg_tools\\analysis_pipeline.py:136: FutureWarning: The frame.append method is deprecated and will be removed from pandas in a future version. Use pandas.concat instead.\n",
      "  metadata = metadata.append(data,\n",
      "[Parallel(n_jobs=12)]: Using backend LokyBackend with 12 concurrent workers.\n",
      "[Parallel(n_jobs=12)]: Done   6 tasks      | elapsed:    0.0s\n",
      "[Parallel(n_jobs=12)]: Done  64 out of  64 | elapsed:    0.0s finished\n"
     ]
    },
    {
     "name": "stdout",
     "output_type": "stream",
     "text": [
      "[FINISHED]\n",
      "Saving power at C:\\Users\\User\\Documents\\power\\power_asrt\\STIMULI-EPOCH\\108_L_Day1_P_3_power-tfr.h5 ...\n"
     ]
    },
    {
     "name": "stderr",
     "output_type": "stream",
     "text": [
      "C:\\Users\\User\\anaconda3\\envs\\eeg-workshop\\lib\\site-packages\\meeg_tools\\analysis_pipeline.py:136: FutureWarning: The frame.append method is deprecated and will be removed from pandas in a future version. Use pandas.concat instead.\n",
      "  metadata = metadata.append(data,\n",
      "[Parallel(n_jobs=12)]: Using backend LokyBackend with 12 concurrent workers.\n",
      "[Parallel(n_jobs=12)]: Done   6 tasks      | elapsed:    0.0s\n",
      "[Parallel(n_jobs=12)]: Done  64 out of  64 | elapsed:    0.0s finished\n"
     ]
    },
    {
     "name": "stdout",
     "output_type": "stream",
     "text": [
      "[FINISHED]\n",
      "Saving power at C:\\Users\\User\\Documents\\power\\power_asrt\\STIMULI-EPOCH\\108_L_Day1_P_4_power-tfr.h5 ...\n"
     ]
    },
    {
     "name": "stderr",
     "output_type": "stream",
     "text": [
      "C:\\Users\\User\\anaconda3\\envs\\eeg-workshop\\lib\\site-packages\\meeg_tools\\analysis_pipeline.py:136: FutureWarning: The frame.append method is deprecated and will be removed from pandas in a future version. Use pandas.concat instead.\n",
      "  metadata = metadata.append(data,\n",
      "[Parallel(n_jobs=12)]: Using backend LokyBackend with 12 concurrent workers.\n",
      "[Parallel(n_jobs=12)]: Done   6 tasks      | elapsed:    0.0s\n",
      "[Parallel(n_jobs=12)]: Done  64 out of  64 | elapsed:    0.0s finished\n"
     ]
    },
    {
     "name": "stdout",
     "output_type": "stream",
     "text": [
      "[FINISHED]\n"
     ]
    },
    {
     "name": "stderr",
     "output_type": "stream",
     "text": [
      "C:\\Users\\User\\anaconda3\\envs\\eeg-workshop\\lib\\site-packages\\meeg_tools\\analysis_pipeline.py:136: FutureWarning: The frame.append method is deprecated and will be removed from pandas in a future version. Use pandas.concat instead.\n",
      "  metadata = metadata.append(data,\n",
      "[Parallel(n_jobs=12)]: Using backend LokyBackend with 12 concurrent workers.\n",
      "[Parallel(n_jobs=12)]: Done   6 tasks      | elapsed:    0.0s\n"
     ]
    },
    {
     "name": "stdout",
     "output_type": "stream",
     "text": [
      "Saving power at C:\\Users\\User\\Documents\\power\\power_asrt\\STIMULI-EPOCH\\108_L_Day1_P_5_power-tfr.h5 ...\n"
     ]
    },
    {
     "name": "stderr",
     "output_type": "stream",
     "text": [
      "[Parallel(n_jobs=12)]: Done  64 out of  64 | elapsed:    0.1s finished\n"
     ]
    },
    {
     "name": "stdout",
     "output_type": "stream",
     "text": [
      "[FINISHED]\n",
      "Saving power at C:\\Users\\User\\Documents\\power\\power_asrt\\STIMULI-EPOCH\\108_L_Day1_R_1_power-tfr.h5 ...\n"
     ]
    },
    {
     "name": "stderr",
     "output_type": "stream",
     "text": [
      "C:\\Users\\User\\anaconda3\\envs\\eeg-workshop\\lib\\site-packages\\meeg_tools\\analysis_pipeline.py:136: FutureWarning: The frame.append method is deprecated and will be removed from pandas in a future version. Use pandas.concat instead.\n",
      "  metadata = metadata.append(data,\n",
      "[Parallel(n_jobs=12)]: Using backend LokyBackend with 12 concurrent workers.\n",
      "[Parallel(n_jobs=12)]: Done   6 tasks      | elapsed:    0.0s\n",
      "[Parallel(n_jobs=12)]: Done  64 out of  64 | elapsed:    0.0s finished\n"
     ]
    },
    {
     "name": "stdout",
     "output_type": "stream",
     "text": [
      "[FINISHED]\n",
      "Saving power at C:\\Users\\User\\Documents\\power\\power_asrt\\STIMULI-EPOCH\\108_L_Day1_R_2_power-tfr.h5 ...\n"
     ]
    },
    {
     "name": "stderr",
     "output_type": "stream",
     "text": [
      "C:\\Users\\User\\anaconda3\\envs\\eeg-workshop\\lib\\site-packages\\meeg_tools\\analysis_pipeline.py:136: FutureWarning: The frame.append method is deprecated and will be removed from pandas in a future version. Use pandas.concat instead.\n",
      "  metadata = metadata.append(data,\n",
      "[Parallel(n_jobs=12)]: Using backend LokyBackend with 12 concurrent workers.\n",
      "[Parallel(n_jobs=12)]: Done   6 tasks      | elapsed:    0.0s\n",
      "[Parallel(n_jobs=12)]: Done  64 out of  64 | elapsed:    0.0s finished\n"
     ]
    },
    {
     "name": "stdout",
     "output_type": "stream",
     "text": [
      "[FINISHED]\n",
      "Saving power at C:\\Users\\User\\Documents\\power\\power_asrt\\STIMULI-EPOCH\\108_L_Day1_R_3_power-tfr.h5 ...\n"
     ]
    },
    {
     "name": "stderr",
     "output_type": "stream",
     "text": [
      "C:\\Users\\User\\anaconda3\\envs\\eeg-workshop\\lib\\site-packages\\meeg_tools\\analysis_pipeline.py:136: FutureWarning: The frame.append method is deprecated and will be removed from pandas in a future version. Use pandas.concat instead.\n",
      "  metadata = metadata.append(data,\n",
      "[Parallel(n_jobs=12)]: Using backend LokyBackend with 12 concurrent workers.\n",
      "[Parallel(n_jobs=12)]: Done   6 tasks      | elapsed:    0.0s\n",
      "[Parallel(n_jobs=12)]: Done  64 out of  64 | elapsed:    0.1s finished\n"
     ]
    },
    {
     "name": "stdout",
     "output_type": "stream",
     "text": [
      "[FINISHED]\n",
      "Saving power at C:\\Users\\User\\Documents\\power\\power_asrt\\STIMULI-EPOCH\\108_L_Day1_R_4_power-tfr.h5 ...\n"
     ]
    },
    {
     "name": "stderr",
     "output_type": "stream",
     "text": [
      "C:\\Users\\User\\anaconda3\\envs\\eeg-workshop\\lib\\site-packages\\meeg_tools\\analysis_pipeline.py:136: FutureWarning: The frame.append method is deprecated and will be removed from pandas in a future version. Use pandas.concat instead.\n",
      "  metadata = metadata.append(data,\n",
      "[Parallel(n_jobs=12)]: Using backend LokyBackend with 12 concurrent workers.\n",
      "[Parallel(n_jobs=12)]: Done   6 tasks      | elapsed:    0.0s\n",
      "[Parallel(n_jobs=12)]: Done  64 out of  64 | elapsed:    0.0s finished\n"
     ]
    },
    {
     "name": "stdout",
     "output_type": "stream",
     "text": [
      "[FINISHED]\n",
      "Saving power at C:\\Users\\User\\Documents\\power\\power_asrt\\STIMULI-EPOCH\\108_L_Day1_R_5_power-tfr.h5 ...\n"
     ]
    },
    {
     "name": "stderr",
     "output_type": "stream",
     "text": [
      "C:\\Users\\User\\anaconda3\\envs\\eeg-workshop\\lib\\site-packages\\meeg_tools\\analysis_pipeline.py:136: FutureWarning: The frame.append method is deprecated and will be removed from pandas in a future version. Use pandas.concat instead.\n",
      "  metadata = metadata.append(data,\n",
      "[Parallel(n_jobs=12)]: Using backend LokyBackend with 12 concurrent workers.\n",
      "[Parallel(n_jobs=12)]: Done   6 tasks      | elapsed:    0.0s\n",
      "[Parallel(n_jobs=12)]: Done  64 out of  64 | elapsed:    0.0s finished\n"
     ]
    },
    {
     "name": "stdout",
     "output_type": "stream",
     "text": [
      "[FINISHED]\n"
     ]
    },
    {
     "name": "stderr",
     "output_type": "stream",
     "text": [
      "Processing 109_R_Day1_ICA_autoreject_ransac-epo.fif:   5%|███▋                                                                      | 9/180 [02:23<46:03, 16.16s/it]"
     ]
    },
    {
     "name": "stdout",
     "output_type": "stream",
     "text": [
      "Loading data for 1473 events and 726 original time points ...\n",
      "Replacing existing metadata with 10 columns\n",
      "Replacing existing metadata with 10 columns\n",
      "Saving power at C:\\Users\\User\\Documents\\power\\power_asrt\\STIMULI-EPOCH\\109_R_Day1_P_1_power-tfr.h5 ...\n"
     ]
    },
    {
     "name": "stderr",
     "output_type": "stream",
     "text": [
      "C:\\Users\\User\\anaconda3\\envs\\eeg-workshop\\lib\\site-packages\\meeg_tools\\analysis_pipeline.py:136: FutureWarning: The frame.append method is deprecated and will be removed from pandas in a future version. Use pandas.concat instead.\n",
      "  metadata = metadata.append(data,\n",
      "[Parallel(n_jobs=12)]: Using backend LokyBackend with 12 concurrent workers.\n",
      "[Parallel(n_jobs=12)]: Done   6 tasks      | elapsed:    0.0s\n",
      "[Parallel(n_jobs=12)]: Done  64 out of  64 | elapsed:    0.0s finished\n"
     ]
    },
    {
     "name": "stdout",
     "output_type": "stream",
     "text": [
      "[FINISHED]\n",
      "Saving power at C:\\Users\\User\\Documents\\power\\power_asrt\\STIMULI-EPOCH\\109_R_Day1_P_2_power-tfr.h5 ...\n"
     ]
    },
    {
     "name": "stderr",
     "output_type": "stream",
     "text": [
      "C:\\Users\\User\\anaconda3\\envs\\eeg-workshop\\lib\\site-packages\\meeg_tools\\analysis_pipeline.py:136: FutureWarning: The frame.append method is deprecated and will be removed from pandas in a future version. Use pandas.concat instead.\n",
      "  metadata = metadata.append(data,\n",
      "[Parallel(n_jobs=12)]: Using backend LokyBackend with 12 concurrent workers.\n",
      "[Parallel(n_jobs=12)]: Done   6 tasks      | elapsed:    0.0s\n",
      "[Parallel(n_jobs=12)]: Done  64 out of  64 | elapsed:    0.0s finished\n"
     ]
    },
    {
     "name": "stdout",
     "output_type": "stream",
     "text": [
      "[FINISHED]\n",
      "Saving power at C:\\Users\\User\\Documents\\power\\power_asrt\\STIMULI-EPOCH\\109_R_Day1_P_3_power-tfr.h5 ...\n"
     ]
    },
    {
     "name": "stderr",
     "output_type": "stream",
     "text": [
      "C:\\Users\\User\\anaconda3\\envs\\eeg-workshop\\lib\\site-packages\\meeg_tools\\analysis_pipeline.py:136: FutureWarning: The frame.append method is deprecated and will be removed from pandas in a future version. Use pandas.concat instead.\n",
      "  metadata = metadata.append(data,\n",
      "[Parallel(n_jobs=12)]: Using backend LokyBackend with 12 concurrent workers.\n",
      "[Parallel(n_jobs=12)]: Done   6 tasks      | elapsed:    0.0s\n",
      "[Parallel(n_jobs=12)]: Done  64 out of  64 | elapsed:    0.0s finished\n"
     ]
    },
    {
     "name": "stdout",
     "output_type": "stream",
     "text": [
      "[FINISHED]\n",
      "Saving power at C:\\Users\\User\\Documents\\power\\power_asrt\\STIMULI-EPOCH\\109_R_Day1_P_4_power-tfr.h5 ...\n"
     ]
    },
    {
     "name": "stderr",
     "output_type": "stream",
     "text": [
      "C:\\Users\\User\\anaconda3\\envs\\eeg-workshop\\lib\\site-packages\\meeg_tools\\analysis_pipeline.py:136: FutureWarning: The frame.append method is deprecated and will be removed from pandas in a future version. Use pandas.concat instead.\n",
      "  metadata = metadata.append(data,\n",
      "[Parallel(n_jobs=12)]: Using backend LokyBackend with 12 concurrent workers.\n",
      "[Parallel(n_jobs=12)]: Done   6 tasks      | elapsed:    0.0s\n",
      "[Parallel(n_jobs=12)]: Done  64 out of  64 | elapsed:    0.0s finished\n"
     ]
    },
    {
     "name": "stdout",
     "output_type": "stream",
     "text": [
      "[FINISHED]\n",
      "Saving power at C:\\Users\\User\\Documents\\power\\power_asrt\\STIMULI-EPOCH\\109_R_Day1_P_5_power-tfr.h5 ...\n"
     ]
    },
    {
     "name": "stderr",
     "output_type": "stream",
     "text": [
      "C:\\Users\\User\\anaconda3\\envs\\eeg-workshop\\lib\\site-packages\\meeg_tools\\analysis_pipeline.py:136: FutureWarning: The frame.append method is deprecated and will be removed from pandas in a future version. Use pandas.concat instead.\n",
      "  metadata = metadata.append(data,\n",
      "[Parallel(n_jobs=12)]: Using backend LokyBackend with 12 concurrent workers.\n",
      "[Parallel(n_jobs=12)]: Done   6 tasks      | elapsed:    0.0s\n",
      "[Parallel(n_jobs=12)]: Done  64 out of  64 | elapsed:    0.0s finished\n"
     ]
    },
    {
     "name": "stdout",
     "output_type": "stream",
     "text": [
      "[FINISHED]\n",
      "Saving power at C:\\Users\\User\\Documents\\power\\power_asrt\\STIMULI-EPOCH\\109_R_Day1_R_1_power-tfr.h5 ...\n"
     ]
    },
    {
     "name": "stderr",
     "output_type": "stream",
     "text": [
      "C:\\Users\\User\\anaconda3\\envs\\eeg-workshop\\lib\\site-packages\\meeg_tools\\analysis_pipeline.py:136: FutureWarning: The frame.append method is deprecated and will be removed from pandas in a future version. Use pandas.concat instead.\n",
      "  metadata = metadata.append(data,\n",
      "[Parallel(n_jobs=12)]: Using backend LokyBackend with 12 concurrent workers.\n",
      "[Parallel(n_jobs=12)]: Done   6 tasks      | elapsed:    0.0s\n",
      "[Parallel(n_jobs=12)]: Done  64 out of  64 | elapsed:    0.0s finished\n"
     ]
    },
    {
     "name": "stdout",
     "output_type": "stream",
     "text": [
      "[FINISHED]\n",
      "Saving power at C:\\Users\\User\\Documents\\power\\power_asrt\\STIMULI-EPOCH\\109_R_Day1_R_2_power-tfr.h5 ...\n"
     ]
    },
    {
     "name": "stderr",
     "output_type": "stream",
     "text": [
      "C:\\Users\\User\\anaconda3\\envs\\eeg-workshop\\lib\\site-packages\\meeg_tools\\analysis_pipeline.py:136: FutureWarning: The frame.append method is deprecated and will be removed from pandas in a future version. Use pandas.concat instead.\n",
      "  metadata = metadata.append(data,\n",
      "[Parallel(n_jobs=12)]: Using backend LokyBackend with 12 concurrent workers.\n",
      "[Parallel(n_jobs=12)]: Done   6 tasks      | elapsed:    0.0s\n",
      "[Parallel(n_jobs=12)]: Done  64 out of  64 | elapsed:    0.0s finished\n"
     ]
    },
    {
     "name": "stdout",
     "output_type": "stream",
     "text": [
      "[FINISHED]\n",
      "Saving power at C:\\Users\\User\\Documents\\power\\power_asrt\\STIMULI-EPOCH\\109_R_Day1_R_3_power-tfr.h5 ...\n"
     ]
    },
    {
     "name": "stderr",
     "output_type": "stream",
     "text": [
      "C:\\Users\\User\\anaconda3\\envs\\eeg-workshop\\lib\\site-packages\\meeg_tools\\analysis_pipeline.py:136: FutureWarning: The frame.append method is deprecated and will be removed from pandas in a future version. Use pandas.concat instead.\n",
      "  metadata = metadata.append(data,\n",
      "[Parallel(n_jobs=12)]: Using backend LokyBackend with 12 concurrent workers.\n",
      "[Parallel(n_jobs=12)]: Done   6 tasks      | elapsed:    0.0s\n",
      "[Parallel(n_jobs=12)]: Done  64 out of  64 | elapsed:    0.0s finished\n"
     ]
    },
    {
     "name": "stdout",
     "output_type": "stream",
     "text": [
      "[FINISHED]\n",
      "Saving power at C:\\Users\\User\\Documents\\power\\power_asrt\\STIMULI-EPOCH\\109_R_Day1_R_4_power-tfr.h5 ...\n"
     ]
    },
    {
     "name": "stderr",
     "output_type": "stream",
     "text": [
      "C:\\Users\\User\\anaconda3\\envs\\eeg-workshop\\lib\\site-packages\\meeg_tools\\analysis_pipeline.py:136: FutureWarning: The frame.append method is deprecated and will be removed from pandas in a future version. Use pandas.concat instead.\n",
      "  metadata = metadata.append(data,\n",
      "[Parallel(n_jobs=12)]: Using backend LokyBackend with 12 concurrent workers.\n",
      "[Parallel(n_jobs=12)]: Done   6 tasks      | elapsed:    0.0s\n",
      "[Parallel(n_jobs=12)]: Done  64 out of  64 | elapsed:    0.0s finished\n"
     ]
    },
    {
     "name": "stdout",
     "output_type": "stream",
     "text": [
      "[FINISHED]\n",
      "Saving power at C:\\Users\\User\\Documents\\power\\power_asrt\\STIMULI-EPOCH\\109_R_Day1_R_5_power-tfr.h5 ...\n"
     ]
    },
    {
     "name": "stderr",
     "output_type": "stream",
     "text": [
      "C:\\Users\\User\\anaconda3\\envs\\eeg-workshop\\lib\\site-packages\\meeg_tools\\analysis_pipeline.py:136: FutureWarning: The frame.append method is deprecated and will be removed from pandas in a future version. Use pandas.concat instead.\n",
      "  metadata = metadata.append(data,\n",
      "[Parallel(n_jobs=12)]: Using backend LokyBackend with 12 concurrent workers.\n",
      "[Parallel(n_jobs=12)]: Done   6 tasks      | elapsed:    0.0s\n",
      "[Parallel(n_jobs=12)]: Done  64 out of  64 | elapsed:    0.0s finished\n"
     ]
    },
    {
     "name": "stdout",
     "output_type": "stream",
     "text": [
      "[FINISHED]\n"
     ]
    },
    {
     "name": "stderr",
     "output_type": "stream",
     "text": [
      "Processing 10_S_Day1_ICA_autoreject_ransac-epo.fif:   6%|████                                                                      | 10/180 [02:39<46:04, 16.26s/it]"
     ]
    },
    {
     "name": "stdout",
     "output_type": "stream",
     "text": [
      "Loading data for 1494 events and 726 original time points ...\n",
      "Replacing existing metadata with 10 columns\n",
      "Replacing existing metadata with 10 columns\n",
      "Saving power at C:\\Users\\User\\Documents\\power\\power_asrt\\STIMULI-EPOCH\\10_S_Day1_P_1_power-tfr.h5 ...\n"
     ]
    },
    {
     "name": "stderr",
     "output_type": "stream",
     "text": [
      "C:\\Users\\User\\anaconda3\\envs\\eeg-workshop\\lib\\site-packages\\meeg_tools\\analysis_pipeline.py:136: FutureWarning: The frame.append method is deprecated and will be removed from pandas in a future version. Use pandas.concat instead.\n",
      "  metadata = metadata.append(data,\n",
      "[Parallel(n_jobs=12)]: Using backend LokyBackend with 12 concurrent workers.\n",
      "[Parallel(n_jobs=12)]: Done   6 tasks      | elapsed:    0.0s\n",
      "[Parallel(n_jobs=12)]: Done  64 out of  64 | elapsed:    0.1s finished\n"
     ]
    },
    {
     "name": "stdout",
     "output_type": "stream",
     "text": [
      "[FINISHED]\n",
      "Saving power at C:\\Users\\User\\Documents\\power\\power_asrt\\STIMULI-EPOCH\\10_S_Day1_P_2_power-tfr.h5 ...\n"
     ]
    },
    {
     "name": "stderr",
     "output_type": "stream",
     "text": [
      "C:\\Users\\User\\anaconda3\\envs\\eeg-workshop\\lib\\site-packages\\meeg_tools\\analysis_pipeline.py:136: FutureWarning: The frame.append method is deprecated and will be removed from pandas in a future version. Use pandas.concat instead.\n",
      "  metadata = metadata.append(data,\n",
      "[Parallel(n_jobs=12)]: Using backend LokyBackend with 12 concurrent workers.\n",
      "[Parallel(n_jobs=12)]: Done   6 tasks      | elapsed:    0.0s\n",
      "[Parallel(n_jobs=12)]: Done  64 out of  64 | elapsed:    0.0s finished\n"
     ]
    },
    {
     "name": "stdout",
     "output_type": "stream",
     "text": [
      "[FINISHED]\n",
      "Saving power at C:\\Users\\User\\Documents\\power\\power_asrt\\STIMULI-EPOCH\\10_S_Day1_P_3_power-tfr.h5 ...\n"
     ]
    },
    {
     "name": "stderr",
     "output_type": "stream",
     "text": [
      "C:\\Users\\User\\anaconda3\\envs\\eeg-workshop\\lib\\site-packages\\meeg_tools\\analysis_pipeline.py:136: FutureWarning: The frame.append method is deprecated and will be removed from pandas in a future version. Use pandas.concat instead.\n",
      "  metadata = metadata.append(data,\n",
      "[Parallel(n_jobs=12)]: Using backend LokyBackend with 12 concurrent workers.\n",
      "[Parallel(n_jobs=12)]: Done   6 tasks      | elapsed:    0.0s\n",
      "[Parallel(n_jobs=12)]: Done  64 out of  64 | elapsed:    0.0s finished\n"
     ]
    },
    {
     "name": "stdout",
     "output_type": "stream",
     "text": [
      "[FINISHED]\n",
      "Saving power at C:\\Users\\User\\Documents\\power\\power_asrt\\STIMULI-EPOCH\\10_S_Day1_P_4_power-tfr.h5 ...\n"
     ]
    },
    {
     "name": "stderr",
     "output_type": "stream",
     "text": [
      "C:\\Users\\User\\anaconda3\\envs\\eeg-workshop\\lib\\site-packages\\meeg_tools\\analysis_pipeline.py:136: FutureWarning: The frame.append method is deprecated and will be removed from pandas in a future version. Use pandas.concat instead.\n",
      "  metadata = metadata.append(data,\n",
      "[Parallel(n_jobs=12)]: Using backend LokyBackend with 12 concurrent workers.\n",
      "[Parallel(n_jobs=12)]: Done   6 tasks      | elapsed:    0.0s\n",
      "[Parallel(n_jobs=12)]: Done  64 out of  64 | elapsed:    0.1s finished\n"
     ]
    },
    {
     "name": "stdout",
     "output_type": "stream",
     "text": [
      "[FINISHED]\n",
      "Saving power at C:\\Users\\User\\Documents\\power\\power_asrt\\STIMULI-EPOCH\\10_S_Day1_P_5_power-tfr.h5 ...\n"
     ]
    },
    {
     "name": "stderr",
     "output_type": "stream",
     "text": [
      "C:\\Users\\User\\anaconda3\\envs\\eeg-workshop\\lib\\site-packages\\meeg_tools\\analysis_pipeline.py:136: FutureWarning: The frame.append method is deprecated and will be removed from pandas in a future version. Use pandas.concat instead.\n",
      "  metadata = metadata.append(data,\n",
      "[Parallel(n_jobs=12)]: Using backend LokyBackend with 12 concurrent workers.\n",
      "[Parallel(n_jobs=12)]: Done   6 tasks      | elapsed:    0.0s\n",
      "[Parallel(n_jobs=12)]: Done  64 out of  64 | elapsed:    0.0s finished\n"
     ]
    },
    {
     "name": "stdout",
     "output_type": "stream",
     "text": [
      "[FINISHED]\n",
      "Saving power at C:\\Users\\User\\Documents\\power\\power_asrt\\STIMULI-EPOCH\\10_S_Day1_R_1_power-tfr.h5 ...\n"
     ]
    },
    {
     "name": "stderr",
     "output_type": "stream",
     "text": [
      "C:\\Users\\User\\anaconda3\\envs\\eeg-workshop\\lib\\site-packages\\meeg_tools\\analysis_pipeline.py:136: FutureWarning: The frame.append method is deprecated and will be removed from pandas in a future version. Use pandas.concat instead.\n",
      "  metadata = metadata.append(data,\n",
      "[Parallel(n_jobs=12)]: Using backend LokyBackend with 12 concurrent workers.\n",
      "[Parallel(n_jobs=12)]: Done   6 tasks      | elapsed:    0.0s\n",
      "[Parallel(n_jobs=12)]: Done  64 out of  64 | elapsed:    0.0s finished\n"
     ]
    },
    {
     "name": "stdout",
     "output_type": "stream",
     "text": [
      "[FINISHED]\n",
      "Saving power at C:\\Users\\User\\Documents\\power\\power_asrt\\STIMULI-EPOCH\\10_S_Day1_R_2_power-tfr.h5 ...\n"
     ]
    },
    {
     "name": "stderr",
     "output_type": "stream",
     "text": [
      "C:\\Users\\User\\anaconda3\\envs\\eeg-workshop\\lib\\site-packages\\meeg_tools\\analysis_pipeline.py:136: FutureWarning: The frame.append method is deprecated and will be removed from pandas in a future version. Use pandas.concat instead.\n",
      "  metadata = metadata.append(data,\n",
      "[Parallel(n_jobs=12)]: Using backend LokyBackend with 12 concurrent workers.\n",
      "[Parallel(n_jobs=12)]: Done   6 tasks      | elapsed:    0.0s\n",
      "[Parallel(n_jobs=12)]: Done  64 out of  64 | elapsed:    0.0s finished\n"
     ]
    },
    {
     "name": "stdout",
     "output_type": "stream",
     "text": [
      "[FINISHED]\n",
      "Saving power at C:\\Users\\User\\Documents\\power\\power_asrt\\STIMULI-EPOCH\\10_S_Day1_R_3_power-tfr.h5 ...\n"
     ]
    },
    {
     "name": "stderr",
     "output_type": "stream",
     "text": [
      "C:\\Users\\User\\anaconda3\\envs\\eeg-workshop\\lib\\site-packages\\meeg_tools\\analysis_pipeline.py:136: FutureWarning: The frame.append method is deprecated and will be removed from pandas in a future version. Use pandas.concat instead.\n",
      "  metadata = metadata.append(data,\n",
      "[Parallel(n_jobs=12)]: Using backend LokyBackend with 12 concurrent workers.\n",
      "[Parallel(n_jobs=12)]: Done   6 tasks      | elapsed:    0.0s\n",
      "[Parallel(n_jobs=12)]: Done  64 out of  64 | elapsed:    0.0s finished\n"
     ]
    },
    {
     "name": "stdout",
     "output_type": "stream",
     "text": [
      "[FINISHED]\n",
      "Saving power at C:\\Users\\User\\Documents\\power\\power_asrt\\STIMULI-EPOCH\\10_S_Day1_R_4_power-tfr.h5 ...\n"
     ]
    },
    {
     "name": "stderr",
     "output_type": "stream",
     "text": [
      "C:\\Users\\User\\anaconda3\\envs\\eeg-workshop\\lib\\site-packages\\meeg_tools\\analysis_pipeline.py:136: FutureWarning: The frame.append method is deprecated and will be removed from pandas in a future version. Use pandas.concat instead.\n",
      "  metadata = metadata.append(data,\n",
      "[Parallel(n_jobs=12)]: Using backend LokyBackend with 12 concurrent workers.\n",
      "[Parallel(n_jobs=12)]: Done   6 tasks      | elapsed:    0.0s\n",
      "[Parallel(n_jobs=12)]: Done  64 out of  64 | elapsed:    0.0s finished\n"
     ]
    },
    {
     "name": "stdout",
     "output_type": "stream",
     "text": [
      "[FINISHED]\n",
      "Saving power at C:\\Users\\User\\Documents\\power\\power_asrt\\STIMULI-EPOCH\\10_S_Day1_R_5_power-tfr.h5 ...\n"
     ]
    },
    {
     "name": "stderr",
     "output_type": "stream",
     "text": [
      "C:\\Users\\User\\anaconda3\\envs\\eeg-workshop\\lib\\site-packages\\meeg_tools\\analysis_pipeline.py:136: FutureWarning: The frame.append method is deprecated and will be removed from pandas in a future version. Use pandas.concat instead.\n",
      "  metadata = metadata.append(data,\n",
      "[Parallel(n_jobs=12)]: Using backend LokyBackend with 12 concurrent workers.\n",
      "[Parallel(n_jobs=12)]: Done   6 tasks      | elapsed:    0.0s\n",
      "[Parallel(n_jobs=12)]: Done  64 out of  64 | elapsed:    0.0s finished\n"
     ]
    },
    {
     "name": "stdout",
     "output_type": "stream",
     "text": [
      "[FINISHED]\n"
     ]
    },
    {
     "name": "stderr",
     "output_type": "stream",
     "text": [
      "Processing 110_R_Day1_ICA_autoreject_ransac-epo.fif:   6%|████▍                                                                    | 11/180 [02:55<45:32, 16.17s/it]"
     ]
    },
    {
     "name": "stdout",
     "output_type": "stream",
     "text": [
      "Loading data for 1362 events and 726 original time points ...\n",
      "Replacing existing metadata with 10 columns\n",
      "Replacing existing metadata with 10 columns\n",
      "Saving power at C:\\Users\\User\\Documents\\power\\power_asrt\\STIMULI-EPOCH\\110_R_Day1_P_1_power-tfr.h5 ...\n"
     ]
    },
    {
     "name": "stderr",
     "output_type": "stream",
     "text": [
      "C:\\Users\\User\\anaconda3\\envs\\eeg-workshop\\lib\\site-packages\\meeg_tools\\analysis_pipeline.py:136: FutureWarning: The frame.append method is deprecated and will be removed from pandas in a future version. Use pandas.concat instead.\n",
      "  metadata = metadata.append(data,\n",
      "[Parallel(n_jobs=12)]: Using backend LokyBackend with 12 concurrent workers.\n",
      "[Parallel(n_jobs=12)]: Done   6 tasks      | elapsed:    0.0s\n",
      "[Parallel(n_jobs=12)]: Done  64 out of  64 | elapsed:    0.0s finished\n"
     ]
    },
    {
     "name": "stdout",
     "output_type": "stream",
     "text": [
      "[FINISHED]\n",
      "Saving power at C:\\Users\\User\\Documents\\power\\power_asrt\\STIMULI-EPOCH\\110_R_Day1_P_2_power-tfr.h5 ...\n"
     ]
    },
    {
     "name": "stderr",
     "output_type": "stream",
     "text": [
      "C:\\Users\\User\\anaconda3\\envs\\eeg-workshop\\lib\\site-packages\\meeg_tools\\analysis_pipeline.py:136: FutureWarning: The frame.append method is deprecated and will be removed from pandas in a future version. Use pandas.concat instead.\n",
      "  metadata = metadata.append(data,\n",
      "[Parallel(n_jobs=12)]: Using backend LokyBackend with 12 concurrent workers.\n",
      "[Parallel(n_jobs=12)]: Done   6 tasks      | elapsed:    0.0s\n",
      "[Parallel(n_jobs=12)]: Done  64 out of  64 | elapsed:    0.0s finished\n"
     ]
    },
    {
     "name": "stdout",
     "output_type": "stream",
     "text": [
      "[FINISHED]\n",
      "Saving power at C:\\Users\\User\\Documents\\power\\power_asrt\\STIMULI-EPOCH\\110_R_Day1_P_3_power-tfr.h5 ...\n"
     ]
    },
    {
     "name": "stderr",
     "output_type": "stream",
     "text": [
      "C:\\Users\\User\\anaconda3\\envs\\eeg-workshop\\lib\\site-packages\\meeg_tools\\analysis_pipeline.py:136: FutureWarning: The frame.append method is deprecated and will be removed from pandas in a future version. Use pandas.concat instead.\n",
      "  metadata = metadata.append(data,\n",
      "[Parallel(n_jobs=12)]: Using backend LokyBackend with 12 concurrent workers.\n",
      "[Parallel(n_jobs=12)]: Done   6 tasks      | elapsed:    0.0s\n",
      "[Parallel(n_jobs=12)]: Done  64 out of  64 | elapsed:    0.0s finished\n"
     ]
    },
    {
     "name": "stdout",
     "output_type": "stream",
     "text": [
      "[FINISHED]\n",
      "Saving power at C:\\Users\\User\\Documents\\power\\power_asrt\\STIMULI-EPOCH\\110_R_Day1_P_4_power-tfr.h5 ...\n"
     ]
    },
    {
     "name": "stderr",
     "output_type": "stream",
     "text": [
      "C:\\Users\\User\\anaconda3\\envs\\eeg-workshop\\lib\\site-packages\\meeg_tools\\analysis_pipeline.py:136: FutureWarning: The frame.append method is deprecated and will be removed from pandas in a future version. Use pandas.concat instead.\n",
      "  metadata = metadata.append(data,\n",
      "[Parallel(n_jobs=12)]: Using backend LokyBackend with 12 concurrent workers.\n",
      "[Parallel(n_jobs=12)]: Done   6 tasks      | elapsed:    0.0s\n",
      "[Parallel(n_jobs=12)]: Done  64 out of  64 | elapsed:    0.0s finished\n"
     ]
    },
    {
     "name": "stdout",
     "output_type": "stream",
     "text": [
      "[FINISHED]\n",
      "Saving power at C:\\Users\\User\\Documents\\power\\power_asrt\\STIMULI-EPOCH\\110_R_Day1_P_5_power-tfr.h5 ...\n"
     ]
    },
    {
     "name": "stderr",
     "output_type": "stream",
     "text": [
      "C:\\Users\\User\\anaconda3\\envs\\eeg-workshop\\lib\\site-packages\\meeg_tools\\analysis_pipeline.py:136: FutureWarning: The frame.append method is deprecated and will be removed from pandas in a future version. Use pandas.concat instead.\n",
      "  metadata = metadata.append(data,\n",
      "[Parallel(n_jobs=12)]: Using backend LokyBackend with 12 concurrent workers.\n",
      "[Parallel(n_jobs=12)]: Done   6 tasks      | elapsed:    0.0s\n",
      "[Parallel(n_jobs=12)]: Done  64 out of  64 | elapsed:    0.0s finished\n"
     ]
    },
    {
     "name": "stdout",
     "output_type": "stream",
     "text": [
      "[FINISHED]\n",
      "Saving power at C:\\Users\\User\\Documents\\power\\power_asrt\\STIMULI-EPOCH\\110_R_Day1_R_1_power-tfr.h5 ...\n"
     ]
    },
    {
     "name": "stderr",
     "output_type": "stream",
     "text": [
      "C:\\Users\\User\\anaconda3\\envs\\eeg-workshop\\lib\\site-packages\\meeg_tools\\analysis_pipeline.py:136: FutureWarning: The frame.append method is deprecated and will be removed from pandas in a future version. Use pandas.concat instead.\n",
      "  metadata = metadata.append(data,\n",
      "[Parallel(n_jobs=12)]: Using backend LokyBackend with 12 concurrent workers.\n",
      "[Parallel(n_jobs=12)]: Done   6 tasks      | elapsed:    0.0s\n",
      "[Parallel(n_jobs=12)]: Done  64 out of  64 | elapsed:    0.0s finished\n"
     ]
    },
    {
     "name": "stdout",
     "output_type": "stream",
     "text": [
      "[FINISHED]\n",
      "Saving power at C:\\Users\\User\\Documents\\power\\power_asrt\\STIMULI-EPOCH\\110_R_Day1_R_2_power-tfr.h5 ...\n"
     ]
    },
    {
     "name": "stderr",
     "output_type": "stream",
     "text": [
      "C:\\Users\\User\\anaconda3\\envs\\eeg-workshop\\lib\\site-packages\\meeg_tools\\analysis_pipeline.py:136: FutureWarning: The frame.append method is deprecated and will be removed from pandas in a future version. Use pandas.concat instead.\n",
      "  metadata = metadata.append(data,\n",
      "[Parallel(n_jobs=12)]: Using backend LokyBackend with 12 concurrent workers.\n",
      "[Parallel(n_jobs=12)]: Done   6 tasks      | elapsed:    0.0s\n",
      "[Parallel(n_jobs=12)]: Done  64 out of  64 | elapsed:    0.0s finished\n"
     ]
    },
    {
     "name": "stdout",
     "output_type": "stream",
     "text": [
      "[FINISHED]\n",
      "Saving power at C:\\Users\\User\\Documents\\power\\power_asrt\\STIMULI-EPOCH\\110_R_Day1_R_3_power-tfr.h5 ...\n"
     ]
    },
    {
     "name": "stderr",
     "output_type": "stream",
     "text": [
      "C:\\Users\\User\\anaconda3\\envs\\eeg-workshop\\lib\\site-packages\\meeg_tools\\analysis_pipeline.py:136: FutureWarning: The frame.append method is deprecated and will be removed from pandas in a future version. Use pandas.concat instead.\n",
      "  metadata = metadata.append(data,\n",
      "[Parallel(n_jobs=12)]: Using backend LokyBackend with 12 concurrent workers.\n",
      "[Parallel(n_jobs=12)]: Done   6 tasks      | elapsed:    0.0s\n",
      "[Parallel(n_jobs=12)]: Done  64 out of  64 | elapsed:    0.1s finished\n"
     ]
    },
    {
     "name": "stdout",
     "output_type": "stream",
     "text": [
      "[FINISHED]\n",
      "Saving power at C:\\Users\\User\\Documents\\power\\power_asrt\\STIMULI-EPOCH\\110_R_Day1_R_4_power-tfr.h5 ...\n"
     ]
    },
    {
     "name": "stderr",
     "output_type": "stream",
     "text": [
      "C:\\Users\\User\\anaconda3\\envs\\eeg-workshop\\lib\\site-packages\\meeg_tools\\analysis_pipeline.py:136: FutureWarning: The frame.append method is deprecated and will be removed from pandas in a future version. Use pandas.concat instead.\n",
      "  metadata = metadata.append(data,\n",
      "[Parallel(n_jobs=12)]: Using backend LokyBackend with 12 concurrent workers.\n",
      "[Parallel(n_jobs=12)]: Done   6 tasks      | elapsed:    0.0s\n",
      "[Parallel(n_jobs=12)]: Done  64 out of  64 | elapsed:    0.0s finished\n"
     ]
    },
    {
     "name": "stdout",
     "output_type": "stream",
     "text": [
      "[FINISHED]\n",
      "Saving power at C:\\Users\\User\\Documents\\power\\power_asrt\\STIMULI-EPOCH\\110_R_Day1_R_5_power-tfr.h5 ...\n"
     ]
    },
    {
     "name": "stderr",
     "output_type": "stream",
     "text": [
      "C:\\Users\\User\\anaconda3\\envs\\eeg-workshop\\lib\\site-packages\\meeg_tools\\analysis_pipeline.py:136: FutureWarning: The frame.append method is deprecated and will be removed from pandas in a future version. Use pandas.concat instead.\n",
      "  metadata = metadata.append(data,\n",
      "[Parallel(n_jobs=12)]: Using backend LokyBackend with 12 concurrent workers.\n",
      "[Parallel(n_jobs=12)]: Done   6 tasks      | elapsed:    0.0s\n",
      "[Parallel(n_jobs=12)]: Done  64 out of  64 | elapsed:    0.0s finished\n"
     ]
    },
    {
     "name": "stdout",
     "output_type": "stream",
     "text": [
      "[FINISHED]\n"
     ]
    },
    {
     "name": "stderr",
     "output_type": "stream",
     "text": [
      "Processing 111_R_Day1_ICA_autoreject_ransac-epo.fif:   7%|████▊                                                                    | 12/180 [03:11<44:52, 16.03s/it]"
     ]
    },
    {
     "name": "stdout",
     "output_type": "stream",
     "text": [
      "Loading data for 1339 events and 726 original time points ...\n",
      "Replacing existing metadata with 10 columns\n",
      "Replacing existing metadata with 10 columns\n",
      "Saving power at C:\\Users\\User\\Documents\\power\\power_asrt\\STIMULI-EPOCH\\111_R_Day1_P_1_power-tfr.h5 ...\n"
     ]
    },
    {
     "name": "stderr",
     "output_type": "stream",
     "text": [
      "C:\\Users\\User\\anaconda3\\envs\\eeg-workshop\\lib\\site-packages\\meeg_tools\\analysis_pipeline.py:136: FutureWarning: The frame.append method is deprecated and will be removed from pandas in a future version. Use pandas.concat instead.\n",
      "  metadata = metadata.append(data,\n",
      "[Parallel(n_jobs=12)]: Using backend LokyBackend with 12 concurrent workers.\n",
      "[Parallel(n_jobs=12)]: Done   6 tasks      | elapsed:    0.0s\n",
      "[Parallel(n_jobs=12)]: Done  64 out of  64 | elapsed:    0.0s finished\n"
     ]
    },
    {
     "name": "stdout",
     "output_type": "stream",
     "text": [
      "[FINISHED]\n",
      "Saving power at C:\\Users\\User\\Documents\\power\\power_asrt\\STIMULI-EPOCH\\111_R_Day1_P_2_power-tfr.h5 ...\n"
     ]
    },
    {
     "name": "stderr",
     "output_type": "stream",
     "text": [
      "C:\\Users\\User\\anaconda3\\envs\\eeg-workshop\\lib\\site-packages\\meeg_tools\\analysis_pipeline.py:136: FutureWarning: The frame.append method is deprecated and will be removed from pandas in a future version. Use pandas.concat instead.\n",
      "  metadata = metadata.append(data,\n",
      "[Parallel(n_jobs=12)]: Using backend LokyBackend with 12 concurrent workers.\n",
      "[Parallel(n_jobs=12)]: Done   6 tasks      | elapsed:    0.0s\n",
      "[Parallel(n_jobs=12)]: Done  64 out of  64 | elapsed:    0.0s finished\n"
     ]
    },
    {
     "name": "stdout",
     "output_type": "stream",
     "text": [
      "[FINISHED]\n",
      "Saving power at C:\\Users\\User\\Documents\\power\\power_asrt\\STIMULI-EPOCH\\111_R_Day1_P_3_power-tfr.h5 ...\n"
     ]
    },
    {
     "name": "stderr",
     "output_type": "stream",
     "text": [
      "C:\\Users\\User\\anaconda3\\envs\\eeg-workshop\\lib\\site-packages\\meeg_tools\\analysis_pipeline.py:136: FutureWarning: The frame.append method is deprecated and will be removed from pandas in a future version. Use pandas.concat instead.\n",
      "  metadata = metadata.append(data,\n",
      "[Parallel(n_jobs=12)]: Using backend LokyBackend with 12 concurrent workers.\n",
      "[Parallel(n_jobs=12)]: Done   6 tasks      | elapsed:    0.0s\n",
      "[Parallel(n_jobs=12)]: Done  64 out of  64 | elapsed:    0.1s finished\n"
     ]
    },
    {
     "name": "stdout",
     "output_type": "stream",
     "text": [
      "[FINISHED]\n",
      "Saving power at C:\\Users\\User\\Documents\\power\\power_asrt\\STIMULI-EPOCH\\111_R_Day1_P_4_power-tfr.h5 ...\n"
     ]
    },
    {
     "name": "stderr",
     "output_type": "stream",
     "text": [
      "C:\\Users\\User\\anaconda3\\envs\\eeg-workshop\\lib\\site-packages\\meeg_tools\\analysis_pipeline.py:136: FutureWarning: The frame.append method is deprecated and will be removed from pandas in a future version. Use pandas.concat instead.\n",
      "  metadata = metadata.append(data,\n",
      "[Parallel(n_jobs=12)]: Using backend LokyBackend with 12 concurrent workers.\n",
      "[Parallel(n_jobs=12)]: Done   6 tasks      | elapsed:    0.0s\n",
      "[Parallel(n_jobs=12)]: Done  64 out of  64 | elapsed:    0.0s finished\n"
     ]
    },
    {
     "name": "stdout",
     "output_type": "stream",
     "text": [
      "[FINISHED]\n",
      "Saving power at C:\\Users\\User\\Documents\\power\\power_asrt\\STIMULI-EPOCH\\111_R_Day1_P_5_power-tfr.h5 ...\n"
     ]
    },
    {
     "name": "stderr",
     "output_type": "stream",
     "text": [
      "C:\\Users\\User\\anaconda3\\envs\\eeg-workshop\\lib\\site-packages\\meeg_tools\\analysis_pipeline.py:136: FutureWarning: The frame.append method is deprecated and will be removed from pandas in a future version. Use pandas.concat instead.\n",
      "  metadata = metadata.append(data,\n",
      "[Parallel(n_jobs=12)]: Using backend LokyBackend with 12 concurrent workers.\n",
      "[Parallel(n_jobs=12)]: Done   6 tasks      | elapsed:    0.0s\n",
      "[Parallel(n_jobs=12)]: Done  64 out of  64 | elapsed:    0.0s finished\n"
     ]
    },
    {
     "name": "stdout",
     "output_type": "stream",
     "text": [
      "[FINISHED]\n",
      "Saving power at C:\\Users\\User\\Documents\\power\\power_asrt\\STIMULI-EPOCH\\111_R_Day1_R_1_power-tfr.h5 ...\n"
     ]
    },
    {
     "name": "stderr",
     "output_type": "stream",
     "text": [
      "C:\\Users\\User\\anaconda3\\envs\\eeg-workshop\\lib\\site-packages\\meeg_tools\\analysis_pipeline.py:136: FutureWarning: The frame.append method is deprecated and will be removed from pandas in a future version. Use pandas.concat instead.\n",
      "  metadata = metadata.append(data,\n",
      "[Parallel(n_jobs=12)]: Using backend LokyBackend with 12 concurrent workers.\n",
      "[Parallel(n_jobs=12)]: Done   6 tasks      | elapsed:    0.0s\n",
      "[Parallel(n_jobs=12)]: Done  64 out of  64 | elapsed:    0.0s finished\n"
     ]
    },
    {
     "name": "stdout",
     "output_type": "stream",
     "text": [
      "[FINISHED]\n",
      "Saving power at C:\\Users\\User\\Documents\\power\\power_asrt\\STIMULI-EPOCH\\111_R_Day1_R_2_power-tfr.h5 ...\n"
     ]
    },
    {
     "name": "stderr",
     "output_type": "stream",
     "text": [
      "C:\\Users\\User\\anaconda3\\envs\\eeg-workshop\\lib\\site-packages\\meeg_tools\\analysis_pipeline.py:136: FutureWarning: The frame.append method is deprecated and will be removed from pandas in a future version. Use pandas.concat instead.\n",
      "  metadata = metadata.append(data,\n",
      "[Parallel(n_jobs=12)]: Using backend LokyBackend with 12 concurrent workers.\n",
      "[Parallel(n_jobs=12)]: Done   6 tasks      | elapsed:    0.0s\n",
      "[Parallel(n_jobs=12)]: Done  64 out of  64 | elapsed:    0.0s finished\n"
     ]
    },
    {
     "name": "stdout",
     "output_type": "stream",
     "text": [
      "[FINISHED]\n",
      "Saving power at C:\\Users\\User\\Documents\\power\\power_asrt\\STIMULI-EPOCH\\111_R_Day1_R_3_power-tfr.h5 ...\n"
     ]
    },
    {
     "name": "stderr",
     "output_type": "stream",
     "text": [
      "C:\\Users\\User\\anaconda3\\envs\\eeg-workshop\\lib\\site-packages\\meeg_tools\\analysis_pipeline.py:136: FutureWarning: The frame.append method is deprecated and will be removed from pandas in a future version. Use pandas.concat instead.\n",
      "  metadata = metadata.append(data,\n",
      "[Parallel(n_jobs=12)]: Using backend LokyBackend with 12 concurrent workers.\n",
      "[Parallel(n_jobs=12)]: Done   6 tasks      | elapsed:    0.0s\n",
      "[Parallel(n_jobs=12)]: Done  64 out of  64 | elapsed:    0.1s finished\n"
     ]
    },
    {
     "name": "stdout",
     "output_type": "stream",
     "text": [
      "[FINISHED]\n",
      "Saving power at C:\\Users\\User\\Documents\\power\\power_asrt\\STIMULI-EPOCH\\111_R_Day1_R_4_power-tfr.h5 ...\n"
     ]
    },
    {
     "name": "stderr",
     "output_type": "stream",
     "text": [
      "C:\\Users\\User\\anaconda3\\envs\\eeg-workshop\\lib\\site-packages\\meeg_tools\\analysis_pipeline.py:136: FutureWarning: The frame.append method is deprecated and will be removed from pandas in a future version. Use pandas.concat instead.\n",
      "  metadata = metadata.append(data,\n",
      "[Parallel(n_jobs=12)]: Using backend LokyBackend with 12 concurrent workers.\n",
      "[Parallel(n_jobs=12)]: Done   6 tasks      | elapsed:    0.0s\n",
      "[Parallel(n_jobs=12)]: Done  64 out of  64 | elapsed:    0.0s finished\n"
     ]
    },
    {
     "name": "stdout",
     "output_type": "stream",
     "text": [
      "[FINISHED]\n",
      "Saving power at C:\\Users\\User\\Documents\\power\\power_asrt\\STIMULI-EPOCH\\111_R_Day1_R_5_power-tfr.h5 ...\n"
     ]
    },
    {
     "name": "stderr",
     "output_type": "stream",
     "text": [
      "C:\\Users\\User\\anaconda3\\envs\\eeg-workshop\\lib\\site-packages\\meeg_tools\\analysis_pipeline.py:136: FutureWarning: The frame.append method is deprecated and will be removed from pandas in a future version. Use pandas.concat instead.\n",
      "  metadata = metadata.append(data,\n",
      "[Parallel(n_jobs=12)]: Using backend LokyBackend with 12 concurrent workers.\n",
      "[Parallel(n_jobs=12)]: Done   6 tasks      | elapsed:    0.0s\n",
      "[Parallel(n_jobs=12)]: Done  64 out of  64 | elapsed:    0.0s finished\n"
     ]
    },
    {
     "name": "stdout",
     "output_type": "stream",
     "text": [
      "[FINISHED]\n"
     ]
    },
    {
     "name": "stderr",
     "output_type": "stream",
     "text": [
      "Processing 112_S_Day1_ICA_autoreject_ransac-epo.fif:   7%|█████▎                                                                   | 13/180 [03:27<44:59, 16.16s/it]"
     ]
    },
    {
     "name": "stdout",
     "output_type": "stream",
     "text": [
      "Loading data for 1418 events and 726 original time points ...\n",
      "Replacing existing metadata with 10 columns\n",
      "Replacing existing metadata with 10 columns\n",
      "Saving power at C:\\Users\\User\\Documents\\power\\power_asrt\\STIMULI-EPOCH\\112_S_Day1_P_1_power-tfr.h5 ...\n"
     ]
    },
    {
     "name": "stderr",
     "output_type": "stream",
     "text": [
      "C:\\Users\\User\\anaconda3\\envs\\eeg-workshop\\lib\\site-packages\\meeg_tools\\analysis_pipeline.py:136: FutureWarning: The frame.append method is deprecated and will be removed from pandas in a future version. Use pandas.concat instead.\n",
      "  metadata = metadata.append(data,\n",
      "[Parallel(n_jobs=12)]: Using backend LokyBackend with 12 concurrent workers.\n",
      "[Parallel(n_jobs=12)]: Done   6 tasks      | elapsed:    0.0s\n",
      "[Parallel(n_jobs=12)]: Done  64 out of  64 | elapsed:    0.0s finished\n"
     ]
    },
    {
     "name": "stdout",
     "output_type": "stream",
     "text": [
      "[FINISHED]\n",
      "Saving power at C:\\Users\\User\\Documents\\power\\power_asrt\\STIMULI-EPOCH\\112_S_Day1_P_2_power-tfr.h5 ...\n"
     ]
    },
    {
     "name": "stderr",
     "output_type": "stream",
     "text": [
      "C:\\Users\\User\\anaconda3\\envs\\eeg-workshop\\lib\\site-packages\\meeg_tools\\analysis_pipeline.py:136: FutureWarning: The frame.append method is deprecated and will be removed from pandas in a future version. Use pandas.concat instead.\n",
      "  metadata = metadata.append(data,\n",
      "[Parallel(n_jobs=12)]: Using backend LokyBackend with 12 concurrent workers.\n",
      "[Parallel(n_jobs=12)]: Done   6 tasks      | elapsed:    0.0s\n",
      "[Parallel(n_jobs=12)]: Done  64 out of  64 | elapsed:    0.0s finished\n"
     ]
    },
    {
     "name": "stdout",
     "output_type": "stream",
     "text": [
      "[FINISHED]\n",
      "Saving power at C:\\Users\\User\\Documents\\power\\power_asrt\\STIMULI-EPOCH\\112_S_Day1_P_3_power-tfr.h5 ...\n"
     ]
    },
    {
     "name": "stderr",
     "output_type": "stream",
     "text": [
      "C:\\Users\\User\\anaconda3\\envs\\eeg-workshop\\lib\\site-packages\\meeg_tools\\analysis_pipeline.py:136: FutureWarning: The frame.append method is deprecated and will be removed from pandas in a future version. Use pandas.concat instead.\n",
      "  metadata = metadata.append(data,\n",
      "[Parallel(n_jobs=12)]: Using backend LokyBackend with 12 concurrent workers.\n",
      "[Parallel(n_jobs=12)]: Done   6 tasks      | elapsed:    0.0s\n",
      "[Parallel(n_jobs=12)]: Done  64 out of  64 | elapsed:    0.0s finished\n"
     ]
    },
    {
     "name": "stdout",
     "output_type": "stream",
     "text": [
      "[FINISHED]\n",
      "Saving power at C:\\Users\\User\\Documents\\power\\power_asrt\\STIMULI-EPOCH\\112_S_Day1_P_4_power-tfr.h5 ...\n"
     ]
    },
    {
     "name": "stderr",
     "output_type": "stream",
     "text": [
      "C:\\Users\\User\\anaconda3\\envs\\eeg-workshop\\lib\\site-packages\\meeg_tools\\analysis_pipeline.py:136: FutureWarning: The frame.append method is deprecated and will be removed from pandas in a future version. Use pandas.concat instead.\n",
      "  metadata = metadata.append(data,\n",
      "[Parallel(n_jobs=12)]: Using backend LokyBackend with 12 concurrent workers.\n",
      "[Parallel(n_jobs=12)]: Done   6 tasks      | elapsed:    0.0s\n",
      "[Parallel(n_jobs=12)]: Done  64 out of  64 | elapsed:    0.0s finished\n"
     ]
    },
    {
     "name": "stdout",
     "output_type": "stream",
     "text": [
      "[FINISHED]\n",
      "Saving power at C:\\Users\\User\\Documents\\power\\power_asrt\\STIMULI-EPOCH\\112_S_Day1_P_5_power-tfr.h5 ...\n"
     ]
    },
    {
     "name": "stderr",
     "output_type": "stream",
     "text": [
      "C:\\Users\\User\\anaconda3\\envs\\eeg-workshop\\lib\\site-packages\\meeg_tools\\analysis_pipeline.py:136: FutureWarning: The frame.append method is deprecated and will be removed from pandas in a future version. Use pandas.concat instead.\n",
      "  metadata = metadata.append(data,\n",
      "[Parallel(n_jobs=12)]: Using backend LokyBackend with 12 concurrent workers.\n",
      "[Parallel(n_jobs=12)]: Done   6 tasks      | elapsed:    0.0s\n",
      "[Parallel(n_jobs=12)]: Done  64 out of  64 | elapsed:    0.1s finished\n"
     ]
    },
    {
     "name": "stdout",
     "output_type": "stream",
     "text": [
      "[FINISHED]\n",
      "Saving power at C:\\Users\\User\\Documents\\power\\power_asrt\\STIMULI-EPOCH\\112_S_Day1_R_1_power-tfr.h5 ...\n"
     ]
    },
    {
     "name": "stderr",
     "output_type": "stream",
     "text": [
      "C:\\Users\\User\\anaconda3\\envs\\eeg-workshop\\lib\\site-packages\\meeg_tools\\analysis_pipeline.py:136: FutureWarning: The frame.append method is deprecated and will be removed from pandas in a future version. Use pandas.concat instead.\n",
      "  metadata = metadata.append(data,\n",
      "[Parallel(n_jobs=12)]: Using backend LokyBackend with 12 concurrent workers.\n",
      "[Parallel(n_jobs=12)]: Done   6 tasks      | elapsed:    0.0s\n",
      "[Parallel(n_jobs=12)]: Done  64 out of  64 | elapsed:    0.0s finished\n"
     ]
    },
    {
     "name": "stdout",
     "output_type": "stream",
     "text": [
      "[FINISHED]\n",
      "Saving power at C:\\Users\\User\\Documents\\power\\power_asrt\\STIMULI-EPOCH\\112_S_Day1_R_2_power-tfr.h5 ...\n"
     ]
    },
    {
     "name": "stderr",
     "output_type": "stream",
     "text": [
      "C:\\Users\\User\\anaconda3\\envs\\eeg-workshop\\lib\\site-packages\\meeg_tools\\analysis_pipeline.py:136: FutureWarning: The frame.append method is deprecated and will be removed from pandas in a future version. Use pandas.concat instead.\n",
      "  metadata = metadata.append(data,\n",
      "[Parallel(n_jobs=12)]: Using backend LokyBackend with 12 concurrent workers.\n",
      "[Parallel(n_jobs=12)]: Done   6 tasks      | elapsed:    0.0s\n",
      "[Parallel(n_jobs=12)]: Done  64 out of  64 | elapsed:    0.0s finished\n"
     ]
    },
    {
     "name": "stdout",
     "output_type": "stream",
     "text": [
      "[FINISHED]\n",
      "Saving power at C:\\Users\\User\\Documents\\power\\power_asrt\\STIMULI-EPOCH\\112_S_Day1_R_3_power-tfr.h5 ...\n"
     ]
    },
    {
     "name": "stderr",
     "output_type": "stream",
     "text": [
      "C:\\Users\\User\\anaconda3\\envs\\eeg-workshop\\lib\\site-packages\\meeg_tools\\analysis_pipeline.py:136: FutureWarning: The frame.append method is deprecated and will be removed from pandas in a future version. Use pandas.concat instead.\n",
      "  metadata = metadata.append(data,\n",
      "[Parallel(n_jobs=12)]: Using backend LokyBackend with 12 concurrent workers.\n",
      "[Parallel(n_jobs=12)]: Done   6 tasks      | elapsed:    0.0s\n",
      "[Parallel(n_jobs=12)]: Done  64 out of  64 | elapsed:    0.0s finished\n"
     ]
    },
    {
     "name": "stdout",
     "output_type": "stream",
     "text": [
      "[FINISHED]\n",
      "Saving power at C:\\Users\\User\\Documents\\power\\power_asrt\\STIMULI-EPOCH\\112_S_Day1_R_4_power-tfr.h5 ...\n"
     ]
    },
    {
     "name": "stderr",
     "output_type": "stream",
     "text": [
      "C:\\Users\\User\\anaconda3\\envs\\eeg-workshop\\lib\\site-packages\\meeg_tools\\analysis_pipeline.py:136: FutureWarning: The frame.append method is deprecated and will be removed from pandas in a future version. Use pandas.concat instead.\n",
      "  metadata = metadata.append(data,\n",
      "[Parallel(n_jobs=12)]: Using backend LokyBackend with 12 concurrent workers.\n",
      "[Parallel(n_jobs=12)]: Done   6 tasks      | elapsed:    0.0s\n",
      "[Parallel(n_jobs=12)]: Done  64 out of  64 | elapsed:    0.0s finished\n"
     ]
    },
    {
     "name": "stdout",
     "output_type": "stream",
     "text": [
      "[FINISHED]\n",
      "Saving power at C:\\Users\\User\\Documents\\power\\power_asrt\\STIMULI-EPOCH\\112_S_Day1_R_5_power-tfr.h5 ...\n"
     ]
    },
    {
     "name": "stderr",
     "output_type": "stream",
     "text": [
      "C:\\Users\\User\\anaconda3\\envs\\eeg-workshop\\lib\\site-packages\\meeg_tools\\analysis_pipeline.py:136: FutureWarning: The frame.append method is deprecated and will be removed from pandas in a future version. Use pandas.concat instead.\n",
      "  metadata = metadata.append(data,\n",
      "[Parallel(n_jobs=12)]: Using backend LokyBackend with 12 concurrent workers.\n",
      "[Parallel(n_jobs=12)]: Done   6 tasks      | elapsed:    0.0s\n",
      "[Parallel(n_jobs=12)]: Done  64 out of  64 | elapsed:    0.0s finished\n"
     ]
    },
    {
     "name": "stdout",
     "output_type": "stream",
     "text": [
      "[FINISHED]\n"
     ]
    },
    {
     "name": "stderr",
     "output_type": "stream",
     "text": [
      "Processing 113_R_Day1_ICA_autoreject_ransac-epo.fif:   8%|█████▋                                                                   | 14/180 [03:45<45:36, 16.48s/it]"
     ]
    },
    {
     "name": "stdout",
     "output_type": "stream",
     "text": [
      "Loading data for 925 events and 726 original time points ...\n",
      "Replacing existing metadata with 10 columns\n",
      "Replacing existing metadata with 10 columns\n",
      "Saving power at C:\\Users\\User\\Documents\\power\\power_asrt\\STIMULI-EPOCH\\113_R_Day1_P_1_power-tfr.h5 ...\n"
     ]
    },
    {
     "name": "stderr",
     "output_type": "stream",
     "text": [
      "C:\\Users\\User\\anaconda3\\envs\\eeg-workshop\\lib\\site-packages\\meeg_tools\\analysis_pipeline.py:136: FutureWarning: The frame.append method is deprecated and will be removed from pandas in a future version. Use pandas.concat instead.\n",
      "  metadata = metadata.append(data,\n",
      "[Parallel(n_jobs=12)]: Using backend LokyBackend with 12 concurrent workers.\n",
      "[Parallel(n_jobs=12)]: Done   6 tasks      | elapsed:    0.0s\n",
      "[Parallel(n_jobs=12)]: Done  64 out of  64 | elapsed:    0.0s finished\n"
     ]
    },
    {
     "name": "stdout",
     "output_type": "stream",
     "text": [
      "[FINISHED]\n",
      "Saving power at C:\\Users\\User\\Documents\\power\\power_asrt\\STIMULI-EPOCH\\113_R_Day1_P_2_power-tfr.h5 ...\n"
     ]
    },
    {
     "name": "stderr",
     "output_type": "stream",
     "text": [
      "C:\\Users\\User\\anaconda3\\envs\\eeg-workshop\\lib\\site-packages\\meeg_tools\\analysis_pipeline.py:136: FutureWarning: The frame.append method is deprecated and will be removed from pandas in a future version. Use pandas.concat instead.\n",
      "  metadata = metadata.append(data,\n",
      "[Parallel(n_jobs=12)]: Using backend LokyBackend with 12 concurrent workers.\n",
      "[Parallel(n_jobs=12)]: Done   6 tasks      | elapsed:    0.0s\n",
      "[Parallel(n_jobs=12)]: Done  64 out of  64 | elapsed:    0.0s finished\n"
     ]
    },
    {
     "name": "stdout",
     "output_type": "stream",
     "text": [
      "[FINISHED]\n",
      "Saving power at C:\\Users\\User\\Documents\\power\\power_asrt\\STIMULI-EPOCH\\113_R_Day1_P_3_power-tfr.h5 ...\n"
     ]
    },
    {
     "name": "stderr",
     "output_type": "stream",
     "text": [
      "C:\\Users\\User\\anaconda3\\envs\\eeg-workshop\\lib\\site-packages\\meeg_tools\\analysis_pipeline.py:136: FutureWarning: The frame.append method is deprecated and will be removed from pandas in a future version. Use pandas.concat instead.\n",
      "  metadata = metadata.append(data,\n",
      "[Parallel(n_jobs=12)]: Using backend LokyBackend with 12 concurrent workers.\n",
      "[Parallel(n_jobs=12)]: Done   6 tasks      | elapsed:    0.0s\n",
      "[Parallel(n_jobs=12)]: Done  64 out of  64 | elapsed:    0.0s finished\n"
     ]
    },
    {
     "name": "stdout",
     "output_type": "stream",
     "text": [
      "[FINISHED]\n",
      "Saving power at C:\\Users\\User\\Documents\\power\\power_asrt\\STIMULI-EPOCH\\113_R_Day1_P_4_power-tfr.h5 ...\n"
     ]
    },
    {
     "name": "stderr",
     "output_type": "stream",
     "text": [
      "C:\\Users\\User\\anaconda3\\envs\\eeg-workshop\\lib\\site-packages\\meeg_tools\\analysis_pipeline.py:136: FutureWarning: The frame.append method is deprecated and will be removed from pandas in a future version. Use pandas.concat instead.\n",
      "  metadata = metadata.append(data,\n",
      "[Parallel(n_jobs=12)]: Using backend LokyBackend with 12 concurrent workers.\n",
      "[Parallel(n_jobs=12)]: Done   6 tasks      | elapsed:    0.0s\n",
      "[Parallel(n_jobs=12)]: Done  64 out of  64 | elapsed:    0.0s finished\n"
     ]
    },
    {
     "name": "stdout",
     "output_type": "stream",
     "text": [
      "[FINISHED]\n",
      "Saving power at C:\\Users\\User\\Documents\\power\\power_asrt\\STIMULI-EPOCH\\113_R_Day1_P_5_power-tfr.h5 ...\n"
     ]
    },
    {
     "name": "stderr",
     "output_type": "stream",
     "text": [
      "C:\\Users\\User\\anaconda3\\envs\\eeg-workshop\\lib\\site-packages\\meeg_tools\\analysis_pipeline.py:136: FutureWarning: The frame.append method is deprecated and will be removed from pandas in a future version. Use pandas.concat instead.\n",
      "  metadata = metadata.append(data,\n",
      "[Parallel(n_jobs=12)]: Using backend LokyBackend with 12 concurrent workers.\n",
      "[Parallel(n_jobs=12)]: Done   6 tasks      | elapsed:    0.0s\n",
      "[Parallel(n_jobs=12)]: Done  64 out of  64 | elapsed:    0.0s finished\n"
     ]
    },
    {
     "name": "stdout",
     "output_type": "stream",
     "text": [
      "[FINISHED]\n",
      "Saving power at C:\\Users\\User\\Documents\\power\\power_asrt\\STIMULI-EPOCH\\113_R_Day1_R_1_power-tfr.h5 ...\n"
     ]
    },
    {
     "name": "stderr",
     "output_type": "stream",
     "text": [
      "C:\\Users\\User\\anaconda3\\envs\\eeg-workshop\\lib\\site-packages\\meeg_tools\\analysis_pipeline.py:136: FutureWarning: The frame.append method is deprecated and will be removed from pandas in a future version. Use pandas.concat instead.\n",
      "  metadata = metadata.append(data,\n",
      "[Parallel(n_jobs=12)]: Using backend LokyBackend with 12 concurrent workers.\n",
      "[Parallel(n_jobs=12)]: Done   6 tasks      | elapsed:    0.0s\n",
      "[Parallel(n_jobs=12)]: Done  64 out of  64 | elapsed:    0.0s finished\n"
     ]
    },
    {
     "name": "stdout",
     "output_type": "stream",
     "text": [
      "[FINISHED]\n",
      "Saving power at C:\\Users\\User\\Documents\\power\\power_asrt\\STIMULI-EPOCH\\113_R_Day1_R_2_power-tfr.h5 ...\n"
     ]
    },
    {
     "name": "stderr",
     "output_type": "stream",
     "text": [
      "C:\\Users\\User\\anaconda3\\envs\\eeg-workshop\\lib\\site-packages\\meeg_tools\\analysis_pipeline.py:136: FutureWarning: The frame.append method is deprecated and will be removed from pandas in a future version. Use pandas.concat instead.\n",
      "  metadata = metadata.append(data,\n",
      "[Parallel(n_jobs=12)]: Using backend LokyBackend with 12 concurrent workers.\n",
      "[Parallel(n_jobs=12)]: Done   6 tasks      | elapsed:    0.0s\n",
      "[Parallel(n_jobs=12)]: Done  64 out of  64 | elapsed:    0.0s finished\n"
     ]
    },
    {
     "name": "stdout",
     "output_type": "stream",
     "text": [
      "[FINISHED]\n",
      "Saving power at C:\\Users\\User\\Documents\\power\\power_asrt\\STIMULI-EPOCH\\113_R_Day1_R_3_power-tfr.h5 ...\n"
     ]
    },
    {
     "name": "stderr",
     "output_type": "stream",
     "text": [
      "C:\\Users\\User\\anaconda3\\envs\\eeg-workshop\\lib\\site-packages\\meeg_tools\\analysis_pipeline.py:136: FutureWarning: The frame.append method is deprecated and will be removed from pandas in a future version. Use pandas.concat instead.\n",
      "  metadata = metadata.append(data,\n",
      "[Parallel(n_jobs=12)]: Using backend LokyBackend with 12 concurrent workers.\n",
      "[Parallel(n_jobs=12)]: Done   6 tasks      | elapsed:    0.0s\n",
      "[Parallel(n_jobs=12)]: Done  64 out of  64 | elapsed:    0.0s finished\n"
     ]
    },
    {
     "name": "stdout",
     "output_type": "stream",
     "text": [
      "[FINISHED]\n",
      "Saving power at C:\\Users\\User\\Documents\\power\\power_asrt\\STIMULI-EPOCH\\113_R_Day1_R_4_power-tfr.h5 ...\n"
     ]
    },
    {
     "name": "stderr",
     "output_type": "stream",
     "text": [
      "C:\\Users\\User\\anaconda3\\envs\\eeg-workshop\\lib\\site-packages\\meeg_tools\\analysis_pipeline.py:136: FutureWarning: The frame.append method is deprecated and will be removed from pandas in a future version. Use pandas.concat instead.\n",
      "  metadata = metadata.append(data,\n",
      "[Parallel(n_jobs=12)]: Using backend LokyBackend with 12 concurrent workers.\n",
      "[Parallel(n_jobs=12)]: Done   6 tasks      | elapsed:    0.0s\n",
      "[Parallel(n_jobs=12)]: Done  64 out of  64 | elapsed:    0.0s finished\n"
     ]
    },
    {
     "name": "stdout",
     "output_type": "stream",
     "text": [
      "[FINISHED]\n",
      "Saving power at C:\\Users\\User\\Documents\\power\\power_asrt\\STIMULI-EPOCH\\113_R_Day1_R_5_power-tfr.h5 ...\n"
     ]
    },
    {
     "name": "stderr",
     "output_type": "stream",
     "text": [
      "C:\\Users\\User\\anaconda3\\envs\\eeg-workshop\\lib\\site-packages\\meeg_tools\\analysis_pipeline.py:136: FutureWarning: The frame.append method is deprecated and will be removed from pandas in a future version. Use pandas.concat instead.\n",
      "  metadata = metadata.append(data,\n",
      "[Parallel(n_jobs=12)]: Using backend LokyBackend with 12 concurrent workers.\n",
      "[Parallel(n_jobs=12)]: Done   6 tasks      | elapsed:    0.0s\n",
      "[Parallel(n_jobs=12)]: Done  64 out of  64 | elapsed:    0.0s finished\n"
     ]
    },
    {
     "name": "stdout",
     "output_type": "stream",
     "text": [
      "[FINISHED]\n"
     ]
    },
    {
     "name": "stderr",
     "output_type": "stream",
     "text": [
      "Processing 114_R_Day1_ICA_autoreject_ransac-epo.fif:   8%|██████                                                                   | 15/180 [03:59<43:14, 15.73s/it]"
     ]
    },
    {
     "name": "stdout",
     "output_type": "stream",
     "text": [
      "Loading data for 1505 events and 726 original time points ...\n",
      "Replacing existing metadata with 10 columns\n",
      "Replacing existing metadata with 10 columns\n",
      "Saving power at C:\\Users\\User\\Documents\\power\\power_asrt\\STIMULI-EPOCH\\114_R_Day1_P_1_power-tfr.h5 ...\n"
     ]
    },
    {
     "name": "stderr",
     "output_type": "stream",
     "text": [
      "C:\\Users\\User\\anaconda3\\envs\\eeg-workshop\\lib\\site-packages\\meeg_tools\\analysis_pipeline.py:136: FutureWarning: The frame.append method is deprecated and will be removed from pandas in a future version. Use pandas.concat instead.\n",
      "  metadata = metadata.append(data,\n",
      "[Parallel(n_jobs=12)]: Using backend LokyBackend with 12 concurrent workers.\n",
      "[Parallel(n_jobs=12)]: Done   6 tasks      | elapsed:    0.0s\n",
      "[Parallel(n_jobs=12)]: Done  64 out of  64 | elapsed:    0.0s finished\n"
     ]
    },
    {
     "name": "stdout",
     "output_type": "stream",
     "text": [
      "[FINISHED]\n"
     ]
    },
    {
     "name": "stderr",
     "output_type": "stream",
     "text": [
      "C:\\Users\\User\\anaconda3\\envs\\eeg-workshop\\lib\\site-packages\\meeg_tools\\analysis_pipeline.py:136: FutureWarning: The frame.append method is deprecated and will be removed from pandas in a future version. Use pandas.concat instead.\n",
      "  metadata = metadata.append(data,\n",
      "[Parallel(n_jobs=12)]: Using backend LokyBackend with 12 concurrent workers.\n",
      "[Parallel(n_jobs=12)]: Done   6 tasks      | elapsed:    0.0s\n",
      "[Parallel(n_jobs=12)]: Done  64 out of  64 | elapsed:    0.1s finished\n"
     ]
    },
    {
     "name": "stdout",
     "output_type": "stream",
     "text": [
      "Saving power at C:\\Users\\User\\Documents\\power\\power_asrt\\STIMULI-EPOCH\\114_R_Day1_P_2_power-tfr.h5 ...\n",
      "[FINISHED]\n",
      "Saving power at C:\\Users\\User\\Documents\\power\\power_asrt\\STIMULI-EPOCH\\114_R_Day1_P_3_power-tfr.h5 ...\n"
     ]
    },
    {
     "name": "stderr",
     "output_type": "stream",
     "text": [
      "C:\\Users\\User\\anaconda3\\envs\\eeg-workshop\\lib\\site-packages\\meeg_tools\\analysis_pipeline.py:136: FutureWarning: The frame.append method is deprecated and will be removed from pandas in a future version. Use pandas.concat instead.\n",
      "  metadata = metadata.append(data,\n",
      "[Parallel(n_jobs=12)]: Using backend LokyBackend with 12 concurrent workers.\n",
      "[Parallel(n_jobs=12)]: Done   6 tasks      | elapsed:    0.0s\n",
      "[Parallel(n_jobs=12)]: Done  64 out of  64 | elapsed:    0.0s finished\n"
     ]
    },
    {
     "name": "stdout",
     "output_type": "stream",
     "text": [
      "[FINISHED]\n",
      "Saving power at C:\\Users\\User\\Documents\\power\\power_asrt\\STIMULI-EPOCH\\114_R_Day1_P_4_power-tfr.h5 ...\n"
     ]
    },
    {
     "name": "stderr",
     "output_type": "stream",
     "text": [
      "C:\\Users\\User\\anaconda3\\envs\\eeg-workshop\\lib\\site-packages\\meeg_tools\\analysis_pipeline.py:136: FutureWarning: The frame.append method is deprecated and will be removed from pandas in a future version. Use pandas.concat instead.\n",
      "  metadata = metadata.append(data,\n",
      "[Parallel(n_jobs=12)]: Using backend LokyBackend with 12 concurrent workers.\n",
      "[Parallel(n_jobs=12)]: Done   6 tasks      | elapsed:    0.0s\n",
      "[Parallel(n_jobs=12)]: Done  64 out of  64 | elapsed:    0.0s finished\n"
     ]
    },
    {
     "name": "stdout",
     "output_type": "stream",
     "text": [
      "[FINISHED]\n",
      "Saving power at C:\\Users\\User\\Documents\\power\\power_asrt\\STIMULI-EPOCH\\114_R_Day1_P_5_power-tfr.h5 ...\n"
     ]
    },
    {
     "name": "stderr",
     "output_type": "stream",
     "text": [
      "C:\\Users\\User\\anaconda3\\envs\\eeg-workshop\\lib\\site-packages\\meeg_tools\\analysis_pipeline.py:136: FutureWarning: The frame.append method is deprecated and will be removed from pandas in a future version. Use pandas.concat instead.\n",
      "  metadata = metadata.append(data,\n",
      "[Parallel(n_jobs=12)]: Using backend LokyBackend with 12 concurrent workers.\n",
      "[Parallel(n_jobs=12)]: Done   6 tasks      | elapsed:    0.0s\n",
      "[Parallel(n_jobs=12)]: Done  64 out of  64 | elapsed:    0.0s finished\n"
     ]
    },
    {
     "name": "stdout",
     "output_type": "stream",
     "text": [
      "[FINISHED]\n",
      "Saving power at C:\\Users\\User\\Documents\\power\\power_asrt\\STIMULI-EPOCH\\114_R_Day1_R_1_power-tfr.h5 ...\n"
     ]
    },
    {
     "name": "stderr",
     "output_type": "stream",
     "text": [
      "C:\\Users\\User\\anaconda3\\envs\\eeg-workshop\\lib\\site-packages\\meeg_tools\\analysis_pipeline.py:136: FutureWarning: The frame.append method is deprecated and will be removed from pandas in a future version. Use pandas.concat instead.\n",
      "  metadata = metadata.append(data,\n",
      "[Parallel(n_jobs=12)]: Using backend LokyBackend with 12 concurrent workers.\n",
      "[Parallel(n_jobs=12)]: Done   6 tasks      | elapsed:    0.0s\n",
      "[Parallel(n_jobs=12)]: Done  64 out of  64 | elapsed:    0.0s finished\n"
     ]
    },
    {
     "name": "stdout",
     "output_type": "stream",
     "text": [
      "[FINISHED]\n",
      "Saving power at C:\\Users\\User\\Documents\\power\\power_asrt\\STIMULI-EPOCH\\114_R_Day1_R_2_power-tfr.h5 ...\n"
     ]
    },
    {
     "name": "stderr",
     "output_type": "stream",
     "text": [
      "C:\\Users\\User\\anaconda3\\envs\\eeg-workshop\\lib\\site-packages\\meeg_tools\\analysis_pipeline.py:136: FutureWarning: The frame.append method is deprecated and will be removed from pandas in a future version. Use pandas.concat instead.\n",
      "  metadata = metadata.append(data,\n",
      "[Parallel(n_jobs=12)]: Using backend LokyBackend with 12 concurrent workers.\n",
      "[Parallel(n_jobs=12)]: Done   6 tasks      | elapsed:    0.0s\n",
      "[Parallel(n_jobs=12)]: Done  64 out of  64 | elapsed:    0.0s finished\n"
     ]
    },
    {
     "name": "stdout",
     "output_type": "stream",
     "text": [
      "[FINISHED]\n",
      "Saving power at C:\\Users\\User\\Documents\\power\\power_asrt\\STIMULI-EPOCH\\114_R_Day1_R_3_power-tfr.h5 ...\n"
     ]
    },
    {
     "name": "stderr",
     "output_type": "stream",
     "text": [
      "C:\\Users\\User\\anaconda3\\envs\\eeg-workshop\\lib\\site-packages\\meeg_tools\\analysis_pipeline.py:136: FutureWarning: The frame.append method is deprecated and will be removed from pandas in a future version. Use pandas.concat instead.\n",
      "  metadata = metadata.append(data,\n",
      "[Parallel(n_jobs=12)]: Using backend LokyBackend with 12 concurrent workers.\n",
      "[Parallel(n_jobs=12)]: Done   6 tasks      | elapsed:    0.0s\n",
      "[Parallel(n_jobs=12)]: Done  64 out of  64 | elapsed:    0.0s finished\n"
     ]
    },
    {
     "name": "stdout",
     "output_type": "stream",
     "text": [
      "[FINISHED]\n",
      "Saving power at C:\\Users\\User\\Documents\\power\\power_asrt\\STIMULI-EPOCH\\114_R_Day1_R_4_power-tfr.h5 ...\n"
     ]
    },
    {
     "name": "stderr",
     "output_type": "stream",
     "text": [
      "C:\\Users\\User\\anaconda3\\envs\\eeg-workshop\\lib\\site-packages\\meeg_tools\\analysis_pipeline.py:136: FutureWarning: The frame.append method is deprecated and will be removed from pandas in a future version. Use pandas.concat instead.\n",
      "  metadata = metadata.append(data,\n",
      "[Parallel(n_jobs=12)]: Using backend LokyBackend with 12 concurrent workers.\n",
      "[Parallel(n_jobs=12)]: Done   6 tasks      | elapsed:    0.0s\n",
      "[Parallel(n_jobs=12)]: Done  64 out of  64 | elapsed:    0.0s finished\n"
     ]
    },
    {
     "name": "stdout",
     "output_type": "stream",
     "text": [
      "[FINISHED]\n",
      "Saving power at C:\\Users\\User\\Documents\\power\\power_asrt\\STIMULI-EPOCH\\114_R_Day1_R_5_power-tfr.h5 ...\n"
     ]
    },
    {
     "name": "stderr",
     "output_type": "stream",
     "text": [
      "C:\\Users\\User\\anaconda3\\envs\\eeg-workshop\\lib\\site-packages\\meeg_tools\\analysis_pipeline.py:136: FutureWarning: The frame.append method is deprecated and will be removed from pandas in a future version. Use pandas.concat instead.\n",
      "  metadata = metadata.append(data,\n",
      "[Parallel(n_jobs=12)]: Using backend LokyBackend with 12 concurrent workers.\n",
      "[Parallel(n_jobs=12)]: Done   6 tasks      | elapsed:    0.0s\n",
      "[Parallel(n_jobs=12)]: Done  64 out of  64 | elapsed:    0.0s finished\n"
     ]
    },
    {
     "name": "stdout",
     "output_type": "stream",
     "text": [
      "[FINISHED]\n"
     ]
    },
    {
     "name": "stderr",
     "output_type": "stream",
     "text": [
      "Processing 115_R_Day1_ICA_autoreject_ransac-epo.fif:   9%|██████▍                                                                  | 16/180 [04:17<45:02, 16.48s/it]"
     ]
    },
    {
     "name": "stdout",
     "output_type": "stream",
     "text": [
      "Loading data for 1488 events and 726 original time points ...\n",
      "Replacing existing metadata with 10 columns\n",
      "Replacing existing metadata with 10 columns\n",
      "Saving power at C:\\Users\\User\\Documents\\power\\power_asrt\\STIMULI-EPOCH\\115_R_Day1_P_1_power-tfr.h5 ...\n"
     ]
    },
    {
     "name": "stderr",
     "output_type": "stream",
     "text": [
      "C:\\Users\\User\\anaconda3\\envs\\eeg-workshop\\lib\\site-packages\\meeg_tools\\analysis_pipeline.py:136: FutureWarning: The frame.append method is deprecated and will be removed from pandas in a future version. Use pandas.concat instead.\n",
      "  metadata = metadata.append(data,\n",
      "[Parallel(n_jobs=12)]: Using backend LokyBackend with 12 concurrent workers.\n",
      "[Parallel(n_jobs=12)]: Done   6 tasks      | elapsed:    0.0s\n",
      "[Parallel(n_jobs=12)]: Done  64 out of  64 | elapsed:    0.0s finished\n"
     ]
    },
    {
     "name": "stdout",
     "output_type": "stream",
     "text": [
      "[FINISHED]\n",
      "Saving power at C:\\Users\\User\\Documents\\power\\power_asrt\\STIMULI-EPOCH\\115_R_Day1_P_2_power-tfr.h5 ...\n"
     ]
    },
    {
     "name": "stderr",
     "output_type": "stream",
     "text": [
      "C:\\Users\\User\\anaconda3\\envs\\eeg-workshop\\lib\\site-packages\\meeg_tools\\analysis_pipeline.py:136: FutureWarning: The frame.append method is deprecated and will be removed from pandas in a future version. Use pandas.concat instead.\n",
      "  metadata = metadata.append(data,\n",
      "[Parallel(n_jobs=12)]: Using backend LokyBackend with 12 concurrent workers.\n",
      "[Parallel(n_jobs=12)]: Done   6 tasks      | elapsed:    0.0s\n",
      "[Parallel(n_jobs=12)]: Done  64 out of  64 | elapsed:    0.0s finished\n"
     ]
    },
    {
     "name": "stdout",
     "output_type": "stream",
     "text": [
      "[FINISHED]\n",
      "Saving power at C:\\Users\\User\\Documents\\power\\power_asrt\\STIMULI-EPOCH\\115_R_Day1_P_3_power-tfr.h5 ...\n"
     ]
    },
    {
     "name": "stderr",
     "output_type": "stream",
     "text": [
      "C:\\Users\\User\\anaconda3\\envs\\eeg-workshop\\lib\\site-packages\\meeg_tools\\analysis_pipeline.py:136: FutureWarning: The frame.append method is deprecated and will be removed from pandas in a future version. Use pandas.concat instead.\n",
      "  metadata = metadata.append(data,\n",
      "[Parallel(n_jobs=12)]: Using backend LokyBackend with 12 concurrent workers.\n",
      "[Parallel(n_jobs=12)]: Done   6 tasks      | elapsed:    0.0s\n",
      "[Parallel(n_jobs=12)]: Done  64 out of  64 | elapsed:    0.0s finished\n"
     ]
    },
    {
     "name": "stdout",
     "output_type": "stream",
     "text": [
      "[FINISHED]\n",
      "Saving power at C:\\Users\\User\\Documents\\power\\power_asrt\\STIMULI-EPOCH\\115_R_Day1_P_4_power-tfr.h5 ...\n"
     ]
    },
    {
     "name": "stderr",
     "output_type": "stream",
     "text": [
      "C:\\Users\\User\\anaconda3\\envs\\eeg-workshop\\lib\\site-packages\\meeg_tools\\analysis_pipeline.py:136: FutureWarning: The frame.append method is deprecated and will be removed from pandas in a future version. Use pandas.concat instead.\n",
      "  metadata = metadata.append(data,\n",
      "[Parallel(n_jobs=12)]: Using backend LokyBackend with 12 concurrent workers.\n",
      "[Parallel(n_jobs=12)]: Done   6 tasks      | elapsed:    0.0s\n",
      "[Parallel(n_jobs=12)]: Done  64 out of  64 | elapsed:    0.0s finished\n"
     ]
    },
    {
     "name": "stdout",
     "output_type": "stream",
     "text": [
      "[FINISHED]\n",
      "Saving power at C:\\Users\\User\\Documents\\power\\power_asrt\\STIMULI-EPOCH\\115_R_Day1_P_5_power-tfr.h5 ...\n"
     ]
    },
    {
     "name": "stderr",
     "output_type": "stream",
     "text": [
      "C:\\Users\\User\\anaconda3\\envs\\eeg-workshop\\lib\\site-packages\\meeg_tools\\analysis_pipeline.py:136: FutureWarning: The frame.append method is deprecated and will be removed from pandas in a future version. Use pandas.concat instead.\n",
      "  metadata = metadata.append(data,\n",
      "[Parallel(n_jobs=12)]: Using backend LokyBackend with 12 concurrent workers.\n",
      "[Parallel(n_jobs=12)]: Done   6 tasks      | elapsed:    0.0s\n",
      "[Parallel(n_jobs=12)]: Done  64 out of  64 | elapsed:    0.0s finished\n"
     ]
    },
    {
     "name": "stdout",
     "output_type": "stream",
     "text": [
      "[FINISHED]\n",
      "Saving power at C:\\Users\\User\\Documents\\power\\power_asrt\\STIMULI-EPOCH\\115_R_Day1_R_1_power-tfr.h5 ...\n"
     ]
    },
    {
     "name": "stderr",
     "output_type": "stream",
     "text": [
      "C:\\Users\\User\\anaconda3\\envs\\eeg-workshop\\lib\\site-packages\\meeg_tools\\analysis_pipeline.py:136: FutureWarning: The frame.append method is deprecated and will be removed from pandas in a future version. Use pandas.concat instead.\n",
      "  metadata = metadata.append(data,\n",
      "[Parallel(n_jobs=12)]: Using backend LokyBackend with 12 concurrent workers.\n",
      "[Parallel(n_jobs=12)]: Done   6 tasks      | elapsed:    0.0s\n",
      "[Parallel(n_jobs=12)]: Done  64 out of  64 | elapsed:    0.0s finished\n"
     ]
    },
    {
     "name": "stdout",
     "output_type": "stream",
     "text": [
      "[FINISHED]\n",
      "Saving power at C:\\Users\\User\\Documents\\power\\power_asrt\\STIMULI-EPOCH\\115_R_Day1_R_2_power-tfr.h5 ...\n"
     ]
    },
    {
     "name": "stderr",
     "output_type": "stream",
     "text": [
      "C:\\Users\\User\\anaconda3\\envs\\eeg-workshop\\lib\\site-packages\\meeg_tools\\analysis_pipeline.py:136: FutureWarning: The frame.append method is deprecated and will be removed from pandas in a future version. Use pandas.concat instead.\n",
      "  metadata = metadata.append(data,\n",
      "[Parallel(n_jobs=12)]: Using backend LokyBackend with 12 concurrent workers.\n",
      "[Parallel(n_jobs=12)]: Done   6 tasks      | elapsed:    0.0s\n",
      "[Parallel(n_jobs=12)]: Done  64 out of  64 | elapsed:    0.0s finished\n"
     ]
    },
    {
     "name": "stdout",
     "output_type": "stream",
     "text": [
      "[FINISHED]\n",
      "Saving power at C:\\Users\\User\\Documents\\power\\power_asrt\\STIMULI-EPOCH\\115_R_Day1_R_3_power-tfr.h5 ...\n"
     ]
    },
    {
     "name": "stderr",
     "output_type": "stream",
     "text": [
      "C:\\Users\\User\\anaconda3\\envs\\eeg-workshop\\lib\\site-packages\\meeg_tools\\analysis_pipeline.py:136: FutureWarning: The frame.append method is deprecated and will be removed from pandas in a future version. Use pandas.concat instead.\n",
      "  metadata = metadata.append(data,\n",
      "[Parallel(n_jobs=12)]: Using backend LokyBackend with 12 concurrent workers.\n",
      "[Parallel(n_jobs=12)]: Done   6 tasks      | elapsed:    0.0s\n",
      "[Parallel(n_jobs=12)]: Done  64 out of  64 | elapsed:    0.0s finished\n"
     ]
    },
    {
     "name": "stdout",
     "output_type": "stream",
     "text": [
      "[FINISHED]\n",
      "Saving power at C:\\Users\\User\\Documents\\power\\power_asrt\\STIMULI-EPOCH\\115_R_Day1_R_4_power-tfr.h5 ...\n"
     ]
    },
    {
     "name": "stderr",
     "output_type": "stream",
     "text": [
      "C:\\Users\\User\\anaconda3\\envs\\eeg-workshop\\lib\\site-packages\\meeg_tools\\analysis_pipeline.py:136: FutureWarning: The frame.append method is deprecated and will be removed from pandas in a future version. Use pandas.concat instead.\n",
      "  metadata = metadata.append(data,\n",
      "[Parallel(n_jobs=12)]: Using backend LokyBackend with 12 concurrent workers.\n",
      "[Parallel(n_jobs=12)]: Done   6 tasks      | elapsed:    0.0s\n",
      "[Parallel(n_jobs=12)]: Done  64 out of  64 | elapsed:    0.0s finished\n"
     ]
    },
    {
     "name": "stdout",
     "output_type": "stream",
     "text": [
      "[FINISHED]\n",
      "Saving power at C:\\Users\\User\\Documents\\power\\power_asrt\\STIMULI-EPOCH\\115_R_Day1_R_5_power-tfr.h5 ...\n"
     ]
    },
    {
     "name": "stderr",
     "output_type": "stream",
     "text": [
      "C:\\Users\\User\\anaconda3\\envs\\eeg-workshop\\lib\\site-packages\\meeg_tools\\analysis_pipeline.py:136: FutureWarning: The frame.append method is deprecated and will be removed from pandas in a future version. Use pandas.concat instead.\n",
      "  metadata = metadata.append(data,\n",
      "[Parallel(n_jobs=12)]: Using backend LokyBackend with 12 concurrent workers.\n",
      "[Parallel(n_jobs=12)]: Done   6 tasks      | elapsed:    0.0s\n",
      "[Parallel(n_jobs=12)]: Done  64 out of  64 | elapsed:    0.0s finished\n"
     ]
    },
    {
     "name": "stdout",
     "output_type": "stream",
     "text": [
      "[FINISHED]\n"
     ]
    },
    {
     "name": "stderr",
     "output_type": "stream",
     "text": [
      "Processing 116_L_Day1_ICA_autoreject_ransac-epo.fif:   9%|██████▉                                                                  | 17/180 [04:34<45:18, 16.68s/it]"
     ]
    },
    {
     "name": "stdout",
     "output_type": "stream",
     "text": [
      "Loading data for 1416 events and 726 original time points ...\n",
      "Replacing existing metadata with 10 columns\n",
      "Replacing existing metadata with 10 columns\n",
      "Saving power at C:\\Users\\User\\Documents\\power\\power_asrt\\STIMULI-EPOCH\\116_L_Day1_P_1_power-tfr.h5 ...\n"
     ]
    },
    {
     "name": "stderr",
     "output_type": "stream",
     "text": [
      "C:\\Users\\User\\anaconda3\\envs\\eeg-workshop\\lib\\site-packages\\meeg_tools\\analysis_pipeline.py:136: FutureWarning: The frame.append method is deprecated and will be removed from pandas in a future version. Use pandas.concat instead.\n",
      "  metadata = metadata.append(data,\n",
      "[Parallel(n_jobs=12)]: Using backend LokyBackend with 12 concurrent workers.\n",
      "[Parallel(n_jobs=12)]: Done   6 tasks      | elapsed:    0.0s\n",
      "[Parallel(n_jobs=12)]: Done  64 out of  64 | elapsed:    0.0s finished\n"
     ]
    },
    {
     "name": "stdout",
     "output_type": "stream",
     "text": [
      "[FINISHED]\n",
      "Saving power at C:\\Users\\User\\Documents\\power\\power_asrt\\STIMULI-EPOCH\\116_L_Day1_P_2_power-tfr.h5 ...\n"
     ]
    },
    {
     "name": "stderr",
     "output_type": "stream",
     "text": [
      "C:\\Users\\User\\anaconda3\\envs\\eeg-workshop\\lib\\site-packages\\meeg_tools\\analysis_pipeline.py:136: FutureWarning: The frame.append method is deprecated and will be removed from pandas in a future version. Use pandas.concat instead.\n",
      "  metadata = metadata.append(data,\n",
      "[Parallel(n_jobs=12)]: Using backend LokyBackend with 12 concurrent workers.\n",
      "[Parallel(n_jobs=12)]: Done   6 tasks      | elapsed:    0.0s\n",
      "[Parallel(n_jobs=12)]: Done  64 out of  64 | elapsed:    0.1s finished\n"
     ]
    },
    {
     "name": "stdout",
     "output_type": "stream",
     "text": [
      "[FINISHED]\n",
      "Saving power at C:\\Users\\User\\Documents\\power\\power_asrt\\STIMULI-EPOCH\\116_L_Day1_P_3_power-tfr.h5 ...\n"
     ]
    },
    {
     "name": "stderr",
     "output_type": "stream",
     "text": [
      "C:\\Users\\User\\anaconda3\\envs\\eeg-workshop\\lib\\site-packages\\meeg_tools\\analysis_pipeline.py:136: FutureWarning: The frame.append method is deprecated and will be removed from pandas in a future version. Use pandas.concat instead.\n",
      "  metadata = metadata.append(data,\n",
      "[Parallel(n_jobs=12)]: Using backend LokyBackend with 12 concurrent workers.\n",
      "[Parallel(n_jobs=12)]: Done   6 tasks      | elapsed:    0.0s\n",
      "[Parallel(n_jobs=12)]: Done  64 out of  64 | elapsed:    0.0s finished\n"
     ]
    },
    {
     "name": "stdout",
     "output_type": "stream",
     "text": [
      "[FINISHED]\n",
      "Saving power at C:\\Users\\User\\Documents\\power\\power_asrt\\STIMULI-EPOCH\\116_L_Day1_P_4_power-tfr.h5 ...\n"
     ]
    },
    {
     "name": "stderr",
     "output_type": "stream",
     "text": [
      "C:\\Users\\User\\anaconda3\\envs\\eeg-workshop\\lib\\site-packages\\meeg_tools\\analysis_pipeline.py:136: FutureWarning: The frame.append method is deprecated and will be removed from pandas in a future version. Use pandas.concat instead.\n",
      "  metadata = metadata.append(data,\n",
      "[Parallel(n_jobs=12)]: Using backend LokyBackend with 12 concurrent workers.\n",
      "[Parallel(n_jobs=12)]: Done   6 tasks      | elapsed:    0.0s\n",
      "[Parallel(n_jobs=12)]: Done  64 out of  64 | elapsed:    0.0s finished\n"
     ]
    },
    {
     "name": "stdout",
     "output_type": "stream",
     "text": [
      "[FINISHED]\n",
      "Saving power at C:\\Users\\User\\Documents\\power\\power_asrt\\STIMULI-EPOCH\\116_L_Day1_P_5_power-tfr.h5 ...\n"
     ]
    },
    {
     "name": "stderr",
     "output_type": "stream",
     "text": [
      "C:\\Users\\User\\anaconda3\\envs\\eeg-workshop\\lib\\site-packages\\meeg_tools\\analysis_pipeline.py:136: FutureWarning: The frame.append method is deprecated and will be removed from pandas in a future version. Use pandas.concat instead.\n",
      "  metadata = metadata.append(data,\n",
      "[Parallel(n_jobs=12)]: Using backend LokyBackend with 12 concurrent workers.\n",
      "[Parallel(n_jobs=12)]: Done   6 tasks      | elapsed:    0.0s\n",
      "[Parallel(n_jobs=12)]: Done  64 out of  64 | elapsed:    0.1s finished\n"
     ]
    },
    {
     "name": "stdout",
     "output_type": "stream",
     "text": [
      "[FINISHED]\n",
      "Saving power at C:\\Users\\User\\Documents\\power\\power_asrt\\STIMULI-EPOCH\\116_L_Day1_R_1_power-tfr.h5 ...\n"
     ]
    },
    {
     "name": "stderr",
     "output_type": "stream",
     "text": [
      "C:\\Users\\User\\anaconda3\\envs\\eeg-workshop\\lib\\site-packages\\meeg_tools\\analysis_pipeline.py:136: FutureWarning: The frame.append method is deprecated and will be removed from pandas in a future version. Use pandas.concat instead.\n",
      "  metadata = metadata.append(data,\n",
      "[Parallel(n_jobs=12)]: Using backend LokyBackend with 12 concurrent workers.\n",
      "[Parallel(n_jobs=12)]: Done   6 tasks      | elapsed:    0.0s\n",
      "[Parallel(n_jobs=12)]: Done  64 out of  64 | elapsed:    0.0s finished\n"
     ]
    },
    {
     "name": "stdout",
     "output_type": "stream",
     "text": [
      "[FINISHED]\n",
      "Saving power at C:\\Users\\User\\Documents\\power\\power_asrt\\STIMULI-EPOCH\\116_L_Day1_R_2_power-tfr.h5 ...\n"
     ]
    },
    {
     "name": "stderr",
     "output_type": "stream",
     "text": [
      "C:\\Users\\User\\anaconda3\\envs\\eeg-workshop\\lib\\site-packages\\meeg_tools\\analysis_pipeline.py:136: FutureWarning: The frame.append method is deprecated and will be removed from pandas in a future version. Use pandas.concat instead.\n",
      "  metadata = metadata.append(data,\n",
      "[Parallel(n_jobs=12)]: Using backend LokyBackend with 12 concurrent workers.\n",
      "[Parallel(n_jobs=12)]: Done   6 tasks      | elapsed:    0.0s\n",
      "[Parallel(n_jobs=12)]: Done  64 out of  64 | elapsed:    0.0s finished\n"
     ]
    },
    {
     "name": "stdout",
     "output_type": "stream",
     "text": [
      "[FINISHED]\n",
      "Saving power at C:\\Users\\User\\Documents\\power\\power_asrt\\STIMULI-EPOCH\\116_L_Day1_R_3_power-tfr.h5 ...\n"
     ]
    },
    {
     "name": "stderr",
     "output_type": "stream",
     "text": [
      "C:\\Users\\User\\anaconda3\\envs\\eeg-workshop\\lib\\site-packages\\meeg_tools\\analysis_pipeline.py:136: FutureWarning: The frame.append method is deprecated and will be removed from pandas in a future version. Use pandas.concat instead.\n",
      "  metadata = metadata.append(data,\n",
      "[Parallel(n_jobs=12)]: Using backend LokyBackend with 12 concurrent workers.\n",
      "[Parallel(n_jobs=12)]: Done   6 tasks      | elapsed:    0.0s\n",
      "[Parallel(n_jobs=12)]: Done  64 out of  64 | elapsed:    0.0s finished\n"
     ]
    },
    {
     "name": "stdout",
     "output_type": "stream",
     "text": [
      "[FINISHED]\n",
      "Saving power at C:\\Users\\User\\Documents\\power\\power_asrt\\STIMULI-EPOCH\\116_L_Day1_R_4_power-tfr.h5 ...\n"
     ]
    },
    {
     "name": "stderr",
     "output_type": "stream",
     "text": [
      "C:\\Users\\User\\anaconda3\\envs\\eeg-workshop\\lib\\site-packages\\meeg_tools\\analysis_pipeline.py:136: FutureWarning: The frame.append method is deprecated and will be removed from pandas in a future version. Use pandas.concat instead.\n",
      "  metadata = metadata.append(data,\n",
      "[Parallel(n_jobs=12)]: Using backend LokyBackend with 12 concurrent workers.\n",
      "[Parallel(n_jobs=12)]: Done   6 tasks      | elapsed:    0.0s\n",
      "[Parallel(n_jobs=12)]: Done  64 out of  64 | elapsed:    0.0s finished\n"
     ]
    },
    {
     "name": "stdout",
     "output_type": "stream",
     "text": [
      "[FINISHED]\n",
      "Saving power at C:\\Users\\User\\Documents\\power\\power_asrt\\STIMULI-EPOCH\\116_L_Day1_R_5_power-tfr.h5 ...\n"
     ]
    },
    {
     "name": "stderr",
     "output_type": "stream",
     "text": [
      "C:\\Users\\User\\anaconda3\\envs\\eeg-workshop\\lib\\site-packages\\meeg_tools\\analysis_pipeline.py:136: FutureWarning: The frame.append method is deprecated and will be removed from pandas in a future version. Use pandas.concat instead.\n",
      "  metadata = metadata.append(data,\n",
      "[Parallel(n_jobs=12)]: Using backend LokyBackend with 12 concurrent workers.\n",
      "[Parallel(n_jobs=12)]: Done   6 tasks      | elapsed:    0.0s\n",
      "[Parallel(n_jobs=12)]: Done  64 out of  64 | elapsed:    0.0s finished\n"
     ]
    },
    {
     "name": "stdout",
     "output_type": "stream",
     "text": [
      "[FINISHED]\n"
     ]
    },
    {
     "name": "stderr",
     "output_type": "stream",
     "text": [
      "Processing 117_B_Day1_ICA_autoreject_ransac-epo.fif:  10%|███████▎                                                                 | 18/180 [04:49<43:58, 16.28s/it]"
     ]
    },
    {
     "name": "stdout",
     "output_type": "stream",
     "text": [
      "Loading data for 1260 events and 726 original time points ...\n",
      "Replacing existing metadata with 10 columns\n",
      "Replacing existing metadata with 10 columns\n",
      "Saving power at C:\\Users\\User\\Documents\\power\\power_asrt\\STIMULI-EPOCH\\117_B_Day1_P_1_power-tfr.h5 ...\n"
     ]
    },
    {
     "name": "stderr",
     "output_type": "stream",
     "text": [
      "C:\\Users\\User\\anaconda3\\envs\\eeg-workshop\\lib\\site-packages\\meeg_tools\\analysis_pipeline.py:136: FutureWarning: The frame.append method is deprecated and will be removed from pandas in a future version. Use pandas.concat instead.\n",
      "  metadata = metadata.append(data,\n",
      "[Parallel(n_jobs=12)]: Using backend LokyBackend with 12 concurrent workers.\n",
      "[Parallel(n_jobs=12)]: Done   6 tasks      | elapsed:    0.0s\n",
      "[Parallel(n_jobs=12)]: Done  64 out of  64 | elapsed:    0.0s finished\n"
     ]
    },
    {
     "name": "stdout",
     "output_type": "stream",
     "text": [
      "[FINISHED]\n",
      "Saving power at C:\\Users\\User\\Documents\\power\\power_asrt\\STIMULI-EPOCH\\117_B_Day1_P_2_power-tfr.h5 ...\n"
     ]
    },
    {
     "name": "stderr",
     "output_type": "stream",
     "text": [
      "C:\\Users\\User\\anaconda3\\envs\\eeg-workshop\\lib\\site-packages\\meeg_tools\\analysis_pipeline.py:136: FutureWarning: The frame.append method is deprecated and will be removed from pandas in a future version. Use pandas.concat instead.\n",
      "  metadata = metadata.append(data,\n",
      "[Parallel(n_jobs=12)]: Using backend LokyBackend with 12 concurrent workers.\n",
      "[Parallel(n_jobs=12)]: Done   6 tasks      | elapsed:    0.0s\n",
      "[Parallel(n_jobs=12)]: Done  64 out of  64 | elapsed:    0.1s finished\n"
     ]
    },
    {
     "name": "stdout",
     "output_type": "stream",
     "text": [
      "[FINISHED]\n",
      "Saving power at C:\\Users\\User\\Documents\\power\\power_asrt\\STIMULI-EPOCH\\117_B_Day1_P_3_power-tfr.h5 ...\n"
     ]
    },
    {
     "name": "stderr",
     "output_type": "stream",
     "text": [
      "C:\\Users\\User\\anaconda3\\envs\\eeg-workshop\\lib\\site-packages\\meeg_tools\\analysis_pipeline.py:136: FutureWarning: The frame.append method is deprecated and will be removed from pandas in a future version. Use pandas.concat instead.\n",
      "  metadata = metadata.append(data,\n",
      "[Parallel(n_jobs=12)]: Using backend LokyBackend with 12 concurrent workers.\n",
      "[Parallel(n_jobs=12)]: Done   6 tasks      | elapsed:    0.0s\n",
      "[Parallel(n_jobs=12)]: Done  64 out of  64 | elapsed:    0.0s finished\n"
     ]
    },
    {
     "name": "stdout",
     "output_type": "stream",
     "text": [
      "[FINISHED]\n",
      "Saving power at C:\\Users\\User\\Documents\\power\\power_asrt\\STIMULI-EPOCH\\117_B_Day1_P_4_power-tfr.h5 ...\n"
     ]
    },
    {
     "name": "stderr",
     "output_type": "stream",
     "text": [
      "C:\\Users\\User\\anaconda3\\envs\\eeg-workshop\\lib\\site-packages\\meeg_tools\\analysis_pipeline.py:136: FutureWarning: The frame.append method is deprecated and will be removed from pandas in a future version. Use pandas.concat instead.\n",
      "  metadata = metadata.append(data,\n",
      "[Parallel(n_jobs=12)]: Using backend LokyBackend with 12 concurrent workers.\n",
      "[Parallel(n_jobs=12)]: Done   6 tasks      | elapsed:    0.0s\n",
      "[Parallel(n_jobs=12)]: Done  64 out of  64 | elapsed:    0.0s finished\n"
     ]
    },
    {
     "name": "stdout",
     "output_type": "stream",
     "text": [
      "[FINISHED]\n",
      "Saving power at C:\\Users\\User\\Documents\\power\\power_asrt\\STIMULI-EPOCH\\117_B_Day1_P_5_power-tfr.h5 ...\n"
     ]
    },
    {
     "name": "stderr",
     "output_type": "stream",
     "text": [
      "C:\\Users\\User\\anaconda3\\envs\\eeg-workshop\\lib\\site-packages\\meeg_tools\\analysis_pipeline.py:136: FutureWarning: The frame.append method is deprecated and will be removed from pandas in a future version. Use pandas.concat instead.\n",
      "  metadata = metadata.append(data,\n",
      "[Parallel(n_jobs=12)]: Using backend LokyBackend with 12 concurrent workers.\n",
      "[Parallel(n_jobs=12)]: Done   6 tasks      | elapsed:    0.0s\n",
      "[Parallel(n_jobs=12)]: Done  64 out of  64 | elapsed:    0.1s finished\n"
     ]
    },
    {
     "name": "stdout",
     "output_type": "stream",
     "text": [
      "[FINISHED]\n",
      "Saving power at C:\\Users\\User\\Documents\\power\\power_asrt\\STIMULI-EPOCH\\117_B_Day1_R_1_power-tfr.h5 ...\n"
     ]
    },
    {
     "name": "stderr",
     "output_type": "stream",
     "text": [
      "C:\\Users\\User\\anaconda3\\envs\\eeg-workshop\\lib\\site-packages\\meeg_tools\\analysis_pipeline.py:136: FutureWarning: The frame.append method is deprecated and will be removed from pandas in a future version. Use pandas.concat instead.\n",
      "  metadata = metadata.append(data,\n",
      "[Parallel(n_jobs=12)]: Using backend LokyBackend with 12 concurrent workers.\n",
      "[Parallel(n_jobs=12)]: Done   6 tasks      | elapsed:    0.0s\n",
      "[Parallel(n_jobs=12)]: Done  64 out of  64 | elapsed:    0.0s finished\n"
     ]
    },
    {
     "name": "stdout",
     "output_type": "stream",
     "text": [
      "[FINISHED]\n",
      "Saving power at C:\\Users\\User\\Documents\\power\\power_asrt\\STIMULI-EPOCH\\117_B_Day1_R_2_power-tfr.h5 ...\n"
     ]
    },
    {
     "name": "stderr",
     "output_type": "stream",
     "text": [
      "C:\\Users\\User\\anaconda3\\envs\\eeg-workshop\\lib\\site-packages\\meeg_tools\\analysis_pipeline.py:136: FutureWarning: The frame.append method is deprecated and will be removed from pandas in a future version. Use pandas.concat instead.\n",
      "  metadata = metadata.append(data,\n",
      "[Parallel(n_jobs=12)]: Using backend LokyBackend with 12 concurrent workers.\n",
      "[Parallel(n_jobs=12)]: Done   6 tasks      | elapsed:    0.0s\n",
      "[Parallel(n_jobs=12)]: Done  64 out of  64 | elapsed:    0.0s finished\n"
     ]
    },
    {
     "name": "stdout",
     "output_type": "stream",
     "text": [
      "[FINISHED]\n",
      "Saving power at C:\\Users\\User\\Documents\\power\\power_asrt\\STIMULI-EPOCH\\117_B_Day1_R_3_power-tfr.h5 ...\n"
     ]
    },
    {
     "name": "stderr",
     "output_type": "stream",
     "text": [
      "C:\\Users\\User\\anaconda3\\envs\\eeg-workshop\\lib\\site-packages\\meeg_tools\\analysis_pipeline.py:136: FutureWarning: The frame.append method is deprecated and will be removed from pandas in a future version. Use pandas.concat instead.\n",
      "  metadata = metadata.append(data,\n",
      "[Parallel(n_jobs=12)]: Using backend LokyBackend with 12 concurrent workers.\n",
      "[Parallel(n_jobs=12)]: Done   6 tasks      | elapsed:    0.0s\n",
      "[Parallel(n_jobs=12)]: Done  64 out of  64 | elapsed:    0.0s finished\n"
     ]
    },
    {
     "name": "stdout",
     "output_type": "stream",
     "text": [
      "[FINISHED]\n",
      "Saving power at C:\\Users\\User\\Documents\\power\\power_asrt\\STIMULI-EPOCH\\117_B_Day1_R_4_power-tfr.h5 ...\n"
     ]
    },
    {
     "name": "stderr",
     "output_type": "stream",
     "text": [
      "C:\\Users\\User\\anaconda3\\envs\\eeg-workshop\\lib\\site-packages\\meeg_tools\\analysis_pipeline.py:136: FutureWarning: The frame.append method is deprecated and will be removed from pandas in a future version. Use pandas.concat instead.\n",
      "  metadata = metadata.append(data,\n",
      "[Parallel(n_jobs=12)]: Using backend LokyBackend with 12 concurrent workers.\n",
      "[Parallel(n_jobs=12)]: Done   6 tasks      | elapsed:    0.0s\n",
      "[Parallel(n_jobs=12)]: Done  64 out of  64 | elapsed:    0.0s finished\n"
     ]
    },
    {
     "name": "stdout",
     "output_type": "stream",
     "text": [
      "[FINISHED]\n",
      "Saving power at C:\\Users\\User\\Documents\\power\\power_asrt\\STIMULI-EPOCH\\117_B_Day1_R_5_power-tfr.h5 ...\n"
     ]
    },
    {
     "name": "stderr",
     "output_type": "stream",
     "text": [
      "C:\\Users\\User\\anaconda3\\envs\\eeg-workshop\\lib\\site-packages\\meeg_tools\\analysis_pipeline.py:136: FutureWarning: The frame.append method is deprecated and will be removed from pandas in a future version. Use pandas.concat instead.\n",
      "  metadata = metadata.append(data,\n",
      "[Parallel(n_jobs=12)]: Using backend LokyBackend with 12 concurrent workers.\n",
      "[Parallel(n_jobs=12)]: Done   6 tasks      | elapsed:    0.0s\n",
      "[Parallel(n_jobs=12)]: Done  64 out of  64 | elapsed:    0.0s finished\n"
     ]
    },
    {
     "name": "stdout",
     "output_type": "stream",
     "text": [
      "[FINISHED]\n"
     ]
    },
    {
     "name": "stderr",
     "output_type": "stream",
     "text": [
      "Processing 118_B_Day1_ICA_autoreject_ransac-epo.fif:  11%|███████▋                                                                 | 19/180 [05:06<44:05, 16.43s/it]"
     ]
    },
    {
     "name": "stdout",
     "output_type": "stream",
     "text": [
      "Loading data for 1308 events and 726 original time points ...\n",
      "Replacing existing metadata with 10 columns\n",
      "Replacing existing metadata with 10 columns\n",
      "Saving power at C:\\Users\\User\\Documents\\power\\power_asrt\\STIMULI-EPOCH\\118_B_Day1_P_1_power-tfr.h5 ...\n"
     ]
    },
    {
     "name": "stderr",
     "output_type": "stream",
     "text": [
      "C:\\Users\\User\\anaconda3\\envs\\eeg-workshop\\lib\\site-packages\\meeg_tools\\analysis_pipeline.py:136: FutureWarning: The frame.append method is deprecated and will be removed from pandas in a future version. Use pandas.concat instead.\n",
      "  metadata = metadata.append(data,\n",
      "[Parallel(n_jobs=12)]: Using backend LokyBackend with 12 concurrent workers.\n",
      "[Parallel(n_jobs=12)]: Done   6 tasks      | elapsed:    0.0s\n",
      "[Parallel(n_jobs=12)]: Done  64 out of  64 | elapsed:    0.0s finished\n"
     ]
    },
    {
     "name": "stdout",
     "output_type": "stream",
     "text": [
      "[FINISHED]\n",
      "Saving power at C:\\Users\\User\\Documents\\power\\power_asrt\\STIMULI-EPOCH\\118_B_Day1_P_2_power-tfr.h5 ...\n"
     ]
    },
    {
     "name": "stderr",
     "output_type": "stream",
     "text": [
      "C:\\Users\\User\\anaconda3\\envs\\eeg-workshop\\lib\\site-packages\\meeg_tools\\analysis_pipeline.py:136: FutureWarning: The frame.append method is deprecated and will be removed from pandas in a future version. Use pandas.concat instead.\n",
      "  metadata = metadata.append(data,\n",
      "[Parallel(n_jobs=12)]: Using backend LokyBackend with 12 concurrent workers.\n",
      "[Parallel(n_jobs=12)]: Done   6 tasks      | elapsed:    0.0s\n",
      "[Parallel(n_jobs=12)]: Done  64 out of  64 | elapsed:    0.0s finished\n"
     ]
    },
    {
     "name": "stdout",
     "output_type": "stream",
     "text": [
      "[FINISHED]\n",
      "Saving power at C:\\Users\\User\\Documents\\power\\power_asrt\\STIMULI-EPOCH\\118_B_Day1_P_3_power-tfr.h5 ...\n"
     ]
    },
    {
     "name": "stderr",
     "output_type": "stream",
     "text": [
      "C:\\Users\\User\\anaconda3\\envs\\eeg-workshop\\lib\\site-packages\\meeg_tools\\analysis_pipeline.py:136: FutureWarning: The frame.append method is deprecated and will be removed from pandas in a future version. Use pandas.concat instead.\n",
      "  metadata = metadata.append(data,\n",
      "[Parallel(n_jobs=12)]: Using backend LokyBackend with 12 concurrent workers.\n",
      "[Parallel(n_jobs=12)]: Done   6 tasks      | elapsed:    0.0s\n",
      "[Parallel(n_jobs=12)]: Done  64 out of  64 | elapsed:    0.0s finished\n"
     ]
    },
    {
     "name": "stdout",
     "output_type": "stream",
     "text": [
      "[FINISHED]\n",
      "Saving power at C:\\Users\\User\\Documents\\power\\power_asrt\\STIMULI-EPOCH\\118_B_Day1_P_4_power-tfr.h5 ...\n"
     ]
    },
    {
     "name": "stderr",
     "output_type": "stream",
     "text": [
      "C:\\Users\\User\\anaconda3\\envs\\eeg-workshop\\lib\\site-packages\\meeg_tools\\analysis_pipeline.py:136: FutureWarning: The frame.append method is deprecated and will be removed from pandas in a future version. Use pandas.concat instead.\n",
      "  metadata = metadata.append(data,\n",
      "[Parallel(n_jobs=12)]: Using backend LokyBackend with 12 concurrent workers.\n",
      "[Parallel(n_jobs=12)]: Done   6 tasks      | elapsed:    0.0s\n",
      "[Parallel(n_jobs=12)]: Done  64 out of  64 | elapsed:    0.0s finished\n"
     ]
    },
    {
     "name": "stdout",
     "output_type": "stream",
     "text": [
      "[FINISHED]\n",
      "Saving power at C:\\Users\\User\\Documents\\power\\power_asrt\\STIMULI-EPOCH\\118_B_Day1_P_5_power-tfr.h5 ...\n"
     ]
    },
    {
     "name": "stderr",
     "output_type": "stream",
     "text": [
      "C:\\Users\\User\\anaconda3\\envs\\eeg-workshop\\lib\\site-packages\\meeg_tools\\analysis_pipeline.py:136: FutureWarning: The frame.append method is deprecated and will be removed from pandas in a future version. Use pandas.concat instead.\n",
      "  metadata = metadata.append(data,\n",
      "[Parallel(n_jobs=12)]: Using backend LokyBackend with 12 concurrent workers.\n",
      "[Parallel(n_jobs=12)]: Done   6 tasks      | elapsed:    0.0s\n",
      "[Parallel(n_jobs=12)]: Done  64 out of  64 | elapsed:    0.0s finished\n"
     ]
    },
    {
     "name": "stdout",
     "output_type": "stream",
     "text": [
      "[FINISHED]\n",
      "Saving power at C:\\Users\\User\\Documents\\power\\power_asrt\\STIMULI-EPOCH\\118_B_Day1_R_1_power-tfr.h5 ...\n"
     ]
    },
    {
     "name": "stderr",
     "output_type": "stream",
     "text": [
      "C:\\Users\\User\\anaconda3\\envs\\eeg-workshop\\lib\\site-packages\\meeg_tools\\analysis_pipeline.py:136: FutureWarning: The frame.append method is deprecated and will be removed from pandas in a future version. Use pandas.concat instead.\n",
      "  metadata = metadata.append(data,\n",
      "[Parallel(n_jobs=12)]: Using backend LokyBackend with 12 concurrent workers.\n",
      "[Parallel(n_jobs=12)]: Done   6 tasks      | elapsed:    0.0s\n",
      "[Parallel(n_jobs=12)]: Done  64 out of  64 | elapsed:    0.0s finished\n"
     ]
    },
    {
     "name": "stdout",
     "output_type": "stream",
     "text": [
      "[FINISHED]\n",
      "Saving power at C:\\Users\\User\\Documents\\power\\power_asrt\\STIMULI-EPOCH\\118_B_Day1_R_2_power-tfr.h5 ...\n"
     ]
    },
    {
     "name": "stderr",
     "output_type": "stream",
     "text": [
      "C:\\Users\\User\\anaconda3\\envs\\eeg-workshop\\lib\\site-packages\\meeg_tools\\analysis_pipeline.py:136: FutureWarning: The frame.append method is deprecated and will be removed from pandas in a future version. Use pandas.concat instead.\n",
      "  metadata = metadata.append(data,\n",
      "[Parallel(n_jobs=12)]: Using backend LokyBackend with 12 concurrent workers.\n",
      "[Parallel(n_jobs=12)]: Done   6 tasks      | elapsed:    0.0s\n",
      "[Parallel(n_jobs=12)]: Done  64 out of  64 | elapsed:    0.0s finished\n"
     ]
    },
    {
     "name": "stdout",
     "output_type": "stream",
     "text": [
      "[FINISHED]\n",
      "Saving power at C:\\Users\\User\\Documents\\power\\power_asrt\\STIMULI-EPOCH\\118_B_Day1_R_3_power-tfr.h5 ...\n"
     ]
    },
    {
     "name": "stderr",
     "output_type": "stream",
     "text": [
      "C:\\Users\\User\\anaconda3\\envs\\eeg-workshop\\lib\\site-packages\\meeg_tools\\analysis_pipeline.py:136: FutureWarning: The frame.append method is deprecated and will be removed from pandas in a future version. Use pandas.concat instead.\n",
      "  metadata = metadata.append(data,\n",
      "[Parallel(n_jobs=12)]: Using backend LokyBackend with 12 concurrent workers.\n",
      "[Parallel(n_jobs=12)]: Done   6 tasks      | elapsed:    0.0s\n",
      "[Parallel(n_jobs=12)]: Done  64 out of  64 | elapsed:    0.0s finished\n"
     ]
    },
    {
     "name": "stdout",
     "output_type": "stream",
     "text": [
      "[FINISHED]\n",
      "Saving power at C:\\Users\\User\\Documents\\power\\power_asrt\\STIMULI-EPOCH\\118_B_Day1_R_4_power-tfr.h5 ...\n"
     ]
    },
    {
     "name": "stderr",
     "output_type": "stream",
     "text": [
      "C:\\Users\\User\\anaconda3\\envs\\eeg-workshop\\lib\\site-packages\\meeg_tools\\analysis_pipeline.py:136: FutureWarning: The frame.append method is deprecated and will be removed from pandas in a future version. Use pandas.concat instead.\n",
      "  metadata = metadata.append(data,\n",
      "[Parallel(n_jobs=12)]: Using backend LokyBackend with 12 concurrent workers.\n",
      "[Parallel(n_jobs=12)]: Done   6 tasks      | elapsed:    0.0s\n",
      "[Parallel(n_jobs=12)]: Done  64 out of  64 | elapsed:    0.0s finished\n"
     ]
    },
    {
     "name": "stdout",
     "output_type": "stream",
     "text": [
      "[FINISHED]\n",
      "Saving power at C:\\Users\\User\\Documents\\power\\power_asrt\\STIMULI-EPOCH\\118_B_Day1_R_5_power-tfr.h5 ...\n"
     ]
    },
    {
     "name": "stderr",
     "output_type": "stream",
     "text": [
      "C:\\Users\\User\\anaconda3\\envs\\eeg-workshop\\lib\\site-packages\\meeg_tools\\analysis_pipeline.py:136: FutureWarning: The frame.append method is deprecated and will be removed from pandas in a future version. Use pandas.concat instead.\n",
      "  metadata = metadata.append(data,\n",
      "[Parallel(n_jobs=12)]: Using backend LokyBackend with 12 concurrent workers.\n",
      "[Parallel(n_jobs=12)]: Done   6 tasks      | elapsed:    0.0s\n",
      "[Parallel(n_jobs=12)]: Done  64 out of  64 | elapsed:    0.0s finished\n"
     ]
    },
    {
     "name": "stdout",
     "output_type": "stream",
     "text": [
      "[FINISHED]\n"
     ]
    },
    {
     "name": "stderr",
     "output_type": "stream",
     "text": [
      "Processing 119_B_Day1_ICA_autoreject_ransac-epo.fif:  11%|████████                                                                 | 20/180 [05:21<42:26, 15.92s/it]"
     ]
    },
    {
     "name": "stdout",
     "output_type": "stream",
     "text": [
      "Loading data for 1477 events and 726 original time points ...\n",
      "Replacing existing metadata with 10 columns\n",
      "Replacing existing metadata with 10 columns\n",
      "Saving power at C:\\Users\\User\\Documents\\power\\power_asrt\\STIMULI-EPOCH\\119_B_Day1_P_1_power-tfr.h5 ...\n"
     ]
    },
    {
     "name": "stderr",
     "output_type": "stream",
     "text": [
      "C:\\Users\\User\\anaconda3\\envs\\eeg-workshop\\lib\\site-packages\\meeg_tools\\analysis_pipeline.py:136: FutureWarning: The frame.append method is deprecated and will be removed from pandas in a future version. Use pandas.concat instead.\n",
      "  metadata = metadata.append(data,\n",
      "[Parallel(n_jobs=12)]: Using backend LokyBackend with 12 concurrent workers.\n",
      "[Parallel(n_jobs=12)]: Done   6 tasks      | elapsed:    0.0s\n",
      "[Parallel(n_jobs=12)]: Done  64 out of  64 | elapsed:    0.0s finished\n"
     ]
    },
    {
     "name": "stdout",
     "output_type": "stream",
     "text": [
      "[FINISHED]\n",
      "Saving power at C:\\Users\\User\\Documents\\power\\power_asrt\\STIMULI-EPOCH\\119_B_Day1_P_2_power-tfr.h5 ...\n"
     ]
    },
    {
     "name": "stderr",
     "output_type": "stream",
     "text": [
      "C:\\Users\\User\\anaconda3\\envs\\eeg-workshop\\lib\\site-packages\\meeg_tools\\analysis_pipeline.py:136: FutureWarning: The frame.append method is deprecated and will be removed from pandas in a future version. Use pandas.concat instead.\n",
      "  metadata = metadata.append(data,\n",
      "[Parallel(n_jobs=12)]: Using backend LokyBackend with 12 concurrent workers.\n",
      "[Parallel(n_jobs=12)]: Done   6 tasks      | elapsed:    0.0s\n",
      "[Parallel(n_jobs=12)]: Done  64 out of  64 | elapsed:    0.0s finished\n"
     ]
    },
    {
     "name": "stdout",
     "output_type": "stream",
     "text": [
      "[FINISHED]\n",
      "Saving power at C:\\Users\\User\\Documents\\power\\power_asrt\\STIMULI-EPOCH\\119_B_Day1_P_3_power-tfr.h5 ...\n"
     ]
    },
    {
     "name": "stderr",
     "output_type": "stream",
     "text": [
      "C:\\Users\\User\\anaconda3\\envs\\eeg-workshop\\lib\\site-packages\\meeg_tools\\analysis_pipeline.py:136: FutureWarning: The frame.append method is deprecated and will be removed from pandas in a future version. Use pandas.concat instead.\n",
      "  metadata = metadata.append(data,\n",
      "[Parallel(n_jobs=12)]: Using backend LokyBackend with 12 concurrent workers.\n",
      "[Parallel(n_jobs=12)]: Done   6 tasks      | elapsed:    0.0s\n",
      "[Parallel(n_jobs=12)]: Done  64 out of  64 | elapsed:    0.0s finished\n"
     ]
    },
    {
     "name": "stdout",
     "output_type": "stream",
     "text": [
      "[FINISHED]\n"
     ]
    },
    {
     "name": "stderr",
     "output_type": "stream",
     "text": [
      "C:\\Users\\User\\anaconda3\\envs\\eeg-workshop\\lib\\site-packages\\meeg_tools\\analysis_pipeline.py:136: FutureWarning: The frame.append method is deprecated and will be removed from pandas in a future version. Use pandas.concat instead.\n",
      "  metadata = metadata.append(data,\n",
      "[Parallel(n_jobs=12)]: Using backend LokyBackend with 12 concurrent workers.\n",
      "[Parallel(n_jobs=12)]: Done   6 tasks      | elapsed:    0.0s\n"
     ]
    },
    {
     "name": "stdout",
     "output_type": "stream",
     "text": [
      "Saving power at C:\\Users\\User\\Documents\\power\\power_asrt\\STIMULI-EPOCH\\119_B_Day1_P_4_power-tfr.h5 ...\n"
     ]
    },
    {
     "name": "stderr",
     "output_type": "stream",
     "text": [
      "[Parallel(n_jobs=12)]: Done  64 out of  64 | elapsed:    0.1s finished\n"
     ]
    },
    {
     "name": "stdout",
     "output_type": "stream",
     "text": [
      "[FINISHED]\n",
      "Saving power at C:\\Users\\User\\Documents\\power\\power_asrt\\STIMULI-EPOCH\\119_B_Day1_P_5_power-tfr.h5 ...\n"
     ]
    },
    {
     "name": "stderr",
     "output_type": "stream",
     "text": [
      "C:\\Users\\User\\anaconda3\\envs\\eeg-workshop\\lib\\site-packages\\meeg_tools\\analysis_pipeline.py:136: FutureWarning: The frame.append method is deprecated and will be removed from pandas in a future version. Use pandas.concat instead.\n",
      "  metadata = metadata.append(data,\n",
      "[Parallel(n_jobs=12)]: Using backend LokyBackend with 12 concurrent workers.\n",
      "[Parallel(n_jobs=12)]: Done   6 tasks      | elapsed:    0.0s\n",
      "[Parallel(n_jobs=12)]: Done  64 out of  64 | elapsed:    0.0s finished\n"
     ]
    },
    {
     "name": "stdout",
     "output_type": "stream",
     "text": [
      "[FINISHED]\n",
      "Saving power at C:\\Users\\User\\Documents\\power\\power_asrt\\STIMULI-EPOCH\\119_B_Day1_R_1_power-tfr.h5 ...\n"
     ]
    },
    {
     "name": "stderr",
     "output_type": "stream",
     "text": [
      "C:\\Users\\User\\anaconda3\\envs\\eeg-workshop\\lib\\site-packages\\meeg_tools\\analysis_pipeline.py:136: FutureWarning: The frame.append method is deprecated and will be removed from pandas in a future version. Use pandas.concat instead.\n",
      "  metadata = metadata.append(data,\n",
      "[Parallel(n_jobs=12)]: Using backend LokyBackend with 12 concurrent workers.\n",
      "[Parallel(n_jobs=12)]: Done   6 tasks      | elapsed:    0.0s\n",
      "[Parallel(n_jobs=12)]: Done  64 out of  64 | elapsed:    0.0s finished\n"
     ]
    },
    {
     "name": "stdout",
     "output_type": "stream",
     "text": [
      "[FINISHED]\n"
     ]
    },
    {
     "name": "stderr",
     "output_type": "stream",
     "text": [
      "C:\\Users\\User\\anaconda3\\envs\\eeg-workshop\\lib\\site-packages\\meeg_tools\\analysis_pipeline.py:136: FutureWarning: The frame.append method is deprecated and will be removed from pandas in a future version. Use pandas.concat instead.\n",
      "  metadata = metadata.append(data,\n",
      "[Parallel(n_jobs=12)]: Using backend LokyBackend with 12 concurrent workers.\n",
      "[Parallel(n_jobs=12)]: Done   6 tasks      | elapsed:    0.0s\n"
     ]
    },
    {
     "name": "stdout",
     "output_type": "stream",
     "text": [
      "Saving power at C:\\Users\\User\\Documents\\power\\power_asrt\\STIMULI-EPOCH\\119_B_Day1_R_2_power-tfr.h5 ...\n"
     ]
    },
    {
     "name": "stderr",
     "output_type": "stream",
     "text": [
      "[Parallel(n_jobs=12)]: Done  64 out of  64 | elapsed:    0.1s finished\n"
     ]
    },
    {
     "name": "stdout",
     "output_type": "stream",
     "text": [
      "[FINISHED]\n",
      "Saving power at C:\\Users\\User\\Documents\\power\\power_asrt\\STIMULI-EPOCH\\119_B_Day1_R_3_power-tfr.h5 ...\n"
     ]
    },
    {
     "name": "stderr",
     "output_type": "stream",
     "text": [
      "C:\\Users\\User\\anaconda3\\envs\\eeg-workshop\\lib\\site-packages\\meeg_tools\\analysis_pipeline.py:136: FutureWarning: The frame.append method is deprecated and will be removed from pandas in a future version. Use pandas.concat instead.\n",
      "  metadata = metadata.append(data,\n",
      "[Parallel(n_jobs=12)]: Using backend LokyBackend with 12 concurrent workers.\n",
      "[Parallel(n_jobs=12)]: Done   6 tasks      | elapsed:    0.0s\n",
      "[Parallel(n_jobs=12)]: Done  64 out of  64 | elapsed:    0.0s finished\n"
     ]
    },
    {
     "name": "stdout",
     "output_type": "stream",
     "text": [
      "[FINISHED]\n",
      "Saving power at C:\\Users\\User\\Documents\\power\\power_asrt\\STIMULI-EPOCH\\119_B_Day1_R_4_power-tfr.h5 ...\n"
     ]
    },
    {
     "name": "stderr",
     "output_type": "stream",
     "text": [
      "C:\\Users\\User\\anaconda3\\envs\\eeg-workshop\\lib\\site-packages\\meeg_tools\\analysis_pipeline.py:136: FutureWarning: The frame.append method is deprecated and will be removed from pandas in a future version. Use pandas.concat instead.\n",
      "  metadata = metadata.append(data,\n",
      "[Parallel(n_jobs=12)]: Using backend LokyBackend with 12 concurrent workers.\n",
      "[Parallel(n_jobs=12)]: Done   6 tasks      | elapsed:    0.0s\n",
      "[Parallel(n_jobs=12)]: Done  64 out of  64 | elapsed:    0.0s finished\n"
     ]
    },
    {
     "name": "stdout",
     "output_type": "stream",
     "text": [
      "[FINISHED]\n",
      "Saving power at C:\\Users\\User\\Documents\\power\\power_asrt\\STIMULI-EPOCH\\119_B_Day1_R_5_power-tfr.h5 ...\n"
     ]
    },
    {
     "name": "stderr",
     "output_type": "stream",
     "text": [
      "C:\\Users\\User\\anaconda3\\envs\\eeg-workshop\\lib\\site-packages\\meeg_tools\\analysis_pipeline.py:136: FutureWarning: The frame.append method is deprecated and will be removed from pandas in a future version. Use pandas.concat instead.\n",
      "  metadata = metadata.append(data,\n",
      "[Parallel(n_jobs=12)]: Using backend LokyBackend with 12 concurrent workers.\n",
      "[Parallel(n_jobs=12)]: Done   6 tasks      | elapsed:    0.0s\n",
      "[Parallel(n_jobs=12)]: Done  64 out of  64 | elapsed:    0.1s finished\n"
     ]
    },
    {
     "name": "stdout",
     "output_type": "stream",
     "text": [
      "[FINISHED]\n"
     ]
    },
    {
     "name": "stderr",
     "output_type": "stream",
     "text": [
      "Processing 11_S_Day1_ICA_autoreject_ransac-epo.fif:  12%|████████▋                                                                 | 21/180 [05:37<42:04, 15.88s/it]"
     ]
    },
    {
     "name": "stdout",
     "output_type": "stream",
     "text": [
      "Loading data for 1152 events and 726 original time points ...\n",
      "Replacing existing metadata with 10 columns\n",
      "Replacing existing metadata with 10 columns\n",
      "Saving power at C:\\Users\\User\\Documents\\power\\power_asrt\\STIMULI-EPOCH\\11_S_Day1_P_1_power-tfr.h5 ...\n"
     ]
    },
    {
     "name": "stderr",
     "output_type": "stream",
     "text": [
      "C:\\Users\\User\\anaconda3\\envs\\eeg-workshop\\lib\\site-packages\\meeg_tools\\analysis_pipeline.py:136: FutureWarning: The frame.append method is deprecated and will be removed from pandas in a future version. Use pandas.concat instead.\n",
      "  metadata = metadata.append(data,\n",
      "[Parallel(n_jobs=12)]: Using backend LokyBackend with 12 concurrent workers.\n",
      "[Parallel(n_jobs=12)]: Done   6 tasks      | elapsed:    0.0s\n",
      "[Parallel(n_jobs=12)]: Done  64 out of  64 | elapsed:    0.0s finished\n"
     ]
    },
    {
     "name": "stdout",
     "output_type": "stream",
     "text": [
      "[FINISHED]\n",
      "Saving power at C:\\Users\\User\\Documents\\power\\power_asrt\\STIMULI-EPOCH\\11_S_Day1_P_2_power-tfr.h5 ...\n"
     ]
    },
    {
     "name": "stderr",
     "output_type": "stream",
     "text": [
      "C:\\Users\\User\\anaconda3\\envs\\eeg-workshop\\lib\\site-packages\\meeg_tools\\analysis_pipeline.py:136: FutureWarning: The frame.append method is deprecated and will be removed from pandas in a future version. Use pandas.concat instead.\n",
      "  metadata = metadata.append(data,\n",
      "[Parallel(n_jobs=12)]: Using backend LokyBackend with 12 concurrent workers.\n",
      "[Parallel(n_jobs=12)]: Done   6 tasks      | elapsed:    0.0s\n",
      "[Parallel(n_jobs=12)]: Done  64 out of  64 | elapsed:    0.1s finished\n"
     ]
    },
    {
     "name": "stdout",
     "output_type": "stream",
     "text": [
      "[FINISHED]\n",
      "Saving power at C:\\Users\\User\\Documents\\power\\power_asrt\\STIMULI-EPOCH\\11_S_Day1_P_3_power-tfr.h5 ...\n"
     ]
    },
    {
     "name": "stderr",
     "output_type": "stream",
     "text": [
      "C:\\Users\\User\\anaconda3\\envs\\eeg-workshop\\lib\\site-packages\\meeg_tools\\analysis_pipeline.py:136: FutureWarning: The frame.append method is deprecated and will be removed from pandas in a future version. Use pandas.concat instead.\n",
      "  metadata = metadata.append(data,\n",
      "[Parallel(n_jobs=12)]: Using backend LokyBackend with 12 concurrent workers.\n",
      "[Parallel(n_jobs=12)]: Done   6 tasks      | elapsed:    0.0s\n",
      "[Parallel(n_jobs=12)]: Done  64 out of  64 | elapsed:    0.0s finished\n"
     ]
    },
    {
     "name": "stdout",
     "output_type": "stream",
     "text": [
      "[FINISHED]\n",
      "Saving power at C:\\Users\\User\\Documents\\power\\power_asrt\\STIMULI-EPOCH\\11_S_Day1_P_4_power-tfr.h5 ...\n"
     ]
    },
    {
     "name": "stderr",
     "output_type": "stream",
     "text": [
      "C:\\Users\\User\\anaconda3\\envs\\eeg-workshop\\lib\\site-packages\\meeg_tools\\analysis_pipeline.py:136: FutureWarning: The frame.append method is deprecated and will be removed from pandas in a future version. Use pandas.concat instead.\n",
      "  metadata = metadata.append(data,\n",
      "[Parallel(n_jobs=12)]: Using backend LokyBackend with 12 concurrent workers.\n",
      "[Parallel(n_jobs=12)]: Done   6 tasks      | elapsed:    0.0s\n",
      "[Parallel(n_jobs=12)]: Done  64 out of  64 | elapsed:    0.0s finished\n"
     ]
    },
    {
     "name": "stdout",
     "output_type": "stream",
     "text": [
      "[FINISHED]\n",
      "Saving power at C:\\Users\\User\\Documents\\power\\power_asrt\\STIMULI-EPOCH\\11_S_Day1_P_5_power-tfr.h5 ...\n"
     ]
    },
    {
     "name": "stderr",
     "output_type": "stream",
     "text": [
      "C:\\Users\\User\\anaconda3\\envs\\eeg-workshop\\lib\\site-packages\\meeg_tools\\analysis_pipeline.py:136: FutureWarning: The frame.append method is deprecated and will be removed from pandas in a future version. Use pandas.concat instead.\n",
      "  metadata = metadata.append(data,\n",
      "[Parallel(n_jobs=12)]: Using backend LokyBackend with 12 concurrent workers.\n",
      "[Parallel(n_jobs=12)]: Done   6 tasks      | elapsed:    0.0s\n",
      "[Parallel(n_jobs=12)]: Done  64 out of  64 | elapsed:    0.1s finished\n"
     ]
    },
    {
     "name": "stdout",
     "output_type": "stream",
     "text": [
      "[FINISHED]\n",
      "Saving power at C:\\Users\\User\\Documents\\power\\power_asrt\\STIMULI-EPOCH\\11_S_Day1_R_1_power-tfr.h5 ...\n"
     ]
    },
    {
     "name": "stderr",
     "output_type": "stream",
     "text": [
      "C:\\Users\\User\\anaconda3\\envs\\eeg-workshop\\lib\\site-packages\\meeg_tools\\analysis_pipeline.py:136: FutureWarning: The frame.append method is deprecated and will be removed from pandas in a future version. Use pandas.concat instead.\n",
      "  metadata = metadata.append(data,\n",
      "[Parallel(n_jobs=12)]: Using backend LokyBackend with 12 concurrent workers.\n",
      "[Parallel(n_jobs=12)]: Done   6 tasks      | elapsed:    0.0s\n",
      "[Parallel(n_jobs=12)]: Done  64 out of  64 | elapsed:    0.0s finished\n"
     ]
    },
    {
     "name": "stdout",
     "output_type": "stream",
     "text": [
      "[FINISHED]\n",
      "Saving power at C:\\Users\\User\\Documents\\power\\power_asrt\\STIMULI-EPOCH\\11_S_Day1_R_2_power-tfr.h5 ...\n"
     ]
    },
    {
     "name": "stderr",
     "output_type": "stream",
     "text": [
      "C:\\Users\\User\\anaconda3\\envs\\eeg-workshop\\lib\\site-packages\\meeg_tools\\analysis_pipeline.py:136: FutureWarning: The frame.append method is deprecated and will be removed from pandas in a future version. Use pandas.concat instead.\n",
      "  metadata = metadata.append(data,\n",
      "[Parallel(n_jobs=12)]: Using backend LokyBackend with 12 concurrent workers.\n",
      "[Parallel(n_jobs=12)]: Done   6 tasks      | elapsed:    0.0s\n",
      "[Parallel(n_jobs=12)]: Done  64 out of  64 | elapsed:    0.0s finished\n"
     ]
    },
    {
     "name": "stdout",
     "output_type": "stream",
     "text": [
      "[FINISHED]\n",
      "Saving power at C:\\Users\\User\\Documents\\power\\power_asrt\\STIMULI-EPOCH\\11_S_Day1_R_3_power-tfr.h5 ...\n"
     ]
    },
    {
     "name": "stderr",
     "output_type": "stream",
     "text": [
      "C:\\Users\\User\\anaconda3\\envs\\eeg-workshop\\lib\\site-packages\\meeg_tools\\analysis_pipeline.py:136: FutureWarning: The frame.append method is deprecated and will be removed from pandas in a future version. Use pandas.concat instead.\n",
      "  metadata = metadata.append(data,\n",
      "[Parallel(n_jobs=12)]: Using backend LokyBackend with 12 concurrent workers.\n",
      "[Parallel(n_jobs=12)]: Done   6 tasks      | elapsed:    0.0s\n",
      "[Parallel(n_jobs=12)]: Done  64 out of  64 | elapsed:    0.0s finished\n"
     ]
    },
    {
     "name": "stdout",
     "output_type": "stream",
     "text": [
      "[FINISHED]\n",
      "Saving power at C:\\Users\\User\\Documents\\power\\power_asrt\\STIMULI-EPOCH\\11_S_Day1_R_4_power-tfr.h5 ...\n"
     ]
    },
    {
     "name": "stderr",
     "output_type": "stream",
     "text": [
      "C:\\Users\\User\\anaconda3\\envs\\eeg-workshop\\lib\\site-packages\\meeg_tools\\analysis_pipeline.py:136: FutureWarning: The frame.append method is deprecated and will be removed from pandas in a future version. Use pandas.concat instead.\n",
      "  metadata = metadata.append(data,\n",
      "[Parallel(n_jobs=12)]: Using backend LokyBackend with 12 concurrent workers.\n",
      "[Parallel(n_jobs=12)]: Done   6 tasks      | elapsed:    0.0s\n",
      "[Parallel(n_jobs=12)]: Done  64 out of  64 | elapsed:    0.0s finished\n"
     ]
    },
    {
     "name": "stdout",
     "output_type": "stream",
     "text": [
      "[FINISHED]\n",
      "Saving power at C:\\Users\\User\\Documents\\power\\power_asrt\\STIMULI-EPOCH\\11_S_Day1_R_5_power-tfr.h5 ...\n"
     ]
    },
    {
     "name": "stderr",
     "output_type": "stream",
     "text": [
      "C:\\Users\\User\\anaconda3\\envs\\eeg-workshop\\lib\\site-packages\\meeg_tools\\analysis_pipeline.py:136: FutureWarning: The frame.append method is deprecated and will be removed from pandas in a future version. Use pandas.concat instead.\n",
      "  metadata = metadata.append(data,\n",
      "[Parallel(n_jobs=12)]: Using backend LokyBackend with 12 concurrent workers.\n",
      "[Parallel(n_jobs=12)]: Done   6 tasks      | elapsed:    0.0s\n",
      "[Parallel(n_jobs=12)]: Done  64 out of  64 | elapsed:    0.0s finished\n"
     ]
    },
    {
     "name": "stdout",
     "output_type": "stream",
     "text": [
      "[FINISHED]\n"
     ]
    },
    {
     "name": "stderr",
     "output_type": "stream",
     "text": [
      "Processing 120_R_Day1_ICA_autoreject_ransac-epo.fif:  12%|████████▉                                                                | 22/180 [05:51<40:12, 15.27s/it]"
     ]
    },
    {
     "name": "stdout",
     "output_type": "stream",
     "text": [
      "Loading data for 1397 events and 726 original time points ...\n",
      "Replacing existing metadata with 10 columns\n",
      "Replacing existing metadata with 10 columns\n",
      "Saving power at C:\\Users\\User\\Documents\\power\\power_asrt\\STIMULI-EPOCH\\120_R_Day1_P_1_power-tfr.h5 ...\n"
     ]
    },
    {
     "name": "stderr",
     "output_type": "stream",
     "text": [
      "C:\\Users\\User\\anaconda3\\envs\\eeg-workshop\\lib\\site-packages\\meeg_tools\\analysis_pipeline.py:136: FutureWarning: The frame.append method is deprecated and will be removed from pandas in a future version. Use pandas.concat instead.\n",
      "  metadata = metadata.append(data,\n",
      "[Parallel(n_jobs=12)]: Using backend LokyBackend with 12 concurrent workers.\n",
      "[Parallel(n_jobs=12)]: Done   6 tasks      | elapsed:    0.0s\n",
      "[Parallel(n_jobs=12)]: Done  64 out of  64 | elapsed:    0.0s finished\n"
     ]
    },
    {
     "name": "stdout",
     "output_type": "stream",
     "text": [
      "[FINISHED]\n",
      "Saving power at C:\\Users\\User\\Documents\\power\\power_asrt\\STIMULI-EPOCH\\120_R_Day1_P_2_power-tfr.h5 ...\n"
     ]
    },
    {
     "name": "stderr",
     "output_type": "stream",
     "text": [
      "C:\\Users\\User\\anaconda3\\envs\\eeg-workshop\\lib\\site-packages\\meeg_tools\\analysis_pipeline.py:136: FutureWarning: The frame.append method is deprecated and will be removed from pandas in a future version. Use pandas.concat instead.\n",
      "  metadata = metadata.append(data,\n",
      "[Parallel(n_jobs=12)]: Using backend LokyBackend with 12 concurrent workers.\n",
      "[Parallel(n_jobs=12)]: Done   6 tasks      | elapsed:    0.0s\n",
      "[Parallel(n_jobs=12)]: Done  64 out of  64 | elapsed:    0.0s finished\n"
     ]
    },
    {
     "name": "stdout",
     "output_type": "stream",
     "text": [
      "[FINISHED]\n",
      "Saving power at C:\\Users\\User\\Documents\\power\\power_asrt\\STIMULI-EPOCH\\120_R_Day1_P_3_power-tfr.h5 ...\n"
     ]
    },
    {
     "name": "stderr",
     "output_type": "stream",
     "text": [
      "C:\\Users\\User\\anaconda3\\envs\\eeg-workshop\\lib\\site-packages\\meeg_tools\\analysis_pipeline.py:136: FutureWarning: The frame.append method is deprecated and will be removed from pandas in a future version. Use pandas.concat instead.\n",
      "  metadata = metadata.append(data,\n",
      "[Parallel(n_jobs=12)]: Using backend LokyBackend with 12 concurrent workers.\n",
      "[Parallel(n_jobs=12)]: Done   6 tasks      | elapsed:    0.0s\n",
      "[Parallel(n_jobs=12)]: Done  64 out of  64 | elapsed:    0.0s finished\n"
     ]
    },
    {
     "name": "stdout",
     "output_type": "stream",
     "text": [
      "[FINISHED]\n",
      "Saving power at C:\\Users\\User\\Documents\\power\\power_asrt\\STIMULI-EPOCH\\120_R_Day1_P_4_power-tfr.h5 ...\n"
     ]
    },
    {
     "name": "stderr",
     "output_type": "stream",
     "text": [
      "C:\\Users\\User\\anaconda3\\envs\\eeg-workshop\\lib\\site-packages\\meeg_tools\\analysis_pipeline.py:136: FutureWarning: The frame.append method is deprecated and will be removed from pandas in a future version. Use pandas.concat instead.\n",
      "  metadata = metadata.append(data,\n",
      "[Parallel(n_jobs=12)]: Using backend LokyBackend with 12 concurrent workers.\n",
      "[Parallel(n_jobs=12)]: Done   6 tasks      | elapsed:    0.0s\n",
      "[Parallel(n_jobs=12)]: Done  64 out of  64 | elapsed:    0.1s finished\n"
     ]
    },
    {
     "name": "stdout",
     "output_type": "stream",
     "text": [
      "[FINISHED]\n",
      "Saving power at C:\\Users\\User\\Documents\\power\\power_asrt\\STIMULI-EPOCH\\120_R_Day1_P_5_power-tfr.h5 ...\n"
     ]
    },
    {
     "name": "stderr",
     "output_type": "stream",
     "text": [
      "C:\\Users\\User\\anaconda3\\envs\\eeg-workshop\\lib\\site-packages\\meeg_tools\\analysis_pipeline.py:136: FutureWarning: The frame.append method is deprecated and will be removed from pandas in a future version. Use pandas.concat instead.\n",
      "  metadata = metadata.append(data,\n",
      "[Parallel(n_jobs=12)]: Using backend LokyBackend with 12 concurrent workers.\n",
      "[Parallel(n_jobs=12)]: Done   6 tasks      | elapsed:    0.0s\n",
      "[Parallel(n_jobs=12)]: Done  64 out of  64 | elapsed:    0.0s finished\n"
     ]
    },
    {
     "name": "stdout",
     "output_type": "stream",
     "text": [
      "[FINISHED]\n",
      "Saving power at C:\\Users\\User\\Documents\\power\\power_asrt\\STIMULI-EPOCH\\120_R_Day1_R_1_power-tfr.h5 ...\n"
     ]
    },
    {
     "name": "stderr",
     "output_type": "stream",
     "text": [
      "C:\\Users\\User\\anaconda3\\envs\\eeg-workshop\\lib\\site-packages\\meeg_tools\\analysis_pipeline.py:136: FutureWarning: The frame.append method is deprecated and will be removed from pandas in a future version. Use pandas.concat instead.\n",
      "  metadata = metadata.append(data,\n",
      "[Parallel(n_jobs=12)]: Using backend LokyBackend with 12 concurrent workers.\n",
      "[Parallel(n_jobs=12)]: Done   6 tasks      | elapsed:    0.0s\n",
      "[Parallel(n_jobs=12)]: Done  64 out of  64 | elapsed:    0.0s finished\n"
     ]
    },
    {
     "name": "stdout",
     "output_type": "stream",
     "text": [
      "[FINISHED]\n",
      "Saving power at C:\\Users\\User\\Documents\\power\\power_asrt\\STIMULI-EPOCH\\120_R_Day1_R_2_power-tfr.h5 ...\n"
     ]
    },
    {
     "name": "stderr",
     "output_type": "stream",
     "text": [
      "C:\\Users\\User\\anaconda3\\envs\\eeg-workshop\\lib\\site-packages\\meeg_tools\\analysis_pipeline.py:136: FutureWarning: The frame.append method is deprecated and will be removed from pandas in a future version. Use pandas.concat instead.\n",
      "  metadata = metadata.append(data,\n",
      "[Parallel(n_jobs=12)]: Using backend LokyBackend with 12 concurrent workers.\n",
      "[Parallel(n_jobs=12)]: Done   6 tasks      | elapsed:    0.0s\n",
      "[Parallel(n_jobs=12)]: Done  64 out of  64 | elapsed:    0.0s finished\n"
     ]
    },
    {
     "name": "stdout",
     "output_type": "stream",
     "text": [
      "[FINISHED]\n",
      "Saving power at C:\\Users\\User\\Documents\\power\\power_asrt\\STIMULI-EPOCH\\120_R_Day1_R_3_power-tfr.h5 ...\n"
     ]
    },
    {
     "name": "stderr",
     "output_type": "stream",
     "text": [
      "C:\\Users\\User\\anaconda3\\envs\\eeg-workshop\\lib\\site-packages\\meeg_tools\\analysis_pipeline.py:136: FutureWarning: The frame.append method is deprecated and will be removed from pandas in a future version. Use pandas.concat instead.\n",
      "  metadata = metadata.append(data,\n",
      "[Parallel(n_jobs=12)]: Using backend LokyBackend with 12 concurrent workers.\n",
      "[Parallel(n_jobs=12)]: Done   6 tasks      | elapsed:    0.0s\n",
      "[Parallel(n_jobs=12)]: Done  64 out of  64 | elapsed:    0.0s finished\n"
     ]
    },
    {
     "name": "stdout",
     "output_type": "stream",
     "text": [
      "[FINISHED]\n",
      "Saving power at C:\\Users\\User\\Documents\\power\\power_asrt\\STIMULI-EPOCH\\120_R_Day1_R_4_power-tfr.h5 ...\n"
     ]
    },
    {
     "name": "stderr",
     "output_type": "stream",
     "text": [
      "C:\\Users\\User\\anaconda3\\envs\\eeg-workshop\\lib\\site-packages\\meeg_tools\\analysis_pipeline.py:136: FutureWarning: The frame.append method is deprecated and will be removed from pandas in a future version. Use pandas.concat instead.\n",
      "  metadata = metadata.append(data,\n",
      "[Parallel(n_jobs=12)]: Using backend LokyBackend with 12 concurrent workers.\n",
      "[Parallel(n_jobs=12)]: Done   6 tasks      | elapsed:    0.0s\n",
      "[Parallel(n_jobs=12)]: Done  64 out of  64 | elapsed:    0.0s finished\n"
     ]
    },
    {
     "name": "stdout",
     "output_type": "stream",
     "text": [
      "[FINISHED]\n",
      "Saving power at C:\\Users\\User\\Documents\\power\\power_asrt\\STIMULI-EPOCH\\120_R_Day1_R_5_power-tfr.h5 ...\n"
     ]
    },
    {
     "name": "stderr",
     "output_type": "stream",
     "text": [
      "C:\\Users\\User\\anaconda3\\envs\\eeg-workshop\\lib\\site-packages\\meeg_tools\\analysis_pipeline.py:136: FutureWarning: The frame.append method is deprecated and will be removed from pandas in a future version. Use pandas.concat instead.\n",
      "  metadata = metadata.append(data,\n",
      "[Parallel(n_jobs=12)]: Using backend LokyBackend with 12 concurrent workers.\n",
      "[Parallel(n_jobs=12)]: Done   6 tasks      | elapsed:    0.0s\n",
      "[Parallel(n_jobs=12)]: Done  64 out of  64 | elapsed:    0.0s finished\n"
     ]
    },
    {
     "name": "stdout",
     "output_type": "stream",
     "text": [
      "[FINISHED]\n"
     ]
    },
    {
     "name": "stderr",
     "output_type": "stream",
     "text": [
      "Processing 122_R_Day1_ICA_autoreject_ransac-epo.fif:  13%|█████████▎                                                               | 23/180 [06:08<41:53, 16.01s/it]"
     ]
    },
    {
     "name": "stdout",
     "output_type": "stream",
     "text": [
      "Loading data for 1285 events and 726 original time points ...\n",
      "Replacing existing metadata with 10 columns\n",
      "Replacing existing metadata with 10 columns\n",
      "Saving power at C:\\Users\\User\\Documents\\power\\power_asrt\\STIMULI-EPOCH\\122_R_Day1_P_1_power-tfr.h5 ...\n"
     ]
    },
    {
     "name": "stderr",
     "output_type": "stream",
     "text": [
      "C:\\Users\\User\\anaconda3\\envs\\eeg-workshop\\lib\\site-packages\\meeg_tools\\analysis_pipeline.py:136: FutureWarning: The frame.append method is deprecated and will be removed from pandas in a future version. Use pandas.concat instead.\n",
      "  metadata = metadata.append(data,\n",
      "[Parallel(n_jobs=12)]: Using backend LokyBackend with 12 concurrent workers.\n",
      "[Parallel(n_jobs=12)]: Done   6 tasks      | elapsed:    0.0s\n",
      "[Parallel(n_jobs=12)]: Done  64 out of  64 | elapsed:    0.0s finished\n"
     ]
    },
    {
     "name": "stdout",
     "output_type": "stream",
     "text": [
      "[FINISHED]\n",
      "Saving power at C:\\Users\\User\\Documents\\power\\power_asrt\\STIMULI-EPOCH\\122_R_Day1_P_2_power-tfr.h5 ...\n"
     ]
    },
    {
     "name": "stderr",
     "output_type": "stream",
     "text": [
      "C:\\Users\\User\\anaconda3\\envs\\eeg-workshop\\lib\\site-packages\\meeg_tools\\analysis_pipeline.py:136: FutureWarning: The frame.append method is deprecated and will be removed from pandas in a future version. Use pandas.concat instead.\n",
      "  metadata = metadata.append(data,\n",
      "[Parallel(n_jobs=12)]: Using backend LokyBackend with 12 concurrent workers.\n",
      "[Parallel(n_jobs=12)]: Done   6 tasks      | elapsed:    0.0s\n",
      "[Parallel(n_jobs=12)]: Done  64 out of  64 | elapsed:    0.0s finished\n"
     ]
    },
    {
     "name": "stdout",
     "output_type": "stream",
     "text": [
      "[FINISHED]\n",
      "Saving power at C:\\Users\\User\\Documents\\power\\power_asrt\\STIMULI-EPOCH\\122_R_Day1_P_3_power-tfr.h5 ...\n"
     ]
    },
    {
     "name": "stderr",
     "output_type": "stream",
     "text": [
      "C:\\Users\\User\\anaconda3\\envs\\eeg-workshop\\lib\\site-packages\\meeg_tools\\analysis_pipeline.py:136: FutureWarning: The frame.append method is deprecated and will be removed from pandas in a future version. Use pandas.concat instead.\n",
      "  metadata = metadata.append(data,\n",
      "[Parallel(n_jobs=12)]: Using backend LokyBackend with 12 concurrent workers.\n",
      "[Parallel(n_jobs=12)]: Done   6 tasks      | elapsed:    0.0s\n",
      "[Parallel(n_jobs=12)]: Done  64 out of  64 | elapsed:    0.0s finished\n"
     ]
    },
    {
     "name": "stdout",
     "output_type": "stream",
     "text": [
      "[FINISHED]\n",
      "Saving power at C:\\Users\\User\\Documents\\power\\power_asrt\\STIMULI-EPOCH\\122_R_Day1_P_4_power-tfr.h5 ...\n"
     ]
    },
    {
     "name": "stderr",
     "output_type": "stream",
     "text": [
      "C:\\Users\\User\\anaconda3\\envs\\eeg-workshop\\lib\\site-packages\\meeg_tools\\analysis_pipeline.py:136: FutureWarning: The frame.append method is deprecated and will be removed from pandas in a future version. Use pandas.concat instead.\n",
      "  metadata = metadata.append(data,\n",
      "[Parallel(n_jobs=12)]: Using backend LokyBackend with 12 concurrent workers.\n",
      "[Parallel(n_jobs=12)]: Done   6 tasks      | elapsed:    0.0s\n",
      "[Parallel(n_jobs=12)]: Done  64 out of  64 | elapsed:    0.0s finished\n"
     ]
    },
    {
     "name": "stdout",
     "output_type": "stream",
     "text": [
      "[FINISHED]\n",
      "Saving power at C:\\Users\\User\\Documents\\power\\power_asrt\\STIMULI-EPOCH\\122_R_Day1_P_5_power-tfr.h5 ...\n"
     ]
    },
    {
     "name": "stderr",
     "output_type": "stream",
     "text": [
      "C:\\Users\\User\\anaconda3\\envs\\eeg-workshop\\lib\\site-packages\\meeg_tools\\analysis_pipeline.py:136: FutureWarning: The frame.append method is deprecated and will be removed from pandas in a future version. Use pandas.concat instead.\n",
      "  metadata = metadata.append(data,\n",
      "[Parallel(n_jobs=12)]: Using backend LokyBackend with 12 concurrent workers.\n",
      "[Parallel(n_jobs=12)]: Done   6 tasks      | elapsed:    0.0s\n",
      "[Parallel(n_jobs=12)]: Done  64 out of  64 | elapsed:    0.0s finished\n"
     ]
    },
    {
     "name": "stdout",
     "output_type": "stream",
     "text": [
      "[FINISHED]\n",
      "Saving power at C:\\Users\\User\\Documents\\power\\power_asrt\\STIMULI-EPOCH\\122_R_Day1_R_1_power-tfr.h5 ...\n"
     ]
    },
    {
     "name": "stderr",
     "output_type": "stream",
     "text": [
      "C:\\Users\\User\\anaconda3\\envs\\eeg-workshop\\lib\\site-packages\\meeg_tools\\analysis_pipeline.py:136: FutureWarning: The frame.append method is deprecated and will be removed from pandas in a future version. Use pandas.concat instead.\n",
      "  metadata = metadata.append(data,\n",
      "[Parallel(n_jobs=12)]: Using backend LokyBackend with 12 concurrent workers.\n",
      "[Parallel(n_jobs=12)]: Done   6 tasks      | elapsed:    0.0s\n",
      "[Parallel(n_jobs=12)]: Done  64 out of  64 | elapsed:    0.0s finished\n"
     ]
    },
    {
     "name": "stdout",
     "output_type": "stream",
     "text": [
      "[FINISHED]\n",
      "Saving power at C:\\Users\\User\\Documents\\power\\power_asrt\\STIMULI-EPOCH\\122_R_Day1_R_2_power-tfr.h5 ...\n"
     ]
    },
    {
     "name": "stderr",
     "output_type": "stream",
     "text": [
      "C:\\Users\\User\\anaconda3\\envs\\eeg-workshop\\lib\\site-packages\\meeg_tools\\analysis_pipeline.py:136: FutureWarning: The frame.append method is deprecated and will be removed from pandas in a future version. Use pandas.concat instead.\n",
      "  metadata = metadata.append(data,\n",
      "[Parallel(n_jobs=12)]: Using backend LokyBackend with 12 concurrent workers.\n",
      "[Parallel(n_jobs=12)]: Done   6 tasks      | elapsed:    0.0s\n",
      "[Parallel(n_jobs=12)]: Done  64 out of  64 | elapsed:    0.0s finished\n"
     ]
    },
    {
     "name": "stdout",
     "output_type": "stream",
     "text": [
      "[FINISHED]\n",
      "Saving power at C:\\Users\\User\\Documents\\power\\power_asrt\\STIMULI-EPOCH\\122_R_Day1_R_3_power-tfr.h5 ...\n"
     ]
    },
    {
     "name": "stderr",
     "output_type": "stream",
     "text": [
      "C:\\Users\\User\\anaconda3\\envs\\eeg-workshop\\lib\\site-packages\\meeg_tools\\analysis_pipeline.py:136: FutureWarning: The frame.append method is deprecated and will be removed from pandas in a future version. Use pandas.concat instead.\n",
      "  metadata = metadata.append(data,\n",
      "[Parallel(n_jobs=12)]: Using backend LokyBackend with 12 concurrent workers.\n",
      "[Parallel(n_jobs=12)]: Done   6 tasks      | elapsed:    0.0s\n",
      "[Parallel(n_jobs=12)]: Done  64 out of  64 | elapsed:    0.0s finished\n"
     ]
    },
    {
     "name": "stdout",
     "output_type": "stream",
     "text": [
      "[FINISHED]\n",
      "Saving power at C:\\Users\\User\\Documents\\power\\power_asrt\\STIMULI-EPOCH\\122_R_Day1_R_4_power-tfr.h5 ...\n"
     ]
    },
    {
     "name": "stderr",
     "output_type": "stream",
     "text": [
      "C:\\Users\\User\\anaconda3\\envs\\eeg-workshop\\lib\\site-packages\\meeg_tools\\analysis_pipeline.py:136: FutureWarning: The frame.append method is deprecated and will be removed from pandas in a future version. Use pandas.concat instead.\n",
      "  metadata = metadata.append(data,\n",
      "[Parallel(n_jobs=12)]: Using backend LokyBackend with 12 concurrent workers.\n",
      "[Parallel(n_jobs=12)]: Done   6 tasks      | elapsed:    0.0s\n",
      "[Parallel(n_jobs=12)]: Done  64 out of  64 | elapsed:    0.0s finished\n"
     ]
    },
    {
     "name": "stdout",
     "output_type": "stream",
     "text": [
      "[FINISHED]\n",
      "Saving power at C:\\Users\\User\\Documents\\power\\power_asrt\\STIMULI-EPOCH\\122_R_Day1_R_5_power-tfr.h5 ...\n"
     ]
    },
    {
     "name": "stderr",
     "output_type": "stream",
     "text": [
      "C:\\Users\\User\\anaconda3\\envs\\eeg-workshop\\lib\\site-packages\\meeg_tools\\analysis_pipeline.py:136: FutureWarning: The frame.append method is deprecated and will be removed from pandas in a future version. Use pandas.concat instead.\n",
      "  metadata = metadata.append(data,\n",
      "[Parallel(n_jobs=12)]: Using backend LokyBackend with 12 concurrent workers.\n",
      "[Parallel(n_jobs=12)]: Done   6 tasks      | elapsed:    0.0s\n",
      "[Parallel(n_jobs=12)]: Done  64 out of  64 | elapsed:    0.0s finished\n"
     ]
    },
    {
     "name": "stdout",
     "output_type": "stream",
     "text": [
      "[FINISHED]\n"
     ]
    },
    {
     "name": "stderr",
     "output_type": "stream",
     "text": [
      "Processing 123_B_Day1_ICA_autoreject_ransac-epo.fif:  13%|█████████▋                                                               | 24/180 [06:25<41:52, 16.11s/it]"
     ]
    },
    {
     "name": "stdout",
     "output_type": "stream",
     "text": [
      "Loading data for 1269 events and 726 original time points ...\n",
      "Replacing existing metadata with 10 columns\n",
      "Replacing existing metadata with 10 columns\n",
      "Saving power at C:\\Users\\User\\Documents\\power\\power_asrt\\STIMULI-EPOCH\\123_B_Day1_P_1_power-tfr.h5 ...\n"
     ]
    },
    {
     "name": "stderr",
     "output_type": "stream",
     "text": [
      "C:\\Users\\User\\anaconda3\\envs\\eeg-workshop\\lib\\site-packages\\meeg_tools\\analysis_pipeline.py:136: FutureWarning: The frame.append method is deprecated and will be removed from pandas in a future version. Use pandas.concat instead.\n",
      "  metadata = metadata.append(data,\n",
      "[Parallel(n_jobs=12)]: Using backend LokyBackend with 12 concurrent workers.\n",
      "[Parallel(n_jobs=12)]: Done   6 tasks      | elapsed:    0.0s\n",
      "[Parallel(n_jobs=12)]: Done  64 out of  64 | elapsed:    0.0s finished\n"
     ]
    },
    {
     "name": "stdout",
     "output_type": "stream",
     "text": [
      "[FINISHED]\n",
      "Saving power at C:\\Users\\User\\Documents\\power\\power_asrt\\STIMULI-EPOCH\\123_B_Day1_P_2_power-tfr.h5 ...\n"
     ]
    },
    {
     "name": "stderr",
     "output_type": "stream",
     "text": [
      "C:\\Users\\User\\anaconda3\\envs\\eeg-workshop\\lib\\site-packages\\meeg_tools\\analysis_pipeline.py:136: FutureWarning: The frame.append method is deprecated and will be removed from pandas in a future version. Use pandas.concat instead.\n",
      "  metadata = metadata.append(data,\n",
      "[Parallel(n_jobs=12)]: Using backend LokyBackend with 12 concurrent workers.\n",
      "[Parallel(n_jobs=12)]: Done   6 tasks      | elapsed:    0.0s\n",
      "[Parallel(n_jobs=12)]: Done  64 out of  64 | elapsed:    0.0s finished\n"
     ]
    },
    {
     "name": "stdout",
     "output_type": "stream",
     "text": [
      "[FINISHED]\n",
      "Saving power at C:\\Users\\User\\Documents\\power\\power_asrt\\STIMULI-EPOCH\\123_B_Day1_P_3_power-tfr.h5 ...\n"
     ]
    },
    {
     "name": "stderr",
     "output_type": "stream",
     "text": [
      "C:\\Users\\User\\anaconda3\\envs\\eeg-workshop\\lib\\site-packages\\meeg_tools\\analysis_pipeline.py:136: FutureWarning: The frame.append method is deprecated and will be removed from pandas in a future version. Use pandas.concat instead.\n",
      "  metadata = metadata.append(data,\n",
      "[Parallel(n_jobs=12)]: Using backend LokyBackend with 12 concurrent workers.\n",
      "[Parallel(n_jobs=12)]: Done   6 tasks      | elapsed:    0.0s\n",
      "[Parallel(n_jobs=12)]: Done  64 out of  64 | elapsed:    0.0s finished\n"
     ]
    },
    {
     "name": "stdout",
     "output_type": "stream",
     "text": [
      "[FINISHED]\n",
      "Saving power at C:\\Users\\User\\Documents\\power\\power_asrt\\STIMULI-EPOCH\\123_B_Day1_P_4_power-tfr.h5 ...\n"
     ]
    },
    {
     "name": "stderr",
     "output_type": "stream",
     "text": [
      "C:\\Users\\User\\anaconda3\\envs\\eeg-workshop\\lib\\site-packages\\meeg_tools\\analysis_pipeline.py:136: FutureWarning: The frame.append method is deprecated and will be removed from pandas in a future version. Use pandas.concat instead.\n",
      "  metadata = metadata.append(data,\n",
      "[Parallel(n_jobs=12)]: Using backend LokyBackend with 12 concurrent workers.\n",
      "[Parallel(n_jobs=12)]: Done   6 tasks      | elapsed:    0.0s\n",
      "[Parallel(n_jobs=12)]: Done  64 out of  64 | elapsed:    0.0s finished\n"
     ]
    },
    {
     "name": "stdout",
     "output_type": "stream",
     "text": [
      "[FINISHED]\n",
      "Saving power at C:\\Users\\User\\Documents\\power\\power_asrt\\STIMULI-EPOCH\\123_B_Day1_P_5_power-tfr.h5 ...\n"
     ]
    },
    {
     "name": "stderr",
     "output_type": "stream",
     "text": [
      "C:\\Users\\User\\anaconda3\\envs\\eeg-workshop\\lib\\site-packages\\meeg_tools\\analysis_pipeline.py:136: FutureWarning: The frame.append method is deprecated and will be removed from pandas in a future version. Use pandas.concat instead.\n",
      "  metadata = metadata.append(data,\n",
      "[Parallel(n_jobs=12)]: Using backend LokyBackend with 12 concurrent workers.\n",
      "[Parallel(n_jobs=12)]: Done   6 tasks      | elapsed:    0.0s\n",
      "[Parallel(n_jobs=12)]: Done  64 out of  64 | elapsed:    0.0s finished\n"
     ]
    },
    {
     "name": "stdout",
     "output_type": "stream",
     "text": [
      "[FINISHED]\n"
     ]
    },
    {
     "name": "stderr",
     "output_type": "stream",
     "text": [
      "C:\\Users\\User\\anaconda3\\envs\\eeg-workshop\\lib\\site-packages\\meeg_tools\\analysis_pipeline.py:136: FutureWarning: The frame.append method is deprecated and will be removed from pandas in a future version. Use pandas.concat instead.\n",
      "  metadata = metadata.append(data,\n",
      "[Parallel(n_jobs=12)]: Using backend LokyBackend with 12 concurrent workers.\n",
      "[Parallel(n_jobs=12)]: Done   6 tasks      | elapsed:    0.0s\n"
     ]
    },
    {
     "name": "stdout",
     "output_type": "stream",
     "text": [
      "Saving power at C:\\Users\\User\\Documents\\power\\power_asrt\\STIMULI-EPOCH\\123_B_Day1_R_1_power-tfr.h5 ...\n"
     ]
    },
    {
     "name": "stderr",
     "output_type": "stream",
     "text": [
      "[Parallel(n_jobs=12)]: Done  64 out of  64 | elapsed:    0.1s finished\n"
     ]
    },
    {
     "name": "stdout",
     "output_type": "stream",
     "text": [
      "[FINISHED]\n",
      "Saving power at C:\\Users\\User\\Documents\\power\\power_asrt\\STIMULI-EPOCH\\123_B_Day1_R_2_power-tfr.h5 ...\n"
     ]
    },
    {
     "name": "stderr",
     "output_type": "stream",
     "text": [
      "C:\\Users\\User\\anaconda3\\envs\\eeg-workshop\\lib\\site-packages\\meeg_tools\\analysis_pipeline.py:136: FutureWarning: The frame.append method is deprecated and will be removed from pandas in a future version. Use pandas.concat instead.\n",
      "  metadata = metadata.append(data,\n",
      "[Parallel(n_jobs=12)]: Using backend LokyBackend with 12 concurrent workers.\n",
      "[Parallel(n_jobs=12)]: Done   6 tasks      | elapsed:    0.0s\n",
      "[Parallel(n_jobs=12)]: Done  64 out of  64 | elapsed:    0.0s finished\n"
     ]
    },
    {
     "name": "stdout",
     "output_type": "stream",
     "text": [
      "[FINISHED]\n",
      "Saving power at C:\\Users\\User\\Documents\\power\\power_asrt\\STIMULI-EPOCH\\123_B_Day1_R_3_power-tfr.h5 ...\n"
     ]
    },
    {
     "name": "stderr",
     "output_type": "stream",
     "text": [
      "C:\\Users\\User\\anaconda3\\envs\\eeg-workshop\\lib\\site-packages\\meeg_tools\\analysis_pipeline.py:136: FutureWarning: The frame.append method is deprecated and will be removed from pandas in a future version. Use pandas.concat instead.\n",
      "  metadata = metadata.append(data,\n",
      "[Parallel(n_jobs=12)]: Using backend LokyBackend with 12 concurrent workers.\n",
      "[Parallel(n_jobs=12)]: Done   6 tasks      | elapsed:    0.0s\n",
      "[Parallel(n_jobs=12)]: Done  64 out of  64 | elapsed:    0.0s finished\n"
     ]
    },
    {
     "name": "stdout",
     "output_type": "stream",
     "text": [
      "[FINISHED]\n",
      "Saving power at C:\\Users\\User\\Documents\\power\\power_asrt\\STIMULI-EPOCH\\123_B_Day1_R_4_power-tfr.h5 ...\n"
     ]
    },
    {
     "name": "stderr",
     "output_type": "stream",
     "text": [
      "C:\\Users\\User\\anaconda3\\envs\\eeg-workshop\\lib\\site-packages\\meeg_tools\\analysis_pipeline.py:136: FutureWarning: The frame.append method is deprecated and will be removed from pandas in a future version. Use pandas.concat instead.\n",
      "  metadata = metadata.append(data,\n",
      "[Parallel(n_jobs=12)]: Using backend LokyBackend with 12 concurrent workers.\n",
      "[Parallel(n_jobs=12)]: Done   6 tasks      | elapsed:    0.0s\n",
      "[Parallel(n_jobs=12)]: Done  64 out of  64 | elapsed:    0.0s finished\n"
     ]
    },
    {
     "name": "stdout",
     "output_type": "stream",
     "text": [
      "[FINISHED]\n",
      "Saving power at C:\\Users\\User\\Documents\\power\\power_asrt\\STIMULI-EPOCH\\123_B_Day1_R_5_power-tfr.h5 ...\n"
     ]
    },
    {
     "name": "stderr",
     "output_type": "stream",
     "text": [
      "C:\\Users\\User\\anaconda3\\envs\\eeg-workshop\\lib\\site-packages\\meeg_tools\\analysis_pipeline.py:136: FutureWarning: The frame.append method is deprecated and will be removed from pandas in a future version. Use pandas.concat instead.\n",
      "  metadata = metadata.append(data,\n",
      "[Parallel(n_jobs=12)]: Using backend LokyBackend with 12 concurrent workers.\n",
      "[Parallel(n_jobs=12)]: Done   6 tasks      | elapsed:    0.0s\n",
      "[Parallel(n_jobs=12)]: Done  64 out of  64 | elapsed:    0.0s finished\n"
     ]
    },
    {
     "name": "stdout",
     "output_type": "stream",
     "text": [
      "[FINISHED]\n"
     ]
    },
    {
     "name": "stderr",
     "output_type": "stream",
     "text": [
      "Processing 124_B_Day1_ICA_autoreject_ransac-epo.fif:  14%|██████████▏                                                              | 25/180 [06:39<40:18, 15.61s/it]"
     ]
    },
    {
     "name": "stdout",
     "output_type": "stream",
     "text": [
      "Loading data for 1119 events and 726 original time points ...\n",
      "Replacing existing metadata with 10 columns\n",
      "Replacing existing metadata with 10 columns\n",
      "Saving power at C:\\Users\\User\\Documents\\power\\power_asrt\\STIMULI-EPOCH\\124_B_Day1_P_1_power-tfr.h5 ...\n"
     ]
    },
    {
     "name": "stderr",
     "output_type": "stream",
     "text": [
      "C:\\Users\\User\\anaconda3\\envs\\eeg-workshop\\lib\\site-packages\\meeg_tools\\analysis_pipeline.py:136: FutureWarning: The frame.append method is deprecated and will be removed from pandas in a future version. Use pandas.concat instead.\n",
      "  metadata = metadata.append(data,\n",
      "[Parallel(n_jobs=12)]: Using backend LokyBackend with 12 concurrent workers.\n",
      "[Parallel(n_jobs=12)]: Done   6 tasks      | elapsed:    0.0s\n",
      "[Parallel(n_jobs=12)]: Done  64 out of  64 | elapsed:    0.0s finished\n"
     ]
    },
    {
     "name": "stdout",
     "output_type": "stream",
     "text": [
      "[FINISHED]\n",
      "Saving power at C:\\Users\\User\\Documents\\power\\power_asrt\\STIMULI-EPOCH\\124_B_Day1_P_2_power-tfr.h5 ...\n"
     ]
    },
    {
     "name": "stderr",
     "output_type": "stream",
     "text": [
      "C:\\Users\\User\\anaconda3\\envs\\eeg-workshop\\lib\\site-packages\\meeg_tools\\analysis_pipeline.py:136: FutureWarning: The frame.append method is deprecated and will be removed from pandas in a future version. Use pandas.concat instead.\n",
      "  metadata = metadata.append(data,\n",
      "[Parallel(n_jobs=12)]: Using backend LokyBackend with 12 concurrent workers.\n",
      "[Parallel(n_jobs=12)]: Done   6 tasks      | elapsed:    0.0s\n",
      "[Parallel(n_jobs=12)]: Done  64 out of  64 | elapsed:    0.0s finished\n"
     ]
    },
    {
     "name": "stdout",
     "output_type": "stream",
     "text": [
      "[FINISHED]\n",
      "Saving power at C:\\Users\\User\\Documents\\power\\power_asrt\\STIMULI-EPOCH\\124_B_Day1_P_3_power-tfr.h5 ...\n"
     ]
    },
    {
     "name": "stderr",
     "output_type": "stream",
     "text": [
      "C:\\Users\\User\\anaconda3\\envs\\eeg-workshop\\lib\\site-packages\\meeg_tools\\analysis_pipeline.py:136: FutureWarning: The frame.append method is deprecated and will be removed from pandas in a future version. Use pandas.concat instead.\n",
      "  metadata = metadata.append(data,\n",
      "[Parallel(n_jobs=12)]: Using backend LokyBackend with 12 concurrent workers.\n",
      "[Parallel(n_jobs=12)]: Done   6 tasks      | elapsed:    0.0s\n",
      "[Parallel(n_jobs=12)]: Done  64 out of  64 | elapsed:    0.0s finished\n"
     ]
    },
    {
     "name": "stdout",
     "output_type": "stream",
     "text": [
      "[FINISHED]\n",
      "Saving power at C:\\Users\\User\\Documents\\power\\power_asrt\\STIMULI-EPOCH\\124_B_Day1_P_4_power-tfr.h5 ...\n"
     ]
    },
    {
     "name": "stderr",
     "output_type": "stream",
     "text": [
      "C:\\Users\\User\\anaconda3\\envs\\eeg-workshop\\lib\\site-packages\\meeg_tools\\analysis_pipeline.py:136: FutureWarning: The frame.append method is deprecated and will be removed from pandas in a future version. Use pandas.concat instead.\n",
      "  metadata = metadata.append(data,\n",
      "[Parallel(n_jobs=12)]: Using backend LokyBackend with 12 concurrent workers.\n",
      "[Parallel(n_jobs=12)]: Done   6 tasks      | elapsed:    0.0s\n",
      "[Parallel(n_jobs=12)]: Done  64 out of  64 | elapsed:    0.0s finished\n"
     ]
    },
    {
     "name": "stdout",
     "output_type": "stream",
     "text": [
      "[FINISHED]\n",
      "Saving power at C:\\Users\\User\\Documents\\power\\power_asrt\\STIMULI-EPOCH\\124_B_Day1_P_5_power-tfr.h5 ...\n"
     ]
    },
    {
     "name": "stderr",
     "output_type": "stream",
     "text": [
      "C:\\Users\\User\\anaconda3\\envs\\eeg-workshop\\lib\\site-packages\\meeg_tools\\analysis_pipeline.py:136: FutureWarning: The frame.append method is deprecated and will be removed from pandas in a future version. Use pandas.concat instead.\n",
      "  metadata = metadata.append(data,\n",
      "[Parallel(n_jobs=12)]: Using backend LokyBackend with 12 concurrent workers.\n",
      "[Parallel(n_jobs=12)]: Done   6 tasks      | elapsed:    0.0s\n",
      "[Parallel(n_jobs=12)]: Done  64 out of  64 | elapsed:    0.0s finished\n"
     ]
    },
    {
     "name": "stdout",
     "output_type": "stream",
     "text": [
      "[FINISHED]\n",
      "Saving power at C:\\Users\\User\\Documents\\power\\power_asrt\\STIMULI-EPOCH\\124_B_Day1_R_1_power-tfr.h5 ...\n"
     ]
    },
    {
     "name": "stderr",
     "output_type": "stream",
     "text": [
      "C:\\Users\\User\\anaconda3\\envs\\eeg-workshop\\lib\\site-packages\\meeg_tools\\analysis_pipeline.py:136: FutureWarning: The frame.append method is deprecated and will be removed from pandas in a future version. Use pandas.concat instead.\n",
      "  metadata = metadata.append(data,\n",
      "[Parallel(n_jobs=12)]: Using backend LokyBackend with 12 concurrent workers.\n",
      "[Parallel(n_jobs=12)]: Done   6 tasks      | elapsed:    0.0s\n",
      "[Parallel(n_jobs=12)]: Done  64 out of  64 | elapsed:    0.0s finished\n"
     ]
    },
    {
     "name": "stdout",
     "output_type": "stream",
     "text": [
      "[FINISHED]\n",
      "Saving power at C:\\Users\\User\\Documents\\power\\power_asrt\\STIMULI-EPOCH\\124_B_Day1_R_2_power-tfr.h5 ...\n"
     ]
    },
    {
     "name": "stderr",
     "output_type": "stream",
     "text": [
      "C:\\Users\\User\\anaconda3\\envs\\eeg-workshop\\lib\\site-packages\\meeg_tools\\analysis_pipeline.py:136: FutureWarning: The frame.append method is deprecated and will be removed from pandas in a future version. Use pandas.concat instead.\n",
      "  metadata = metadata.append(data,\n",
      "[Parallel(n_jobs=12)]: Using backend LokyBackend with 12 concurrent workers.\n",
      "[Parallel(n_jobs=12)]: Done   6 tasks      | elapsed:    0.0s\n",
      "[Parallel(n_jobs=12)]: Done  64 out of  64 | elapsed:    0.0s finished\n"
     ]
    },
    {
     "name": "stdout",
     "output_type": "stream",
     "text": [
      "[FINISHED]\n",
      "Saving power at C:\\Users\\User\\Documents\\power\\power_asrt\\STIMULI-EPOCH\\124_B_Day1_R_3_power-tfr.h5 ...\n"
     ]
    },
    {
     "name": "stderr",
     "output_type": "stream",
     "text": [
      "C:\\Users\\User\\anaconda3\\envs\\eeg-workshop\\lib\\site-packages\\meeg_tools\\analysis_pipeline.py:136: FutureWarning: The frame.append method is deprecated and will be removed from pandas in a future version. Use pandas.concat instead.\n",
      "  metadata = metadata.append(data,\n",
      "[Parallel(n_jobs=12)]: Using backend LokyBackend with 12 concurrent workers.\n",
      "[Parallel(n_jobs=12)]: Done   6 tasks      | elapsed:    0.0s\n",
      "[Parallel(n_jobs=12)]: Done  64 out of  64 | elapsed:    0.0s finished\n"
     ]
    },
    {
     "name": "stdout",
     "output_type": "stream",
     "text": [
      "[FINISHED]\n",
      "Saving power at C:\\Users\\User\\Documents\\power\\power_asrt\\STIMULI-EPOCH\\124_B_Day1_R_4_power-tfr.h5 ...\n"
     ]
    },
    {
     "name": "stderr",
     "output_type": "stream",
     "text": [
      "C:\\Users\\User\\anaconda3\\envs\\eeg-workshop\\lib\\site-packages\\meeg_tools\\analysis_pipeline.py:136: FutureWarning: The frame.append method is deprecated and will be removed from pandas in a future version. Use pandas.concat instead.\n",
      "  metadata = metadata.append(data,\n",
      "[Parallel(n_jobs=12)]: Using backend LokyBackend with 12 concurrent workers.\n",
      "[Parallel(n_jobs=12)]: Done   6 tasks      | elapsed:    0.0s\n",
      "[Parallel(n_jobs=12)]: Done  64 out of  64 | elapsed:    0.0s finished\n"
     ]
    },
    {
     "name": "stdout",
     "output_type": "stream",
     "text": [
      "[FINISHED]\n",
      "Saving power at C:\\Users\\User\\Documents\\power\\power_asrt\\STIMULI-EPOCH\\124_B_Day1_R_5_power-tfr.h5 ...\n"
     ]
    },
    {
     "name": "stderr",
     "output_type": "stream",
     "text": [
      "C:\\Users\\User\\anaconda3\\envs\\eeg-workshop\\lib\\site-packages\\meeg_tools\\analysis_pipeline.py:136: FutureWarning: The frame.append method is deprecated and will be removed from pandas in a future version. Use pandas.concat instead.\n",
      "  metadata = metadata.append(data,\n",
      "[Parallel(n_jobs=12)]: Using backend LokyBackend with 12 concurrent workers.\n",
      "[Parallel(n_jobs=12)]: Done   6 tasks      | elapsed:    0.0s\n",
      "[Parallel(n_jobs=12)]: Done  64 out of  64 | elapsed:    0.0s finished\n"
     ]
    },
    {
     "name": "stdout",
     "output_type": "stream",
     "text": [
      "[FINISHED]\n"
     ]
    },
    {
     "name": "stderr",
     "output_type": "stream",
     "text": [
      "Processing 125_R_Day1_ICA_autoreject_ransac-epo.fif:  14%|██████████▌                                                              | 26/180 [06:54<39:22, 15.34s/it]"
     ]
    },
    {
     "name": "stdout",
     "output_type": "stream",
     "text": [
      "Loading data for 1427 events and 726 original time points ...\n",
      "Replacing existing metadata with 10 columns\n",
      "Replacing existing metadata with 10 columns\n",
      "Saving power at C:\\Users\\User\\Documents\\power\\power_asrt\\STIMULI-EPOCH\\125_R_Day1_P_1_power-tfr.h5 ...\n"
     ]
    },
    {
     "name": "stderr",
     "output_type": "stream",
     "text": [
      "C:\\Users\\User\\anaconda3\\envs\\eeg-workshop\\lib\\site-packages\\meeg_tools\\analysis_pipeline.py:136: FutureWarning: The frame.append method is deprecated and will be removed from pandas in a future version. Use pandas.concat instead.\n",
      "  metadata = metadata.append(data,\n",
      "[Parallel(n_jobs=12)]: Using backend LokyBackend with 12 concurrent workers.\n",
      "[Parallel(n_jobs=12)]: Done   6 tasks      | elapsed:    0.0s\n",
      "[Parallel(n_jobs=12)]: Done  64 out of  64 | elapsed:    0.0s finished\n"
     ]
    },
    {
     "name": "stdout",
     "output_type": "stream",
     "text": [
      "[FINISHED]\n",
      "Saving power at C:\\Users\\User\\Documents\\power\\power_asrt\\STIMULI-EPOCH\\125_R_Day1_P_2_power-tfr.h5 ...\n"
     ]
    },
    {
     "name": "stderr",
     "output_type": "stream",
     "text": [
      "C:\\Users\\User\\anaconda3\\envs\\eeg-workshop\\lib\\site-packages\\meeg_tools\\analysis_pipeline.py:136: FutureWarning: The frame.append method is deprecated and will be removed from pandas in a future version. Use pandas.concat instead.\n",
      "  metadata = metadata.append(data,\n",
      "[Parallel(n_jobs=12)]: Using backend LokyBackend with 12 concurrent workers.\n",
      "[Parallel(n_jobs=12)]: Done   6 tasks      | elapsed:    0.0s\n",
      "[Parallel(n_jobs=12)]: Done  64 out of  64 | elapsed:    0.0s finished\n"
     ]
    },
    {
     "name": "stdout",
     "output_type": "stream",
     "text": [
      "[FINISHED]\n",
      "Saving power at C:\\Users\\User\\Documents\\power\\power_asrt\\STIMULI-EPOCH\\125_R_Day1_P_3_power-tfr.h5 ...\n"
     ]
    },
    {
     "name": "stderr",
     "output_type": "stream",
     "text": [
      "C:\\Users\\User\\anaconda3\\envs\\eeg-workshop\\lib\\site-packages\\meeg_tools\\analysis_pipeline.py:136: FutureWarning: The frame.append method is deprecated and will be removed from pandas in a future version. Use pandas.concat instead.\n",
      "  metadata = metadata.append(data,\n",
      "[Parallel(n_jobs=12)]: Using backend LokyBackend with 12 concurrent workers.\n",
      "[Parallel(n_jobs=12)]: Done   6 tasks      | elapsed:    0.0s\n",
      "[Parallel(n_jobs=12)]: Done  64 out of  64 | elapsed:    0.0s finished\n"
     ]
    },
    {
     "name": "stdout",
     "output_type": "stream",
     "text": [
      "[FINISHED]\n",
      "Saving power at C:\\Users\\User\\Documents\\power\\power_asrt\\STIMULI-EPOCH\\125_R_Day1_P_4_power-tfr.h5 ...\n"
     ]
    },
    {
     "name": "stderr",
     "output_type": "stream",
     "text": [
      "C:\\Users\\User\\anaconda3\\envs\\eeg-workshop\\lib\\site-packages\\meeg_tools\\analysis_pipeline.py:136: FutureWarning: The frame.append method is deprecated and will be removed from pandas in a future version. Use pandas.concat instead.\n",
      "  metadata = metadata.append(data,\n",
      "[Parallel(n_jobs=12)]: Using backend LokyBackend with 12 concurrent workers.\n",
      "[Parallel(n_jobs=12)]: Done   6 tasks      | elapsed:    0.0s\n",
      "[Parallel(n_jobs=12)]: Done  64 out of  64 | elapsed:    0.0s finished\n"
     ]
    },
    {
     "name": "stdout",
     "output_type": "stream",
     "text": [
      "[FINISHED]\n",
      "Saving power at C:\\Users\\User\\Documents\\power\\power_asrt\\STIMULI-EPOCH\\125_R_Day1_P_5_power-tfr.h5 ...\n"
     ]
    },
    {
     "name": "stderr",
     "output_type": "stream",
     "text": [
      "C:\\Users\\User\\anaconda3\\envs\\eeg-workshop\\lib\\site-packages\\meeg_tools\\analysis_pipeline.py:136: FutureWarning: The frame.append method is deprecated and will be removed from pandas in a future version. Use pandas.concat instead.\n",
      "  metadata = metadata.append(data,\n",
      "[Parallel(n_jobs=12)]: Using backend LokyBackend with 12 concurrent workers.\n",
      "[Parallel(n_jobs=12)]: Done   6 tasks      | elapsed:    0.0s\n",
      "[Parallel(n_jobs=12)]: Done  64 out of  64 | elapsed:    0.0s finished\n"
     ]
    },
    {
     "name": "stdout",
     "output_type": "stream",
     "text": [
      "[FINISHED]\n",
      "Saving power at C:\\Users\\User\\Documents\\power\\power_asrt\\STIMULI-EPOCH\\125_R_Day1_R_1_power-tfr.h5 ...\n"
     ]
    },
    {
     "name": "stderr",
     "output_type": "stream",
     "text": [
      "C:\\Users\\User\\anaconda3\\envs\\eeg-workshop\\lib\\site-packages\\meeg_tools\\analysis_pipeline.py:136: FutureWarning: The frame.append method is deprecated and will be removed from pandas in a future version. Use pandas.concat instead.\n",
      "  metadata = metadata.append(data,\n",
      "[Parallel(n_jobs=12)]: Using backend LokyBackend with 12 concurrent workers.\n",
      "[Parallel(n_jobs=12)]: Done   6 tasks      | elapsed:    0.0s\n",
      "[Parallel(n_jobs=12)]: Done  64 out of  64 | elapsed:    0.0s finished\n"
     ]
    },
    {
     "name": "stdout",
     "output_type": "stream",
     "text": [
      "[FINISHED]\n",
      "Saving power at C:\\Users\\User\\Documents\\power\\power_asrt\\STIMULI-EPOCH\\125_R_Day1_R_2_power-tfr.h5 ...\n"
     ]
    },
    {
     "name": "stderr",
     "output_type": "stream",
     "text": [
      "C:\\Users\\User\\anaconda3\\envs\\eeg-workshop\\lib\\site-packages\\meeg_tools\\analysis_pipeline.py:136: FutureWarning: The frame.append method is deprecated and will be removed from pandas in a future version. Use pandas.concat instead.\n",
      "  metadata = metadata.append(data,\n",
      "[Parallel(n_jobs=12)]: Using backend LokyBackend with 12 concurrent workers.\n",
      "[Parallel(n_jobs=12)]: Done   6 tasks      | elapsed:    0.0s\n",
      "[Parallel(n_jobs=12)]: Done  64 out of  64 | elapsed:    0.0s finished\n"
     ]
    },
    {
     "name": "stdout",
     "output_type": "stream",
     "text": [
      "[FINISHED]\n",
      "Saving power at C:\\Users\\User\\Documents\\power\\power_asrt\\STIMULI-EPOCH\\125_R_Day1_R_3_power-tfr.h5 ...\n"
     ]
    },
    {
     "name": "stderr",
     "output_type": "stream",
     "text": [
      "C:\\Users\\User\\anaconda3\\envs\\eeg-workshop\\lib\\site-packages\\meeg_tools\\analysis_pipeline.py:136: FutureWarning: The frame.append method is deprecated and will be removed from pandas in a future version. Use pandas.concat instead.\n",
      "  metadata = metadata.append(data,\n",
      "[Parallel(n_jobs=12)]: Using backend LokyBackend with 12 concurrent workers.\n",
      "[Parallel(n_jobs=12)]: Done   6 tasks      | elapsed:    0.0s\n",
      "[Parallel(n_jobs=12)]: Done  64 out of  64 | elapsed:    0.0s finished\n"
     ]
    },
    {
     "name": "stdout",
     "output_type": "stream",
     "text": [
      "[FINISHED]\n",
      "Saving power at C:\\Users\\User\\Documents\\power\\power_asrt\\STIMULI-EPOCH\\125_R_Day1_R_4_power-tfr.h5 ...\n"
     ]
    },
    {
     "name": "stderr",
     "output_type": "stream",
     "text": [
      "C:\\Users\\User\\anaconda3\\envs\\eeg-workshop\\lib\\site-packages\\meeg_tools\\analysis_pipeline.py:136: FutureWarning: The frame.append method is deprecated and will be removed from pandas in a future version. Use pandas.concat instead.\n",
      "  metadata = metadata.append(data,\n",
      "[Parallel(n_jobs=12)]: Using backend LokyBackend with 12 concurrent workers.\n",
      "[Parallel(n_jobs=12)]: Done   6 tasks      | elapsed:    0.0s\n",
      "[Parallel(n_jobs=12)]: Done  64 out of  64 | elapsed:    0.0s finished\n"
     ]
    },
    {
     "name": "stdout",
     "output_type": "stream",
     "text": [
      "[FINISHED]\n",
      "Saving power at C:\\Users\\User\\Documents\\power\\power_asrt\\STIMULI-EPOCH\\125_R_Day1_R_5_power-tfr.h5 ...\n"
     ]
    },
    {
     "name": "stderr",
     "output_type": "stream",
     "text": [
      "C:\\Users\\User\\anaconda3\\envs\\eeg-workshop\\lib\\site-packages\\meeg_tools\\analysis_pipeline.py:136: FutureWarning: The frame.append method is deprecated and will be removed from pandas in a future version. Use pandas.concat instead.\n",
      "  metadata = metadata.append(data,\n",
      "[Parallel(n_jobs=12)]: Using backend LokyBackend with 12 concurrent workers.\n",
      "[Parallel(n_jobs=12)]: Done   6 tasks      | elapsed:    0.0s\n",
      "[Parallel(n_jobs=12)]: Done  64 out of  64 | elapsed:    0.0s finished\n"
     ]
    },
    {
     "name": "stdout",
     "output_type": "stream",
     "text": [
      "[FINISHED]\n"
     ]
    },
    {
     "name": "stderr",
     "output_type": "stream",
     "text": [
      "Processing 127_B_Day1_ICA_autoreject_ransac-epo.fif:  15%|██████████▉                                                              | 27/180 [07:10<40:05, 15.72s/it]"
     ]
    },
    {
     "name": "stdout",
     "output_type": "stream",
     "text": [
      "Loading data for 1123 events and 726 original time points ...\n",
      "Replacing existing metadata with 10 columns\n",
      "Replacing existing metadata with 10 columns\n",
      "Saving power at C:\\Users\\User\\Documents\\power\\power_asrt\\STIMULI-EPOCH\\127_B_Day1_P_1_power-tfr.h5 ...\n"
     ]
    },
    {
     "name": "stderr",
     "output_type": "stream",
     "text": [
      "C:\\Users\\User\\anaconda3\\envs\\eeg-workshop\\lib\\site-packages\\meeg_tools\\analysis_pipeline.py:136: FutureWarning: The frame.append method is deprecated and will be removed from pandas in a future version. Use pandas.concat instead.\n",
      "  metadata = metadata.append(data,\n",
      "[Parallel(n_jobs=12)]: Using backend LokyBackend with 12 concurrent workers.\n",
      "[Parallel(n_jobs=12)]: Done   6 tasks      | elapsed:    0.0s\n",
      "[Parallel(n_jobs=12)]: Done  64 out of  64 | elapsed:    0.0s finished\n"
     ]
    },
    {
     "name": "stdout",
     "output_type": "stream",
     "text": [
      "[FINISHED]\n",
      "Saving power at C:\\Users\\User\\Documents\\power\\power_asrt\\STIMULI-EPOCH\\127_B_Day1_P_2_power-tfr.h5 ...\n"
     ]
    },
    {
     "name": "stderr",
     "output_type": "stream",
     "text": [
      "C:\\Users\\User\\anaconda3\\envs\\eeg-workshop\\lib\\site-packages\\meeg_tools\\analysis_pipeline.py:136: FutureWarning: The frame.append method is deprecated and will be removed from pandas in a future version. Use pandas.concat instead.\n",
      "  metadata = metadata.append(data,\n",
      "[Parallel(n_jobs=12)]: Using backend LokyBackend with 12 concurrent workers.\n",
      "[Parallel(n_jobs=12)]: Done   6 tasks      | elapsed:    0.0s\n",
      "[Parallel(n_jobs=12)]: Done  64 out of  64 | elapsed:    0.0s finished\n"
     ]
    },
    {
     "name": "stdout",
     "output_type": "stream",
     "text": [
      "[FINISHED]\n",
      "Saving power at C:\\Users\\User\\Documents\\power\\power_asrt\\STIMULI-EPOCH\\127_B_Day1_P_3_power-tfr.h5 ...\n"
     ]
    },
    {
     "name": "stderr",
     "output_type": "stream",
     "text": [
      "C:\\Users\\User\\anaconda3\\envs\\eeg-workshop\\lib\\site-packages\\meeg_tools\\analysis_pipeline.py:136: FutureWarning: The frame.append method is deprecated and will be removed from pandas in a future version. Use pandas.concat instead.\n",
      "  metadata = metadata.append(data,\n",
      "[Parallel(n_jobs=12)]: Using backend LokyBackend with 12 concurrent workers.\n",
      "[Parallel(n_jobs=12)]: Done   6 tasks      | elapsed:    0.0s\n",
      "[Parallel(n_jobs=12)]: Done  64 out of  64 | elapsed:    0.0s finished\n"
     ]
    },
    {
     "name": "stdout",
     "output_type": "stream",
     "text": [
      "[FINISHED]\n",
      "Saving power at C:\\Users\\User\\Documents\\power\\power_asrt\\STIMULI-EPOCH\\127_B_Day1_P_4_power-tfr.h5 ...\n"
     ]
    },
    {
     "name": "stderr",
     "output_type": "stream",
     "text": [
      "C:\\Users\\User\\anaconda3\\envs\\eeg-workshop\\lib\\site-packages\\meeg_tools\\analysis_pipeline.py:136: FutureWarning: The frame.append method is deprecated and will be removed from pandas in a future version. Use pandas.concat instead.\n",
      "  metadata = metadata.append(data,\n",
      "[Parallel(n_jobs=12)]: Using backend LokyBackend with 12 concurrent workers.\n",
      "[Parallel(n_jobs=12)]: Done   6 tasks      | elapsed:    0.0s\n",
      "[Parallel(n_jobs=12)]: Done  64 out of  64 | elapsed:    0.0s finished\n"
     ]
    },
    {
     "name": "stdout",
     "output_type": "stream",
     "text": [
      "[FINISHED]\n",
      "Saving power at C:\\Users\\User\\Documents\\power\\power_asrt\\STIMULI-EPOCH\\127_B_Day1_P_5_power-tfr.h5 ...\n"
     ]
    },
    {
     "name": "stderr",
     "output_type": "stream",
     "text": [
      "C:\\Users\\User\\anaconda3\\envs\\eeg-workshop\\lib\\site-packages\\meeg_tools\\analysis_pipeline.py:136: FutureWarning: The frame.append method is deprecated and will be removed from pandas in a future version. Use pandas.concat instead.\n",
      "  metadata = metadata.append(data,\n",
      "[Parallel(n_jobs=12)]: Using backend LokyBackend with 12 concurrent workers.\n",
      "[Parallel(n_jobs=12)]: Done   6 tasks      | elapsed:    0.0s\n",
      "[Parallel(n_jobs=12)]: Done  64 out of  64 | elapsed:    0.0s finished\n"
     ]
    },
    {
     "name": "stdout",
     "output_type": "stream",
     "text": [
      "[FINISHED]\n",
      "Saving power at C:\\Users\\User\\Documents\\power\\power_asrt\\STIMULI-EPOCH\\127_B_Day1_R_1_power-tfr.h5 ...\n"
     ]
    },
    {
     "name": "stderr",
     "output_type": "stream",
     "text": [
      "C:\\Users\\User\\anaconda3\\envs\\eeg-workshop\\lib\\site-packages\\meeg_tools\\analysis_pipeline.py:136: FutureWarning: The frame.append method is deprecated and will be removed from pandas in a future version. Use pandas.concat instead.\n",
      "  metadata = metadata.append(data,\n",
      "[Parallel(n_jobs=12)]: Using backend LokyBackend with 12 concurrent workers.\n",
      "[Parallel(n_jobs=12)]: Done   6 tasks      | elapsed:    0.0s\n",
      "[Parallel(n_jobs=12)]: Done  64 out of  64 | elapsed:    0.0s finished\n"
     ]
    },
    {
     "name": "stdout",
     "output_type": "stream",
     "text": [
      "[FINISHED]\n",
      "Saving power at C:\\Users\\User\\Documents\\power\\power_asrt\\STIMULI-EPOCH\\127_B_Day1_R_2_power-tfr.h5 ...\n"
     ]
    },
    {
     "name": "stderr",
     "output_type": "stream",
     "text": [
      "C:\\Users\\User\\anaconda3\\envs\\eeg-workshop\\lib\\site-packages\\meeg_tools\\analysis_pipeline.py:136: FutureWarning: The frame.append method is deprecated and will be removed from pandas in a future version. Use pandas.concat instead.\n",
      "  metadata = metadata.append(data,\n",
      "[Parallel(n_jobs=12)]: Using backend LokyBackend with 12 concurrent workers.\n",
      "[Parallel(n_jobs=12)]: Done   6 tasks      | elapsed:    0.0s\n",
      "[Parallel(n_jobs=12)]: Done  64 out of  64 | elapsed:    0.0s finished\n"
     ]
    },
    {
     "name": "stdout",
     "output_type": "stream",
     "text": [
      "[FINISHED]\n",
      "Saving power at C:\\Users\\User\\Documents\\power\\power_asrt\\STIMULI-EPOCH\\127_B_Day1_R_3_power-tfr.h5 ...\n"
     ]
    },
    {
     "name": "stderr",
     "output_type": "stream",
     "text": [
      "C:\\Users\\User\\anaconda3\\envs\\eeg-workshop\\lib\\site-packages\\meeg_tools\\analysis_pipeline.py:136: FutureWarning: The frame.append method is deprecated and will be removed from pandas in a future version. Use pandas.concat instead.\n",
      "  metadata = metadata.append(data,\n",
      "[Parallel(n_jobs=12)]: Using backend LokyBackend with 12 concurrent workers.\n",
      "[Parallel(n_jobs=12)]: Done   6 tasks      | elapsed:    0.0s\n",
      "[Parallel(n_jobs=12)]: Done  64 out of  64 | elapsed:    0.0s finished\n"
     ]
    },
    {
     "name": "stdout",
     "output_type": "stream",
     "text": [
      "[FINISHED]\n",
      "Saving power at C:\\Users\\User\\Documents\\power\\power_asrt\\STIMULI-EPOCH\\127_B_Day1_R_4_power-tfr.h5 ...\n"
     ]
    },
    {
     "name": "stderr",
     "output_type": "stream",
     "text": [
      "C:\\Users\\User\\anaconda3\\envs\\eeg-workshop\\lib\\site-packages\\meeg_tools\\analysis_pipeline.py:136: FutureWarning: The frame.append method is deprecated and will be removed from pandas in a future version. Use pandas.concat instead.\n",
      "  metadata = metadata.append(data,\n",
      "[Parallel(n_jobs=12)]: Using backend LokyBackend with 12 concurrent workers.\n",
      "[Parallel(n_jobs=12)]: Done   6 tasks      | elapsed:    0.0s\n",
      "[Parallel(n_jobs=12)]: Done  64 out of  64 | elapsed:    0.0s finished\n"
     ]
    },
    {
     "name": "stdout",
     "output_type": "stream",
     "text": [
      "[FINISHED]\n",
      "Saving power at C:\\Users\\User\\Documents\\power\\power_asrt\\STIMULI-EPOCH\\127_B_Day1_R_5_power-tfr.h5 ...\n"
     ]
    },
    {
     "name": "stderr",
     "output_type": "stream",
     "text": [
      "C:\\Users\\User\\anaconda3\\envs\\eeg-workshop\\lib\\site-packages\\meeg_tools\\analysis_pipeline.py:136: FutureWarning: The frame.append method is deprecated and will be removed from pandas in a future version. Use pandas.concat instead.\n",
      "  metadata = metadata.append(data,\n",
      "[Parallel(n_jobs=12)]: Using backend LokyBackend with 12 concurrent workers.\n",
      "[Parallel(n_jobs=12)]: Done   6 tasks      | elapsed:    0.0s\n",
      "[Parallel(n_jobs=12)]: Done  64 out of  64 | elapsed:    0.0s finished\n"
     ]
    },
    {
     "name": "stdout",
     "output_type": "stream",
     "text": [
      "[FINISHED]\n"
     ]
    },
    {
     "name": "stderr",
     "output_type": "stream",
     "text": [
      "Processing 128_B_Day1_ICA_autoreject_ransac-epo.fif:  16%|███████████▎                                                             | 28/180 [07:24<38:13, 15.09s/it]"
     ]
    },
    {
     "name": "stdout",
     "output_type": "stream",
     "text": [
      "Loading data for 1074 events and 726 original time points ...\n",
      "Replacing existing metadata with 10 columns\n",
      "Replacing existing metadata with 10 columns\n",
      "Saving power at C:\\Users\\User\\Documents\\power\\power_asrt\\STIMULI-EPOCH\\128_B_Day1_P_1_power-tfr.h5 ...\n"
     ]
    },
    {
     "name": "stderr",
     "output_type": "stream",
     "text": [
      "C:\\Users\\User\\anaconda3\\envs\\eeg-workshop\\lib\\site-packages\\meeg_tools\\analysis_pipeline.py:136: FutureWarning: The frame.append method is deprecated and will be removed from pandas in a future version. Use pandas.concat instead.\n",
      "  metadata = metadata.append(data,\n",
      "[Parallel(n_jobs=12)]: Using backend LokyBackend with 12 concurrent workers.\n",
      "[Parallel(n_jobs=12)]: Done   6 tasks      | elapsed:    0.0s\n",
      "[Parallel(n_jobs=12)]: Done  64 out of  64 | elapsed:    0.0s finished\n"
     ]
    },
    {
     "name": "stdout",
     "output_type": "stream",
     "text": [
      "[FINISHED]\n",
      "Saving power at C:\\Users\\User\\Documents\\power\\power_asrt\\STIMULI-EPOCH\\128_B_Day1_P_2_power-tfr.h5 ...\n"
     ]
    },
    {
     "name": "stderr",
     "output_type": "stream",
     "text": [
      "C:\\Users\\User\\anaconda3\\envs\\eeg-workshop\\lib\\site-packages\\meeg_tools\\analysis_pipeline.py:136: FutureWarning: The frame.append method is deprecated and will be removed from pandas in a future version. Use pandas.concat instead.\n",
      "  metadata = metadata.append(data,\n",
      "[Parallel(n_jobs=12)]: Using backend LokyBackend with 12 concurrent workers.\n",
      "[Parallel(n_jobs=12)]: Done   6 tasks      | elapsed:    0.0s\n",
      "[Parallel(n_jobs=12)]: Done  64 out of  64 | elapsed:    0.0s finished\n"
     ]
    },
    {
     "name": "stdout",
     "output_type": "stream",
     "text": [
      "[FINISHED]\n",
      "Saving power at C:\\Users\\User\\Documents\\power\\power_asrt\\STIMULI-EPOCH\\128_B_Day1_P_3_power-tfr.h5 ...\n"
     ]
    },
    {
     "name": "stderr",
     "output_type": "stream",
     "text": [
      "C:\\Users\\User\\anaconda3\\envs\\eeg-workshop\\lib\\site-packages\\meeg_tools\\analysis_pipeline.py:136: FutureWarning: The frame.append method is deprecated and will be removed from pandas in a future version. Use pandas.concat instead.\n",
      "  metadata = metadata.append(data,\n",
      "[Parallel(n_jobs=12)]: Using backend LokyBackend with 12 concurrent workers.\n",
      "[Parallel(n_jobs=12)]: Done   6 tasks      | elapsed:    0.0s\n",
      "[Parallel(n_jobs=12)]: Done  64 out of  64 | elapsed:    0.0s finished\n"
     ]
    },
    {
     "name": "stdout",
     "output_type": "stream",
     "text": [
      "[FINISHED]\n",
      "Saving power at C:\\Users\\User\\Documents\\power\\power_asrt\\STIMULI-EPOCH\\128_B_Day1_P_4_power-tfr.h5 ...\n"
     ]
    },
    {
     "name": "stderr",
     "output_type": "stream",
     "text": [
      "C:\\Users\\User\\anaconda3\\envs\\eeg-workshop\\lib\\site-packages\\meeg_tools\\analysis_pipeline.py:136: FutureWarning: The frame.append method is deprecated and will be removed from pandas in a future version. Use pandas.concat instead.\n",
      "  metadata = metadata.append(data,\n",
      "[Parallel(n_jobs=12)]: Using backend LokyBackend with 12 concurrent workers.\n",
      "[Parallel(n_jobs=12)]: Done   6 tasks      | elapsed:    0.0s\n",
      "[Parallel(n_jobs=12)]: Done  64 out of  64 | elapsed:    0.0s finished\n"
     ]
    },
    {
     "name": "stdout",
     "output_type": "stream",
     "text": [
      "[FINISHED]\n",
      "Saving power at C:\\Users\\User\\Documents\\power\\power_asrt\\STIMULI-EPOCH\\128_B_Day1_P_5_power-tfr.h5 ...\n"
     ]
    },
    {
     "name": "stderr",
     "output_type": "stream",
     "text": [
      "C:\\Users\\User\\anaconda3\\envs\\eeg-workshop\\lib\\site-packages\\meeg_tools\\analysis_pipeline.py:136: FutureWarning: The frame.append method is deprecated and will be removed from pandas in a future version. Use pandas.concat instead.\n",
      "  metadata = metadata.append(data,\n",
      "[Parallel(n_jobs=12)]: Using backend LokyBackend with 12 concurrent workers.\n",
      "[Parallel(n_jobs=12)]: Done   6 tasks      | elapsed:    0.0s\n",
      "[Parallel(n_jobs=12)]: Done  64 out of  64 | elapsed:    0.0s finished\n"
     ]
    },
    {
     "name": "stdout",
     "output_type": "stream",
     "text": [
      "[FINISHED]\n",
      "Saving power at C:\\Users\\User\\Documents\\power\\power_asrt\\STIMULI-EPOCH\\128_B_Day1_R_1_power-tfr.h5 ...\n"
     ]
    },
    {
     "name": "stderr",
     "output_type": "stream",
     "text": [
      "C:\\Users\\User\\anaconda3\\envs\\eeg-workshop\\lib\\site-packages\\meeg_tools\\analysis_pipeline.py:136: FutureWarning: The frame.append method is deprecated and will be removed from pandas in a future version. Use pandas.concat instead.\n",
      "  metadata = metadata.append(data,\n",
      "[Parallel(n_jobs=12)]: Using backend LokyBackend with 12 concurrent workers.\n",
      "[Parallel(n_jobs=12)]: Done   6 tasks      | elapsed:    0.0s\n",
      "[Parallel(n_jobs=12)]: Done  64 out of  64 | elapsed:    0.0s finished\n"
     ]
    },
    {
     "name": "stdout",
     "output_type": "stream",
     "text": [
      "[FINISHED]\n",
      "Saving power at C:\\Users\\User\\Documents\\power\\power_asrt\\STIMULI-EPOCH\\128_B_Day1_R_2_power-tfr.h5 ...\n"
     ]
    },
    {
     "name": "stderr",
     "output_type": "stream",
     "text": [
      "C:\\Users\\User\\anaconda3\\envs\\eeg-workshop\\lib\\site-packages\\meeg_tools\\analysis_pipeline.py:136: FutureWarning: The frame.append method is deprecated and will be removed from pandas in a future version. Use pandas.concat instead.\n",
      "  metadata = metadata.append(data,\n",
      "[Parallel(n_jobs=12)]: Using backend LokyBackend with 12 concurrent workers.\n",
      "[Parallel(n_jobs=12)]: Done   6 tasks      | elapsed:    0.0s\n",
      "[Parallel(n_jobs=12)]: Done  64 out of  64 | elapsed:    0.0s finished\n"
     ]
    },
    {
     "name": "stdout",
     "output_type": "stream",
     "text": [
      "[FINISHED]\n",
      "Saving power at C:\\Users\\User\\Documents\\power\\power_asrt\\STIMULI-EPOCH\\128_B_Day1_R_3_power-tfr.h5 ...\n"
     ]
    },
    {
     "name": "stderr",
     "output_type": "stream",
     "text": [
      "C:\\Users\\User\\anaconda3\\envs\\eeg-workshop\\lib\\site-packages\\meeg_tools\\analysis_pipeline.py:136: FutureWarning: The frame.append method is deprecated and will be removed from pandas in a future version. Use pandas.concat instead.\n",
      "  metadata = metadata.append(data,\n",
      "[Parallel(n_jobs=12)]: Using backend LokyBackend with 12 concurrent workers.\n",
      "[Parallel(n_jobs=12)]: Done   6 tasks      | elapsed:    0.0s\n",
      "[Parallel(n_jobs=12)]: Done  64 out of  64 | elapsed:    0.0s finished\n"
     ]
    },
    {
     "name": "stdout",
     "output_type": "stream",
     "text": [
      "[FINISHED]\n",
      "Saving power at C:\\Users\\User\\Documents\\power\\power_asrt\\STIMULI-EPOCH\\128_B_Day1_R_4_power-tfr.h5 ...\n"
     ]
    },
    {
     "name": "stderr",
     "output_type": "stream",
     "text": [
      "C:\\Users\\User\\anaconda3\\envs\\eeg-workshop\\lib\\site-packages\\meeg_tools\\analysis_pipeline.py:136: FutureWarning: The frame.append method is deprecated and will be removed from pandas in a future version. Use pandas.concat instead.\n",
      "  metadata = metadata.append(data,\n",
      "[Parallel(n_jobs=12)]: Using backend LokyBackend with 12 concurrent workers.\n",
      "[Parallel(n_jobs=12)]: Done   6 tasks      | elapsed:    0.0s\n",
      "[Parallel(n_jobs=12)]: Done  64 out of  64 | elapsed:    0.0s finished\n"
     ]
    },
    {
     "name": "stdout",
     "output_type": "stream",
     "text": [
      "[FINISHED]\n",
      "Saving power at C:\\Users\\User\\Documents\\power\\power_asrt\\STIMULI-EPOCH\\128_B_Day1_R_5_power-tfr.h5 ...\n"
     ]
    },
    {
     "name": "stderr",
     "output_type": "stream",
     "text": [
      "C:\\Users\\User\\anaconda3\\envs\\eeg-workshop\\lib\\site-packages\\meeg_tools\\analysis_pipeline.py:136: FutureWarning: The frame.append method is deprecated and will be removed from pandas in a future version. Use pandas.concat instead.\n",
      "  metadata = metadata.append(data,\n",
      "[Parallel(n_jobs=12)]: Using backend LokyBackend with 12 concurrent workers.\n",
      "[Parallel(n_jobs=12)]: Done   6 tasks      | elapsed:    0.0s\n",
      "[Parallel(n_jobs=12)]: Done  64 out of  64 | elapsed:    0.0s finished\n"
     ]
    },
    {
     "name": "stdout",
     "output_type": "stream",
     "text": [
      "[FINISHED]\n"
     ]
    },
    {
     "name": "stderr",
     "output_type": "stream",
     "text": [
      "Processing 129_R_Day1_ICA_autoreject_ransac-epo.fif:  16%|███████████▊                                                             | 29/180 [07:38<37:30, 14.91s/it]"
     ]
    }
   ],
   "source": [
    "analysis_pipeline.run()"
   ]
  },
  {
   "cell_type": "code",
   "execution_count": null,
   "id": "b73c85df",
   "metadata": {},
   "outputs": [],
   "source": [
    "metadata_path = \"C:/Users/User/Documents/power/power_asrt/TRIPLET/power_metadata.csv\"\n",
    "\n",
    "metadata = pd.read_csv(metadata_path)"
   ]
  },
  {
   "cell_type": "code",
   "execution_count": null,
   "id": "3ab25968",
   "metadata": {},
   "outputs": [],
   "source": [
    "metadata"
   ]
  },
  {
   "cell_type": "code",
   "execution_count": null,
   "id": "46858091",
   "metadata": {},
   "outputs": [],
   "source": [
    "metadata.groupby(['triplet'])[['n_epochs']].describe()"
   ]
  },
  {
   "cell_type": "code",
   "execution_count": null,
   "id": "0bca74cd",
   "metadata": {},
   "outputs": [],
   "source": []
  }
 ],
 "metadata": {
  "kernelspec": {
   "display_name": "Python 3 (ipykernel)",
   "language": "python",
   "name": "python3"
  },
  "language_info": {
   "codemirror_mode": {
    "name": "ipython",
    "version": 3
   },
   "file_extension": ".py",
   "mimetype": "text/x-python",
   "name": "python",
   "nbconvert_exporter": "python",
   "pygments_lexer": "ipython3",
   "version": "3.8.13"
  }
 },
 "nbformat": 4,
 "nbformat_minor": 5
}
